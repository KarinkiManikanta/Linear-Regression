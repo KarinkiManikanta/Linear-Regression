{
 "cells": [
  {
   "cell_type": "code",
   "execution_count": 1,
   "metadata": {},
   "outputs": [],
   "source": [
    "import numpy as np\n",
    "import pandas as pd\n",
    "import seaborn as sns\n",
    "import matplotlib.pyplot as plt"
   ]
  },
  {
   "cell_type": "code",
   "execution_count": 2,
   "metadata": {},
   "outputs": [],
   "source": [
    "data=pd.read_csv(\"/home/hemanth/Documents/XGBoosting/forestfires.csv\")"
   ]
  },
  {
   "cell_type": "code",
   "execution_count": 3,
   "metadata": {},
   "outputs": [
    {
     "data": {
      "text/html": [
       "<div>\n",
       "<style scoped>\n",
       "    .dataframe tbody tr th:only-of-type {\n",
       "        vertical-align: middle;\n",
       "    }\n",
       "\n",
       "    .dataframe tbody tr th {\n",
       "        vertical-align: top;\n",
       "    }\n",
       "\n",
       "    .dataframe thead th {\n",
       "        text-align: right;\n",
       "    }\n",
       "</style>\n",
       "<table border=\"1\" class=\"dataframe\">\n",
       "  <thead>\n",
       "    <tr style=\"text-align: right;\">\n",
       "      <th></th>\n",
       "      <th>X</th>\n",
       "      <th>Y</th>\n",
       "      <th>month</th>\n",
       "      <th>day</th>\n",
       "      <th>FFMC</th>\n",
       "      <th>DMC</th>\n",
       "      <th>DC</th>\n",
       "      <th>ISI</th>\n",
       "      <th>temp</th>\n",
       "      <th>RH</th>\n",
       "      <th>wind</th>\n",
       "      <th>rain</th>\n",
       "      <th>area</th>\n",
       "    </tr>\n",
       "  </thead>\n",
       "  <tbody>\n",
       "    <tr>\n",
       "      <th>0</th>\n",
       "      <td>7</td>\n",
       "      <td>5</td>\n",
       "      <td>mar</td>\n",
       "      <td>fri</td>\n",
       "      <td>86.2</td>\n",
       "      <td>26.2</td>\n",
       "      <td>94.3</td>\n",
       "      <td>5.1</td>\n",
       "      <td>8.2</td>\n",
       "      <td>51</td>\n",
       "      <td>6.7</td>\n",
       "      <td>0.0</td>\n",
       "      <td>0.0</td>\n",
       "    </tr>\n",
       "    <tr>\n",
       "      <th>1</th>\n",
       "      <td>7</td>\n",
       "      <td>4</td>\n",
       "      <td>oct</td>\n",
       "      <td>tue</td>\n",
       "      <td>90.6</td>\n",
       "      <td>35.4</td>\n",
       "      <td>669.1</td>\n",
       "      <td>6.7</td>\n",
       "      <td>18.0</td>\n",
       "      <td>33</td>\n",
       "      <td>0.9</td>\n",
       "      <td>0.0</td>\n",
       "      <td>0.0</td>\n",
       "    </tr>\n",
       "    <tr>\n",
       "      <th>2</th>\n",
       "      <td>7</td>\n",
       "      <td>4</td>\n",
       "      <td>oct</td>\n",
       "      <td>sat</td>\n",
       "      <td>90.6</td>\n",
       "      <td>43.7</td>\n",
       "      <td>686.9</td>\n",
       "      <td>6.7</td>\n",
       "      <td>14.6</td>\n",
       "      <td>33</td>\n",
       "      <td>1.3</td>\n",
       "      <td>0.0</td>\n",
       "      <td>0.0</td>\n",
       "    </tr>\n",
       "    <tr>\n",
       "      <th>3</th>\n",
       "      <td>8</td>\n",
       "      <td>6</td>\n",
       "      <td>mar</td>\n",
       "      <td>fri</td>\n",
       "      <td>91.7</td>\n",
       "      <td>33.3</td>\n",
       "      <td>77.5</td>\n",
       "      <td>9.0</td>\n",
       "      <td>8.3</td>\n",
       "      <td>97</td>\n",
       "      <td>4.0</td>\n",
       "      <td>0.2</td>\n",
       "      <td>0.0</td>\n",
       "    </tr>\n",
       "    <tr>\n",
       "      <th>4</th>\n",
       "      <td>8</td>\n",
       "      <td>6</td>\n",
       "      <td>mar</td>\n",
       "      <td>sun</td>\n",
       "      <td>89.3</td>\n",
       "      <td>51.3</td>\n",
       "      <td>102.2</td>\n",
       "      <td>9.6</td>\n",
       "      <td>11.4</td>\n",
       "      <td>99</td>\n",
       "      <td>1.8</td>\n",
       "      <td>0.0</td>\n",
       "      <td>0.0</td>\n",
       "    </tr>\n",
       "  </tbody>\n",
       "</table>\n",
       "</div>"
      ],
      "text/plain": [
       "   X  Y month  day  FFMC   DMC     DC  ISI  temp  RH  wind  rain  area\n",
       "0  7  5   mar  fri  86.2  26.2   94.3  5.1   8.2  51   6.7   0.0   0.0\n",
       "1  7  4   oct  tue  90.6  35.4  669.1  6.7  18.0  33   0.9   0.0   0.0\n",
       "2  7  4   oct  sat  90.6  43.7  686.9  6.7  14.6  33   1.3   0.0   0.0\n",
       "3  8  6   mar  fri  91.7  33.3   77.5  9.0   8.3  97   4.0   0.2   0.0\n",
       "4  8  6   mar  sun  89.3  51.3  102.2  9.6  11.4  99   1.8   0.0   0.0"
      ]
     },
     "execution_count": 3,
     "metadata": {},
     "output_type": "execute_result"
    }
   ],
   "source": [
    "data.head()"
   ]
  },
  {
   "cell_type": "code",
   "execution_count": 4,
   "metadata": {},
   "outputs": [
    {
     "data": {
      "text/html": [
       "<div>\n",
       "<style scoped>\n",
       "    .dataframe tbody tr th:only-of-type {\n",
       "        vertical-align: middle;\n",
       "    }\n",
       "\n",
       "    .dataframe tbody tr th {\n",
       "        vertical-align: top;\n",
       "    }\n",
       "\n",
       "    .dataframe thead th {\n",
       "        text-align: right;\n",
       "    }\n",
       "</style>\n",
       "<table border=\"1\" class=\"dataframe\">\n",
       "  <thead>\n",
       "    <tr style=\"text-align: right;\">\n",
       "      <th></th>\n",
       "      <th>X</th>\n",
       "      <th>Y</th>\n",
       "      <th>month</th>\n",
       "      <th>day</th>\n",
       "      <th>FFMC</th>\n",
       "      <th>DMC</th>\n",
       "      <th>DC</th>\n",
       "      <th>ISI</th>\n",
       "      <th>temp</th>\n",
       "      <th>RH</th>\n",
       "      <th>wind</th>\n",
       "      <th>rain</th>\n",
       "      <th>area</th>\n",
       "    </tr>\n",
       "  </thead>\n",
       "  <tbody>\n",
       "    <tr>\n",
       "      <th>512</th>\n",
       "      <td>4</td>\n",
       "      <td>3</td>\n",
       "      <td>aug</td>\n",
       "      <td>sun</td>\n",
       "      <td>81.6</td>\n",
       "      <td>56.7</td>\n",
       "      <td>665.6</td>\n",
       "      <td>1.9</td>\n",
       "      <td>27.8</td>\n",
       "      <td>32</td>\n",
       "      <td>2.7</td>\n",
       "      <td>0.0</td>\n",
       "      <td>6.44</td>\n",
       "    </tr>\n",
       "    <tr>\n",
       "      <th>513</th>\n",
       "      <td>2</td>\n",
       "      <td>4</td>\n",
       "      <td>aug</td>\n",
       "      <td>sun</td>\n",
       "      <td>81.6</td>\n",
       "      <td>56.7</td>\n",
       "      <td>665.6</td>\n",
       "      <td>1.9</td>\n",
       "      <td>21.9</td>\n",
       "      <td>71</td>\n",
       "      <td>5.8</td>\n",
       "      <td>0.0</td>\n",
       "      <td>54.29</td>\n",
       "    </tr>\n",
       "    <tr>\n",
       "      <th>514</th>\n",
       "      <td>7</td>\n",
       "      <td>4</td>\n",
       "      <td>aug</td>\n",
       "      <td>sun</td>\n",
       "      <td>81.6</td>\n",
       "      <td>56.7</td>\n",
       "      <td>665.6</td>\n",
       "      <td>1.9</td>\n",
       "      <td>21.2</td>\n",
       "      <td>70</td>\n",
       "      <td>6.7</td>\n",
       "      <td>0.0</td>\n",
       "      <td>11.16</td>\n",
       "    </tr>\n",
       "    <tr>\n",
       "      <th>515</th>\n",
       "      <td>1</td>\n",
       "      <td>4</td>\n",
       "      <td>aug</td>\n",
       "      <td>sat</td>\n",
       "      <td>94.4</td>\n",
       "      <td>146.0</td>\n",
       "      <td>614.7</td>\n",
       "      <td>11.3</td>\n",
       "      <td>25.6</td>\n",
       "      <td>42</td>\n",
       "      <td>4.0</td>\n",
       "      <td>0.0</td>\n",
       "      <td>0.00</td>\n",
       "    </tr>\n",
       "    <tr>\n",
       "      <th>516</th>\n",
       "      <td>6</td>\n",
       "      <td>3</td>\n",
       "      <td>nov</td>\n",
       "      <td>tue</td>\n",
       "      <td>79.5</td>\n",
       "      <td>3.0</td>\n",
       "      <td>106.7</td>\n",
       "      <td>1.1</td>\n",
       "      <td>11.8</td>\n",
       "      <td>31</td>\n",
       "      <td>4.5</td>\n",
       "      <td>0.0</td>\n",
       "      <td>0.00</td>\n",
       "    </tr>\n",
       "  </tbody>\n",
       "</table>\n",
       "</div>"
      ],
      "text/plain": [
       "     X  Y month  day  FFMC    DMC     DC   ISI  temp  RH  wind  rain   area\n",
       "512  4  3   aug  sun  81.6   56.7  665.6   1.9  27.8  32   2.7   0.0   6.44\n",
       "513  2  4   aug  sun  81.6   56.7  665.6   1.9  21.9  71   5.8   0.0  54.29\n",
       "514  7  4   aug  sun  81.6   56.7  665.6   1.9  21.2  70   6.7   0.0  11.16\n",
       "515  1  4   aug  sat  94.4  146.0  614.7  11.3  25.6  42   4.0   0.0   0.00\n",
       "516  6  3   nov  tue  79.5    3.0  106.7   1.1  11.8  31   4.5   0.0   0.00"
      ]
     },
     "execution_count": 4,
     "metadata": {},
     "output_type": "execute_result"
    }
   ],
   "source": [
    "data.tail()"
   ]
  },
  {
   "cell_type": "code",
   "execution_count": 7,
   "metadata": {},
   "outputs": [
    {
     "data": {
      "text/plain": [
       "X        0\n",
       "Y        0\n",
       "month    0\n",
       "day      0\n",
       "FFMC     0\n",
       "DMC      0\n",
       "DC       0\n",
       "ISI      0\n",
       "temp     0\n",
       "RH       0\n",
       "wind     0\n",
       "rain     0\n",
       "area     0\n",
       "dtype: int64"
      ]
     },
     "execution_count": 7,
     "metadata": {},
     "output_type": "execute_result"
    }
   ],
   "source": [
    "data.isna().sum()"
   ]
  },
  {
   "cell_type": "code",
   "execution_count": 8,
   "metadata": {},
   "outputs": [
    {
     "name": "stdout",
     "output_type": "stream",
     "text": [
      "<class 'pandas.core.frame.DataFrame'>\n",
      "RangeIndex: 517 entries, 0 to 516\n",
      "Data columns (total 13 columns):\n",
      " #   Column  Non-Null Count  Dtype  \n",
      "---  ------  --------------  -----  \n",
      " 0   X       517 non-null    int64  \n",
      " 1   Y       517 non-null    int64  \n",
      " 2   month   517 non-null    object \n",
      " 3   day     517 non-null    object \n",
      " 4   FFMC    517 non-null    float64\n",
      " 5   DMC     517 non-null    float64\n",
      " 6   DC      517 non-null    float64\n",
      " 7   ISI     517 non-null    float64\n",
      " 8   temp    517 non-null    float64\n",
      " 9   RH      517 non-null    int64  \n",
      " 10  wind    517 non-null    float64\n",
      " 11  rain    517 non-null    float64\n",
      " 12  area    517 non-null    float64\n",
      "dtypes: float64(8), int64(3), object(2)\n",
      "memory usage: 52.6+ KB\n"
     ]
    }
   ],
   "source": [
    "data.info()"
   ]
  },
  {
   "cell_type": "code",
   "execution_count": 9,
   "metadata": {},
   "outputs": [
    {
     "data": {
      "text/html": [
       "<div>\n",
       "<style scoped>\n",
       "    .dataframe tbody tr th:only-of-type {\n",
       "        vertical-align: middle;\n",
       "    }\n",
       "\n",
       "    .dataframe tbody tr th {\n",
       "        vertical-align: top;\n",
       "    }\n",
       "\n",
       "    .dataframe thead th {\n",
       "        text-align: right;\n",
       "    }\n",
       "</style>\n",
       "<table border=\"1\" class=\"dataframe\">\n",
       "  <thead>\n",
       "    <tr style=\"text-align: right;\">\n",
       "      <th></th>\n",
       "      <th>X</th>\n",
       "      <th>Y</th>\n",
       "      <th>FFMC</th>\n",
       "      <th>DMC</th>\n",
       "      <th>DC</th>\n",
       "      <th>ISI</th>\n",
       "      <th>temp</th>\n",
       "      <th>RH</th>\n",
       "      <th>wind</th>\n",
       "      <th>rain</th>\n",
       "      <th>area</th>\n",
       "    </tr>\n",
       "  </thead>\n",
       "  <tbody>\n",
       "    <tr>\n",
       "      <th>count</th>\n",
       "      <td>517.000000</td>\n",
       "      <td>517.000000</td>\n",
       "      <td>517.000000</td>\n",
       "      <td>517.000000</td>\n",
       "      <td>517.000000</td>\n",
       "      <td>517.000000</td>\n",
       "      <td>517.000000</td>\n",
       "      <td>517.000000</td>\n",
       "      <td>517.000000</td>\n",
       "      <td>517.000000</td>\n",
       "      <td>517.000000</td>\n",
       "    </tr>\n",
       "    <tr>\n",
       "      <th>mean</th>\n",
       "      <td>4.669246</td>\n",
       "      <td>4.299807</td>\n",
       "      <td>90.644681</td>\n",
       "      <td>110.872340</td>\n",
       "      <td>547.940039</td>\n",
       "      <td>9.021663</td>\n",
       "      <td>18.889168</td>\n",
       "      <td>44.288201</td>\n",
       "      <td>4.017602</td>\n",
       "      <td>0.021663</td>\n",
       "      <td>12.847292</td>\n",
       "    </tr>\n",
       "    <tr>\n",
       "      <th>std</th>\n",
       "      <td>2.313778</td>\n",
       "      <td>1.229900</td>\n",
       "      <td>5.520111</td>\n",
       "      <td>64.046482</td>\n",
       "      <td>248.066192</td>\n",
       "      <td>4.559477</td>\n",
       "      <td>5.806625</td>\n",
       "      <td>16.317469</td>\n",
       "      <td>1.791653</td>\n",
       "      <td>0.295959</td>\n",
       "      <td>63.655818</td>\n",
       "    </tr>\n",
       "    <tr>\n",
       "      <th>min</th>\n",
       "      <td>1.000000</td>\n",
       "      <td>2.000000</td>\n",
       "      <td>18.700000</td>\n",
       "      <td>1.100000</td>\n",
       "      <td>7.900000</td>\n",
       "      <td>0.000000</td>\n",
       "      <td>2.200000</td>\n",
       "      <td>15.000000</td>\n",
       "      <td>0.400000</td>\n",
       "      <td>0.000000</td>\n",
       "      <td>0.000000</td>\n",
       "    </tr>\n",
       "    <tr>\n",
       "      <th>25%</th>\n",
       "      <td>3.000000</td>\n",
       "      <td>4.000000</td>\n",
       "      <td>90.200000</td>\n",
       "      <td>68.600000</td>\n",
       "      <td>437.700000</td>\n",
       "      <td>6.500000</td>\n",
       "      <td>15.500000</td>\n",
       "      <td>33.000000</td>\n",
       "      <td>2.700000</td>\n",
       "      <td>0.000000</td>\n",
       "      <td>0.000000</td>\n",
       "    </tr>\n",
       "    <tr>\n",
       "      <th>50%</th>\n",
       "      <td>4.000000</td>\n",
       "      <td>4.000000</td>\n",
       "      <td>91.600000</td>\n",
       "      <td>108.300000</td>\n",
       "      <td>664.200000</td>\n",
       "      <td>8.400000</td>\n",
       "      <td>19.300000</td>\n",
       "      <td>42.000000</td>\n",
       "      <td>4.000000</td>\n",
       "      <td>0.000000</td>\n",
       "      <td>0.520000</td>\n",
       "    </tr>\n",
       "    <tr>\n",
       "      <th>75%</th>\n",
       "      <td>7.000000</td>\n",
       "      <td>5.000000</td>\n",
       "      <td>92.900000</td>\n",
       "      <td>142.400000</td>\n",
       "      <td>713.900000</td>\n",
       "      <td>10.800000</td>\n",
       "      <td>22.800000</td>\n",
       "      <td>53.000000</td>\n",
       "      <td>4.900000</td>\n",
       "      <td>0.000000</td>\n",
       "      <td>6.570000</td>\n",
       "    </tr>\n",
       "    <tr>\n",
       "      <th>max</th>\n",
       "      <td>9.000000</td>\n",
       "      <td>9.000000</td>\n",
       "      <td>96.200000</td>\n",
       "      <td>291.300000</td>\n",
       "      <td>860.600000</td>\n",
       "      <td>56.100000</td>\n",
       "      <td>33.300000</td>\n",
       "      <td>100.000000</td>\n",
       "      <td>9.400000</td>\n",
       "      <td>6.400000</td>\n",
       "      <td>1090.840000</td>\n",
       "    </tr>\n",
       "  </tbody>\n",
       "</table>\n",
       "</div>"
      ],
      "text/plain": [
       "                X           Y        FFMC         DMC          DC         ISI  \\\n",
       "count  517.000000  517.000000  517.000000  517.000000  517.000000  517.000000   \n",
       "mean     4.669246    4.299807   90.644681  110.872340  547.940039    9.021663   \n",
       "std      2.313778    1.229900    5.520111   64.046482  248.066192    4.559477   \n",
       "min      1.000000    2.000000   18.700000    1.100000    7.900000    0.000000   \n",
       "25%      3.000000    4.000000   90.200000   68.600000  437.700000    6.500000   \n",
       "50%      4.000000    4.000000   91.600000  108.300000  664.200000    8.400000   \n",
       "75%      7.000000    5.000000   92.900000  142.400000  713.900000   10.800000   \n",
       "max      9.000000    9.000000   96.200000  291.300000  860.600000   56.100000   \n",
       "\n",
       "             temp          RH        wind        rain         area  \n",
       "count  517.000000  517.000000  517.000000  517.000000   517.000000  \n",
       "mean    18.889168   44.288201    4.017602    0.021663    12.847292  \n",
       "std      5.806625   16.317469    1.791653    0.295959    63.655818  \n",
       "min      2.200000   15.000000    0.400000    0.000000     0.000000  \n",
       "25%     15.500000   33.000000    2.700000    0.000000     0.000000  \n",
       "50%     19.300000   42.000000    4.000000    0.000000     0.520000  \n",
       "75%     22.800000   53.000000    4.900000    0.000000     6.570000  \n",
       "max     33.300000  100.000000    9.400000    6.400000  1090.840000  "
      ]
     },
     "execution_count": 9,
     "metadata": {},
     "output_type": "execute_result"
    }
   ],
   "source": [
    "data.describe()"
   ]
  },
  {
   "cell_type": "code",
   "execution_count": 10,
   "metadata": {},
   "outputs": [
    {
     "name": "stdout",
     "output_type": "stream",
     "text": [
      "categorical_attributes: ['month', 'day']\n",
      "numerical_attributes: ['X', 'Y', 'FFMC', 'DMC', 'DC', 'ISI', 'temp', 'RH', 'wind', 'rain', 'area']\n"
     ]
    }
   ],
   "source": [
    "#let's name the categorical and numeical attributes \n",
    "categorical_attributes = list(data.select_dtypes(include=['object']).columns)\n",
    "numerical_attributes = list(data.select_dtypes(include=['float64', 'int64']).columns)\n",
    "print('categorical_attributes:', categorical_attributes)\n",
    "print('numerical_attributes:', numerical_attributes)\n",
    "\n"
   ]
  },
  {
   "cell_type": "code",
   "execution_count": 11,
   "metadata": {},
   "outputs": [
    {
     "name": "stdout",
     "output_type": "stream",
     "text": [
      "months\n",
      "aug    184\n",
      "sep    172\n",
      "mar     54\n",
      "jul     32\n",
      "feb     20\n",
      "jun     17\n",
      "oct     15\n",
      "dec      9\n",
      "apr      9\n",
      "jan      2\n",
      "may      2\n",
      "nov      1\n",
      "Name: month, dtype: int64\n",
      "\n",
      "\n",
      "days\n",
      "sun    95\n",
      "fri    85\n",
      "sat    84\n",
      "mon    74\n",
      "tue    64\n",
      "thu    61\n",
      "wed    54\n",
      "Name: day, dtype: int64\n"
     ]
    }
   ],
   "source": [
    "#Here we face an uniqe issue where a few months have only 1 or 2 data points. I chose to get rid of these so that the glm models\n",
    "#can handle the tests properly. Let me know how you would have hanlded.\n",
    "print('months', data.month.value_counts(), sep='\\n')\n",
    "print('\\n')\n",
    "print('days', data.day.value_counts(), sep='\\n')"
   ]
  },
  {
   "cell_type": "code",
   "execution_count": 13,
   "metadata": {},
   "outputs": [
    {
     "data": {
      "text/plain": [
       "aug    184\n",
       "sep    172\n",
       "mar     54\n",
       "jul     32\n",
       "feb     20\n",
       "jun     17\n",
       "oct     15\n",
       "dec      9\n",
       "apr      9\n",
       "Name: month, dtype: int64"
      ]
     },
     "execution_count": 13,
     "metadata": {},
     "output_type": "execute_result"
    }
   ],
   "source": [
    "months_to_remove = ['nov','jan','may']\n",
    "forest_fire = data.drop(data[data.month.isin(months_to_remove)].index ,axis=0)\n",
    "forest_fire.month.value_counts()\n",
    "\n"
   ]
  },
  {
   "cell_type": "code",
   "execution_count": 14,
   "metadata": {},
   "outputs": [
    {
     "data": {
      "image/png": "[encoded data removed]",
      "text/plain": [
       "<Figure size 1080x720 with 12 Axes>"
      ]
     },
     "metadata": {
      "needs_background": "light"
     },
     "output_type": "display_data"
    }
   ],
   "source": [
    "#visualizing distributions \n",
    "forest_fire.hist(bins=50, figsize=(15,10), ec='w')\n",
    "plt.show()"
   ]
  },
  {
   "cell_type": "code",
   "execution_count": 15,
   "metadata": {},
   "outputs": [
    {
     "data": {
      "text/plain": [
       "Text(800, 100, 'max: 1090.84')"
      ]
     },
     "execution_count": 15,
     "metadata": {},
     "output_type": "execute_result"
    },
    {
     "data": {
      "image/png": "[encoded data removed]",
      "text/plain": [
       "<Figure size 432x288 with 1 Axes>"
      ]
     },
     "metadata": {
      "needs_background": "light"
     },
     "output_type": "display_data"
    }
   ],
   "source": [
    "plt.hist(forest_fire.area, ec='w', bins=100, color='red')\n",
    "plt.text(800,100, 'max: '+str(forest_fire.area.max()), color='black', fontsize=14)\n",
    "#Burnt area attribute ranges from 0 to 1091."
   ]
  },
  {
   "cell_type": "code",
   "execution_count": 16,
   "metadata": {},
   "outputs": [
    {
     "data": {
      "text/plain": [
       "0-5       362\n",
       "10-50      70\n",
       "5-10       56\n",
       "50-100     13\n",
       ">100       11\n",
       "Name: area_cat, dtype: int64"
      ]
     },
     "execution_count": 16,
     "metadata": {},
     "output_type": "execute_result"
    }
   ],
   "source": [
    "#Grouping the the burnt area to get a better understanding\n",
    "forest_fire['area_cat'] = pd.cut(forest_fire['area'], bins=[0,5, 10, 50, 100, 1100], include_lowest=True, \n",
    "                                 labels=['0-5', '5-10', '10-50', '50-100', '>100'])\n",
    "forest_fire.area_cat.value_counts()\n"
   ]
  },
  {
   "cell_type": "code",
   "execution_count": 17,
   "metadata": {},
   "outputs": [
    {
     "data": {
      "text/plain": [
       "9.85875"
      ]
     },
     "execution_count": 17,
     "metadata": {},
     "output_type": "execute_result"
    }
   ],
   "source": [
    "#Interquartile range\n",
    "Q1 = forest_fire.area.quantile(.25)\n",
    "Q3 = forest_fire.area.quantile(.75)\n",
    "IQR = 1.5*(Q3-Q1)\n",
    "IQR"
   ]
  },
  {
   "cell_type": "code",
   "execution_count": 18,
   "metadata": {},
   "outputs": [
    {
     "data": {
      "text/plain": [
       "0-5       362\n",
       "5-10       56\n",
       "10-50      37\n",
       "50-100      0\n",
       ">100        0\n",
       "Name: area_cat, dtype: int64"
      ]
     },
     "execution_count": 18,
     "metadata": {},
     "output_type": "execute_result"
    }
   ],
   "source": [
    "#we are loosing quite a number of data points in already a small data set if we remove all outliers\n",
    "forest_fire.query('(@Q1 - 1.5 * @IQR) <= area <= (@Q3 + 1.5 * @IQR)').area_cat.value_counts(sort=False)"
   ]
  },
  {
   "cell_type": "code",
   "execution_count": 19,
   "metadata": {},
   "outputs": [
    {
     "data": {
      "text/plain": [
       "0-5       362\n",
       "10-50      70\n",
       "5-10       56\n",
       "50-100     13\n",
       ">100        0\n",
       "Name: area_cat, dtype: int64"
      ]
     },
     "execution_count": 19,
     "metadata": {},
     "output_type": "execute_result"
    }
   ],
   "source": [
    "#remove outliers\n",
    "forest_fire.drop(forest_fire[forest_fire.area>100].index,axis=0, inplace=True)\n",
    "forest_fire.area_cat.value_counts()"
   ]
  },
  {
   "cell_type": "code",
   "execution_count": 20,
   "metadata": {},
   "outputs": [
    {
     "data": {
      "image/png": "[encoded data removed]",
      "text/plain": [
       "<Figure size 432x288 with 1 Axes>"
      ]
     },
     "metadata": {
      "needs_background": "light"
     },
     "output_type": "display_data"
    }
   ],
   "source": [
    "#Let's understand what temp ranges we have here.\n",
    "plt.hist(forest_fire.temp, ec='w', bins=50, color='red')\n",
    "plt.show()"
   ]
  },
  {
   "cell_type": "code",
   "execution_count": 21,
   "metadata": {},
   "outputs": [
    {
     "data": {
      "text/plain": [
       "0-15     109\n",
       "15-20    167\n",
       "20-25    163\n",
       ">25       62\n",
       "Name: temp_bins, dtype: int64"
      ]
     },
     "execution_count": 21,
     "metadata": {},
     "output_type": "execute_result"
    }
   ],
   "source": [
    "forest_fire['temp_bins'] = pd.cut(forest_fire.temp, bins=[0, 15, 20, 25, 40], include_lowest=True, \n",
    "                                 labels=['0-15', '15-20', '20-25', '>25'])\n",
    "forest_fire.temp_bins.value_counts(sort=False)\n",
    "#so we have from very cold 0-15 degrees to hot >25 degree.\n"
   ]
  },
  {
   "cell_type": "code",
   "execution_count": 22,
   "metadata": {},
   "outputs": [],
   "source": [
    "from sklearn.model_selection import StratifiedShuffleSplit\n",
    "\n",
    "split = StratifiedShuffleSplit(n_splits=1, test_size=0.2, random_state=42)\n",
    "for train_index, test_index in split.split(forest_fire.values, forest_fire.temp_bins.values):\n",
    "    st_train_set = forest_fire.iloc[train_index]\n",
    "    st_test_set = forest_fire.iloc[test_index]\n"
   ]
  },
  {
   "cell_type": "code",
   "execution_count": 23,
   "metadata": {},
   "outputs": [
    {
     "name": "stdout",
     "output_type": "stream",
     "text": [
      "0-15     0.217822\n",
      "15-20    0.336634\n",
      "20-25    0.326733\n",
      ">25      0.118812\n",
      "Name: temp_bins, dtype: float64\n",
      "0-15     0.217565\n",
      "15-20    0.333333\n",
      "20-25    0.325349\n",
      ">25      0.123752\n",
      "Name: temp_bins, dtype: float64\n"
     ]
    }
   ],
   "source": [
    "#this works like magic.\n",
    "print(st_test_set.temp_bins.value_counts(sort=False)/len(st_test_set), sep='\\n')\n",
    "print(forest_fire.temp_bins.value_counts(sort=False)/len(forest_fire), sep='\\n')\n",
    "\n"
   ]
  },
  {
   "cell_type": "code",
   "execution_count": 24,
   "metadata": {},
   "outputs": [
    {
     "name": "stderr",
     "output_type": "stream",
     "text": [
      "/home/hemanth/.local/lib/python3.8/site-packages/pandas/core/frame.py:4167: SettingWithCopyWarning: \n",
      "A value is trying to be set on a copy of a slice from a DataFrame\n",
      "\n",
      "See the caveats in the documentation: https://pandas.pydata.org/pandas-docs/stable/user_guide/indexing.html#returning-a-view-versus-a-copy\n",
      "  return super().drop(\n"
     ]
    },
    {
     "data": {
      "text/html": [
       "<div>\n",
       "<style scoped>\n",
       "    .dataframe tbody tr th:only-of-type {\n",
       "        vertical-align: middle;\n",
       "    }\n",
       "\n",
       "    .dataframe tbody tr th {\n",
       "        vertical-align: top;\n",
       "    }\n",
       "\n",
       "    .dataframe thead th {\n",
       "        text-align: right;\n",
       "    }\n",
       "</style>\n",
       "<table border=\"1\" class=\"dataframe\">\n",
       "  <thead>\n",
       "    <tr style=\"text-align: right;\">\n",
       "      <th></th>\n",
       "      <th>X</th>\n",
       "      <th>Y</th>\n",
       "      <th>month</th>\n",
       "      <th>day</th>\n",
       "      <th>FFMC</th>\n",
       "      <th>DMC</th>\n",
       "      <th>DC</th>\n",
       "      <th>ISI</th>\n",
       "      <th>temp</th>\n",
       "      <th>RH</th>\n",
       "      <th>wind</th>\n",
       "      <th>rain</th>\n",
       "      <th>area</th>\n",
       "    </tr>\n",
       "  </thead>\n",
       "  <tbody>\n",
       "    <tr>\n",
       "      <th>359</th>\n",
       "      <td>1</td>\n",
       "      <td>4</td>\n",
       "      <td>sep</td>\n",
       "      <td>fri</td>\n",
       "      <td>92.5</td>\n",
       "      <td>122.0</td>\n",
       "      <td>789.7</td>\n",
       "      <td>10.2</td>\n",
       "      <td>21.1</td>\n",
       "      <td>39</td>\n",
       "      <td>2.2</td>\n",
       "      <td>0.0</td>\n",
       "      <td>8.12</td>\n",
       "    </tr>\n",
       "    <tr>\n",
       "      <th>314</th>\n",
       "      <td>4</td>\n",
       "      <td>4</td>\n",
       "      <td>sep</td>\n",
       "      <td>wed</td>\n",
       "      <td>92.6</td>\n",
       "      <td>115.4</td>\n",
       "      <td>777.1</td>\n",
       "      <td>8.8</td>\n",
       "      <td>19.7</td>\n",
       "      <td>41</td>\n",
       "      <td>1.8</td>\n",
       "      <td>0.0</td>\n",
       "      <td>1.58</td>\n",
       "    </tr>\n",
       "    <tr>\n",
       "      <th>203</th>\n",
       "      <td>8</td>\n",
       "      <td>6</td>\n",
       "      <td>oct</td>\n",
       "      <td>wed</td>\n",
       "      <td>91.4</td>\n",
       "      <td>37.9</td>\n",
       "      <td>673.8</td>\n",
       "      <td>5.2</td>\n",
       "      <td>20.2</td>\n",
       "      <td>37</td>\n",
       "      <td>2.7</td>\n",
       "      <td>0.0</td>\n",
       "      <td>13.70</td>\n",
       "    </tr>\n",
       "    <tr>\n",
       "      <th>319</th>\n",
       "      <td>5</td>\n",
       "      <td>4</td>\n",
       "      <td>sep</td>\n",
       "      <td>thu</td>\n",
       "      <td>92.8</td>\n",
       "      <td>119.0</td>\n",
       "      <td>783.5</td>\n",
       "      <td>7.5</td>\n",
       "      <td>21.6</td>\n",
       "      <td>28</td>\n",
       "      <td>6.3</td>\n",
       "      <td>0.0</td>\n",
       "      <td>4.41</td>\n",
       "    </tr>\n",
       "    <tr>\n",
       "      <th>51</th>\n",
       "      <td>4</td>\n",
       "      <td>3</td>\n",
       "      <td>aug</td>\n",
       "      <td>sun</td>\n",
       "      <td>90.2</td>\n",
       "      <td>99.6</td>\n",
       "      <td>631.2</td>\n",
       "      <td>6.3</td>\n",
       "      <td>21.5</td>\n",
       "      <td>34</td>\n",
       "      <td>2.2</td>\n",
       "      <td>0.0</td>\n",
       "      <td>0.00</td>\n",
       "    </tr>\n",
       "  </tbody>\n",
       "</table>\n",
       "</div>"
      ],
      "text/plain": [
       "     X  Y month  day  FFMC    DMC     DC   ISI  temp  RH  wind  rain   area\n",
       "359  1  4   sep  fri  92.5  122.0  789.7  10.2  21.1  39   2.2   0.0   8.12\n",
       "314  4  4   sep  wed  92.6  115.4  777.1   8.8  19.7  41   1.8   0.0   1.58\n",
       "203  8  6   oct  wed  91.4   37.9  673.8   5.2  20.2  37   2.7   0.0  13.70\n",
       "319  5  4   sep  thu  92.8  119.0  783.5   7.5  21.6  28   6.3   0.0   4.41\n",
       "51   4  3   aug  sun  90.2   99.6  631.2   6.3  21.5  34   2.2   0.0   0.00"
      ]
     },
     "execution_count": 24,
     "metadata": {},
     "output_type": "execute_result"
    }
   ],
   "source": [
    "#now lets drop the area and temp categories \n",
    "for _ in (st_train_set, st_test_set):\n",
    "    _.drop(['area_cat','temp_bins'], axis=1, inplace=True)\n",
    "    \n",
    "forest_fire = st_train_set.copy()\n",
    "forest_fire.head()"
   ]
  },
  {
   "cell_type": "code",
   "execution_count": 25,
   "metadata": {},
   "outputs": [
    {
     "data": {
      "image/png": "[encoded data removed]",
      "text/plain": [
       "<Figure size 864x576 with 1 Axes>"
      ]
     },
     "metadata": {
      "needs_background": "light"
     },
     "output_type": "display_data"
    }
   ],
   "source": [
    "#December had a few incidents but all on the higher burnt area side. Is it becuase dry weather or because more tourists? \n",
    "ax = plt.figure(figsize=(12,8))\n",
    "ax = sns.boxplot(x='month', y='area', data=forest_fire, color='lightgrey', )\n",
    "ax = sns.stripplot(x='month', y='area', data=forest_fire, color='red', jitter=0.4, size=4)\n"
   ]
  },
  {
   "cell_type": "code",
   "execution_count": 26,
   "metadata": {},
   "outputs": [
    {
     "data": {
      "image/png": "[encoded data removed]",
      "text/plain": [
       "<Figure size 864x576 with 1 Axes>"
      ]
     },
     "metadata": {
      "needs_background": "light"
     },
     "output_type": "display_data"
    }
   ],
   "source": [
    "#There are more incidents on weekends - Friday/Sat/Sun, it might mean that campers vactioning might have caused/spotted fires.\n",
    "ax = plt.figure(figsize=(12,8))\n",
    "ax = sns.boxplot(x='day', y='area', data=forest_fire, color='lightgrey', )\n",
    "ax = sns.stripplot(x='day', y='area', data=forest_fire, color='red', jitter=0.4, size=4)"
   ]
  },
  {
   "cell_type": "code",
   "execution_count": 27,
   "metadata": {},
   "outputs": [
    {
     "data": {
      "image/png": "[encoded data removed]",
      "text/plain": [
       "<Figure size 432x288 with 2 Axes>"
      ]
     },
     "metadata": {
      "needs_background": "light"
     },
     "output_type": "display_data"
    }
   ],
   "source": [
    "#I am checking the temparature distribution as per the forest cordinates during the month of december\n",
    "#it looks like the temps are low, so it could be a combinaton of dry weather and human made fire. But as data scientists,\n",
    "#we must make important discoveries to arrive at any conclusive evidence. Else the above statments are just my mind made \n",
    "#fantsies\n",
    "forest_fire[forest_fire.month=='dec'].plot(kind='scatter', x='X', y='Y', c='temp', cmap=plt.get_cmap('coolwarm'), colorbar=True)\n",
    "plt.show()"
   ]
  },
  {
   "cell_type": "code",
   "execution_count": 28,
   "metadata": {},
   "outputs": [
    {
     "data": {
      "text/html": [
       "<div>\n",
       "<style scoped>\n",
       "    .dataframe tbody tr th:only-of-type {\n",
       "        vertical-align: middle;\n",
       "    }\n",
       "\n",
       "    .dataframe tbody tr th {\n",
       "        vertical-align: top;\n",
       "    }\n",
       "\n",
       "    .dataframe thead th {\n",
       "        text-align: right;\n",
       "    }\n",
       "</style>\n",
       "<table border=\"1\" class=\"dataframe\">\n",
       "  <thead>\n",
       "    <tr style=\"text-align: right;\">\n",
       "      <th></th>\n",
       "      <th>X</th>\n",
       "      <th>Y</th>\n",
       "      <th>FFMC</th>\n",
       "      <th>DMC</th>\n",
       "      <th>DC</th>\n",
       "      <th>ISI</th>\n",
       "      <th>temp</th>\n",
       "      <th>RH</th>\n",
       "      <th>wind</th>\n",
       "      <th>rain</th>\n",
       "      <th>area</th>\n",
       "    </tr>\n",
       "  </thead>\n",
       "  <tbody>\n",
       "    <tr>\n",
       "      <th>X</th>\n",
       "      <td>1.000000</td>\n",
       "      <td>0.481958</td>\n",
       "      <td>-0.070838</td>\n",
       "      <td>-0.082882</td>\n",
       "      <td>-0.097020</td>\n",
       "      <td>0.003760</td>\n",
       "      <td>-0.060757</td>\n",
       "      <td>0.081566</td>\n",
       "      <td>0.016699</td>\n",
       "      <td>0.106047</td>\n",
       "      <td>0.038364</td>\n",
       "    </tr>\n",
       "    <tr>\n",
       "      <th>Y</th>\n",
       "      <td>0.481958</td>\n",
       "      <td>1.000000</td>\n",
       "      <td>-0.037203</td>\n",
       "      <td>0.006697</td>\n",
       "      <td>-0.116588</td>\n",
       "      <td>-0.050865</td>\n",
       "      <td>-0.047194</td>\n",
       "      <td>0.075483</td>\n",
       "      <td>-0.056825</td>\n",
       "      <td>0.065329</td>\n",
       "      <td>0.062555</td>\n",
       "    </tr>\n",
       "    <tr>\n",
       "      <th>FFMC</th>\n",
       "      <td>-0.070838</td>\n",
       "      <td>-0.037203</td>\n",
       "      <td>1.000000</td>\n",
       "      <td>0.496427</td>\n",
       "      <td>0.239290</td>\n",
       "      <td>0.791981</td>\n",
       "      <td>0.594014</td>\n",
       "      <td>-0.337973</td>\n",
       "      <td>-0.031399</td>\n",
       "      <td>0.116047</td>\n",
       "      <td>0.022730</td>\n",
       "    </tr>\n",
       "    <tr>\n",
       "      <th>DMC</th>\n",
       "      <td>-0.082882</td>\n",
       "      <td>0.006697</td>\n",
       "      <td>0.496427</td>\n",
       "      <td>1.000000</td>\n",
       "      <td>0.562753</td>\n",
       "      <td>0.394178</td>\n",
       "      <td>0.468887</td>\n",
       "      <td>0.043702</td>\n",
       "      <td>-0.098967</td>\n",
       "      <td>0.166716</td>\n",
       "      <td>0.026109</td>\n",
       "    </tr>\n",
       "    <tr>\n",
       "      <th>DC</th>\n",
       "      <td>-0.097020</td>\n",
       "      <td>-0.116588</td>\n",
       "      <td>0.239290</td>\n",
       "      <td>0.562753</td>\n",
       "      <td>1.000000</td>\n",
       "      <td>0.082584</td>\n",
       "      <td>0.274941</td>\n",
       "      <td>0.050014</td>\n",
       "      <td>-0.157062</td>\n",
       "      <td>0.033104</td>\n",
       "      <td>0.036140</td>\n",
       "    </tr>\n",
       "    <tr>\n",
       "      <th>ISI</th>\n",
       "      <td>0.003760</td>\n",
       "      <td>-0.050865</td>\n",
       "      <td>0.791981</td>\n",
       "      <td>0.394178</td>\n",
       "      <td>0.082584</td>\n",
       "      <td>1.000000</td>\n",
       "      <td>0.406165</td>\n",
       "      <td>-0.171347</td>\n",
       "      <td>0.128069</td>\n",
       "      <td>0.133786</td>\n",
       "      <td>0.019129</td>\n",
       "    </tr>\n",
       "    <tr>\n",
       "      <th>temp</th>\n",
       "      <td>-0.060757</td>\n",
       "      <td>-0.047194</td>\n",
       "      <td>0.594014</td>\n",
       "      <td>0.468887</td>\n",
       "      <td>0.274941</td>\n",
       "      <td>0.406165</td>\n",
       "      <td>1.000000</td>\n",
       "      <td>-0.551008</td>\n",
       "      <td>-0.184548</td>\n",
       "      <td>0.056701</td>\n",
       "      <td>0.048286</td>\n",
       "    </tr>\n",
       "    <tr>\n",
       "      <th>RH</th>\n",
       "      <td>0.081566</td>\n",
       "      <td>0.075483</td>\n",
       "      <td>-0.337973</td>\n",
       "      <td>0.043702</td>\n",
       "      <td>0.050014</td>\n",
       "      <td>-0.171347</td>\n",
       "      <td>-0.551008</td>\n",
       "      <td>1.000000</td>\n",
       "      <td>0.100768</td>\n",
       "      <td>0.187838</td>\n",
       "      <td>-0.043599</td>\n",
       "    </tr>\n",
       "    <tr>\n",
       "      <th>wind</th>\n",
       "      <td>0.016699</td>\n",
       "      <td>-0.056825</td>\n",
       "      <td>-0.031399</td>\n",
       "      <td>-0.098967</td>\n",
       "      <td>-0.157062</td>\n",
       "      <td>0.128069</td>\n",
       "      <td>-0.184548</td>\n",
       "      <td>0.100768</td>\n",
       "      <td>1.000000</td>\n",
       "      <td>0.146433</td>\n",
       "      <td>0.049758</td>\n",
       "    </tr>\n",
       "    <tr>\n",
       "      <th>rain</th>\n",
       "      <td>0.106047</td>\n",
       "      <td>0.065329</td>\n",
       "      <td>0.116047</td>\n",
       "      <td>0.166716</td>\n",
       "      <td>0.033104</td>\n",
       "      <td>0.133786</td>\n",
       "      <td>0.056701</td>\n",
       "      <td>0.187838</td>\n",
       "      <td>0.146433</td>\n",
       "      <td>1.000000</td>\n",
       "      <td>-0.056283</td>\n",
       "    </tr>\n",
       "    <tr>\n",
       "      <th>area</th>\n",
       "      <td>0.038364</td>\n",
       "      <td>0.062555</td>\n",
       "      <td>0.022730</td>\n",
       "      <td>0.026109</td>\n",
       "      <td>0.036140</td>\n",
       "      <td>0.019129</td>\n",
       "      <td>0.048286</td>\n",
       "      <td>-0.043599</td>\n",
       "      <td>0.049758</td>\n",
       "      <td>-0.056283</td>\n",
       "      <td>1.000000</td>\n",
       "    </tr>\n",
       "  </tbody>\n",
       "</table>\n",
       "</div>"
      ],
      "text/plain": [
       "             X         Y      FFMC       DMC        DC       ISI      temp  \\\n",
       "X     1.000000  0.481958 -0.070838 -0.082882 -0.097020  0.003760 -0.060757   \n",
       "Y     0.481958  1.000000 -0.037203  0.006697 -0.116588 -0.050865 -0.047194   \n",
       "FFMC -0.070838 -0.037203  1.000000  0.496427  0.239290  0.791981  0.594014   \n",
       "DMC  -0.082882  0.006697  0.496427  1.000000  0.562753  0.394178  0.468887   \n",
       "DC   -0.097020 -0.116588  0.239290  0.562753  1.000000  0.082584  0.274941   \n",
       "ISI   0.003760 -0.050865  0.791981  0.394178  0.082584  1.000000  0.406165   \n",
       "temp -0.060757 -0.047194  0.594014  0.468887  0.274941  0.406165  1.000000   \n",
       "RH    0.081566  0.075483 -0.337973  0.043702  0.050014 -0.171347 -0.551008   \n",
       "wind  0.016699 -0.056825 -0.031399 -0.098967 -0.157062  0.128069 -0.184548   \n",
       "rain  0.106047  0.065329  0.116047  0.166716  0.033104  0.133786  0.056701   \n",
       "area  0.038364  0.062555  0.022730  0.026109  0.036140  0.019129  0.048286   \n",
       "\n",
       "            RH      wind      rain      area  \n",
       "X     0.081566  0.016699  0.106047  0.038364  \n",
       "Y     0.075483 -0.056825  0.065329  0.062555  \n",
       "FFMC -0.337973 -0.031399  0.116047  0.022730  \n",
       "DMC   0.043702 -0.098967  0.166716  0.026109  \n",
       "DC    0.050014 -0.157062  0.033104  0.036140  \n",
       "ISI  -0.171347  0.128069  0.133786  0.019129  \n",
       "temp -0.551008 -0.184548  0.056701  0.048286  \n",
       "RH    1.000000  0.100768  0.187838 -0.043599  \n",
       "wind  0.100768  1.000000  0.146433  0.049758  \n",
       "rain  0.187838  0.146433  1.000000 -0.056283  \n",
       "area -0.043599  0.049758 -0.056283  1.000000  "
      ]
     },
     "execution_count": 28,
     "metadata": {},
     "output_type": "execute_result"
    }
   ],
   "source": [
    "corr_matrix = forest_fire.corr(method='spearman')\n",
    "corr_matrix\n"
   ]
  },
  {
   "cell_type": "code",
   "execution_count": 29,
   "metadata": {},
   "outputs": [
    {
     "data": {
      "image/png": "[encoded data removed]",
      "text/plain": [
       "<Figure size 864x576 with 2 Axes>"
      ]
     },
     "metadata": {
      "needs_background": "light"
     },
     "output_type": "display_data"
    }
   ],
   "source": [
    "ax = plt.figure(figsize=(12,8))\n",
    "ax = sns.heatmap(corr_matrix, cmap='PiYG')\n",
    "\n"
   ]
  },
  {
   "cell_type": "code",
   "execution_count": 30,
   "metadata": {},
   "outputs": [
    {
     "data": {
      "text/plain": [
       "area    1.000000\n",
       "Y       0.062555\n",
       "wind    0.049758\n",
       "temp    0.048286\n",
       "X       0.038364\n",
       "DC      0.036140\n",
       "DMC     0.026109\n",
       "FFMC    0.022730\n",
       "ISI     0.019129\n",
       "RH     -0.043599\n",
       "rain   -0.056283\n",
       "Name: area, dtype: float64"
      ]
     },
     "execution_count": 30,
     "metadata": {},
     "output_type": "execute_result"
    }
   ],
   "source": [
    "#corrleation with area\n",
    "corr_matrix.area.sort_values(ascending=False)\n",
    "\n"
   ]
  },
  {
   "cell_type": "code",
   "execution_count": 31,
   "metadata": {},
   "outputs": [
    {
     "data": {
      "image/png": "[encoded data removed]",
      "text/plain": [
       "<Figure size 900x900 with 30 Axes>"
      ]
     },
     "metadata": {
      "needs_background": "light"
     },
     "output_type": "display_data"
    }
   ],
   "source": [
    "#visualizing relations of most related attributes\n",
    "attributes = ['area', 'wind', 'temp', 'rain', 'RH']\n",
    "sns.pairplot(forest_fire[attributes])\n",
    "plt.show()\n",
    "\n"
   ]
  },
  {
   "cell_type": "code",
   "execution_count": 32,
   "metadata": {},
   "outputs": [],
   "source": [
    "#create a fresh copy of train to preprocess\n",
    "forest_fire = st_train_set.drop('area', axis=1)\n",
    "forest_fire_labels = st_train_set.area.copy()"
   ]
  },
  {
   "cell_type": "code",
   "execution_count": 36,
   "metadata": {},
   "outputs": [],
   "source": [
    "from sklearn.base import BaseEstimator, TransformerMixin\n",
    "\n",
    "class AttributeDeleter(BaseEstimator, TransformerMixin):\n",
    "    def __init__(self, delete=True):\n",
    "        self.delete = delete\n",
    "    def fit(self, X, y=None):\n",
    "        return self\n",
    "    def transform(self, X, y=None):\n",
    "        return np.delete(X,[data.columns.get_loc(i) for i in['X','Y','area']],axis=1)\n",
    "            "
   ]
  },
  {
   "cell_type": "code",
   "execution_count": 37,
   "metadata": {},
   "outputs": [
    {
     "name": "stderr",
     "output_type": "stream",
     "text": [
      "<ipython-input-36-d31f347cf15a>:9: DeprecationWarning: in the future out of bounds indices will raise an error instead of being ignored by `numpy.delete`.\n",
      "  return np.delete(X,[data.columns.get_loc(i) for i in['X','Y','area']],axis=1)\n"
     ]
    },
    {
     "data": {
      "text/plain": [
       "((400, 24), (400, 12))"
      ]
     },
     "execution_count": 37,
     "metadata": {},
     "output_type": "execute_result"
    }
   ],
   "source": [
    "from sklearn.impute import SimpleImputer\n",
    "from sklearn.preprocessing import OneHotEncoder, StandardScaler\n",
    "from sklearn.pipeline import Pipeline\n",
    "from sklearn.compose import ColumnTransformer\n",
    "\n",
    "categorical_attributes = list(forest_fire.select_dtypes(include=['object']).columns)\n",
    "numerical_attributes = list(forest_fire.select_dtypes(include=['float64', 'int64']).columns)\n",
    "\n",
    "num_pipeline = Pipeline([('imputer', SimpleImputer(strategy='median')),\n",
    "                         ('drop_attributes', AttributeDeleter()),\n",
    "                         ('std_scaler', StandardScaler()),\n",
    "                        ])\n",
    "full_pipeline = ColumnTransformer([('num', num_pipeline, numerical_attributes),\n",
    "                                   ('cat', OneHotEncoder(), categorical_attributes),\n",
    "                                  ])\n",
    "\n",
    "train = full_pipeline.fit_transform(forest_fire)\n",
    "train_labels = forest_fire_labels\n",
    "train.shape ,forest_fire.shape\n",
    "\n"
   ]
  },
  {
   "cell_type": "code",
   "execution_count": 38,
   "metadata": {},
   "outputs": [
    {
     "data": {
      "text/html": [
       "<div>\n",
       "<style scoped>\n",
       "    .dataframe tbody tr th:only-of-type {\n",
       "        vertical-align: middle;\n",
       "    }\n",
       "\n",
       "    .dataframe tbody tr th {\n",
       "        vertical-align: top;\n",
       "    }\n",
       "\n",
       "    .dataframe thead th {\n",
       "        text-align: right;\n",
       "    }\n",
       "</style>\n",
       "<table border=\"1\" class=\"dataframe\">\n",
       "  <thead>\n",
       "    <tr style=\"text-align: right;\">\n",
       "      <th></th>\n",
       "      <th>FFMC</th>\n",
       "      <th>DMC</th>\n",
       "      <th>DC</th>\n",
       "      <th>ISI</th>\n",
       "      <th>temp</th>\n",
       "      <th>RH</th>\n",
       "      <th>wind</th>\n",
       "      <th>rain</th>\n",
       "      <th>apr</th>\n",
       "      <th>aug</th>\n",
       "      <th>...</th>\n",
       "      <th>mar</th>\n",
       "      <th>oct</th>\n",
       "      <th>sep</th>\n",
       "      <th>fri</th>\n",
       "      <th>mon</th>\n",
       "      <th>sat</th>\n",
       "      <th>sun</th>\n",
       "      <th>thu</th>\n",
       "      <th>tue</th>\n",
       "      <th>wed</th>\n",
       "    </tr>\n",
       "  </thead>\n",
       "  <tbody>\n",
       "    <tr>\n",
       "      <th>0</th>\n",
       "      <td>0.380715</td>\n",
       "      <td>0.142619</td>\n",
       "      <td>0.956717</td>\n",
       "      <td>0.231093</td>\n",
       "      <td>0.367208</td>\n",
       "      <td>-0.334216</td>\n",
       "      <td>-1.038205</td>\n",
       "      <td>-0.0819</td>\n",
       "      <td>0.0</td>\n",
       "      <td>0.0</td>\n",
       "      <td>...</td>\n",
       "      <td>0.0</td>\n",
       "      <td>0.0</td>\n",
       "      <td>1.0</td>\n",
       "      <td>1.0</td>\n",
       "      <td>0.0</td>\n",
       "      <td>0.0</td>\n",
       "      <td>0.0</td>\n",
       "      <td>0.0</td>\n",
       "      <td>0.0</td>\n",
       "      <td>0.0</td>\n",
       "    </tr>\n",
       "    <tr>\n",
       "      <th>1</th>\n",
       "      <td>0.403202</td>\n",
       "      <td>0.041644</td>\n",
       "      <td>0.905476</td>\n",
       "      <td>-0.065316</td>\n",
       "      <td>0.125964</td>\n",
       "      <td>-0.209799</td>\n",
       "      <td>-1.265975</td>\n",
       "      <td>-0.0819</td>\n",
       "      <td>0.0</td>\n",
       "      <td>0.0</td>\n",
       "      <td>...</td>\n",
       "      <td>0.0</td>\n",
       "      <td>0.0</td>\n",
       "      <td>1.0</td>\n",
       "      <td>0.0</td>\n",
       "      <td>0.0</td>\n",
       "      <td>0.0</td>\n",
       "      <td>0.0</td>\n",
       "      <td>0.0</td>\n",
       "      <td>0.0</td>\n",
       "      <td>1.0</td>\n",
       "    </tr>\n",
       "    <tr>\n",
       "      <th>2</th>\n",
       "      <td>0.133351</td>\n",
       "      <td>-1.144046</td>\n",
       "      <td>0.485378</td>\n",
       "      <td>-0.827509</td>\n",
       "      <td>0.212122</td>\n",
       "      <td>-0.458633</td>\n",
       "      <td>-0.753492</td>\n",
       "      <td>-0.0819</td>\n",
       "      <td>0.0</td>\n",
       "      <td>0.0</td>\n",
       "      <td>...</td>\n",
       "      <td>0.0</td>\n",
       "      <td>1.0</td>\n",
       "      <td>0.0</td>\n",
       "      <td>0.0</td>\n",
       "      <td>0.0</td>\n",
       "      <td>0.0</td>\n",
       "      <td>0.0</td>\n",
       "      <td>0.0</td>\n",
       "      <td>0.0</td>\n",
       "      <td>1.0</td>\n",
       "    </tr>\n",
       "    <tr>\n",
       "      <th>3</th>\n",
       "      <td>0.448178</td>\n",
       "      <td>0.096722</td>\n",
       "      <td>0.931503</td>\n",
       "      <td>-0.340552</td>\n",
       "      <td>0.453366</td>\n",
       "      <td>-1.018511</td>\n",
       "      <td>1.296439</td>\n",
       "      <td>-0.0819</td>\n",
       "      <td>0.0</td>\n",
       "      <td>0.0</td>\n",
       "      <td>...</td>\n",
       "      <td>0.0</td>\n",
       "      <td>0.0</td>\n",
       "      <td>1.0</td>\n",
       "      <td>0.0</td>\n",
       "      <td>0.0</td>\n",
       "      <td>0.0</td>\n",
       "      <td>0.0</td>\n",
       "      <td>1.0</td>\n",
       "      <td>0.0</td>\n",
       "      <td>0.0</td>\n",
       "    </tr>\n",
       "    <tr>\n",
       "      <th>4</th>\n",
       "      <td>-0.136500</td>\n",
       "      <td>-0.200083</td>\n",
       "      <td>0.312134</td>\n",
       "      <td>-0.594617</td>\n",
       "      <td>0.436134</td>\n",
       "      <td>-0.645259</td>\n",
       "      <td>-1.038205</td>\n",
       "      <td>-0.0819</td>\n",
       "      <td>0.0</td>\n",
       "      <td>1.0</td>\n",
       "      <td>...</td>\n",
       "      <td>0.0</td>\n",
       "      <td>0.0</td>\n",
       "      <td>0.0</td>\n",
       "      <td>0.0</td>\n",
       "      <td>0.0</td>\n",
       "      <td>0.0</td>\n",
       "      <td>1.0</td>\n",
       "      <td>0.0</td>\n",
       "      <td>0.0</td>\n",
       "      <td>0.0</td>\n",
       "    </tr>\n",
       "  </tbody>\n",
       "</table>\n",
       "<p>5 rows × 24 columns</p>\n",
       "</div>"
      ],
      "text/plain": [
       "       FFMC       DMC        DC       ISI      temp        RH      wind  \\\n",
       "0  0.380715  0.142619  0.956717  0.231093  0.367208 -0.334216 -1.038205   \n",
       "1  0.403202  0.041644  0.905476 -0.065316  0.125964 -0.209799 -1.265975   \n",
       "2  0.133351 -1.144046  0.485378 -0.827509  0.212122 -0.458633 -0.753492   \n",
       "3  0.448178  0.096722  0.931503 -0.340552  0.453366 -1.018511  1.296439   \n",
       "4 -0.136500 -0.200083  0.312134 -0.594617  0.436134 -0.645259 -1.038205   \n",
       "\n",
       "     rain  apr  aug  ...  mar  oct  sep  fri  mon  sat  sun  thu  tue  wed  \n",
       "0 -0.0819  0.0  0.0  ...  0.0  0.0  1.0  1.0  0.0  0.0  0.0  0.0  0.0  0.0  \n",
       "1 -0.0819  0.0  0.0  ...  0.0  0.0  1.0  0.0  0.0  0.0  0.0  0.0  0.0  1.0  \n",
       "2 -0.0819  0.0  0.0  ...  0.0  1.0  0.0  0.0  0.0  0.0  0.0  0.0  0.0  1.0  \n",
       "3 -0.0819  0.0  0.0  ...  0.0  0.0  1.0  0.0  0.0  0.0  0.0  1.0  0.0  0.0  \n",
       "4 -0.0819  0.0  1.0  ...  0.0  0.0  0.0  0.0  0.0  0.0  1.0  0.0  0.0  0.0  \n",
       "\n",
       "[5 rows x 24 columns]"
      ]
     },
     "execution_count": 38,
     "metadata": {},
     "output_type": "execute_result"
    }
   ],
   "source": [
    "#check the train data\n",
    "train_df = pd.DataFrame(train, columns= numerical_attributes[2:] + list(full_pipeline.named_transformers_.cat.categories_[0]) +\n",
    "             list(full_pipeline.named_transformers_.cat.categories_[1]))\n",
    "train_df.head()"
   ]
  },
  {
   "cell_type": "code",
   "execution_count": 39,
   "metadata": {},
   "outputs": [
    {
     "name": "stdout",
     "output_type": "stream",
     "text": [
      "linear_train_rmse 13.406066943162292\n",
      "Scores: [16.00586989 11.91154919 13.54246624 17.79622565 11.00732733 16.2702517\n",
      " 12.44362983 12.5315639  20.86146544  9.50023542]\n",
      "Mean: 14.187058460095466\n",
      "Standard deviation: 3.2965468733960823\n"
     ]
    }
   ],
   "source": [
    "from sklearn.linear_model import LinearRegression\n",
    "from sklearn.metrics import mean_squared_error\n",
    "\n",
    "lin_reg = LinearRegression()\n",
    "lin_reg.fit(train, train_labels)\n",
    "\n",
    "area_predictions = lin_reg.predict(train)\n",
    "lin_mse = mean_squared_error(train_labels, area_predictions)\n",
    "lin_rmse = np.sqrt(lin_mse)\n",
    "print('linear_train_rmse', lin_rmse) #model might be underfitting\n",
    "\n",
    "from sklearn.model_selection import cross_val_score\n",
    "scores = cross_val_score(lin_reg, train, train_labels, scoring='neg_mean_squared_error', cv=10)\n",
    "lin_rmse_scores = np.sqrt(-scores)\n",
    "\n",
    "def explain_scores(scores):\n",
    "    print(\"Scores:\", scores)\n",
    "    print(\"Mean:\", scores.mean())\n",
    "    print(\"Standard deviation:\", scores.std())\n",
    " \n",
    "explain_scores(lin_rmse_scores)"
   ]
  },
  {
   "cell_type": "code",
   "execution_count": 40,
   "metadata": {},
   "outputs": [
    {
     "name": "stdout",
     "output_type": "stream",
     "text": [
      "tree_train_rmse 3.741321429878308\n",
      "Scores: [16.30482806 26.6548144  18.92146572 20.06757668 13.45367991 20.80439034\n",
      " 17.46536977 20.5491725  23.71631472 19.83376773]\n",
      "Mean: 19.77713798374692\n",
      "Standard deviation: 3.502540477544121\n"
     ]
    }
   ],
   "source": [
    "from sklearn.tree import DecisionTreeRegressor\n",
    "\n",
    "tree_reg = DecisionTreeRegressor()\n",
    "tree_reg.fit(train, train_labels)\n",
    "\n",
    "area_predictions = tree_reg.predict(train)\n",
    "tree_mse = mean_squared_error(train_labels, area_predictions)\n",
    "tree_rmse = np.sqrt(tree_mse)\n",
    "print('tree_train_rmse', tree_rmse) #model obviously overfitting\n",
    "\n",
    "scores = cross_val_score(tree_reg, train, train_labels, scoring='neg_mean_squared_error', cv=10)\n",
    "tree_rmse_scores = np.sqrt(-scores)\n",
    "explain_scores(tree_rmse_scores)\n",
    "\n"
   ]
  },
  {
   "cell_type": "code",
   "execution_count": 41,
   "metadata": {},
   "outputs": [
    {
     "name": "stdout",
     "output_type": "stream",
     "text": [
      "rf_train_rmse 6.499644935805323\n",
      "Scores: [15.46909982 17.41186421 13.47962685 17.90634077 12.14330828 17.21779786\n",
      " 12.58733481 13.20913793 21.3827724  13.38102369]\n",
      "Mean: 15.41883066338183\n",
      "Standard deviation: 2.837421831177576\n"
     ]
    }
   ],
   "source": [
    "from sklearn.ensemble import RandomForestRegressor\n",
    "\n",
    "rf_reg = RandomForestRegressor()\n",
    "rf_reg.fit(train, train_labels)\n",
    "\n",
    "area_predictions = rf_reg.predict(train)\n",
    "rf_mse = mean_squared_error(train_labels, area_predictions)\n",
    "rf_rmse = np.sqrt(rf_mse)\n",
    "print('rf_train_rmse', rf_rmse) #model is overfitting \n",
    "\n",
    "scores = cross_val_score(rf_reg, train, train_labels, scoring='neg_mean_squared_error', cv=10)\n",
    "rf_rmse_scores = np.sqrt(-scores)\n",
    "explain_scores(rf_rmse_scores)\n",
    "\n"
   ]
  },
  {
   "cell_type": "code",
   "execution_count": 42,
   "metadata": {},
   "outputs": [
    {
     "name": "stdout",
     "output_type": "stream",
     "text": [
      "svm_train_rmse 14.735115234995622\n",
      "Scores: [16.28880513 11.46486514 13.32923098 18.72966492 12.30643604 17.79038955\n",
      " 11.83843457 11.58292376 21.51711382  8.19307306]\n",
      "Mean: 14.304093696230833\n",
      "Standard deviation: 3.8927844078190823\n"
     ]
    }
   ],
   "source": [
    "from sklearn.svm import SVR\n",
    "\n",
    "svm_reg = SVR(kernel='linear')\n",
    "svm_reg.fit(train, train_labels)\n",
    "\n",
    "area_predictions = svm_reg.predict(train)\n",
    "svm_mse = mean_squared_error(train_labels, area_predictions)\n",
    "svm_rmse = np.sqrt(svm_mse)\n",
    "print('svm_train_rmse', svm_rmse) #svm is generalizing well to crossvalidation set\n",
    "\n",
    "scores = cross_val_score(svm_reg, train, train_labels, scoring='neg_mean_squared_error', cv=10)\n",
    "svm_rmse_scores = np.sqrt(-scores)\n",
    "explain_scores(svm_rmse_scores)"
   ]
  },
  {
   "cell_type": "code",
   "execution_count": 43,
   "metadata": {},
   "outputs": [
    {
     "name": "stdout",
     "output_type": "stream",
     "text": [
      "knn_train_rmse 12.267501416343917\n",
      "Scores: [15.32853266 13.30199007 14.2548204  18.26040729 13.00551996 17.07379813\n",
      " 12.83996789 12.84801573 21.90707942 11.81003484]\n",
      "Mean: 15.063016639221294\n",
      "Standard deviation: 2.9932590410023514\n"
     ]
    }
   ],
   "source": [
    "from sklearn.neighbors import KNeighborsRegressor\n",
    "\n",
    "knn_reg = KNeighborsRegressor()\n",
    "knn_reg.fit(train, train_labels)\n",
    "\n",
    "area_predictions = knn_reg.predict(train)\n",
    "knn_mse = mean_squared_error(train_labels, area_predictions)\n",
    "knn_rmse = np.sqrt(knn_mse)\n",
    "print('knn_train_rmse', knn_rmse) #overfiiting\n",
    "\n",
    "scores = cross_val_score(knn_reg, train, train_labels, scoring='neg_mean_squared_error', cv=10)\n",
    "knn_rmse_scores = np.sqrt(-scores)\n",
    "explain_scores(knn_rmse_scores)\n"
   ]
  },
  {
   "cell_type": "code",
   "execution_count": 44,
   "metadata": {},
   "outputs": [
    {
     "data": {
      "text/plain": [
       "GridSearchCV(cv=5, estimator=RandomForestRegressor(),\n",
       "             param_grid=[{'bootstrap': [False, True],\n",
       "                          'max_features': [1, 2, 4, 6],\n",
       "                          'n_estimators': [75, 100, 125, 150, 200]}],\n",
       "             return_train_score=True, scoring='neg_mean_squared_error')"
      ]
     },
     "execution_count": 44,
     "metadata": {},
     "output_type": "execute_result"
    }
   ],
   "source": [
    "#lets improve the models with hyperparameter tuning\n",
    "\n",
    "from sklearn.model_selection import GridSearchCV\n",
    "\n",
    "param_grid = [{'bootstrap':[False,True],'n_estimators':[75,100,125,150,200], 'max_features':[1,2,4,6]}]\n",
    "\n",
    "forest_reg = RandomForestRegressor()\n",
    "\n",
    "grid_search = GridSearchCV(forest_reg, param_grid, cv=5, scoring='neg_mean_squared_error', return_train_score=True)\n",
    "\n",
    "grid_search.fit(train, train_labels)"
   ]
  },
  {
   "cell_type": "code",
   "execution_count": 45,
   "metadata": {},
   "outputs": [
    {
     "data": {
      "text/plain": [
       "{'bootstrap': True, 'max_features': 1, 'n_estimators': 200}"
      ]
     },
     "execution_count": 45,
     "metadata": {},
     "output_type": "execute_result"
    }
   ],
   "source": [
    "grid_search.best_params_ \n"
   ]
  },
  {
   "cell_type": "code",
   "execution_count": 46,
   "metadata": {},
   "outputs": [
    {
     "data": {
      "text/plain": [
       "RandomForestRegressor(max_features=1, n_estimators=200)"
      ]
     },
     "execution_count": 46,
     "metadata": {},
     "output_type": "execute_result"
    }
   ],
   "source": [
    "grid_search.best_estimator_"
   ]
  },
  {
   "cell_type": "code",
   "execution_count": 47,
   "metadata": {},
   "outputs": [
    {
     "data": {
      "text/plain": [
       "[(0.1676549940071283, 'DC'),\n",
       " (0.14409387915297978, 'ISI'),\n",
       " (0.11290112335904044, 'temp'),\n",
       " (0.10758754251142415, 'Y'),\n",
       " (0.10551990700485712, 'FFMC'),\n",
       " (0.09802649723965119, 'DMC'),\n",
       " (0.09141956456083705, 'X'),\n",
       " (0.02131984536579937, 'thu'),\n",
       " (0.017712104621612105, 'mon'),\n",
       " (0.016955671588268998, 'fri'),\n",
       " (0.016579610909216544, 'rain'),\n",
       " (0.014262151675355368, 'feb'),\n",
       " (0.013080155370046921, 'sun'),\n",
       " (0.01251672146192318, 'mar'),\n",
       " (0.012434745103558324, 'dec'),\n",
       " (0.009959656725793454, 'oct'),\n",
       " (0.007613930060811101, 'sep'),\n",
       " (0.007591906832877811, 'sat'),\n",
       " (0.005457861396289575, 'jul'),\n",
       " (0.005137983478699679, 'wind'),\n",
       " (0.004542862778078483, 'jun'),\n",
       " (0.0037062887797428773, 'aug'),\n",
       " (0.002016347559291545, 'apr'),\n",
       " (0.001908648456716647, 'RH')]"
      ]
     },
     "execution_count": 47,
     "metadata": {},
     "output_type": "execute_result"
    }
   ],
   "source": [
    "feature_importances = grid_search.best_estimator_.feature_importances_\n",
    "attributes = numerical_attributes + list(full_pipeline.named_transformers_.cat.categories_[0]) +\\\n",
    "             list(full_pipeline.named_transformers_.cat.categories_[1])\n",
    "    \n",
    "sorted(zip(feature_importances, attributes), reverse=True)"
   ]
  },
  {
   "cell_type": "code",
   "execution_count": 48,
   "metadata": {},
   "outputs": [
    {
     "data": {
      "image/png": "[encoded data removed]",
      "text/plain": [
       "<Figure size 864x576 with 1 Axes>"
      ]
     },
     "metadata": {
      "needs_background": "light"
     },
     "output_type": "display_data"
    }
   ],
   "source": [
    "indices = np.argsort(feature_importances)\n",
    "plt.figure(figsize=(12,8))\n",
    "plt.title('Feature Importances')\n",
    "plt.barh(range(len(indices)), feature_importances[indices], color='lightblue', align='center')\n",
    "plt.yticks(range(len(indices)), [attributes[i] for i in indices])\n",
    "plt.xlabel('Relative Importance')\n",
    "plt.show()"
   ]
  },
  {
   "cell_type": "code",
   "execution_count": 49,
   "metadata": {},
   "outputs": [
    {
     "data": {
      "text/plain": [
       "RandomizedSearchCV(cv=5, estimator=RandomForestRegressor(random_state=42),\n",
       "                   n_iter=40,\n",
       "                   param_distributions={'max_features': <scipy.stats._distn_infrastructure.rv_frozen object at 0x7f533eb52c40>,\n",
       "                                        'n_estimators': <scipy.stats._distn_infrastructure.rv_frozen object at 0x7f533a2a6d30>},\n",
       "                   random_state=42, scoring='neg_mean_squared_error')"
      ]
     },
     "execution_count": 49,
     "metadata": {},
     "output_type": "execute_result"
    }
   ],
   "source": [
    "\n",
    "\n",
    "#lets try with RandomizedSearchCV\n",
    "\n",
    "from sklearn.model_selection import RandomizedSearchCV\n",
    "from scipy.stats import randint\n",
    "\n",
    "param_dist = {'n_estimators': randint(low=10, high=250),\n",
    "              'max_features': randint(low=1, high=24),\n",
    "             }\n",
    "\n",
    "forest_reg = RandomForestRegressor(random_state=42)\n",
    "rnd_search = RandomizedSearchCV(forest_reg, param_dist, n_iter=40, cv=5, scoring='neg_mean_squared_error', random_state=42)\n",
    "\n",
    "rnd_search.fit(train, train_labels)\n",
    "\n"
   ]
  },
  {
   "cell_type": "code",
   "execution_count": 50,
   "metadata": {},
   "outputs": [
    {
     "data": {
      "text/plain": [
       "{'max_features': 3, 'n_estimators': 159}"
      ]
     },
     "execution_count": 50,
     "metadata": {},
     "output_type": "execute_result"
    }
   ],
   "source": [
    "rnd_search.best_params_\n"
   ]
  },
  {
   "cell_type": "code",
   "execution_count": 51,
   "metadata": {},
   "outputs": [
    {
     "data": {
      "text/plain": [
       "(14.801018452125936, 14.812723694003793)"
      ]
     },
     "execution_count": 51,
     "metadata": {},
     "output_type": "execute_result"
    }
   ],
   "source": [
    "np.sqrt(-rnd_search.best_score_), np.sqrt(-grid_search.best_score_) #both have very similar scores even though they came up with \n",
    "#different best parameters. which one to use, I leave to you explain\n",
    "\n"
   ]
  },
  {
   "cell_type": "code",
   "execution_count": 52,
   "metadata": {},
   "outputs": [
    {
     "name": "stdout",
     "output_type": "stream",
     "text": [
      "Fitting 5 folds for each of 21 candidates, totalling 105 fits\n"
     ]
    },
    {
     "name": "stderr",
     "output_type": "stream",
     "text": [
      "[Parallel(n_jobs=4)]: Using backend LokyBackend with 4 concurrent workers.\n",
      "[Parallel(n_jobs=4)]: Done  68 tasks      | elapsed:    2.0s\n",
      "[Parallel(n_jobs=4)]: Done 105 out of 105 | elapsed:    2.1s finished\n"
     ]
    },
    {
     "data": {
      "text/plain": [
       "14.279091003310288"
      ]
     },
     "execution_count": 52,
     "metadata": {},
     "output_type": "execute_result"
    }
   ],
   "source": [
    "#tuning svr\n",
    "\n",
    "param_grid = [{'kernel': ['linear'], 'C':[0.5,1,5,10,30]},\n",
    "              {'kernel':['rbf'], 'C':[5,10,15,20], 'gamma':[0.5,1.0,1.5,2.0]},\n",
    "             ]\n",
    "\n",
    "svm_reg = SVR()\n",
    "grid_search = GridSearchCV(svm_reg, param_grid, cv=5, scoring='neg_mean_squared_error', verbose=1, n_jobs=4)\n",
    "grid_search.fit(train,train_labels)\n",
    "\n",
    "negative_mse = grid_search.best_score_\n",
    "rmse = np.sqrt(-negative_mse)\n",
    "rmse\n"
   ]
  },
  {
   "cell_type": "code",
   "execution_count": 53,
   "metadata": {},
   "outputs": [
    {
     "data": {
      "text/plain": [
       "{'C': 10, 'gamma': 1.5, 'kernel': 'rbf'}"
      ]
     },
     "execution_count": 53,
     "metadata": {},
     "output_type": "execute_result"
    }
   ],
   "source": [
    "grid_search.best_params_"
   ]
  },
  {
   "cell_type": "code",
   "execution_count": 54,
   "metadata": {},
   "outputs": [
    {
     "name": "stdout",
     "output_type": "stream",
     "text": [
      "Fitting 5 folds for each of 100 candidates, totalling 500 fits\n"
     ]
    },
    {
     "name": "stderr",
     "output_type": "stream",
     "text": [
      "[Parallel(n_jobs=4)]: Using backend LokyBackend with 4 concurrent workers.\n",
      "[Parallel(n_jobs=4)]: Done 128 tasks      | elapsed:    2.9s\n",
      "[Parallel(n_jobs=4)]: Done 500 out of 500 | elapsed:   11.9s finished\n"
     ]
    },
    {
     "data": {
      "text/plain": [
       "14.28735230275134"
      ]
     },
     "execution_count": 54,
     "metadata": {},
     "output_type": "execute_result"
    }
   ],
   "source": [
    "\n",
    "\n",
    "from scipy.stats import expon, reciprocal\n",
    "\n",
    "param_dist = {'kernel':['linear','rbf'],\n",
    "                  'C':reciprocal(1,100),\n",
    "                  'gamma':expon(scale=1.0)}\n",
    "svm_reg = SVR()\n",
    "rnd_search = RandomizedSearchCV(svm_reg, param_distributions=param_dist, n_iter=100, cv=5,\n",
    "                               scoring='neg_mean_squared_error', verbose=2, n_jobs=4, random_state=42)\n",
    "rnd_search.fit(train, train_labels)\n",
    "\n",
    "negative_mse = rnd_search.best_score_\n",
    "rmse = np.sqrt(-negative_mse)\n",
    "rmse\n",
    "\n"
   ]
  },
  {
   "cell_type": "code",
   "execution_count": 55,
   "metadata": {},
   "outputs": [
    {
     "data": {
      "text/plain": [
       "{'C': 10.414253710293567, 'gamma': 1.0115156153275293, 'kernel': 'rbf'}"
      ]
     },
     "execution_count": 55,
     "metadata": {},
     "output_type": "execute_result"
    }
   ],
   "source": [
    "rnd_search.best_params_ #randomized search is able to find better parameters for rbf kernel in same number of iterations"
   ]
  },
  {
   "cell_type": "code",
   "execution_count": 56,
   "metadata": {},
   "outputs": [],
   "source": [
    "def indices_top_features(impotance, top):\n",
    "    return np.sort(np.argpartition(np.array(impotance), -top)[-top:])\n",
    "\n",
    "class TopFeatureSelector(BaseEstimator, TransformerMixin):\n",
    "    def __init__(self, feature_importnaces, top):\n",
    "        self.feature_importnaces = feature_importances\n",
    "        self.top = top\n",
    "    def fit(self, X, y=None):\n",
    "        self.feature_indcies_ = indices_top_features(self.feature_importnaces, self.top)\n",
    "        return self\n",
    "    def transform(self,X):\n",
    "        return X[:, self.feature_indcies_]\n",
    "\n"
   ]
  },
  {
   "cell_type": "code",
   "execution_count": 57,
   "metadata": {},
   "outputs": [],
   "source": [
    "data_prep_feature_seletion_pipe = Pipeline([('prep', full_pipeline),\n",
    "                                            ('fe_select', TopFeatureSelector(feature_importances,5)) #here am choosing top 5 features you can choose others depending on \n",
    "                                           ])                                                        #on what you want to keep  \n",
    "\n"
   ]
  },
  {
   "cell_type": "code",
   "execution_count": 58,
   "metadata": {},
   "outputs": [
    {
     "name": "stderr",
     "output_type": "stream",
     "text": [
      "<ipython-input-36-d31f347cf15a>:9: DeprecationWarning: in the future out of bounds indices will raise an error instead of being ignored by `numpy.delete`.\n",
      "  return np.delete(X,[data.columns.get_loc(i) for i in['X','Y','area']],axis=1)\n"
     ]
    },
    {
     "data": {
      "text/plain": [
       "(400, 5)"
      ]
     },
     "execution_count": 58,
     "metadata": {},
     "output_type": "execute_result"
    }
   ],
   "source": [
    "train_fe_selected = data_prep_feature_seletion_pipe.fit_transform(forest_fire)\n",
    "train_fe_selected.shape"
   ]
  },
  {
   "cell_type": "code",
   "execution_count": 59,
   "metadata": {},
   "outputs": [
    {
     "name": "stdout",
     "output_type": "stream",
     "text": [
      "knn_train_rmse 12.410643353186812\n",
      "Scores: [15.82385426 13.66648182 14.32809107 19.03754417 12.9068144  17.30360238\n",
      " 13.26014549 10.96969598 21.70251846  9.79899367]\n",
      "Mean: 14.879774169263836\n",
      "Standard deviation: 3.464077990130809\n"
     ]
    }
   ],
   "source": [
    "#now let's try knn with these reduced dimensions \n",
    "\n",
    "knn_reg = KNeighborsRegressor()\n",
    "knn_reg.fit(train_fe_selected, train_labels)\n",
    "\n",
    "area_predictions = knn_reg.predict(train_fe_selected)\n",
    "knn_mse = mean_squared_error(train_labels, area_predictions)\n",
    "knn_rmse = np.sqrt(knn_mse)\n",
    "print('knn_train_rmse', knn_rmse) #knn is generalizing well to crossvalidation set\n",
    "\n",
    "scores = cross_val_score(knn_reg, train_fe_selected, train_labels, scoring='neg_mean_squared_error', cv=10)\n",
    "knn_rmse_scores = np.sqrt(-scores)\n",
    "explain_scores(knn_rmse_scores)\n",
    "\n"
   ]
  },
  {
   "cell_type": "code",
   "execution_count": 60,
   "metadata": {},
   "outputs": [
    {
     "name": "stdout",
     "output_type": "stream",
     "text": [
      "Fitting 5 folds for each of 14 candidates, totalling 70 fits\n"
     ]
    },
    {
     "name": "stderr",
     "output_type": "stream",
     "text": [
      "[Parallel(n_jobs=4)]: Using backend LokyBackend with 4 concurrent workers.\n",
      "[Parallel(n_jobs=4)]: Done  70 out of  70 | elapsed:    0.1s finished\n"
     ]
    },
    {
     "data": {
      "text/plain": [
       "14.12515060556197"
      ]
     },
     "execution_count": 60,
     "metadata": {},
     "output_type": "execute_result"
    }
   ],
   "source": [
    "#lets tune KNN \n",
    "param_grid = {'weights': ['uniform', 'distance'], 'n_neighbors': list(range(1,36,5))}\n",
    "\n",
    "knn_reg= KNeighborsRegressor()\n",
    "knn_grid_search = GridSearchCV(knn_reg, param_grid, cv=5, scoring='neg_mean_squared_error', verbose=1, n_jobs=4)\n",
    "knn_grid_search.fit(train_fe_selected,train_labels)\n",
    "\n",
    "knn_negative_mse = knn_grid_search.best_score_\n",
    "knn_rmse = np.sqrt(-knn_negative_mse)\n",
    "knn_rmse\n"
   ]
  },
  {
   "cell_type": "code",
   "execution_count": 61,
   "metadata": {},
   "outputs": [
    {
     "name": "stdout",
     "output_type": "stream",
     "text": [
      "xgb_train_rmse 3.7570886839347826\n",
      "Scores: [15.7990063  21.8870192  14.44191762 18.604455   14.93293397 18.99703977\n",
      " 13.71249506 13.84434741 23.46942714 14.14965525]\n",
      "Mean: 16.983829672903596\n",
      "Standard deviation: 3.3681672099526914\n"
     ]
    }
   ],
   "source": [
    "#and for final model I want to try GBM\n",
    "from xgboost import XGBRegressor\n",
    "\n",
    "xgb_reg = XGBRegressor()\n",
    "xgb_reg.fit(train_fe_selected, train_labels)\n",
    "\n",
    "area_predictions = xgb_reg.predict(train_fe_selected)\n",
    "xgb_mse = mean_squared_error(train_labels, area_predictions)\n",
    "xgb_rmse = np.sqrt(xgb_mse)\n",
    "print('xgb_train_rmse', xgb_rmse) #overfitting\n",
    "\n",
    "scores = cross_val_score(xgb_reg, train_fe_selected, train_labels, scoring='neg_mean_squared_error', cv=10)\n",
    "xgb_rmse_scores = np.sqrt(-scores)\n",
    "explain_scores(xgb_rmse_scores)"
   ]
  },
  {
   "cell_type": "code",
   "execution_count": 62,
   "metadata": {},
   "outputs": [
    {
     "name": "stdout",
     "output_type": "stream",
     "text": [
      "Fitting 5 folds for each of 216 candidates, totalling 1080 fits\n"
     ]
    },
    {
     "name": "stderr",
     "output_type": "stream",
     "text": [
      "[Parallel(n_jobs=4)]: Using backend LokyBackend with 4 concurrent workers.\n",
      "[Parallel(n_jobs=4)]: Done 280 tasks      | elapsed:    1.2s\n"
     ]
    },
    {
     "name": "stdout",
     "output_type": "stream",
     "text": [
      "[10:44:09] WARNING: ../src/objective/regression_obj.cu:174: reg:linear is now deprecated in favor of reg:squarederror.\n",
      "[10:44:09] WARNING: ../src/learner.cc:516: \n",
      "Parameters: { silent } might not be used.\n",
      "\n",
      "  This may not be accurate due to some parameters are only used in language bindings but\n",
      "  passed down to XGBoost core.  Or some parameters are not used but slip through this\n",
      "  verification. Please open an issue if you find above cases.\n",
      "\n",
      "\n",
      "[10:44:09] WARNING: ../src/objective/regression_obj.cu:174: reg:linear is now deprecated in favor of reg:squarederror.\n"
     ]
    },
    {
     "name": "stderr",
     "output_type": "stream",
     "text": [
      "[Parallel(n_jobs=4)]: Done 1080 out of 1080 | elapsed:    3.8s finished\n"
     ]
    },
    {
     "data": {
      "text/plain": [
       "14.279091003310288"
      ]
     },
     "execution_count": 62,
     "metadata": {},
     "output_type": "execute_result"
    }
   ],
   "source": [
    "param_grid = {'objective':['reg:linear'],\n",
    "              'learning_rate': [0.02,0.03,0.04], \n",
    "              'max_depth': [1,2],\n",
    "              'min_child_weight': [2,3,4],\n",
    "              'silent': [1],\n",
    "              'subsample': [0.8],\n",
    "              'colsample_bytree': [0.2,0.3,0.4],\n",
    "              'n_estimators': [50,60,70,100]}\n",
    "\n",
    "xgb_reg = XGBRegressor()\n",
    "\n",
    "xgb_grid_search = GridSearchCV(xgb_reg, param_grid, cv=5, scoring='neg_mean_squared_error', verbose=1, n_jobs=4)\n",
    "xgb_grid_search.fit(train_fe_selected,train_labels)\n",
    "\n",
    "xgb_negative_mse = grid_search.best_score_\n",
    "xgb_rmse = np.sqrt(-xgb_negative_mse)\n",
    "xgb_rmse\n",
    "\n"
   ]
  },
  {
   "cell_type": "code",
   "execution_count": 63,
   "metadata": {},
   "outputs": [
    {
     "data": {
      "text/plain": [
       "{'colsample_bytree': 0.2,\n",
       " 'learning_rate': 0.03,\n",
       " 'max_depth': 1,\n",
       " 'min_child_weight': 2,\n",
       " 'n_estimators': 70,\n",
       " 'objective': 'reg:linear',\n",
       " 'silent': 1,\n",
       " 'subsample': 0.8}"
      ]
     },
     "execution_count": 63,
     "metadata": {},
     "output_type": "execute_result"
    }
   ],
   "source": [
    "xgb_grid_search.best_params_\n",
    "\n"
   ]
  },
  {
   "cell_type": "code",
   "execution_count": 64,
   "metadata": {},
   "outputs": [
    {
     "name": "stderr",
     "output_type": "stream",
     "text": [
      "<ipython-input-36-d31f347cf15a>:9: DeprecationWarning: in the future out of bounds indices will raise an error instead of being ignored by `numpy.delete`.\n",
      "  return np.delete(X,[data.columns.get_loc(i) for i in['X','Y','area']],axis=1)\n"
     ]
    },
    {
     "data": {
      "text/plain": [
       "13.5845575382228"
      ]
     },
     "execution_count": 64,
     "metadata": {},
     "output_type": "execute_result"
    }
   ],
   "source": [
    "final_model = knn_grid_search.best_estimator_\n",
    "\n",
    "X_test = st_test_set.drop(['area'], axis=1)\n",
    "y_test = st_test_set['area'].copy()\n",
    "\n",
    "X_test_prepared = data_prep_feature_seletion_pipe.transform(X_test)\n",
    "\n",
    "final_predictions = final_model.predict(X_test_prepared)\n",
    "\n",
    "final_mse = mean_squared_error(y_test, final_predictions)\n",
    "final_rmse = np.sqrt(final_mse)\n",
    "final_rmse"
   ]
  },
  {
   "cell_type": "code",
   "execution_count": 65,
   "metadata": {},
   "outputs": [],
   "source": [
    "prepare_select_and_predict_pipeline = Pipeline([\n",
    "    ('preparation', full_pipeline),\n",
    "    ('feature_selection', TopFeatureSelector(feature_importances, 5)),\n",
    "    ('final_model', XGBRegressor(**xgb_grid_search.best_params_))\n",
    "])\n"
   ]
  },
  {
   "cell_type": "code",
   "execution_count": 66,
   "metadata": {},
   "outputs": [
    {
     "name": "stdout",
     "output_type": "stream",
     "text": [
      "[10:45:31] WARNING: ../src/objective/regression_obj.cu:174: reg:linear is now deprecated in favor of reg:squarederror.\n",
      "[10:45:31] WARNING: ../src/learner.cc:516: \n",
      "Parameters: { silent } might not be used.\n",
      "\n",
      "  This may not be accurate due to some parameters are only used in language bindings but\n",
      "  passed down to XGBoost core.  Or some parameters are not used but slip through this\n",
      "  verification. Please open an issue if you find above cases.\n",
      "\n",
      "\n",
      "[10:45:31] WARNING: ../src/objective/regression_obj.cu:174: reg:linear is now deprecated in favor of reg:squarederror.\n"
     ]
    },
    {
     "name": "stderr",
     "output_type": "stream",
     "text": [
      "<ipython-input-36-d31f347cf15a>:9: DeprecationWarning: in the future out of bounds indices will raise an error instead of being ignored by `numpy.delete`.\n",
      "  return np.delete(X,[data.columns.get_loc(i) for i in['X','Y','area']],axis=1)\n"
     ]
    },
    {
     "data": {
      "text/plain": [
       "Pipeline(steps=[('preparation',\n",
       "                 ColumnTransformer(transformers=[('num',\n",
       "                                                  Pipeline(steps=[('imputer',\n",
       "                                                                   SimpleImputer(strategy='median')),\n",
       "                                                                  ('drop_attributes',\n",
       "                                                                   AttributeDeleter()),\n",
       "                                                                  ('std_scaler',\n",
       "                                                                   StandardScaler())]),\n",
       "                                                  ['X', 'Y', 'FFMC', 'DMC',\n",
       "                                                   'DC', 'ISI', 'temp', 'RH',\n",
       "                                                   'wind', 'rain']),\n",
       "                                                 ('cat', OneHotEncoder(),\n",
       "                                                  ['month', 'day'])])),\n",
       "                ('feature_selection',\n",
       "                 TopFeatureSelector(fe...\n",
       "                              importance_type='gain',\n",
       "                              interaction_constraints='', learning_rate=0.03,\n",
       "                              max_delta_step=0, max_depth=1, min_child_weight=2,\n",
       "                              missing=nan, monotone_constraints='()',\n",
       "                              n_estimators=70, n_jobs=0, num_parallel_tree=1,\n",
       "                              objective='reg:linear', random_state=0,\n",
       "                              reg_alpha=0, reg_lambda=1, scale_pos_weight=1,\n",
       "                              silent=1, subsample=0.8, tree_method='exact',\n",
       "                              validate_parameters=1, verbosity=None))])"
      ]
     },
     "execution_count": 66,
     "metadata": {},
     "output_type": "execute_result"
    }
   ],
   "source": [
    "prepare_select_and_predict_pipeline.fit(forest_fire,forest_fire_labels)\n",
    "\n"
   ]
  },
  {
   "cell_type": "code",
   "execution_count": 67,
   "metadata": {},
   "outputs": [
    {
     "name": "stderr",
     "output_type": "stream",
     "text": [
      "<ipython-input-36-d31f347cf15a>:9: DeprecationWarning: in the future out of bounds indices will raise an error instead of being ignored by `numpy.delete`.\n",
      "  return np.delete(X,[data.columns.get_loc(i) for i in['X','Y','area']],axis=1)\n"
     ]
    }
   ],
   "source": [
    "final_predictions = prepare_select_and_predict_pipeline.predict(X_test)"
   ]
  },
  {
   "cell_type": "code",
   "execution_count": 68,
   "metadata": {},
   "outputs": [
    {
     "name": "stdout",
     "output_type": "stream",
     "text": [
      "Predictions:\t [4.5554733 4.5554733 4.705267  5.3368034]\n",
      "Labels:\t\t [8.12, 1.58, 13.7, 4.41]\n"
     ]
    },
    {
     "name": "stderr",
     "output_type": "stream",
     "text": [
      "<ipython-input-36-d31f347cf15a>:9: DeprecationWarning: in the future out of bounds indices will raise an error instead of being ignored by `numpy.delete`.\n",
      "  return np.delete(X,[data.columns.get_loc(i) for i in['X','Y','area']],axis=1)\n"
     ]
    }
   ],
   "source": [
    "some_data = forest_fire[:4]\n",
    "some_labels = forest_fire_labels[:4]\n",
    "\n",
    "print(\"Predictions:\\t\", prepare_select_and_predict_pipeline.predict(some_data))\n",
    "print(\"Labels:\\t\\t\", list(some_labels))"
   ]
  },
  {
   "cell_type": "code",
   "execution_count": 69,
   "metadata": {},
   "outputs": [
    {
     "data": {
      "text/plain": [
       "array([ 4.7743105, 18.7834699])"
      ]
     },
     "execution_count": 69,
     "metadata": {},
     "output_type": "execute_result"
    }
   ],
   "source": [
    "#Confidence Interval of our Predictions will help us better understand the ouput of our model\n",
    "from scipy import stats\n",
    "\n",
    "confidence = 0.95\n",
    "squared_errors = (final_predictions-y_test)**2\n",
    "np.sqrt(stats.t.interval(confidence, len(squared_errors)-1, loc=squared_errors.mean(), scale=stats.sem(squared_errors)))\n",
    "\n"
   ]
  },
  {
   "cell_type": "code",
   "execution_count": null,
   "metadata": {},
   "outputs": [],
   "source": []
  }
 ],
 "metadata": {
  "kernelspec": {
   "display_name": "Python 3.8.6 64-bit",
   "language": "python",
   "name": "python38664bitdc5bcfc3f08f4be2983655d129be0c8b"
  },
  "language_info": {
   "codemirror_mode": {
    "name": "ipython",
    "version": 3
   },
   "file_extension": ".py",
   "mimetype": "text/x-python",
   "name": "python",
   "nbconvert_exporter": "python",
   "pygments_lexer": "ipython3",
   "version": "3.8.6"
  }
 },
 "nbformat": 4,
 "nbformat_minor": 4
}
