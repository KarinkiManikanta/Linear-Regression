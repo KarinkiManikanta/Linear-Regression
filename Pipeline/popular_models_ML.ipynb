{
  "nbformat": 4,
  "nbformat_minor": 0,
  "metadata": {
    "colab": {
      "name": "popular models_ML.ipynb",
      "provenance": []
    },
    "kernelspec": {
      "name": "python3",
      "display_name": "Python 3"
    },
    "language_info": {
      "name": "python"
    },
    "accelerator": "TPU"
  },
  "cells": [
    {
      "cell_type": "code",
      "metadata": {
        "id": "3f0liPhfn83D"
      },
      "source": [
        "import numpy as np\n",
        "import pandas as pd\n",
        "import matplotlib.pyplot as plt\n",
        "%matplotlib inline\n"
      ],
      "execution_count": 1,
      "outputs": []
    },
    {
      "cell_type": "code",
      "metadata": {
        "id": "iK5ZtnDFoHKD"
      },
      "source": [
        "# preprocessing\n",
        "from sklearn.preprocessing import LabelEncoder\n",
        "from sklearn.model_selection import train_test_split, cross_val_score, GridSearchCV\n",
        "import pandas_profiling as pp"
      ],
      "execution_count": 2,
      "outputs": []
    },
    {
      "cell_type": "code",
      "metadata": {
        "id": "9a9n2paloRDL"
      },
      "source": [
        "# models\n",
        "from sklearn.linear_model import LogisticRegression, Perceptron, RidgeClassifier, SGDClassifier\n",
        "from sklearn.svm import SVC, LinearSVC\n",
        "from sklearn.ensemble import RandomForestClassifier, GradientBoostingClassifier, ExtraTreesClassifier \n",
        "from sklearn.ensemble import BaggingClassifier, AdaBoostClassifier, VotingClassifier \n",
        "from sklearn.neighbors import KNeighborsClassifier\n",
        "from sklearn.naive_bayes import GaussianNB\n",
        "from sklearn.tree import DecisionTreeClassifier\n",
        "from sklearn import metrics\n",
        "import xgboost as xgb\n",
        "from xgboost import XGBClassifier\n",
        "import lightgbm as lgb\n",
        "from lightgbm import LGBMClassifier"
      ],
      "execution_count": 3,
      "outputs": []
    },
    {
      "cell_type": "code",
      "metadata": {
        "id": "2gBulj9MoWCS"
      },
      "source": [
        "# NN models\n",
        "import keras\n",
        "from keras.models import Sequential\n",
        "from keras.layers import Dense, Dropout\n",
        "from keras import optimizers\n",
        "from keras.wrappers.scikit_learn import KerasClassifier\n",
        "from keras.callbacks import EarlyStopping, ModelCheckpoint"
      ],
      "execution_count": 4,
      "outputs": []
    },
    {
      "cell_type": "code",
      "metadata": {
        "id": "JbTQbyljoalZ"
      },
      "source": [
        "# model tuning\n",
        "from hyperopt import STATUS_OK, Trials, fmin, hp, tpe, space_eval\n",
        "\n",
        "# import warnings filter\n",
        "from warnings import simplefilter\n",
        "# ignore all future warnings\n",
        "simplefilter(action='ignore', category=FutureWarning)"
      ],
      "execution_count": 5,
      "outputs": []
    },
    {
      "cell_type": "code",
      "metadata": {
        "id": "FuscW9Ewoeof"
      },
      "source": [
        "data = pd.read_csv(\"/content/sample_data/column_2C_weka.csv\")"
      ],
      "execution_count": 6,
      "outputs": []
    },
    {
      "cell_type": "code",
      "metadata": {
        "colab": {
          "base_uri": "https://localhost:8080/",
          "height": 241
        },
        "id": "t3NpKPV4oo1X",
        "outputId": "4c2a424f-3b1b-4756-b269-e599b9c1ef14"
      },
      "source": [
        "data.head()"
      ],
      "execution_count": 7,
      "outputs": [
        {
          "output_type": "execute_result",
          "data": {
            "text/html": [
              "<div>\n",
              "<style scoped>\n",
              "    .dataframe tbody tr th:only-of-type {\n",
              "        vertical-align: middle;\n",
              "    }\n",
              "\n",
              "    .dataframe tbody tr th {\n",
              "        vertical-align: top;\n",
              "    }\n",
              "\n",
              "    .dataframe thead th {\n",
              "        text-align: right;\n",
              "    }\n",
              "</style>\n",
              "<table border=\"1\" class=\"dataframe\">\n",
              "  <thead>\n",
              "    <tr style=\"text-align: right;\">\n",
              "      <th></th>\n",
              "      <th>pelvic_incidence</th>\n",
              "      <th>pelvic_tilt numeric</th>\n",
              "      <th>lumbar_lordosis_angle</th>\n",
              "      <th>sacral_slope</th>\n",
              "      <th>pelvic_radius</th>\n",
              "      <th>degree_spondylolisthesis</th>\n",
              "      <th>class</th>\n",
              "    </tr>\n",
              "  </thead>\n",
              "  <tbody>\n",
              "    <tr>\n",
              "      <th>0</th>\n",
              "      <td>63.027818</td>\n",
              "      <td>22.552586</td>\n",
              "      <td>39.609117</td>\n",
              "      <td>40.475232</td>\n",
              "      <td>98.672917</td>\n",
              "      <td>-0.254400</td>\n",
              "      <td>Abnormal</td>\n",
              "    </tr>\n",
              "    <tr>\n",
              "      <th>1</th>\n",
              "      <td>39.056951</td>\n",
              "      <td>10.060991</td>\n",
              "      <td>25.015378</td>\n",
              "      <td>28.995960</td>\n",
              "      <td>114.405425</td>\n",
              "      <td>4.564259</td>\n",
              "      <td>Abnormal</td>\n",
              "    </tr>\n",
              "    <tr>\n",
              "      <th>2</th>\n",
              "      <td>68.832021</td>\n",
              "      <td>22.218482</td>\n",
              "      <td>50.092194</td>\n",
              "      <td>46.613539</td>\n",
              "      <td>105.985135</td>\n",
              "      <td>-3.530317</td>\n",
              "      <td>Abnormal</td>\n",
              "    </tr>\n",
              "    <tr>\n",
              "      <th>3</th>\n",
              "      <td>69.297008</td>\n",
              "      <td>24.652878</td>\n",
              "      <td>44.311238</td>\n",
              "      <td>44.644130</td>\n",
              "      <td>101.868495</td>\n",
              "      <td>11.211523</td>\n",
              "      <td>Abnormal</td>\n",
              "    </tr>\n",
              "    <tr>\n",
              "      <th>4</th>\n",
              "      <td>49.712859</td>\n",
              "      <td>9.652075</td>\n",
              "      <td>28.317406</td>\n",
              "      <td>40.060784</td>\n",
              "      <td>108.168725</td>\n",
              "      <td>7.918501</td>\n",
              "      <td>Abnormal</td>\n",
              "    </tr>\n",
              "  </tbody>\n",
              "</table>\n",
              "</div>"
            ],
            "text/plain": [
              "   pelvic_incidence  pelvic_tilt numeric  ...  degree_spondylolisthesis     class\n",
              "0         63.027818            22.552586  ...                 -0.254400  Abnormal\n",
              "1         39.056951            10.060991  ...                  4.564259  Abnormal\n",
              "2         68.832021            22.218482  ...                 -3.530317  Abnormal\n",
              "3         69.297008            24.652878  ...                 11.211523  Abnormal\n",
              "4         49.712859             9.652075  ...                  7.918501  Abnormal\n",
              "\n",
              "[5 rows x 7 columns]"
            ]
          },
          "metadata": {
            "tags": []
          },
          "execution_count": 7
        }
      ]
    },
    {
      "cell_type": "code",
      "metadata": {
        "colab": {
          "base_uri": "https://localhost:8080/",
          "height": 241
        },
        "id": "po12oMzkorxY",
        "outputId": "af5dda17-6d12-48e9-866d-ce1aeed255f3"
      },
      "source": [
        "data.tail()"
      ],
      "execution_count": 8,
      "outputs": [
        {
          "output_type": "execute_result",
          "data": {
            "text/html": [
              "<div>\n",
              "<style scoped>\n",
              "    .dataframe tbody tr th:only-of-type {\n",
              "        vertical-align: middle;\n",
              "    }\n",
              "\n",
              "    .dataframe tbody tr th {\n",
              "        vertical-align: top;\n",
              "    }\n",
              "\n",
              "    .dataframe thead th {\n",
              "        text-align: right;\n",
              "    }\n",
              "</style>\n",
              "<table border=\"1\" class=\"dataframe\">\n",
              "  <thead>\n",
              "    <tr style=\"text-align: right;\">\n",
              "      <th></th>\n",
              "      <th>pelvic_incidence</th>\n",
              "      <th>pelvic_tilt numeric</th>\n",
              "      <th>lumbar_lordosis_angle</th>\n",
              "      <th>sacral_slope</th>\n",
              "      <th>pelvic_radius</th>\n",
              "      <th>degree_spondylolisthesis</th>\n",
              "      <th>class</th>\n",
              "    </tr>\n",
              "  </thead>\n",
              "  <tbody>\n",
              "    <tr>\n",
              "      <th>305</th>\n",
              "      <td>47.903565</td>\n",
              "      <td>13.616688</td>\n",
              "      <td>36.000000</td>\n",
              "      <td>34.286877</td>\n",
              "      <td>117.449062</td>\n",
              "      <td>-4.245395</td>\n",
              "      <td>Normal</td>\n",
              "    </tr>\n",
              "    <tr>\n",
              "      <th>306</th>\n",
              "      <td>53.936748</td>\n",
              "      <td>20.721496</td>\n",
              "      <td>29.220534</td>\n",
              "      <td>33.215251</td>\n",
              "      <td>114.365845</td>\n",
              "      <td>-0.421010</td>\n",
              "      <td>Normal</td>\n",
              "    </tr>\n",
              "    <tr>\n",
              "      <th>307</th>\n",
              "      <td>61.446597</td>\n",
              "      <td>22.694968</td>\n",
              "      <td>46.170347</td>\n",
              "      <td>38.751628</td>\n",
              "      <td>125.670725</td>\n",
              "      <td>-2.707880</td>\n",
              "      <td>Normal</td>\n",
              "    </tr>\n",
              "    <tr>\n",
              "      <th>308</th>\n",
              "      <td>45.252792</td>\n",
              "      <td>8.693157</td>\n",
              "      <td>41.583126</td>\n",
              "      <td>36.559635</td>\n",
              "      <td>118.545842</td>\n",
              "      <td>0.214750</td>\n",
              "      <td>Normal</td>\n",
              "    </tr>\n",
              "    <tr>\n",
              "      <th>309</th>\n",
              "      <td>33.841641</td>\n",
              "      <td>5.073991</td>\n",
              "      <td>36.641233</td>\n",
              "      <td>28.767649</td>\n",
              "      <td>123.945244</td>\n",
              "      <td>-0.199249</td>\n",
              "      <td>Normal</td>\n",
              "    </tr>\n",
              "  </tbody>\n",
              "</table>\n",
              "</div>"
            ],
            "text/plain": [
              "     pelvic_incidence  pelvic_tilt numeric  ...  degree_spondylolisthesis   class\n",
              "305         47.903565            13.616688  ...                 -4.245395  Normal\n",
              "306         53.936748            20.721496  ...                 -0.421010  Normal\n",
              "307         61.446597            22.694968  ...                 -2.707880  Normal\n",
              "308         45.252792             8.693157  ...                  0.214750  Normal\n",
              "309         33.841641             5.073991  ...                 -0.199249  Normal\n",
              "\n",
              "[5 rows x 7 columns]"
            ]
          },
          "metadata": {
            "tags": []
          },
          "execution_count": 8
        }
      ]
    },
    {
      "cell_type": "code",
      "metadata": {
        "colab": {
          "base_uri": "https://localhost:8080/"
        },
        "id": "vpwsz37Totej",
        "outputId": "fd22978a-cab8-4185-c59d-f0710ee72a64"
      },
      "source": [
        "data.info()"
      ],
      "execution_count": 9,
      "outputs": [
        {
          "output_type": "stream",
          "text": [
            "<class 'pandas.core.frame.DataFrame'>\n",
            "RangeIndex: 310 entries, 0 to 309\n",
            "Data columns (total 7 columns):\n",
            " #   Column                    Non-Null Count  Dtype  \n",
            "---  ------                    --------------  -----  \n",
            " 0   pelvic_incidence          310 non-null    float64\n",
            " 1   pelvic_tilt numeric       310 non-null    float64\n",
            " 2   lumbar_lordosis_angle     310 non-null    float64\n",
            " 3   sacral_slope              310 non-null    float64\n",
            " 4   pelvic_radius             310 non-null    float64\n",
            " 5   degree_spondylolisthesis  310 non-null    float64\n",
            " 6   class                     310 non-null    object \n",
            "dtypes: float64(6), object(1)\n",
            "memory usage: 17.1+ KB\n"
          ],
          "name": "stdout"
        }
      ]
    },
    {
      "cell_type": "code",
      "metadata": {
        "colab": {
          "base_uri": "https://localhost:8080/",
          "height": 334
        },
        "id": "eoACa-DsovlI",
        "outputId": "20570cb7-e552-4840-b5f2-9fac6d8bbcad"
      },
      "source": [
        "data.describe()"
      ],
      "execution_count": 10,
      "outputs": [
        {
          "output_type": "execute_result",
          "data": {
            "text/html": [
              "<div>\n",
              "<style scoped>\n",
              "    .dataframe tbody tr th:only-of-type {\n",
              "        vertical-align: middle;\n",
              "    }\n",
              "\n",
              "    .dataframe tbody tr th {\n",
              "        vertical-align: top;\n",
              "    }\n",
              "\n",
              "    .dataframe thead th {\n",
              "        text-align: right;\n",
              "    }\n",
              "</style>\n",
              "<table border=\"1\" class=\"dataframe\">\n",
              "  <thead>\n",
              "    <tr style=\"text-align: right;\">\n",
              "      <th></th>\n",
              "      <th>pelvic_incidence</th>\n",
              "      <th>pelvic_tilt numeric</th>\n",
              "      <th>lumbar_lordosis_angle</th>\n",
              "      <th>sacral_slope</th>\n",
              "      <th>pelvic_radius</th>\n",
              "      <th>degree_spondylolisthesis</th>\n",
              "    </tr>\n",
              "  </thead>\n",
              "  <tbody>\n",
              "    <tr>\n",
              "      <th>count</th>\n",
              "      <td>310.000000</td>\n",
              "      <td>310.000000</td>\n",
              "      <td>310.000000</td>\n",
              "      <td>310.000000</td>\n",
              "      <td>310.000000</td>\n",
              "      <td>310.000000</td>\n",
              "    </tr>\n",
              "    <tr>\n",
              "      <th>mean</th>\n",
              "      <td>60.496653</td>\n",
              "      <td>17.542822</td>\n",
              "      <td>51.930930</td>\n",
              "      <td>42.953831</td>\n",
              "      <td>117.920655</td>\n",
              "      <td>26.296694</td>\n",
              "    </tr>\n",
              "    <tr>\n",
              "      <th>std</th>\n",
              "      <td>17.236520</td>\n",
              "      <td>10.008330</td>\n",
              "      <td>18.554064</td>\n",
              "      <td>13.423102</td>\n",
              "      <td>13.317377</td>\n",
              "      <td>37.559027</td>\n",
              "    </tr>\n",
              "    <tr>\n",
              "      <th>min</th>\n",
              "      <td>26.147921</td>\n",
              "      <td>-6.554948</td>\n",
              "      <td>14.000000</td>\n",
              "      <td>13.366931</td>\n",
              "      <td>70.082575</td>\n",
              "      <td>-11.058179</td>\n",
              "    </tr>\n",
              "    <tr>\n",
              "      <th>25%</th>\n",
              "      <td>46.430294</td>\n",
              "      <td>10.667069</td>\n",
              "      <td>37.000000</td>\n",
              "      <td>33.347122</td>\n",
              "      <td>110.709196</td>\n",
              "      <td>1.603727</td>\n",
              "    </tr>\n",
              "    <tr>\n",
              "      <th>50%</th>\n",
              "      <td>58.691038</td>\n",
              "      <td>16.357689</td>\n",
              "      <td>49.562398</td>\n",
              "      <td>42.404912</td>\n",
              "      <td>118.268178</td>\n",
              "      <td>11.767934</td>\n",
              "    </tr>\n",
              "    <tr>\n",
              "      <th>75%</th>\n",
              "      <td>72.877696</td>\n",
              "      <td>22.120395</td>\n",
              "      <td>63.000000</td>\n",
              "      <td>52.695888</td>\n",
              "      <td>125.467674</td>\n",
              "      <td>41.287352</td>\n",
              "    </tr>\n",
              "    <tr>\n",
              "      <th>max</th>\n",
              "      <td>129.834041</td>\n",
              "      <td>49.431864</td>\n",
              "      <td>125.742385</td>\n",
              "      <td>121.429566</td>\n",
              "      <td>163.071041</td>\n",
              "      <td>418.543082</td>\n",
              "    </tr>\n",
              "  </tbody>\n",
              "</table>\n",
              "</div>"
            ],
            "text/plain": [
              "       pelvic_incidence  ...  degree_spondylolisthesis\n",
              "count        310.000000  ...                310.000000\n",
              "mean          60.496653  ...                 26.296694\n",
              "std           17.236520  ...                 37.559027\n",
              "min           26.147921  ...                -11.058179\n",
              "25%           46.430294  ...                  1.603727\n",
              "50%           58.691038  ...                 11.767934\n",
              "75%           72.877696  ...                 41.287352\n",
              "max          129.834041  ...                418.543082\n",
              "\n",
              "[8 rows x 6 columns]"
            ]
          },
          "metadata": {
            "tags": []
          },
          "execution_count": 10
        }
      ]
    },
    {
      "cell_type": "code",
      "metadata": {
        "colab": {
          "base_uri": "https://localhost:8080/"
        },
        "id": "R0O8AcnjoxMy",
        "outputId": "be995791-8a48-4ba3-ea51-d1eab804e082"
      },
      "source": [
        "data.isna().sum()"
      ],
      "execution_count": 11,
      "outputs": [
        {
          "output_type": "execute_result",
          "data": {
            "text/plain": [
              "pelvic_incidence            0\n",
              "pelvic_tilt numeric         0\n",
              "lumbar_lordosis_angle       0\n",
              "sacral_slope                0\n",
              "pelvic_radius               0\n",
              "degree_spondylolisthesis    0\n",
              "class                       0\n",
              "dtype: int64"
            ]
          },
          "metadata": {
            "tags": []
          },
          "execution_count": 11
        }
      ]
    },
    {
      "cell_type": "code",
      "metadata": {
        "colab": {
          "base_uri": "https://localhost:8080/"
        },
        "id": "vnIY3-rbozSi",
        "outputId": "aece631d-87c8-4119-c31c-865e64d29f8c"
      },
      "source": [
        "data.shape"
      ],
      "execution_count": 12,
      "outputs": [
        {
          "output_type": "execute_result",
          "data": {
            "text/plain": [
              "(310, 7)"
            ]
          },
          "metadata": {
            "tags": []
          },
          "execution_count": 12
        }
      ]
    },
    {
      "cell_type": "code",
      "metadata": {
        "colab": {
          "base_uri": "https://localhost:8080/"
        },
        "id": "2TAtazXEo1je",
        "outputId": "10aff7fe-960a-4702-ac48-19500c0210a2"
      },
      "source": [
        "data.columns"
      ],
      "execution_count": 13,
      "outputs": [
        {
          "output_type": "execute_result",
          "data": {
            "text/plain": [
              "Index(['pelvic_incidence', 'pelvic_tilt numeric', 'lumbar_lordosis_angle',\n",
              "       'sacral_slope', 'pelvic_radius', 'degree_spondylolisthesis', 'class'],\n",
              "      dtype='object')"
            ]
          },
          "metadata": {
            "tags": []
          },
          "execution_count": 13
        }
      ]
    },
    {
      "cell_type": "code",
      "metadata": {
        "colab": {
          "base_uri": "https://localhost:8080/",
          "height": 456
        },
        "id": "h07dbEHBpA95",
        "outputId": "cc18d4e4-48e0-4dd5-ebe9-d18818e8af83"
      },
      "source": [
        "data.drop(columns=['degree_spondylolisthesis'])"
      ],
      "execution_count": 14,
      "outputs": [
        {
          "output_type": "execute_result",
          "data": {
            "text/html": [
              "<div>\n",
              "<style scoped>\n",
              "    .dataframe tbody tr th:only-of-type {\n",
              "        vertical-align: middle;\n",
              "    }\n",
              "\n",
              "    .dataframe tbody tr th {\n",
              "        vertical-align: top;\n",
              "    }\n",
              "\n",
              "    .dataframe thead th {\n",
              "        text-align: right;\n",
              "    }\n",
              "</style>\n",
              "<table border=\"1\" class=\"dataframe\">\n",
              "  <thead>\n",
              "    <tr style=\"text-align: right;\">\n",
              "      <th></th>\n",
              "      <th>pelvic_incidence</th>\n",
              "      <th>pelvic_tilt numeric</th>\n",
              "      <th>lumbar_lordosis_angle</th>\n",
              "      <th>sacral_slope</th>\n",
              "      <th>pelvic_radius</th>\n",
              "      <th>class</th>\n",
              "    </tr>\n",
              "  </thead>\n",
              "  <tbody>\n",
              "    <tr>\n",
              "      <th>0</th>\n",
              "      <td>63.027818</td>\n",
              "      <td>22.552586</td>\n",
              "      <td>39.609117</td>\n",
              "      <td>40.475232</td>\n",
              "      <td>98.672917</td>\n",
              "      <td>Abnormal</td>\n",
              "    </tr>\n",
              "    <tr>\n",
              "      <th>1</th>\n",
              "      <td>39.056951</td>\n",
              "      <td>10.060991</td>\n",
              "      <td>25.015378</td>\n",
              "      <td>28.995960</td>\n",
              "      <td>114.405425</td>\n",
              "      <td>Abnormal</td>\n",
              "    </tr>\n",
              "    <tr>\n",
              "      <th>2</th>\n",
              "      <td>68.832021</td>\n",
              "      <td>22.218482</td>\n",
              "      <td>50.092194</td>\n",
              "      <td>46.613539</td>\n",
              "      <td>105.985135</td>\n",
              "      <td>Abnormal</td>\n",
              "    </tr>\n",
              "    <tr>\n",
              "      <th>3</th>\n",
              "      <td>69.297008</td>\n",
              "      <td>24.652878</td>\n",
              "      <td>44.311238</td>\n",
              "      <td>44.644130</td>\n",
              "      <td>101.868495</td>\n",
              "      <td>Abnormal</td>\n",
              "    </tr>\n",
              "    <tr>\n",
              "      <th>4</th>\n",
              "      <td>49.712859</td>\n",
              "      <td>9.652075</td>\n",
              "      <td>28.317406</td>\n",
              "      <td>40.060784</td>\n",
              "      <td>108.168725</td>\n",
              "      <td>Abnormal</td>\n",
              "    </tr>\n",
              "    <tr>\n",
              "      <th>...</th>\n",
              "      <td>...</td>\n",
              "      <td>...</td>\n",
              "      <td>...</td>\n",
              "      <td>...</td>\n",
              "      <td>...</td>\n",
              "      <td>...</td>\n",
              "    </tr>\n",
              "    <tr>\n",
              "      <th>305</th>\n",
              "      <td>47.903565</td>\n",
              "      <td>13.616688</td>\n",
              "      <td>36.000000</td>\n",
              "      <td>34.286877</td>\n",
              "      <td>117.449062</td>\n",
              "      <td>Normal</td>\n",
              "    </tr>\n",
              "    <tr>\n",
              "      <th>306</th>\n",
              "      <td>53.936748</td>\n",
              "      <td>20.721496</td>\n",
              "      <td>29.220534</td>\n",
              "      <td>33.215251</td>\n",
              "      <td>114.365845</td>\n",
              "      <td>Normal</td>\n",
              "    </tr>\n",
              "    <tr>\n",
              "      <th>307</th>\n",
              "      <td>61.446597</td>\n",
              "      <td>22.694968</td>\n",
              "      <td>46.170347</td>\n",
              "      <td>38.751628</td>\n",
              "      <td>125.670725</td>\n",
              "      <td>Normal</td>\n",
              "    </tr>\n",
              "    <tr>\n",
              "      <th>308</th>\n",
              "      <td>45.252792</td>\n",
              "      <td>8.693157</td>\n",
              "      <td>41.583126</td>\n",
              "      <td>36.559635</td>\n",
              "      <td>118.545842</td>\n",
              "      <td>Normal</td>\n",
              "    </tr>\n",
              "    <tr>\n",
              "      <th>309</th>\n",
              "      <td>33.841641</td>\n",
              "      <td>5.073991</td>\n",
              "      <td>36.641233</td>\n",
              "      <td>28.767649</td>\n",
              "      <td>123.945244</td>\n",
              "      <td>Normal</td>\n",
              "    </tr>\n",
              "  </tbody>\n",
              "</table>\n",
              "<p>310 rows × 6 columns</p>\n",
              "</div>"
            ],
            "text/plain": [
              "     pelvic_incidence  pelvic_tilt numeric  ...  pelvic_radius     class\n",
              "0           63.027818            22.552586  ...      98.672917  Abnormal\n",
              "1           39.056951            10.060991  ...     114.405425  Abnormal\n",
              "2           68.832021            22.218482  ...     105.985135  Abnormal\n",
              "3           69.297008            24.652878  ...     101.868495  Abnormal\n",
              "4           49.712859             9.652075  ...     108.168725  Abnormal\n",
              "..                ...                  ...  ...            ...       ...\n",
              "305         47.903565            13.616688  ...     117.449062    Normal\n",
              "306         53.936748            20.721496  ...     114.365845    Normal\n",
              "307         61.446597            22.694968  ...     125.670725    Normal\n",
              "308         45.252792             8.693157  ...     118.545842    Normal\n",
              "309         33.841641             5.073991  ...     123.945244    Normal\n",
              "\n",
              "[310 rows x 6 columns]"
            ]
          },
          "metadata": {
            "tags": []
          },
          "execution_count": 14
        }
      ]
    },
    {
      "cell_type": "markdown",
      "metadata": {
        "id": "rMlYzIv0pbxi"
      },
      "source": [
        "EDA"
      ]
    },
    {
      "cell_type": "code",
      "metadata": {
        "colab": {
          "base_uri": "https://localhost:8080/"
        },
        "id": "hW8mDZejqAEm",
        "outputId": "3d6db122-ae8c-4f03-eb45-90fd4883cafc"
      },
      "source": [
        "!pip install pandas"
      ],
      "execution_count": 15,
      "outputs": [
        {
          "output_type": "stream",
          "text": [
            "Requirement already satisfied: pandas in /usr/local/lib/python3.7/dist-packages (1.1.5)\n",
            "Requirement already satisfied: python-dateutil>=2.7.3 in /usr/local/lib/python3.7/dist-packages (from pandas) (2.8.1)\n",
            "Requirement already satisfied: numpy>=1.15.4 in /usr/local/lib/python3.7/dist-packages (from pandas) (1.19.5)\n",
            "Requirement already satisfied: pytz>=2017.2 in /usr/local/lib/python3.7/dist-packages (from pandas) (2018.9)\n",
            "Requirement already satisfied: six>=1.5 in /usr/local/lib/python3.7/dist-packages (from python-dateutil>=2.7.3->pandas) (1.15.0)\n"
          ],
          "name": "stdout"
        }
      ]
    },
    {
      "cell_type": "markdown",
      "metadata": {
        "id": "glioV8TlqMy4"
      },
      "source": [
        "# Preparing to modeling \n",
        "\n",
        "Encoding categorical features"
      ]
    },
    {
      "cell_type": "code",
      "metadata": {
        "colab": {
          "base_uri": "https://localhost:8080/"
        },
        "id": "Dq-P9gAPpEHm",
        "outputId": "6904230a-74c0-41fd-cb57-5f7ba34e6a7c"
      },
      "source": [
        "# Determination categorical features\n",
        "numerics = ['int8', 'int16', 'int32', 'int64', 'float16', 'float32', 'float64']\n",
        "categorical_columns = []\n",
        "features = data.columns.values.tolist()\n",
        "for col in features:\n",
        "    if data[col].dtype in numerics: continue\n",
        "    categorical_columns.append(col)\n",
        "categorical_columns"
      ],
      "execution_count": 16,
      "outputs": [
        {
          "output_type": "execute_result",
          "data": {
            "text/plain": [
              "['class']"
            ]
          },
          "metadata": {
            "tags": []
          },
          "execution_count": 16
        }
      ]
    },
    {
      "cell_type": "code",
      "metadata": {
        "id": "AQsRhw3qpHUo"
      },
      "source": [
        "# Encoding categorical features\n",
        "for col in categorical_columns:\n",
        "    if col in data.columns:\n",
        "        le = LabelEncoder()\n",
        "        le.fit(list(data[col].astype(str).values))\n",
        "        data[col] = le.transform(list(data[col].astype(str).values))"
      ],
      "execution_count": 17,
      "outputs": []
    },
    {
      "cell_type": "code",
      "metadata": {
        "id": "Krx7fUCPqZlz"
      },
      "source": [
        "target_name = 'class'\n",
        "data_target = data[target_name]\n",
        "data = data.drop([target_name], axis=1)"
      ],
      "execution_count": 18,
      "outputs": []
    },
    {
      "cell_type": "code",
      "metadata": {
        "id": "PjsMXXj_qdMJ"
      },
      "source": [
        "train, test, target, target_test = train_test_split(data, data_target, test_size=0.3, random_state=1)"
      ],
      "execution_count": 19,
      "outputs": []
    },
    {
      "cell_type": "code",
      "metadata": {
        "colab": {
          "base_uri": "https://localhost:8080/"
        },
        "id": "F3chvn8-qgjj",
        "outputId": "e259e870-4f19-4a06-d63c-a841704977d8"
      },
      "source": [
        "print(target.shape)\n",
        "print(target_test.shape)\n",
        "print(train.shape)\n",
        "print(test.shape)"
      ],
      "execution_count": 20,
      "outputs": [
        {
          "output_type": "stream",
          "text": [
            "(217,)\n",
            "(93,)\n",
            "(217, 6)\n",
            "(93, 6)\n"
          ],
          "name": "stdout"
        }
      ]
    },
    {
      "cell_type": "markdown",
      "metadata": {
        "id": "OX7RiAHKq52A"
      },
      "source": [
        "Creation of training and validation sets"
      ]
    },
    {
      "cell_type": "code",
      "metadata": {
        "id": "SM1NG29kqyhv"
      },
      "source": [
        "#%% split training set to validation set\n",
        "Xtrain, Xval, Ztrain, Zval = train_test_split(train, target, test_size=0.3, random_state=1)"
      ],
      "execution_count": 21,
      "outputs": []
    },
    {
      "cell_type": "markdown",
      "metadata": {
        "id": "2BYSWMtrrCJ2"
      },
      "source": [
        "Tuning models and test for all features "
      ]
    },
    {
      "cell_type": "markdown",
      "metadata": {
        "id": "DcuPifXtrIYj"
      },
      "source": [
        "# Logistic Regression "
      ]
    },
    {
      "cell_type": "code",
      "metadata": {
        "colab": {
          "base_uri": "https://localhost:8080/"
        },
        "id": "bjtM-M5Oq9zo",
        "outputId": "8b945469-5daf-4747-b4a6-d3836f81cb0e"
      },
      "source": [
        "# Logistic Regression\n",
        "\n",
        "logreg = LogisticRegression()\n",
        "logreg.fit(train, target)\n",
        "acc_log = round(logreg.score(train, target) * 100, 2)\n",
        "acc_log"
      ],
      "execution_count": 22,
      "outputs": [
        {
          "output_type": "execute_result",
          "data": {
            "text/plain": [
              "84.79"
            ]
          },
          "metadata": {
            "tags": []
          },
          "execution_count": 22
        }
      ]
    },
    {
      "cell_type": "code",
      "metadata": {
        "colab": {
          "base_uri": "https://localhost:8080/"
        },
        "id": "dSgvfK5ErPCR",
        "outputId": "db1d0948-ac74-4f1f-c6d5-e91b7dffd1cf"
      },
      "source": [
        "acc_test_log = round(logreg.score(test, target_test) * 100, 2)\n",
        "acc_test_log"
      ],
      "execution_count": 23,
      "outputs": [
        {
          "output_type": "execute_result",
          "data": {
            "text/plain": [
              "87.1"
            ]
          },
          "metadata": {
            "tags": []
          },
          "execution_count": 23
        }
      ]
    },
    {
      "cell_type": "markdown",
      "metadata": {
        "id": "EtEcO2u2rbEv"
      },
      "source": [
        "# Support Vector Machines"
      ]
    },
    {
      "cell_type": "code",
      "metadata": {
        "colab": {
          "base_uri": "https://localhost:8080/"
        },
        "id": "zWEAgeHZrSgP",
        "outputId": "9528c7b8-f0b4-451e-9430-2e188eadd839"
      },
      "source": [
        "svc = SVC()\n",
        "svc.fit(train, target)\n",
        "acc_svc = round(svc.score(train, target) * 100, 2)\n",
        "acc_svc"
      ],
      "execution_count": 24,
      "outputs": [
        {
          "output_type": "execute_result",
          "data": {
            "text/plain": [
              "84.33"
            ]
          },
          "metadata": {
            "tags": []
          },
          "execution_count": 24
        }
      ]
    },
    {
      "cell_type": "code",
      "metadata": {
        "colab": {
          "base_uri": "https://localhost:8080/"
        },
        "id": "1ri0-Vzmrdi6",
        "outputId": "6a5b1a38-7ccb-48f5-aade-089e600e26af"
      },
      "source": [
        "acc_test_svc = round(svc.score(test, target_test) * 100, 2)\n",
        "acc_test_svc"
      ],
      "execution_count": 25,
      "outputs": [
        {
          "output_type": "execute_result",
          "data": {
            "text/plain": [
              "84.95"
            ]
          },
          "metadata": {
            "tags": []
          },
          "execution_count": 25
        }
      ]
    },
    {
      "cell_type": "markdown",
      "metadata": {
        "id": "_N4bo5KCrtlh"
      },
      "source": [
        "# Linear SVC"
      ]
    },
    {
      "cell_type": "code",
      "metadata": {
        "colab": {
          "base_uri": "https://localhost:8080/"
        },
        "id": "w56T_haerkGJ",
        "outputId": "daab7143-ea65-40ec-a88f-daf47f654509"
      },
      "source": [
        "linear_svc = LinearSVC(dual=False)  # dual=False when n_samples > n_features.\n",
        "linear_svc.fit(train, target)\n",
        "acc_linear_svc = round(linear_svc.score(train, target) * 100, 2)\n",
        "acc_linear_svc"
      ],
      "execution_count": 26,
      "outputs": [
        {
          "output_type": "execute_result",
          "data": {
            "text/plain": [
              "84.79"
            ]
          },
          "metadata": {
            "tags": []
          },
          "execution_count": 26
        }
      ]
    },
    {
      "cell_type": "code",
      "metadata": {
        "colab": {
          "base_uri": "https://localhost:8080/"
        },
        "id": "Tn6V0agDrwIw",
        "outputId": "85247722-afbc-442d-d234-a9506164ec59"
      },
      "source": [
        "acc_test_linear_svc = round(linear_svc.score(test, target_test) * 100, 2)\n",
        "acc_test_linear_svc"
      ],
      "execution_count": 27,
      "outputs": [
        {
          "output_type": "execute_result",
          "data": {
            "text/plain": [
              "86.02"
            ]
          },
          "metadata": {
            "tags": []
          },
          "execution_count": 27
        }
      ]
    },
    {
      "cell_type": "markdown",
      "metadata": {
        "id": "US7dKb2Vr8hd"
      },
      "source": [
        "# k-Nearest Neighbors algorithm"
      ]
    },
    {
      "cell_type": "code",
      "metadata": {
        "colab": {
          "base_uri": "https://localhost:8080/"
        },
        "id": "A3-K1CKgr0Rt",
        "outputId": "09f033cf-a90b-4a5f-8a4b-a94d91f73ca1"
      },
      "source": [
        "knn = GridSearchCV(estimator=KNeighborsClassifier(), param_grid={'n_neighbors': [2, 3]}, cv=10).fit(train, target)\n",
        "acc_knn = round(knn.score(train, target) * 100, 2)\n",
        "print(acc_knn, knn.best_params_)"
      ],
      "execution_count": 28,
      "outputs": [
        {
          "output_type": "stream",
          "text": [
            "90.32 {'n_neighbors': 3}\n"
          ],
          "name": "stdout"
        }
      ]
    },
    {
      "cell_type": "code",
      "metadata": {
        "colab": {
          "base_uri": "https://localhost:8080/"
        },
        "id": "dyl-tnn2r-u0",
        "outputId": "f00e744f-9e61-4603-ab9a-a3853ef7ace6"
      },
      "source": [
        "acc_test_knn = round(knn.score(test, target_test) * 100, 2)\n",
        "acc_test_knn"
      ],
      "execution_count": 29,
      "outputs": [
        {
          "output_type": "execute_result",
          "data": {
            "text/plain": [
              "86.02"
            ]
          },
          "metadata": {
            "tags": []
          },
          "execution_count": 29
        }
      ]
    },
    {
      "cell_type": "markdown",
      "metadata": {
        "id": "TG0qwuF0sJz8"
      },
      "source": [
        "# Gaussian Naive Bayes"
      ]
    },
    {
      "cell_type": "code",
      "metadata": {
        "colab": {
          "base_uri": "https://localhost:8080/"
        },
        "id": "OzbxLH2vsCjR",
        "outputId": "5a089730-4df8-4f87-f7bd-74113a54d744"
      },
      "source": [
        "gaussian = GaussianNB()\n",
        "gaussian.fit(train, target)\n",
        "acc_gaussian = round(gaussian.score(train, target) * 100, 2)\n",
        "acc_gaussian"
      ],
      "execution_count": 30,
      "outputs": [
        {
          "output_type": "execute_result",
          "data": {
            "text/plain": [
              "76.96"
            ]
          },
          "metadata": {
            "tags": []
          },
          "execution_count": 30
        }
      ]
    },
    {
      "cell_type": "code",
      "metadata": {
        "colab": {
          "base_uri": "https://localhost:8080/"
        },
        "id": "01vx60L_sNUm",
        "outputId": "6f1962be-279f-4b92-8d4e-ee5f87777d52"
      },
      "source": [
        "acc_test_gaussian = round(gaussian.score(test, target_test) * 100, 2)\n",
        "acc_test_gaussian"
      ],
      "execution_count": 31,
      "outputs": [
        {
          "output_type": "execute_result",
          "data": {
            "text/plain": [
              "81.72"
            ]
          },
          "metadata": {
            "tags": []
          },
          "execution_count": 31
        }
      ]
    },
    {
      "cell_type": "markdown",
      "metadata": {
        "id": "xKaaB6K3sXB8"
      },
      "source": [
        "# Perceptron"
      ]
    },
    {
      "cell_type": "code",
      "metadata": {
        "colab": {
          "base_uri": "https://localhost:8080/"
        },
        "id": "OQLuSvjasQyd",
        "outputId": "02bde35f-414f-418c-8208-2ab8e2810657"
      },
      "source": [
        "perceptron = Perceptron()\n",
        "perceptron.fit(train, target)\n",
        "acc_perceptron = round(perceptron.score(train, target) * 100, 2)\n",
        "acc_perceptron"
      ],
      "execution_count": 32,
      "outputs": [
        {
          "output_type": "execute_result",
          "data": {
            "text/plain": [
              "82.03"
            ]
          },
          "metadata": {
            "tags": []
          },
          "execution_count": 32
        }
      ]
    },
    {
      "cell_type": "code",
      "metadata": {
        "colab": {
          "base_uri": "https://localhost:8080/"
        },
        "id": "GBve5bKLsZm4",
        "outputId": "1f9637db-decb-4d9e-c7ef-eb92b03bccfd"
      },
      "source": [
        "acc_test_perceptron = round(perceptron.score(test, target_test) * 100, 2)\n",
        "acc_test_perceptron"
      ],
      "execution_count": 33,
      "outputs": [
        {
          "output_type": "execute_result",
          "data": {
            "text/plain": [
              "84.95"
            ]
          },
          "metadata": {
            "tags": []
          },
          "execution_count": 33
        }
      ]
    },
    {
      "cell_type": "markdown",
      "metadata": {
        "id": "UqNObXL5sjSc"
      },
      "source": [
        "# Stochastic Gradient Descent"
      ]
    },
    {
      "cell_type": "code",
      "metadata": {
        "colab": {
          "base_uri": "https://localhost:8080/"
        },
        "id": "gAOnzbowscyb",
        "outputId": "54a38788-bfa6-4fbd-eb82-cbc71dd375d3"
      },
      "source": [
        "sgd = SGDClassifier()\n",
        "sgd.fit(train, target)\n",
        "acc_sgd = round(sgd.score(train, target) * 100, 2)\n",
        "acc_sgd"
      ],
      "execution_count": 34,
      "outputs": [
        {
          "output_type": "execute_result",
          "data": {
            "text/plain": [
              "77.88"
            ]
          },
          "metadata": {
            "tags": []
          },
          "execution_count": 34
        }
      ]
    },
    {
      "cell_type": "code",
      "metadata": {
        "colab": {
          "base_uri": "https://localhost:8080/"
        },
        "id": "F0lDHPPeslIo",
        "outputId": "e3e27e9a-1e9f-49f6-cadb-eafafa674989"
      },
      "source": [
        "acc_test_sgd = round(perceptron.score(test, target_test) * 100, 2)\n",
        "acc_test_sgd"
      ],
      "execution_count": 35,
      "outputs": [
        {
          "output_type": "execute_result",
          "data": {
            "text/plain": [
              "84.95"
            ]
          },
          "metadata": {
            "tags": []
          },
          "execution_count": 35
        }
      ]
    },
    {
      "cell_type": "markdown",
      "metadata": {
        "id": "l3JxH6kBsxfj"
      },
      "source": [
        "# Decision Tree Classifier"
      ]
    },
    {
      "cell_type": "code",
      "metadata": {
        "colab": {
          "base_uri": "https://localhost:8080/"
        },
        "id": "TEthED4yspnK",
        "outputId": "2e5da4a4-e258-4e30-b120-897e43a2cd4b"
      },
      "source": [
        "decision_tree = DecisionTreeClassifier()\n",
        "decision_tree.fit(train, target)\n",
        "acc_decision_tree = round(decision_tree.score(train, target) * 100, 2)\n",
        "acc_decision_tree"
      ],
      "execution_count": 36,
      "outputs": [
        {
          "output_type": "execute_result",
          "data": {
            "text/plain": [
              "100.0"
            ]
          },
          "metadata": {
            "tags": []
          },
          "execution_count": 36
        }
      ]
    },
    {
      "cell_type": "code",
      "metadata": {
        "colab": {
          "base_uri": "https://localhost:8080/"
        },
        "id": "oeYSM3ZBszOk",
        "outputId": "c5d485a5-215b-4cf6-e444-4edb42ab775d"
      },
      "source": [
        "acc_test_decision_tree = round(decision_tree.score(test, target_test) * 100, 2)\n",
        "acc_test_decision_tree"
      ],
      "execution_count": 37,
      "outputs": [
        {
          "output_type": "execute_result",
          "data": {
            "text/plain": [
              "80.65"
            ]
          },
          "metadata": {
            "tags": []
          },
          "execution_count": 37
        }
      ]
    },
    {
      "cell_type": "markdown",
      "metadata": {
        "id": "qoC_2cvDs9jM"
      },
      "source": [
        "# Random Forest"
      ]
    },
    {
      "cell_type": "code",
      "metadata": {
        "colab": {
          "base_uri": "https://localhost:8080/"
        },
        "id": "A9AoMU0Vs2iE",
        "outputId": "30f90d88-f0de-4e31-b035-e927f24b9ebe"
      },
      "source": [
        "random_forest = GridSearchCV(estimator=RandomForestClassifier(), param_grid={'n_estimators': [100, 300]}, cv=5).fit(train, target)\n",
        "random_forest.fit(train, target)\n",
        "acc_random_forest = round(random_forest.score(train, target) * 100, 2)\n",
        "print(acc_random_forest,random_forest.best_params_)"
      ],
      "execution_count": 38,
      "outputs": [
        {
          "output_type": "stream",
          "text": [
            "100.0 {'n_estimators': 100}\n"
          ],
          "name": "stdout"
        }
      ]
    },
    {
      "cell_type": "code",
      "metadata": {
        "colab": {
          "base_uri": "https://localhost:8080/"
        },
        "id": "ee-VFZb8tCBc",
        "outputId": "46917290-0757-412d-c54c-d9c5fba51d91"
      },
      "source": [
        "acc_test_random_forest = round(random_forest.score(test, target_test) * 100, 2)\n",
        "acc_test_random_forest"
      ],
      "execution_count": 39,
      "outputs": [
        {
          "output_type": "execute_result",
          "data": {
            "text/plain": [
              "83.87"
            ]
          },
          "metadata": {
            "tags": []
          },
          "execution_count": 39
        }
      ]
    },
    {
      "cell_type": "markdown",
      "metadata": {
        "id": "6kH6qSN3tPkP"
      },
      "source": [
        "XGB"
      ]
    },
    {
      "cell_type": "code",
      "metadata": {
        "colab": {
          "base_uri": "https://localhost:8080/"
        },
        "id": "DIKqxgSHtGMY",
        "outputId": "e78c70e6-55b2-41c7-9048-56fda173d409"
      },
      "source": [
        "def hyperopt_xgb_score(params):\n",
        "    clf = XGBClassifier(**params)\n",
        "    current_score = cross_val_score(clf, train, target, cv=10).mean()\n",
        "    print(current_score, params)\n",
        "    return current_score \n",
        " \n",
        "space_xgb = {\n",
        "            'learning_rate': hp.quniform('learning_rate', 0, 0.05, 0.0001),\n",
        "            'n_estimators': hp.choice('n_estimators', range(100, 1000)),\n",
        "            'eta': hp.quniform('eta', 0.025, 0.5, 0.005),\n",
        "            'max_depth':  hp.choice('max_depth', np.arange(2, 12, dtype=int)),\n",
        "            'min_child_weight': hp.quniform('min_child_weight', 1, 9, 0.025),\n",
        "            'subsample': hp.quniform('subsample', 0.5, 1, 0.005),\n",
        "            'gamma': hp.quniform('gamma', 0.5, 1, 0.005),\n",
        "            'colsample_bytree': hp.quniform('colsample_bytree', 0.5, 1, 0.005),\n",
        "            'eval_metric': 'auc',\n",
        "            'objective': 'binary:logistic',\n",
        "            'booster': 'gbtree',\n",
        "            'tree_method': 'exact',\n",
        "            'silent': 1,\n",
        "            'missing': None\n",
        "        }\n",
        " \n",
        "best = fmin(fn=hyperopt_xgb_score, space=space_xgb, algo=tpe.suggest, max_evals=10)\n",
        "print('best:')\n",
        "print(best)\n"
      ],
      "execution_count": 40,
      "outputs": [
        {
          "output_type": "stream",
          "text": [
            "0.7928571428571429\n",
            "{'booster': 'gbtree', 'colsample_bytree': 0.97, 'eta': 0.325, 'eval_metric': 'auc', 'gamma': 0.975, 'learning_rate': 0.0134, 'max_depth': 2, 'min_child_weight': 8.35, 'missing': None, 'n_estimators': 612, 'objective': 'binary:logistic', 'silent': 1, 'subsample': 0.705, 'tree_method': 'exact'}\n",
            "0.8112554112554111\n",
            "{'booster': 'gbtree', 'colsample_bytree': 0.54, 'eta': 0.03, 'eval_metric': 'auc', 'gamma': 0.6950000000000001, 'learning_rate': 0.004200000000000001, 'max_depth': 4, 'min_child_weight': 5.65, 'missing': None, 'n_estimators': 268, 'objective': 'binary:logistic', 'silent': 1, 'subsample': 0.505, 'tree_method': 'exact'}\n",
            "0.8112554112554111\n",
            "{'booster': 'gbtree', 'colsample_bytree': 0.865, 'eta': 0.135, 'eval_metric': 'auc', 'gamma': 0.555, 'learning_rate': 0.030100000000000002, 'max_depth': 4, 'min_child_weight': 8.450000000000001, 'missing': None, 'n_estimators': 609, 'objective': 'binary:logistic', 'silent': 1, 'subsample': 0.555, 'tree_method': 'exact'}\n",
            "0.824891774891775\n",
            "{'booster': 'gbtree', 'colsample_bytree': 0.605, 'eta': 0.47000000000000003, 'eval_metric': 'auc', 'gamma': 0.935, 'learning_rate': 0.0497, 'max_depth': 6, 'min_child_weight': 3.5, 'missing': None, 'n_estimators': 823, 'objective': 'binary:logistic', 'silent': 1, 'subsample': 0.59, 'tree_method': 'exact'}\n",
            "0.8205627705627705\n",
            "{'booster': 'gbtree', 'colsample_bytree': 0.865, 'eta': 0.115, 'eval_metric': 'auc', 'gamma': 0.715, 'learning_rate': 0.0223, 'max_depth': 6, 'min_child_weight': 5.575, 'missing': None, 'n_estimators': 482, 'objective': 'binary:logistic', 'silent': 1, 'subsample': 0.715, 'tree_method': 'exact'}\n",
            "0.8287878787878789\n",
            "{'booster': 'gbtree', 'colsample_bytree': 0.725, 'eta': 0.43, 'eval_metric': 'auc', 'gamma': 0.51, 'learning_rate': 0.0041, 'max_depth': 4, 'min_child_weight': 7.7, 'missing': None, 'n_estimators': 247, 'objective': 'binary:logistic', 'silent': 1, 'subsample': 0.755, 'tree_method': 'exact'}\n",
            "0.8155844155844155\n",
            "{'booster': 'gbtree', 'colsample_bytree': 0.67, 'eta': 0.185, 'eval_metric': 'auc', 'gamma': 0.555, 'learning_rate': 0.048600000000000004, 'max_depth': 4, 'min_child_weight': 7.9750000000000005, 'missing': None, 'n_estimators': 524, 'objective': 'binary:logistic', 'silent': 1, 'subsample': 0.96, 'tree_method': 'exact'}\n",
            "0.8017316017316016\n",
            "{'booster': 'gbtree', 'colsample_bytree': 0.505, 'eta': 0.165, 'eval_metric': 'auc', 'gamma': 0.96, 'learning_rate': 0.0322, 'max_depth': 5, 'min_child_weight': 5.675000000000001, 'missing': None, 'n_estimators': 300, 'objective': 'binary:logistic', 'silent': 1, 'subsample': 0.64, 'tree_method': 'exact'}\n",
            "0.8203463203463203\n",
            "{'booster': 'gbtree', 'colsample_bytree': 0.625, 'eta': 0.38, 'eval_metric': 'auc', 'gamma': 0.605, 'learning_rate': 0.0393, 'max_depth': 2, 'min_child_weight': 4.575, 'missing': None, 'n_estimators': 970, 'objective': 'binary:logistic', 'silent': 1, 'subsample': 0.855, 'tree_method': 'exact'}\n",
            "0.8571428571428571\n",
            "{'booster': 'gbtree', 'colsample_bytree': 0.73, 'eta': 0.295, 'eval_metric': 'auc', 'gamma': 0.77, 'learning_rate': 0.0098, 'max_depth': 5, 'min_child_weight': 2.025, 'missing': None, 'n_estimators': 831, 'objective': 'binary:logistic', 'silent': 1, 'subsample': 0.615, 'tree_method': 'exact'}\n",
            "100%|██████████| 10/10 [00:08<00:00,  1.24it/s, best loss: 0.7928571428571429]\n",
            "best:\n",
            "{'colsample_bytree': 0.97, 'eta': 0.325, 'gamma': 0.975, 'learning_rate': 0.0134, 'max_depth': 0, 'min_child_weight': 8.35, 'n_estimators': 512, 'subsample': 0.705}\n"
          ],
          "name": "stdout"
        }
      ]
    },
    {
      "cell_type": "code",
      "metadata": {
        "colab": {
          "base_uri": "https://localhost:8080/"
        },
        "id": "RGZAJ03EtScq",
        "outputId": "a95fbdd7-5d9c-42db-8b46-be5a4a564efc"
      },
      "source": [
        "params = space_eval(space_xgb, best)\n",
        "params"
      ],
      "execution_count": 41,
      "outputs": [
        {
          "output_type": "execute_result",
          "data": {
            "text/plain": [
              "{'booster': 'gbtree',\n",
              " 'colsample_bytree': 0.97,\n",
              " 'eta': 0.325,\n",
              " 'eval_metric': 'auc',\n",
              " 'gamma': 0.975,\n",
              " 'learning_rate': 0.0134,\n",
              " 'max_depth': 2,\n",
              " 'min_child_weight': 8.35,\n",
              " 'missing': None,\n",
              " 'n_estimators': 612,\n",
              " 'objective': 'binary:logistic',\n",
              " 'silent': 1,\n",
              " 'subsample': 0.705,\n",
              " 'tree_method': 'exact'}"
            ]
          },
          "metadata": {
            "tags": []
          },
          "execution_count": 41
        }
      ]
    },
    {
      "cell_type": "code",
      "metadata": {
        "colab": {
          "base_uri": "https://localhost:8080/"
        },
        "id": "OoPsPSlXtYHx",
        "outputId": "031833a8-6060-4d68-a20b-eb9e6647bdb7"
      },
      "source": [
        "XGB_Classifier = XGBClassifier(**params)\n",
        "XGB_Classifier.fit(train, target)\n",
        "acc_XGB_Classifier = round(XGB_Classifier.score(train, target) * 100, 2)\n",
        "acc_XGB_Classifier"
      ],
      "execution_count": 42,
      "outputs": [
        {
          "output_type": "execute_result",
          "data": {
            "text/plain": [
              "84.33"
            ]
          },
          "metadata": {
            "tags": []
          },
          "execution_count": 42
        }
      ]
    },
    {
      "cell_type": "code",
      "metadata": {
        "colab": {
          "base_uri": "https://localhost:8080/"
        },
        "id": "yKT90uottbxv",
        "outputId": "fe4878e5-0699-49f0-eccb-03fffbc3f82d"
      },
      "source": [
        "acc_test_XGB_Classifier = round(XGB_Classifier.score(test, target_test) * 100, 2)\n",
        "acc_test_XGB_Classifier"
      ],
      "execution_count": 43,
      "outputs": [
        {
          "output_type": "execute_result",
          "data": {
            "text/plain": [
              "87.1"
            ]
          },
          "metadata": {
            "tags": []
          },
          "execution_count": 43
        }
      ]
    },
    {
      "cell_type": "code",
      "metadata": {
        "id": "Su2bLewzteXx"
      },
      "source": [
        "fig =  plt.figure(figsize = (15,15))\n",
        "axes = fig.add_subplot(111)\n",
        "xgb.plot_importance(XGB_Classifier,ax = axes,height =0.5)\n",
        "plt.show();\n",
        "plt.close()"
      ],
      "execution_count": 44,
      "outputs": []
    },
    {
      "cell_type": "markdown",
      "metadata": {
        "id": "7IqagcbBttmX"
      },
      "source": [
        "LGBM Classifier "
      ]
    },
    {
      "cell_type": "code",
      "metadata": {
        "colab": {
          "base_uri": "https://localhost:8080/"
        },
        "id": "9MWauFmZtotW",
        "outputId": "23d0462e-922e-4504-bd06-ffdb4b4465d2"
      },
      "source": [
        "def hyperopt_lgb_score(params):\n",
        "    clf = LGBMClassifier(**params)\n",
        "    current_score = cross_val_score(clf, train, target, cv=10).mean()\n",
        "    print(current_score, params)\n",
        "    return current_score \n",
        " \n",
        "space_lgb = {\n",
        "            'learning_rate': hp.quniform('learning_rate', 0, 0.05, 0.0001),\n",
        "            'n_estimators': hp.choice('n_estimators', range(100, 1000)),\n",
        "            'max_depth':  hp.choice('max_depth', np.arange(2, 12, dtype=int)),\n",
        "            'num_leaves': hp.choice('num_leaves', 2*np.arange(2, 2**11, dtype=int)),\n",
        "            'min_child_weight': hp.quniform('min_child_weight', 1, 9, 0.025),\n",
        "            'colsample_bytree': hp.quniform('colsample_bytree', 0.5, 1, 0.005),\n",
        "            'objective': 'binary',\n",
        "            'boosting_type': 'gbdt',\n",
        "            }\n",
        " \n",
        "best = fmin(fn=hyperopt_lgb_score, space=space_lgb, algo=tpe.suggest, max_evals=10)\n",
        "print('best:')\n",
        "print(best)"
      ],
      "execution_count": 45,
      "outputs": [
        {
          "output_type": "stream",
          "text": [
            "0.8478354978354978\n",
            "{'boosting_type': 'gbdt', 'colsample_bytree': 0.58, 'learning_rate': 0.006900000000000001, 'max_depth': 3, 'min_child_weight': 3.4250000000000003, 'n_estimators': 638, 'num_leaves': 286, 'objective': 'binary'}\n",
            "0.8341991341991342\n",
            "{'boosting_type': 'gbdt', 'colsample_bytree': 0.64, 'learning_rate': 0.012100000000000001, 'max_depth': 3, 'min_child_weight': 6.525, 'n_estimators': 831, 'num_leaves': 3388, 'objective': 'binary'}\n",
            "0.8432900432900432\n",
            "{'boosting_type': 'gbdt', 'colsample_bytree': 0.655, 'learning_rate': 0.0063, 'max_depth': 10, 'min_child_weight': 2.85, 'n_estimators': 788, 'num_leaves': 2844, 'objective': 'binary'}\n",
            "0.8480519480519482\n",
            "{'boosting_type': 'gbdt', 'colsample_bytree': 0.615, 'learning_rate': 0.049, 'max_depth': 11, 'min_child_weight': 1.1500000000000001, 'n_estimators': 710, 'num_leaves': 2298, 'objective': 'binary'}\n",
            "0.8476190476190476\n",
            "{'boosting_type': 'gbdt', 'colsample_bytree': 0.625, 'learning_rate': 0.0397, 'max_depth': 4, 'min_child_weight': 1.675, 'n_estimators': 595, 'num_leaves': 1414, 'objective': 'binary'}\n",
            "0.82012987012987\n",
            "{'boosting_type': 'gbdt', 'colsample_bytree': 0.935, 'learning_rate': 0.049800000000000004, 'max_depth': 2, 'min_child_weight': 7.4750000000000005, 'n_estimators': 245, 'num_leaves': 3838, 'objective': 'binary'}\n",
            "0.82987012987013\n",
            "{'boosting_type': 'gbdt', 'colsample_bytree': 0.605, 'learning_rate': 0.038400000000000004, 'max_depth': 5, 'min_child_weight': 4.675, 'n_estimators': 720, 'num_leaves': 54, 'objective': 'binary'}\n",
            "0.82987012987013\n",
            "{'boosting_type': 'gbdt', 'colsample_bytree': 0.635, 'learning_rate': 0.0236, 'max_depth': 5, 'min_child_weight': 4.75, 'n_estimators': 988, 'num_leaves': 516, 'objective': 'binary'}\n",
            "0.8062770562770563\n",
            "{'boosting_type': 'gbdt', 'colsample_bytree': 0.875, 'learning_rate': 0.047, 'max_depth': 8, 'min_child_weight': 8.725, 'n_estimators': 635, 'num_leaves': 2106, 'objective': 'binary'}\n",
            "0.8203463203463203\n",
            "{'boosting_type': 'gbdt', 'colsample_bytree': 0.505, 'learning_rate': 0.0367, 'max_depth': 10, 'min_child_weight': 7.5, 'n_estimators': 263, 'num_leaves': 3460, 'objective': 'binary'}\n",
            "100%|██████████| 10/10 [00:14<00:00,  1.47s/it, best loss: 0.8062770562770563]\n",
            "best:\n",
            "{'colsample_bytree': 0.875, 'learning_rate': 0.047, 'max_depth': 6, 'min_child_weight': 8.725, 'n_estimators': 535, 'num_leaves': 1051}\n"
          ],
          "name": "stdout"
        }
      ]
    },
    {
      "cell_type": "code",
      "metadata": {
        "colab": {
          "base_uri": "https://localhost:8080/"
        },
        "id": "HaL6GO3Wtw02",
        "outputId": "20b87d7b-ddea-44af-8a64-aa91760d5fd9"
      },
      "source": [
        "params = space_eval(space_lgb, best)\n",
        "params\n"
      ],
      "execution_count": 46,
      "outputs": [
        {
          "output_type": "execute_result",
          "data": {
            "text/plain": [
              "{'boosting_type': 'gbdt',\n",
              " 'colsample_bytree': 0.875,\n",
              " 'learning_rate': 0.047,\n",
              " 'max_depth': 8,\n",
              " 'min_child_weight': 8.725,\n",
              " 'n_estimators': 635,\n",
              " 'num_leaves': 2106,\n",
              " 'objective': 'binary'}"
            ]
          },
          "metadata": {
            "tags": []
          },
          "execution_count": 46
        }
      ]
    },
    {
      "cell_type": "code",
      "metadata": {
        "colab": {
          "base_uri": "https://localhost:8080/"
        },
        "id": "W4_iT_KEt3Bt",
        "outputId": "a6ee56c3-3ade-4b69-a758-878d55f70856"
      },
      "source": [
        "LGB_Classifier = LGBMClassifier(**params)\n",
        "LGB_Classifier.fit(train, target)\n",
        "acc_LGB_Classifier = round(LGB_Classifier.score(train, target) * 100, 2)\n",
        "acc_LGB_Classifier"
      ],
      "execution_count": 47,
      "outputs": [
        {
          "output_type": "execute_result",
          "data": {
            "text/plain": [
              "88.02"
            ]
          },
          "metadata": {
            "tags": []
          },
          "execution_count": 47
        }
      ]
    },
    {
      "cell_type": "code",
      "metadata": {
        "colab": {
          "base_uri": "https://localhost:8080/"
        },
        "id": "sOpO4lvst6eB",
        "outputId": "8d223d73-7a45-4ede-faf4-56df92a8c2fb"
      },
      "source": [
        "acc_test_LGB_Classifier = round(LGB_Classifier.score(test, target_test) * 100, 2)\n",
        "acc_test_LGB_Classifier"
      ],
      "execution_count": 48,
      "outputs": [
        {
          "output_type": "execute_result",
          "data": {
            "text/plain": [
              "87.1"
            ]
          },
          "metadata": {
            "tags": []
          },
          "execution_count": 48
        }
      ]
    },
    {
      "cell_type": "code",
      "metadata": {
        "id": "uJ5fEa3Jt9B0"
      },
      "source": [
        "fig =  plt.figure(figsize = (15,15))\n",
        "axes = fig.add_subplot(111)\n",
        "lgb.plot_importance(LGB_Classifier,ax = axes,height = 0.5)\n",
        "plt.show();\n",
        "plt.close()"
      ],
      "execution_count": 49,
      "outputs": []
    },
    {
      "cell_type": "markdown",
      "metadata": {
        "id": "m0xVzlDFuMf9"
      },
      "source": [
        "GradientBoosting"
      ]
    },
    {
      "cell_type": "code",
      "metadata": {
        "colab": {
          "base_uri": "https://localhost:8080/"
        },
        "id": "8KkO-8rmuAId",
        "outputId": "6a5d4d16-900d-44fb-b646-6a29bf9d47b2"
      },
      "source": [
        "def hyperopt_gb_score(params):\n",
        "    clf = GradientBoostingClassifier(**params)\n",
        "    current_score = cross_val_score(clf, train, target, cv=10).mean()\n",
        "    print(current_score, params)\n",
        "    return current_score \n",
        " \n",
        "space_gb = {\n",
        "            'n_estimators': hp.choice('n_estimators', range(100, 1000)),\n",
        "            'max_depth': hp.choice('max_depth', np.arange(2, 10, dtype=int))            \n",
        "        }\n",
        " \n",
        "best = fmin(fn=hyperopt_gb_score, space=space_gb, algo=tpe.suggest, max_evals=10)\n",
        "print('best:')\n",
        "print(best)"
      ],
      "execution_count": 50,
      "outputs": [
        {
          "output_type": "stream",
          "text": [
            "0.8337662337662337\n",
            "{'max_depth': 2, 'n_estimators': 291}\n",
            "0.8339826839826839\n",
            "{'max_depth': 4, 'n_estimators': 937}\n",
            "0.824025974025974\n",
            "{'max_depth': 6, 'n_estimators': 643}\n",
            "0.82012987012987\n",
            "{'max_depth': 5, 'n_estimators': 190}\n",
            "0.8525974025974026\n",
            "{'max_depth': 7, 'n_estimators': 627}\n",
            "0.8158008658008657\n",
            "{'max_depth': 5, 'n_estimators': 467}\n",
            "0.8255411255411256\n",
            "{'max_depth': 8, 'n_estimators': 727}\n",
            "0.8385281385281385\n",
            "{'max_depth': 2, 'n_estimators': 638}\n",
            "0.8478354978354978\n",
            "{'max_depth': 7, 'n_estimators': 590}\n",
            "0.8196969696969697\n",
            "{'max_depth': 3, 'n_estimators': 605}\n",
            "100%|██████████| 10/10 [00:32<00:00,  3.26s/it, best loss: 0.8158008658008657]\n",
            "best:\n",
            "{'max_depth': 3, 'n_estimators': 367}\n"
          ],
          "name": "stdout"
        }
      ]
    },
    {
      "cell_type": "code",
      "metadata": {
        "colab": {
          "base_uri": "https://localhost:8080/"
        },
        "id": "Yto6aXQwuOZB",
        "outputId": "0c6f83f6-7388-4e00-9f30-10dad5392e65"
      },
      "source": [
        "params = space_eval(space_gb, best)\n",
        "params"
      ],
      "execution_count": 51,
      "outputs": [
        {
          "output_type": "execute_result",
          "data": {
            "text/plain": [
              "{'max_depth': 5, 'n_estimators': 467}"
            ]
          },
          "metadata": {
            "tags": []
          },
          "execution_count": 51
        }
      ]
    },
    {
      "cell_type": "code",
      "metadata": {
        "colab": {
          "base_uri": "https://localhost:8080/"
        },
        "id": "tcv79WPhuS4F",
        "outputId": "c4258f1d-f55c-429a-be78-6b25b5bcac85"
      },
      "source": [
        "# Gradient Boosting Classifier\n",
        "\n",
        "gradient_boosting = GradientBoostingClassifier(**params)\n",
        "gradient_boosting.fit(train, target)\n",
        "acc_gradient_boosting = round(gradient_boosting.score(train, target) * 100, 2)\n",
        "acc_gradient_boosting"
      ],
      "execution_count": 52,
      "outputs": [
        {
          "output_type": "execute_result",
          "data": {
            "text/plain": [
              "100.0"
            ]
          },
          "metadata": {
            "tags": []
          },
          "execution_count": 52
        }
      ]
    },
    {
      "cell_type": "code",
      "metadata": {
        "colab": {
          "base_uri": "https://localhost:8080/"
        },
        "id": "ejp-aDGDuWcP",
        "outputId": "96a00007-1fba-4b47-8ecf-8e8eb5c11f12"
      },
      "source": [
        "acc_test_gradient_boosting = round(gradient_boosting.score(test, target_test) * 100, 2)\n",
        "acc_test_gradient_boosting"
      ],
      "execution_count": 53,
      "outputs": [
        {
          "output_type": "execute_result",
          "data": {
            "text/plain": [
              "79.57"
            ]
          },
          "metadata": {
            "tags": []
          },
          "execution_count": 53
        }
      ]
    },
    {
      "cell_type": "markdown",
      "metadata": {
        "id": "wviSMUX1ug9U"
      },
      "source": [
        "# Ridge Classifier"
      ]
    },
    {
      "cell_type": "code",
      "metadata": {
        "colab": {
          "base_uri": "https://localhost:8080/"
        },
        "id": "J8EqtwSquZIK",
        "outputId": "4f8dc025-1a34-45bd-e47f-2f02655f4334"
      },
      "source": [
        "ridge_classifier = RidgeClassifier()\n",
        "ridge_classifier.fit(train, target)\n",
        "acc_ridge_classifier = round(ridge_classifier.score(train, target) * 100, 2)\n",
        "acc_ridge_classifier"
      ],
      "execution_count": 54,
      "outputs": [
        {
          "output_type": "execute_result",
          "data": {
            "text/plain": [
              "83.87"
            ]
          },
          "metadata": {
            "tags": []
          },
          "execution_count": 54
        }
      ]
    },
    {
      "cell_type": "code",
      "metadata": {
        "colab": {
          "base_uri": "https://localhost:8080/"
        },
        "id": "zpq_zAGVuimf",
        "outputId": "09e719c0-17e9-4d43-be55-cf48aa98e7bf"
      },
      "source": [
        "acc_test_ridge_classifier = round(ridge_classifier.score(test, target_test) * 100, 2)\n",
        "acc_test_ridge_classifier"
      ],
      "execution_count": 55,
      "outputs": [
        {
          "output_type": "execute_result",
          "data": {
            "text/plain": [
              "81.72"
            ]
          },
          "metadata": {
            "tags": []
          },
          "execution_count": 55
        }
      ]
    },
    {
      "cell_type": "markdown",
      "metadata": {
        "id": "xFPiqFChus6a"
      },
      "source": [
        "# Bagging Classifier"
      ]
    },
    {
      "cell_type": "code",
      "metadata": {
        "colab": {
          "base_uri": "https://localhost:8080/"
        },
        "id": "xWrNo0iXulVm",
        "outputId": "75942b7e-5b33-44ee-9a3a-2b3eebe91ac0"
      },
      "source": [
        "bagging_classifier = BaggingClassifier()\n",
        "bagging_classifier.fit(train, target)\n",
        "Y_pred = bagging_classifier.predict(test).astype(int)\n",
        "acc_bagging_classifier = round(bagging_classifier.score(train, target) * 100, 2)\n",
        "acc_bagging_classifier"
      ],
      "execution_count": 56,
      "outputs": [
        {
          "output_type": "execute_result",
          "data": {
            "text/plain": [
              "99.54"
            ]
          },
          "metadata": {
            "tags": []
          },
          "execution_count": 56
        }
      ]
    },
    {
      "cell_type": "code",
      "metadata": {
        "colab": {
          "base_uri": "https://localhost:8080/"
        },
        "id": "l7WEhtGxuvq8",
        "outputId": "a92774cb-6fb1-4af4-aad3-30a6634a0e28"
      },
      "source": [
        "acc_test_bagging_classifier = round(bagging_classifier.score(test, target_test) * 100, 2)\n",
        "acc_test_bagging_classifier"
      ],
      "execution_count": 57,
      "outputs": [
        {
          "output_type": "execute_result",
          "data": {
            "text/plain": [
              "82.8"
            ]
          },
          "metadata": {
            "tags": []
          },
          "execution_count": 57
        }
      ]
    },
    {
      "cell_type": "markdown",
      "metadata": {
        "id": "BRcKzFQSu7xx"
      },
      "source": [
        "ExtraTreesClassifier"
      ]
    },
    {
      "cell_type": "code",
      "metadata": {
        "colab": {
          "base_uri": "https://localhost:8080/"
        },
        "id": "A_GmBz-ruzn-",
        "outputId": "eaf1b6d4-ce22-4108-ab9e-affe7f6127e2"
      },
      "source": [
        "def hyperopt_etc_score(params):\n",
        "    clf = ExtraTreesClassifier(**params)\n",
        "    current_score = cross_val_score(clf, train, target, cv=10).mean()\n",
        "    print(current_score, params)\n",
        "    return current_score \n",
        " \n",
        "space_etc = {\n",
        "            'n_estimators': hp.choice('n_estimators', range(100, 1000)),\n",
        "            'max_features': hp.choice('max_features', np.arange(2, 17, dtype=int)),\n",
        "            'min_samples_leaf': hp.choice('min_samples_leaf', np.arange(1, 5, dtype=int)),\n",
        "            'max_depth':  hp.choice('max_depth', np.arange(2, 12, dtype=int)),\n",
        "            'max_features': None # for small number of features\n",
        "        }\n",
        " \n",
        "best = fmin(fn=hyperopt_etc_score, space=space_etc, algo=tpe.suggest, max_evals=10)\n",
        "print('best:')\n",
        "print(best)"
      ],
      "execution_count": 58,
      "outputs": [
        {
          "output_type": "stream",
          "text": [
            "0.8614718614718614\n",
            "{'max_depth': 5, 'max_features': None, 'min_samples_leaf': 1, 'n_estimators': 152}\n",
            "0.7874458874458875\n",
            "{'max_depth': 2, 'max_features': None, 'min_samples_leaf': 3, 'n_estimators': 124}\n",
            "0.791991341991342\n",
            "{'max_depth': 2, 'max_features': None, 'min_samples_leaf': 1, 'n_estimators': 198}\n",
            "0.8380952380952381\n",
            "{'max_depth': 3, 'max_features': None, 'min_samples_leaf': 2, 'n_estimators': 623}\n",
            "0.8567099567099566\n",
            "{'max_depth': 6, 'max_features': None, 'min_samples_leaf': 4, 'n_estimators': 570}\n",
            "0.8755411255411255\n",
            "{'max_depth': 9, 'max_features': None, 'min_samples_leaf': 4, 'n_estimators': 612}\n",
            "0.8244588744588744\n",
            "{'max_depth': 3, 'max_features': None, 'min_samples_leaf': 1, 'n_estimators': 478}\n",
            "0.866017316017316\n",
            "{'max_depth': 7, 'max_features': None, 'min_samples_leaf': 4, 'n_estimators': 766}\n",
            "0.8616883116883116\n",
            "{'max_depth': 7, 'max_features': None, 'min_samples_leaf': 3, 'n_estimators': 481}\n",
            "0.7779220779220778\n",
            "{'max_depth': 2, 'max_features': None, 'min_samples_leaf': 1, 'n_estimators': 371}\n",
            "100%|██████████| 10/10 [00:47<00:00,  4.71s/it, best loss: 0.7779220779220778]\n",
            "best:\n",
            "{'max_depth': 0, 'min_samples_leaf': 0, 'n_estimators': 271}\n"
          ],
          "name": "stdout"
        }
      ]
    },
    {
      "cell_type": "code",
      "metadata": {
        "colab": {
          "base_uri": "https://localhost:8080/"
        },
        "id": "qXINR44yu90a",
        "outputId": "195a0ad0-15e1-41a5-9bee-73bf46eb8b78"
      },
      "source": [
        "params = space_eval(space_etc, best)\n",
        "params"
      ],
      "execution_count": 59,
      "outputs": [
        {
          "output_type": "execute_result",
          "data": {
            "text/plain": [
              "{'max_depth': 2,\n",
              " 'max_features': None,\n",
              " 'min_samples_leaf': 1,\n",
              " 'n_estimators': 371}"
            ]
          },
          "metadata": {
            "tags": []
          },
          "execution_count": 59
        }
      ]
    },
    {
      "cell_type": "code",
      "metadata": {
        "colab": {
          "base_uri": "https://localhost:8080/"
        },
        "id": "zLBVTWBTvCEU",
        "outputId": "7508eab5-bf3f-4106-8502-00d23cef3c8a"
      },
      "source": [
        "# Extra Trees Classifier\n",
        "\n",
        "extra_trees_classifier = ExtraTreesClassifier(**params)\n",
        "extra_trees_classifier.fit(train, target)\n",
        "acc_etc = round(extra_trees_classifier.score(train, target) * 100, 2)\n",
        "acc_etc"
      ],
      "execution_count": 60,
      "outputs": [
        {
          "output_type": "execute_result",
          "data": {
            "text/plain": [
              "80.65"
            ]
          },
          "metadata": {
            "tags": []
          },
          "execution_count": 60
        }
      ]
    },
    {
      "cell_type": "code",
      "metadata": {
        "colab": {
          "base_uri": "https://localhost:8080/"
        },
        "id": "Cz3chsWcvErN",
        "outputId": "e3dfe985-2512-4116-afd2-0273b719343d"
      },
      "source": [
        "acc_test_etc = round(extra_trees_classifier.score(test, target_test) * 100, 2)\n",
        "acc_test_etc"
      ],
      "execution_count": 61,
      "outputs": [
        {
          "output_type": "execute_result",
          "data": {
            "text/plain": [
              "76.34"
            ]
          },
          "metadata": {
            "tags": []
          },
          "execution_count": 61
        }
      ]
    },
    {
      "cell_type": "markdown",
      "metadata": {
        "id": "FVj9-yTZvesw"
      },
      "source": [
        "NN"
      ]
    },
    {
      "cell_type": "code",
      "metadata": {
        "id": "9DiTm5vVvH0p"
      },
      "source": [
        "def build_ann(optimizer='adam'):\n",
        "    \n",
        "    # Initializing the ANN\n",
        "    ann = Sequential()\n",
        "    \n",
        "    # Adding the input layer and the first hidden layer of the ANN with dropout\n",
        "    ann.add(Dense(units=32, kernel_initializer='glorot_uniform', activation='relu', input_shape=(len(train.columns),)))\n",
        "    \n",
        "    # Add other layers, it is not necessary to pass the shape because there is a layer before\n",
        "    ann.add(Dense(units=64, kernel_initializer='glorot_uniform', activation='relu'))\n",
        "    ann.add(Dropout(rate=0.5))\n",
        "    ann.add(Dense(units=64, kernel_initializer='glorot_uniform', activation='relu'))\n",
        "    ann.add(Dropout(rate=0.5))\n",
        "    \n",
        "    # Adding the output layer\n",
        "    ann.add(Dense(units=1, kernel_initializer='glorot_uniform', activation='sigmoid'))\n",
        "    \n",
        "    # Compiling the ANN\n",
        "    ann.compile(optimizer=optimizer, loss='binary_crossentropy', metrics=['accuracy'])\n",
        "    \n",
        "    return ann"
      ],
      "execution_count": 62,
      "outputs": []
    },
    {
      "cell_type": "code",
      "metadata": {
        "colab": {
          "base_uri": "https://localhost:8080/"
        },
        "id": "7XoR7R4NvgO8",
        "outputId": "d59efcb9-d366-48ea-d15e-282fe75f2380"
      },
      "source": [
        "opt = optimizers.Adam(lr=0.001)\n",
        "ann = build_ann(opt)\n",
        "# Training the ANN\n",
        "history = ann.fit(Xtrain, Ztrain, batch_size=16, epochs=100, validation_data=(Xval, Zval))"
      ],
      "execution_count": 63,
      "outputs": [
        {
          "output_type": "stream",
          "text": [
            "/usr/local/lib/python3.7/dist-packages/tensorflow/python/keras/optimizer_v2/optimizer_v2.py:375: UserWarning: The `lr` argument is deprecated, use `learning_rate` instead.\n",
            "  \"The `lr` argument is deprecated, use `learning_rate` instead.\")\n"
          ],
          "name": "stderr"
        },
        {
          "output_type": "stream",
          "text": [
            "Epoch 1/100\n",
            "10/10 [==============================] - 15s 62ms/step - loss: 11.3923 - accuracy: 0.4657 - val_loss: 4.1715 - val_accuracy: 0.6818\n",
            "Epoch 2/100\n",
            "10/10 [==============================] - 0s 6ms/step - loss: 9.7556 - accuracy: 0.5131 - val_loss: 3.3199 - val_accuracy: 0.6818\n",
            "Epoch 3/100\n",
            "10/10 [==============================] - 0s 5ms/step - loss: 6.1246 - accuracy: 0.5665 - val_loss: 3.2214 - val_accuracy: 0.6818\n",
            "Epoch 4/100\n",
            "10/10 [==============================] - 0s 5ms/step - loss: 3.7780 - accuracy: 0.6195 - val_loss: 2.8624 - val_accuracy: 0.6818\n",
            "Epoch 5/100\n",
            "10/10 [==============================] - 0s 4ms/step - loss: 4.1736 - accuracy: 0.5832 - val_loss: 2.0722 - val_accuracy: 0.6818\n",
            "Epoch 6/100\n",
            "10/10 [==============================] - 0s 4ms/step - loss: 3.5544 - accuracy: 0.6246 - val_loss: 1.7569 - val_accuracy: 0.6818\n",
            "Epoch 7/100\n",
            "10/10 [==============================] - 0s 4ms/step - loss: 2.9176 - accuracy: 0.6587 - val_loss: 1.0696 - val_accuracy: 0.6818\n",
            "Epoch 8/100\n",
            "10/10 [==============================] - 0s 4ms/step - loss: 2.5926 - accuracy: 0.6481 - val_loss: 0.6950 - val_accuracy: 0.6515\n",
            "Epoch 9/100\n",
            "10/10 [==============================] - 0s 5ms/step - loss: 2.0824 - accuracy: 0.5920 - val_loss: 0.8081 - val_accuracy: 0.6667\n",
            "Epoch 10/100\n",
            "10/10 [==============================] - 0s 4ms/step - loss: 1.9487 - accuracy: 0.6512 - val_loss: 0.7352 - val_accuracy: 0.7121\n",
            "Epoch 11/100\n",
            "10/10 [==============================] - 0s 4ms/step - loss: 1.9873 - accuracy: 0.7044 - val_loss: 0.5668 - val_accuracy: 0.7273\n",
            "Epoch 12/100\n",
            "10/10 [==============================] - 0s 5ms/step - loss: 1.2389 - accuracy: 0.7317 - val_loss: 0.5808 - val_accuracy: 0.7424\n",
            "Epoch 13/100\n",
            "10/10 [==============================] - 0s 4ms/step - loss: 1.0492 - accuracy: 0.7960 - val_loss: 0.5848 - val_accuracy: 0.7424\n",
            "Epoch 14/100\n",
            "10/10 [==============================] - 0s 6ms/step - loss: 1.5246 - accuracy: 0.6874 - val_loss: 0.5416 - val_accuracy: 0.7576\n",
            "Epoch 15/100\n",
            "10/10 [==============================] - 0s 4ms/step - loss: 0.9467 - accuracy: 0.7372 - val_loss: 0.5401 - val_accuracy: 0.7424\n",
            "Epoch 16/100\n",
            "10/10 [==============================] - 0s 4ms/step - loss: 0.7867 - accuracy: 0.7285 - val_loss: 0.5291 - val_accuracy: 0.7424\n",
            "Epoch 17/100\n",
            "10/10 [==============================] - 0s 4ms/step - loss: 1.0494 - accuracy: 0.6952 - val_loss: 0.5069 - val_accuracy: 0.7576\n",
            "Epoch 18/100\n",
            "10/10 [==============================] - 0s 6ms/step - loss: 0.7268 - accuracy: 0.7640 - val_loss: 0.4942 - val_accuracy: 0.7727\n",
            "Epoch 19/100\n",
            "10/10 [==============================] - 0s 4ms/step - loss: 0.7851 - accuracy: 0.7513 - val_loss: 0.4762 - val_accuracy: 0.7576\n",
            "Epoch 20/100\n",
            "10/10 [==============================] - 0s 6ms/step - loss: 0.6671 - accuracy: 0.7136 - val_loss: 0.4628 - val_accuracy: 0.7879\n",
            "Epoch 21/100\n",
            "10/10 [==============================] - 0s 4ms/step - loss: 0.8215 - accuracy: 0.7316 - val_loss: 0.4577 - val_accuracy: 0.7727\n",
            "Epoch 22/100\n",
            "10/10 [==============================] - 0s 6ms/step - loss: 0.6598 - accuracy: 0.6713 - val_loss: 0.4494 - val_accuracy: 0.7727\n",
            "Epoch 23/100\n",
            "10/10 [==============================] - 0s 5ms/step - loss: 0.9308 - accuracy: 0.7127 - val_loss: 0.4373 - val_accuracy: 0.7727\n",
            "Epoch 24/100\n",
            "10/10 [==============================] - 0s 5ms/step - loss: 0.7439 - accuracy: 0.6639 - val_loss: 0.4389 - val_accuracy: 0.7879\n",
            "Epoch 25/100\n",
            "10/10 [==============================] - 0s 4ms/step - loss: 0.6173 - accuracy: 0.7989 - val_loss: 0.4526 - val_accuracy: 0.7727\n",
            "Epoch 26/100\n",
            "10/10 [==============================] - 0s 4ms/step - loss: 0.5685 - accuracy: 0.7443 - val_loss: 0.4477 - val_accuracy: 0.7727\n",
            "Epoch 27/100\n",
            "10/10 [==============================] - 0s 6ms/step - loss: 0.4055 - accuracy: 0.8126 - val_loss: 0.4531 - val_accuracy: 0.7576\n",
            "Epoch 28/100\n",
            "10/10 [==============================] - 0s 4ms/step - loss: 0.3582 - accuracy: 0.8509 - val_loss: 0.4495 - val_accuracy: 0.7121\n",
            "Epoch 29/100\n",
            "10/10 [==============================] - 0s 4ms/step - loss: 0.4949 - accuracy: 0.7533 - val_loss: 0.4491 - val_accuracy: 0.7576\n",
            "Epoch 30/100\n",
            "10/10 [==============================] - 0s 4ms/step - loss: 0.4910 - accuracy: 0.7740 - val_loss: 0.4484 - val_accuracy: 0.7727\n",
            "Epoch 31/100\n",
            "10/10 [==============================] - 0s 6ms/step - loss: 0.4929 - accuracy: 0.7259 - val_loss: 0.4460 - val_accuracy: 0.8030\n",
            "Epoch 32/100\n",
            "10/10 [==============================] - 0s 4ms/step - loss: 0.4061 - accuracy: 0.7922 - val_loss: 0.4476 - val_accuracy: 0.8030\n",
            "Epoch 33/100\n",
            "10/10 [==============================] - 0s 4ms/step - loss: 0.4932 - accuracy: 0.7595 - val_loss: 0.4504 - val_accuracy: 0.7727\n",
            "Epoch 34/100\n",
            "10/10 [==============================] - 0s 5ms/step - loss: 0.4395 - accuracy: 0.7764 - val_loss: 0.4530 - val_accuracy: 0.7424\n",
            "Epoch 35/100\n",
            "10/10 [==============================] - 0s 5ms/step - loss: 0.5194 - accuracy: 0.7237 - val_loss: 0.4618 - val_accuracy: 0.7576\n",
            "Epoch 36/100\n",
            "10/10 [==============================] - 0s 6ms/step - loss: 0.3933 - accuracy: 0.8288 - val_loss: 0.4640 - val_accuracy: 0.7121\n",
            "Epoch 37/100\n",
            "10/10 [==============================] - 0s 4ms/step - loss: 0.3772 - accuracy: 0.7936 - val_loss: 0.4473 - val_accuracy: 0.7576\n",
            "Epoch 38/100\n",
            "10/10 [==============================] - 0s 4ms/step - loss: 0.3092 - accuracy: 0.8224 - val_loss: 0.4384 - val_accuracy: 0.7576\n",
            "Epoch 39/100\n",
            "10/10 [==============================] - 0s 4ms/step - loss: 0.4542 - accuracy: 0.7971 - val_loss: 0.4584 - val_accuracy: 0.7424\n",
            "Epoch 40/100\n",
            "10/10 [==============================] - 0s 4ms/step - loss: 0.3362 - accuracy: 0.8344 - val_loss: 0.4683 - val_accuracy: 0.7273\n",
            "Epoch 41/100\n",
            "10/10 [==============================] - 0s 4ms/step - loss: 0.4063 - accuracy: 0.7572 - val_loss: 0.4684 - val_accuracy: 0.7273\n",
            "Epoch 42/100\n",
            "10/10 [==============================] - 0s 5ms/step - loss: 0.3530 - accuracy: 0.8254 - val_loss: 0.4548 - val_accuracy: 0.7424\n",
            "Epoch 43/100\n",
            "10/10 [==============================] - 0s 4ms/step - loss: 0.3548 - accuracy: 0.8196 - val_loss: 0.4526 - val_accuracy: 0.7424\n",
            "Epoch 44/100\n",
            "10/10 [==============================] - 0s 4ms/step - loss: 0.3475 - accuracy: 0.8502 - val_loss: 0.4481 - val_accuracy: 0.7727\n",
            "Epoch 45/100\n",
            "10/10 [==============================] - 0s 6ms/step - loss: 0.3934 - accuracy: 0.7546 - val_loss: 0.4575 - val_accuracy: 0.7273\n",
            "Epoch 46/100\n",
            "10/10 [==============================] - 0s 4ms/step - loss: 0.4649 - accuracy: 0.7733 - val_loss: 0.4659 - val_accuracy: 0.7576\n",
            "Epoch 47/100\n",
            "10/10 [==============================] - 0s 4ms/step - loss: 0.3149 - accuracy: 0.8317 - val_loss: 0.4687 - val_accuracy: 0.7424\n",
            "Epoch 48/100\n",
            "10/10 [==============================] - 0s 6ms/step - loss: 0.3468 - accuracy: 0.8504 - val_loss: 0.4732 - val_accuracy: 0.7424\n",
            "Epoch 49/100\n",
            "10/10 [==============================] - 0s 4ms/step - loss: 0.3768 - accuracy: 0.7997 - val_loss: 0.4427 - val_accuracy: 0.7879\n",
            "Epoch 50/100\n",
            "10/10 [==============================] - 0s 4ms/step - loss: 0.3573 - accuracy: 0.8195 - val_loss: 0.4382 - val_accuracy: 0.7727\n",
            "Epoch 51/100\n",
            "10/10 [==============================] - 0s 6ms/step - loss: 0.3758 - accuracy: 0.8016 - val_loss: 0.4409 - val_accuracy: 0.7727\n",
            "Epoch 52/100\n",
            "10/10 [==============================] - 0s 4ms/step - loss: 0.3720 - accuracy: 0.7635 - val_loss: 0.4479 - val_accuracy: 0.7727\n",
            "Epoch 53/100\n",
            "10/10 [==============================] - 0s 4ms/step - loss: 0.3473 - accuracy: 0.8264 - val_loss: 0.4470 - val_accuracy: 0.7727\n",
            "Epoch 54/100\n",
            "10/10 [==============================] - 0s 6ms/step - loss: 0.2983 - accuracy: 0.8135 - val_loss: 0.4487 - val_accuracy: 0.7879\n",
            "Epoch 55/100\n",
            "10/10 [==============================] - 0s 4ms/step - loss: 0.3578 - accuracy: 0.8333 - val_loss: 0.4504 - val_accuracy: 0.7879\n",
            "Epoch 56/100\n",
            "10/10 [==============================] - 0s 4ms/step - loss: 0.4014 - accuracy: 0.8538 - val_loss: 0.4585 - val_accuracy: 0.7727\n",
            "Epoch 57/100\n",
            "10/10 [==============================] - 0s 6ms/step - loss: 0.3789 - accuracy: 0.7986 - val_loss: 0.4679 - val_accuracy: 0.7424\n",
            "Epoch 58/100\n",
            "10/10 [==============================] - 0s 4ms/step - loss: 0.3248 - accuracy: 0.8623 - val_loss: 0.4665 - val_accuracy: 0.7879\n",
            "Epoch 59/100\n",
            "10/10 [==============================] - 0s 5ms/step - loss: 0.3796 - accuracy: 0.7749 - val_loss: 0.4497 - val_accuracy: 0.7424\n",
            "Epoch 60/100\n",
            "10/10 [==============================] - 0s 4ms/step - loss: 0.3281 - accuracy: 0.8400 - val_loss: 0.4435 - val_accuracy: 0.7576\n",
            "Epoch 61/100\n",
            "10/10 [==============================] - 0s 6ms/step - loss: 0.3308 - accuracy: 0.8076 - val_loss: 0.4635 - val_accuracy: 0.7727\n",
            "Epoch 62/100\n",
            "10/10 [==============================] - 0s 4ms/step - loss: 0.2603 - accuracy: 0.8657 - val_loss: 0.5043 - val_accuracy: 0.7576\n",
            "Epoch 63/100\n",
            "10/10 [==============================] - 0s 5ms/step - loss: 0.3263 - accuracy: 0.8518 - val_loss: 0.4808 - val_accuracy: 0.7879\n",
            "Epoch 64/100\n",
            "10/10 [==============================] - 0s 4ms/step - loss: 0.3127 - accuracy: 0.8197 - val_loss: 0.4703 - val_accuracy: 0.7879\n",
            "Epoch 65/100\n",
            "10/10 [==============================] - 0s 4ms/step - loss: 0.3827 - accuracy: 0.8455 - val_loss: 0.4606 - val_accuracy: 0.7424\n",
            "Epoch 66/100\n",
            "10/10 [==============================] - 0s 6ms/step - loss: 0.3479 - accuracy: 0.8154 - val_loss: 0.4745 - val_accuracy: 0.7727\n",
            "Epoch 67/100\n",
            "10/10 [==============================] - 0s 4ms/step - loss: 0.3129 - accuracy: 0.8351 - val_loss: 0.4785 - val_accuracy: 0.7576\n",
            "Epoch 68/100\n",
            "10/10 [==============================] - 0s 4ms/step - loss: 0.3204 - accuracy: 0.8417 - val_loss: 0.4840 - val_accuracy: 0.7727\n",
            "Epoch 69/100\n",
            "10/10 [==============================] - 0s 4ms/step - loss: 0.3002 - accuracy: 0.8239 - val_loss: 0.5124 - val_accuracy: 0.7273\n",
            "Epoch 70/100\n",
            "10/10 [==============================] - 0s 6ms/step - loss: 0.2786 - accuracy: 0.8799 - val_loss: 0.5302 - val_accuracy: 0.6970\n",
            "Epoch 71/100\n",
            "10/10 [==============================] - 0s 4ms/step - loss: 0.2571 - accuracy: 0.8795 - val_loss: 0.5086 - val_accuracy: 0.7121\n",
            "Epoch 72/100\n",
            "10/10 [==============================] - 0s 5ms/step - loss: 0.3026 - accuracy: 0.8641 - val_loss: 0.4758 - val_accuracy: 0.7727\n",
            "Epoch 73/100\n",
            "10/10 [==============================] - 0s 4ms/step - loss: 0.3509 - accuracy: 0.8123 - val_loss: 0.4596 - val_accuracy: 0.7879\n",
            "Epoch 74/100\n",
            "10/10 [==============================] - 0s 4ms/step - loss: 0.3734 - accuracy: 0.7463 - val_loss: 0.4998 - val_accuracy: 0.7576\n",
            "Epoch 75/100\n",
            "10/10 [==============================] - 0s 5ms/step - loss: 0.3829 - accuracy: 0.7910 - val_loss: 0.5092 - val_accuracy: 0.6818\n",
            "Epoch 76/100\n",
            "10/10 [==============================] - 0s 4ms/step - loss: 0.3066 - accuracy: 0.8002 - val_loss: 0.5081 - val_accuracy: 0.7121\n",
            "Epoch 77/100\n",
            "10/10 [==============================] - 0s 6ms/step - loss: 0.2918 - accuracy: 0.8750 - val_loss: 0.5109 - val_accuracy: 0.7121\n",
            "Epoch 78/100\n",
            "10/10 [==============================] - 0s 4ms/step - loss: 0.2850 - accuracy: 0.8343 - val_loss: 0.5096 - val_accuracy: 0.7424\n",
            "Epoch 79/100\n",
            "10/10 [==============================] - 0s 4ms/step - loss: 0.3420 - accuracy: 0.8404 - val_loss: 0.5048 - val_accuracy: 0.7424\n",
            "Epoch 80/100\n",
            "10/10 [==============================] - 0s 5ms/step - loss: 0.2976 - accuracy: 0.8775 - val_loss: 0.4897 - val_accuracy: 0.7879\n",
            "Epoch 81/100\n",
            "10/10 [==============================] - 0s 4ms/step - loss: 0.3675 - accuracy: 0.8465 - val_loss: 0.4838 - val_accuracy: 0.8030\n",
            "Epoch 82/100\n",
            "10/10 [==============================] - 0s 4ms/step - loss: 0.3207 - accuracy: 0.8416 - val_loss: 0.4719 - val_accuracy: 0.7727\n",
            "Epoch 83/100\n",
            "10/10 [==============================] - 0s 4ms/step - loss: 0.3405 - accuracy: 0.8224 - val_loss: 0.4776 - val_accuracy: 0.7424\n",
            "Epoch 84/100\n",
            "10/10 [==============================] - 0s 6ms/step - loss: 0.3083 - accuracy: 0.8239 - val_loss: 0.4852 - val_accuracy: 0.7273\n",
            "Epoch 85/100\n",
            "10/10 [==============================] - 0s 4ms/step - loss: 0.3492 - accuracy: 0.7945 - val_loss: 0.4772 - val_accuracy: 0.7576\n",
            "Epoch 86/100\n",
            "10/10 [==============================] - 0s 4ms/step - loss: 0.3454 - accuracy: 0.8290 - val_loss: 0.4834 - val_accuracy: 0.7273\n",
            "Epoch 87/100\n",
            "10/10 [==============================] - 0s 6ms/step - loss: 0.2799 - accuracy: 0.8527 - val_loss: 0.4631 - val_accuracy: 0.7879\n",
            "Epoch 88/100\n",
            "10/10 [==============================] - 0s 6ms/step - loss: 0.3464 - accuracy: 0.7932 - val_loss: 0.4628 - val_accuracy: 0.7879\n",
            "Epoch 89/100\n",
            "10/10 [==============================] - 0s 4ms/step - loss: 0.3172 - accuracy: 0.8527 - val_loss: 0.4711 - val_accuracy: 0.7727\n",
            "Epoch 90/100\n",
            "10/10 [==============================] - 0s 4ms/step - loss: 0.2977 - accuracy: 0.8563 - val_loss: 0.4761 - val_accuracy: 0.7727\n",
            "Epoch 91/100\n",
            "10/10 [==============================] - 0s 6ms/step - loss: 0.4134 - accuracy: 0.8104 - val_loss: 0.4756 - val_accuracy: 0.7879\n",
            "Epoch 92/100\n",
            "10/10 [==============================] - 0s 6ms/step - loss: 0.2604 - accuracy: 0.9009 - val_loss: 0.4510 - val_accuracy: 0.7424\n",
            "Epoch 93/100\n",
            "10/10 [==============================] - 0s 4ms/step - loss: 0.2977 - accuracy: 0.8561 - val_loss: 0.4657 - val_accuracy: 0.7576\n",
            "Epoch 94/100\n",
            "10/10 [==============================] - 0s 4ms/step - loss: 0.2659 - accuracy: 0.8622 - val_loss: 0.4512 - val_accuracy: 0.7273\n",
            "Epoch 95/100\n",
            "10/10 [==============================] - 0s 5ms/step - loss: 0.3401 - accuracy: 0.8129 - val_loss: 0.4780 - val_accuracy: 0.8030\n",
            "Epoch 96/100\n",
            "10/10 [==============================] - 0s 4ms/step - loss: 0.3500 - accuracy: 0.8398 - val_loss: 0.5095 - val_accuracy: 0.7424\n",
            "Epoch 97/100\n",
            "10/10 [==============================] - 0s 4ms/step - loss: 0.2742 - accuracy: 0.8448 - val_loss: 0.5003 - val_accuracy: 0.7576\n",
            "Epoch 98/100\n",
            "10/10 [==============================] - 0s 6ms/step - loss: 0.3663 - accuracy: 0.8114 - val_loss: 0.4830 - val_accuracy: 0.7273\n",
            "Epoch 99/100\n",
            "10/10 [==============================] - 0s 6ms/step - loss: 0.3535 - accuracy: 0.8108 - val_loss: 0.4854 - val_accuracy: 0.7576\n",
            "Epoch 100/100\n",
            "10/10 [==============================] - 0s 4ms/step - loss: 0.3666 - accuracy: 0.8087 - val_loss: 0.4991 - val_accuracy: 0.6970\n"
          ],
          "name": "stdout"
        }
      ]
    },
    {
      "cell_type": "code",
      "metadata": {
        "colab": {
          "base_uri": "https://localhost:8080/"
        },
        "id": "VmQaqqwpvj1A",
        "outputId": "8b548bbf-a83b-4aba-a1c2-d0190fb0b894"
      },
      "source": [
        "# Predicting the Train set results\n",
        "ann_prediction = ann.predict(train)\n",
        "ann_prediction = (ann_prediction > 0.5)*1 # convert probabilities to binary output\n",
        "\n",
        "# Compute error between predicted data and true response and display it in confusion matrix\n",
        "acc_ann1 = round(metrics.accuracy_score(target, ann_prediction) * 100, 2)\n",
        "acc_ann1"
      ],
      "execution_count": 64,
      "outputs": [
        {
          "output_type": "execute_result",
          "data": {
            "text/plain": [
              "81.57"
            ]
          },
          "metadata": {
            "tags": []
          },
          "execution_count": 64
        }
      ]
    },
    {
      "cell_type": "code",
      "metadata": {
        "colab": {
          "base_uri": "https://localhost:8080/"
        },
        "id": "bxMlBeP0vqmw",
        "outputId": "ff89a6ca-c53b-4923-bc4b-31f82602dd33"
      },
      "source": [
        "# Predicting the Test set results\n",
        "ann_prediction_test = ann.predict(test)\n",
        "ann_prediction_test = (ann_prediction_test > 0.5)*1 # convert probabilities to binary output\n",
        "\n",
        "# Compute error between predicted data and true response and display it in confusion matrix\n",
        "acc_test_ann1 = round(metrics.accuracy_score(target_test, ann_prediction_test) * 100, 2)\n",
        "acc_test_ann1"
      ],
      "execution_count": 65,
      "outputs": [
        {
          "output_type": "execute_result",
          "data": {
            "text/plain": [
              "83.87"
            ]
          },
          "metadata": {
            "tags": []
          },
          "execution_count": 65
        }
      ]
    },
    {
      "cell_type": "markdown",
      "metadata": {
        "id": "FPyiiyNWvzHD"
      },
      "source": [
        " Neural Network 2 "
      ]
    },
    {
      "cell_type": "code",
      "metadata": {
        "colab": {
          "base_uri": "https://localhost:8080/"
        },
        "id": "njf4gfZsvuUi",
        "outputId": "c3b9479b-7753-455d-884e-75a1f0ae3566"
      },
      "source": [
        "# Model\n",
        "model = Sequential()\n",
        "model.add(Dense(16, input_dim = train.shape[1], activation = 'relu'))\n",
        "model.add(Dropout(0.3))\n",
        "model.add(Dense(64, activation = 'relu'))\n",
        "model.add(Dropout(0.3))\n",
        "model.add(Dense(32, activation = 'relu'))\n",
        "model.add(Dense(1, activation = 'sigmoid'))\n",
        "model.summary()"
      ],
      "execution_count": 66,
      "outputs": [
        {
          "output_type": "stream",
          "text": [
            "Model: \"sequential_1\"\n",
            "_________________________________________________________________\n",
            "Layer (type)                 Output Shape              Param #   \n",
            "=================================================================\n",
            "dense_4 (Dense)              (None, 16)                112       \n",
            "_________________________________________________________________\n",
            "dropout_2 (Dropout)          (None, 16)                0         \n",
            "_________________________________________________________________\n",
            "dense_5 (Dense)              (None, 64)                1088      \n",
            "_________________________________________________________________\n",
            "dropout_3 (Dropout)          (None, 64)                0         \n",
            "_________________________________________________________________\n",
            "dense_6 (Dense)              (None, 32)                2080      \n",
            "_________________________________________________________________\n",
            "dense_7 (Dense)              (None, 1)                 33        \n",
            "=================================================================\n",
            "Total params: 3,313\n",
            "Trainable params: 3,313\n",
            "Non-trainable params: 0\n",
            "_________________________________________________________________\n"
          ],
          "name": "stdout"
        }
      ]
    },
    {
      "cell_type": "code",
      "metadata": {
        "id": "oP_vVqIuv2nz"
      },
      "source": [
        "model.compile(loss='binary_crossentropy', optimizer='adam', metrics=['accuracy'])"
      ],
      "execution_count": 67,
      "outputs": []
    },
    {
      "cell_type": "code",
      "metadata": {
        "colab": {
          "base_uri": "https://localhost:8080/"
        },
        "id": "NBRNkWItwoGk",
        "outputId": "83953585-cd61-4716-e4e3-fd791253fbf3"
      },
      "source": [
        "es = EarlyStopping(monitor='val_accuracy', patience=20, mode='max')\n",
        "hist = model.fit(train, target, batch_size=64, validation_data=(Xval, Zval), \n",
        "               epochs=500, verbose=1, callbacks=[es])"
      ],
      "execution_count": 68,
      "outputs": [
        {
          "output_type": "stream",
          "text": [
            "Epoch 1/500\n",
            "4/4 [==============================] - 1s 112ms/step - loss: 12.4947 - accuracy: 0.3572 - val_loss: 6.1638 - val_accuracy: 0.3182\n",
            "Epoch 2/500\n",
            "4/4 [==============================] - 0s 8ms/step - loss: 5.6928 - accuracy: 0.4318 - val_loss: 1.6005 - val_accuracy: 0.3030\n",
            "Epoch 3/500\n",
            "4/4 [==============================] - 0s 8ms/step - loss: 3.9354 - accuracy: 0.4805 - val_loss: 1.4832 - val_accuracy: 0.6667\n",
            "Epoch 4/500\n",
            "4/4 [==============================] - 0s 8ms/step - loss: 2.8116 - accuracy: 0.5506 - val_loss: 1.8415 - val_accuracy: 0.6818\n",
            "Epoch 5/500\n",
            "4/4 [==============================] - 0s 10ms/step - loss: 3.2256 - accuracy: 0.5661 - val_loss: 1.6001 - val_accuracy: 0.6818\n",
            "Epoch 6/500\n",
            "4/4 [==============================] - 0s 8ms/step - loss: 3.4792 - accuracy: 0.5735 - val_loss: 1.0243 - val_accuracy: 0.6818\n",
            "Epoch 7/500\n",
            "4/4 [==============================] - 0s 9ms/step - loss: 2.6066 - accuracy: 0.5504 - val_loss: 0.6307 - val_accuracy: 0.6061\n",
            "Epoch 8/500\n",
            "4/4 [==============================] - 0s 12ms/step - loss: 2.2589 - accuracy: 0.5839 - val_loss: 0.8059 - val_accuracy: 0.5152\n",
            "Epoch 9/500\n",
            "4/4 [==============================] - 0s 9ms/step - loss: 2.0832 - accuracy: 0.5749 - val_loss: 1.0894 - val_accuracy: 0.4545\n",
            "Epoch 10/500\n",
            "4/4 [==============================] - 0s 8ms/step - loss: 2.0936 - accuracy: 0.5105 - val_loss: 0.9901 - val_accuracy: 0.4697\n",
            "Epoch 11/500\n",
            "4/4 [==============================] - 0s 9ms/step - loss: 1.7675 - accuracy: 0.5900 - val_loss: 0.6904 - val_accuracy: 0.5455\n",
            "Epoch 12/500\n",
            "4/4 [==============================] - 0s 9ms/step - loss: 1.7414 - accuracy: 0.5845 - val_loss: 0.5210 - val_accuracy: 0.7273\n",
            "Epoch 13/500\n",
            "4/4 [==============================] - 0s 8ms/step - loss: 1.4305 - accuracy: 0.5956 - val_loss: 0.4966 - val_accuracy: 0.6970\n",
            "Epoch 14/500\n",
            "4/4 [==============================] - 0s 9ms/step - loss: 1.4226 - accuracy: 0.6184 - val_loss: 0.4919 - val_accuracy: 0.7424\n",
            "Epoch 15/500\n",
            "4/4 [==============================] - 0s 8ms/step - loss: 1.4665 - accuracy: 0.6346 - val_loss: 0.4909 - val_accuracy: 0.7424\n",
            "Epoch 16/500\n",
            "4/4 [==============================] - 0s 7ms/step - loss: 1.8578 - accuracy: 0.5719 - val_loss: 0.4999 - val_accuracy: 0.6667\n",
            "Epoch 17/500\n",
            "4/4 [==============================] - 0s 8ms/step - loss: 1.2078 - accuracy: 0.6662 - val_loss: 0.5185 - val_accuracy: 0.6970\n",
            "Epoch 18/500\n",
            "4/4 [==============================] - 0s 8ms/step - loss: 1.2138 - accuracy: 0.6398 - val_loss: 0.5201 - val_accuracy: 0.6818\n",
            "Epoch 19/500\n",
            "4/4 [==============================] - 0s 8ms/step - loss: 1.2306 - accuracy: 0.6173 - val_loss: 0.5157 - val_accuracy: 0.6818\n",
            "Epoch 20/500\n",
            "4/4 [==============================] - 0s 9ms/step - loss: 1.4450 - accuracy: 0.6351 - val_loss: 0.5144 - val_accuracy: 0.7121\n",
            "Epoch 21/500\n",
            "4/4 [==============================] - 0s 9ms/step - loss: 1.2498 - accuracy: 0.6196 - val_loss: 0.5017 - val_accuracy: 0.7424\n",
            "Epoch 22/500\n",
            "4/4 [==============================] - 0s 8ms/step - loss: 1.2811 - accuracy: 0.6283 - val_loss: 0.4909 - val_accuracy: 0.7424\n",
            "Epoch 23/500\n",
            "4/4 [==============================] - 0s 9ms/step - loss: 1.2375 - accuracy: 0.6398 - val_loss: 0.4924 - val_accuracy: 0.7424\n",
            "Epoch 24/500\n",
            "4/4 [==============================] - 0s 8ms/step - loss: 1.1521 - accuracy: 0.6529 - val_loss: 0.4968 - val_accuracy: 0.7121\n",
            "Epoch 25/500\n",
            "4/4 [==============================] - 0s 8ms/step - loss: 1.1196 - accuracy: 0.6429 - val_loss: 0.5057 - val_accuracy: 0.7576\n",
            "Epoch 26/500\n",
            "4/4 [==============================] - 0s 9ms/step - loss: 1.1728 - accuracy: 0.6145 - val_loss: 0.5220 - val_accuracy: 0.7424\n",
            "Epoch 27/500\n",
            "4/4 [==============================] - 0s 12ms/step - loss: 1.0481 - accuracy: 0.5582 - val_loss: 0.5508 - val_accuracy: 0.7121\n",
            "Epoch 28/500\n",
            "4/4 [==============================] - 0s 8ms/step - loss: 1.0808 - accuracy: 0.5853 - val_loss: 0.5602 - val_accuracy: 0.7121\n",
            "Epoch 29/500\n",
            "4/4 [==============================] - 0s 8ms/step - loss: 0.9324 - accuracy: 0.6414 - val_loss: 0.5364 - val_accuracy: 0.7273\n",
            "Epoch 30/500\n",
            "4/4 [==============================] - 0s 9ms/step - loss: 1.0254 - accuracy: 0.6243 - val_loss: 0.5083 - val_accuracy: 0.7576\n",
            "Epoch 31/500\n",
            "4/4 [==============================] - 0s 8ms/step - loss: 1.1871 - accuracy: 0.6040 - val_loss: 0.4855 - val_accuracy: 0.7424\n",
            "Epoch 32/500\n",
            "4/4 [==============================] - 0s 9ms/step - loss: 1.0491 - accuracy: 0.6246 - val_loss: 0.4863 - val_accuracy: 0.7424\n",
            "Epoch 33/500\n",
            "4/4 [==============================] - 0s 9ms/step - loss: 0.9867 - accuracy: 0.6660 - val_loss: 0.4906 - val_accuracy: 0.7576\n",
            "Epoch 34/500\n",
            "4/4 [==============================] - 0s 8ms/step - loss: 0.8777 - accuracy: 0.6713 - val_loss: 0.5095 - val_accuracy: 0.7576\n",
            "Epoch 35/500\n",
            "4/4 [==============================] - 0s 8ms/step - loss: 0.8407 - accuracy: 0.6492 - val_loss: 0.5140 - val_accuracy: 0.7727\n",
            "Epoch 36/500\n",
            "4/4 [==============================] - 0s 8ms/step - loss: 0.9704 - accuracy: 0.6049 - val_loss: 0.4971 - val_accuracy: 0.7576\n",
            "Epoch 37/500\n",
            "4/4 [==============================] - 0s 9ms/step - loss: 0.8279 - accuracy: 0.6442 - val_loss: 0.4814 - val_accuracy: 0.7273\n",
            "Epoch 38/500\n",
            "4/4 [==============================] - 0s 12ms/step - loss: 1.0937 - accuracy: 0.5831 - val_loss: 0.4771 - val_accuracy: 0.7424\n",
            "Epoch 39/500\n",
            "4/4 [==============================] - 0s 13ms/step - loss: 0.8685 - accuracy: 0.6018 - val_loss: 0.4782 - val_accuracy: 0.7273\n",
            "Epoch 40/500\n",
            "4/4 [==============================] - 0s 9ms/step - loss: 0.6862 - accuracy: 0.7106 - val_loss: 0.4825 - val_accuracy: 0.6970\n",
            "Epoch 41/500\n",
            "4/4 [==============================] - 0s 9ms/step - loss: 0.7929 - accuracy: 0.6583 - val_loss: 0.4873 - val_accuracy: 0.7273\n",
            "Epoch 42/500\n",
            "4/4 [==============================] - 0s 10ms/step - loss: 0.7784 - accuracy: 0.6059 - val_loss: 0.4905 - val_accuracy: 0.7273\n",
            "Epoch 43/500\n",
            "4/4 [==============================] - 0s 9ms/step - loss: 0.8319 - accuracy: 0.6474 - val_loss: 0.4901 - val_accuracy: 0.7273\n",
            "Epoch 44/500\n",
            "4/4 [==============================] - 0s 8ms/step - loss: 0.7977 - accuracy: 0.6481 - val_loss: 0.4856 - val_accuracy: 0.7273\n",
            "Epoch 45/500\n",
            "4/4 [==============================] - 0s 7ms/step - loss: 0.8225 - accuracy: 0.6200 - val_loss: 0.4828 - val_accuracy: 0.7121\n",
            "Epoch 46/500\n",
            "4/4 [==============================] - 0s 8ms/step - loss: 0.8684 - accuracy: 0.6435 - val_loss: 0.4820 - val_accuracy: 0.7273\n",
            "Epoch 47/500\n",
            "4/4 [==============================] - 0s 9ms/step - loss: 0.7479 - accuracy: 0.6733 - val_loss: 0.4868 - val_accuracy: 0.7273\n",
            "Epoch 48/500\n",
            "4/4 [==============================] - 0s 9ms/step - loss: 0.8432 - accuracy: 0.6374 - val_loss: 0.4892 - val_accuracy: 0.7424\n",
            "Epoch 49/500\n",
            "4/4 [==============================] - 0s 9ms/step - loss: 0.6061 - accuracy: 0.7052 - val_loss: 0.4927 - val_accuracy: 0.7273\n",
            "Epoch 50/500\n",
            "4/4 [==============================] - 0s 9ms/step - loss: 0.7086 - accuracy: 0.7075 - val_loss: 0.5039 - val_accuracy: 0.7576\n",
            "Epoch 51/500\n",
            "4/4 [==============================] - 0s 8ms/step - loss: 0.6253 - accuracy: 0.7177 - val_loss: 0.4988 - val_accuracy: 0.7727\n",
            "Epoch 52/500\n",
            "4/4 [==============================] - 0s 9ms/step - loss: 0.7397 - accuracy: 0.6283 - val_loss: 0.4923 - val_accuracy: 0.7273\n",
            "Epoch 53/500\n",
            "4/4 [==============================] - 0s 9ms/step - loss: 0.7724 - accuracy: 0.6474 - val_loss: 0.4868 - val_accuracy: 0.7273\n",
            "Epoch 54/500\n",
            "4/4 [==============================] - 0s 15ms/step - loss: 0.8405 - accuracy: 0.6311 - val_loss: 0.4855 - val_accuracy: 0.7121\n",
            "Epoch 55/500\n",
            "4/4 [==============================] - 0s 8ms/step - loss: 0.7658 - accuracy: 0.7266 - val_loss: 0.4827 - val_accuracy: 0.7273\n"
          ],
          "name": "stdout"
        }
      ]
    },
    {
      "cell_type": "code",
      "metadata": {
        "colab": {
          "base_uri": "https://localhost:8080/"
        },
        "id": "jZjVbawBwq9g",
        "outputId": "7db80688-af95-4188-c9bd-eaf5d63d37fc"
      },
      "source": [
        "plt.plot(hist.history['accuracy'], label='acc')\n",
        "plt.plot(hist.history['val_accuracy'], label='val_acc')\n",
        "# plt.plot(hist.history['acc'], label='acc')\n",
        "# plt.plot(hist.history['val_acc'], label='val_acc')\n",
        "plt.ylim((0, 1))\n",
        "plt.legend()"
      ],
      "execution_count": 69,
      "outputs": [
        {
          "output_type": "execute_result",
          "data": {
            "text/plain": [
              "<matplotlib.legend.Legend at 0x7fee49694350>"
            ]
          },
          "metadata": {
            "tags": []
          },
          "execution_count": 69
        }
      ]
    },
    {
      "cell_type": "code",
      "metadata": {
        "colab": {
          "base_uri": "https://localhost:8080/"
        },
        "id": "qxS7kMOTwxNQ",
        "outputId": "36d95783-f045-4e49-e1c3-5821f26bd772"
      },
      "source": [
        "# Predicting the Train set results\n",
        "nn_prediction = model.predict(train)\n",
        "nn_prediction = (nn_prediction > 0.5)*1 # convert probabilities to binary output\n",
        "\n",
        "# Compute error between predicted data and true response\n",
        "acc_ann2 = round(metrics.accuracy_score(target, nn_prediction) * 100, 2)\n",
        "acc_ann2"
      ],
      "execution_count": 70,
      "outputs": [
        {
          "output_type": "execute_result",
          "data": {
            "text/plain": [
              "75.12"
            ]
          },
          "metadata": {
            "tags": []
          },
          "execution_count": 70
        }
      ]
    },
    {
      "cell_type": "code",
      "metadata": {
        "colab": {
          "base_uri": "https://localhost:8080/"
        },
        "id": "3HXLupX9w4we",
        "outputId": "798af099-b489-4fc9-8096-40cd6553ee47"
      },
      "source": [
        "# Predicting the Test set results\n",
        "nn_prediction_test = model.predict(test)\n",
        "nn_prediction_test = (nn_prediction_test > 0.5)*1 # convert probabilities to binary output\n",
        "\n",
        "# Compute error between predicted data and true response\n",
        "acc_test_ann2 = round(metrics.accuracy_score(target_test, nn_prediction_test) * 100, 2)\n",
        "acc_test_ann2"
      ],
      "execution_count": 71,
      "outputs": [
        {
          "output_type": "execute_result",
          "data": {
            "text/plain": [
              "75.27"
            ]
          },
          "metadata": {
            "tags": []
          },
          "execution_count": 71
        }
      ]
    },
    {
      "cell_type": "markdown",
      "metadata": {
        "id": "RFq7szeSqD_O"
      },
      "source": [
        "Voting_Classifier(hars_Voting)"
      ]
    },
    {
      "cell_type": "code",
      "metadata": {
        "colab": {
          "base_uri": "https://localhost:8080/"
        },
        "id": "pgaXsPSBxA-T",
        "outputId": "1b904b8e-95e8-4375-8c1f-aa1cb779fe31"
      },
      "source": [
        "Voting_Classifier_hard = VotingClassifier(estimators=[('lr', logreg), ('rf', random_forest), ('gbc', gradient_boosting)], voting='hard')\n",
        "for clf, label in zip([logreg, random_forest, gradient_boosting, Voting_Classifier_hard], \n",
        "                      ['Logistic Regression', 'Random Forest', 'Gradient Boosting Classifier', 'Ensemble']):\n",
        "    scores = cross_val_score(clf, train, target, cv=10, scoring='accuracy')\n",
        "    print(\"Accuracy: %0.2f (+/- %0.2f) [%s]\" % (scores.mean(), scores.std(), label))"
      ],
      "execution_count": 72,
      "outputs": [
        {
          "output_type": "stream",
          "text": [
            "Accuracy: 0.85 (+/- 0.09) [Logistic Regression]\n",
            "Accuracy: 0.86 (+/- 0.09) [Random Forest]\n",
            "Accuracy: 0.82 (+/- 0.11) [Gradient Boosting Classifier]\n",
            "Accuracy: 0.86 (+/- 0.10) [Ensemble]\n"
          ],
          "name": "stdout"
        }
      ]
    },
    {
      "cell_type": "code",
      "metadata": {
        "colab": {
          "base_uri": "https://localhost:8080/"
        },
        "id": "_B83cJ0hqL9b",
        "outputId": "58984fa7-41fd-40d3-dba3-0589abba499b"
      },
      "source": [
        "Voting_Classifier_hard.fit(train, target)\n",
        "acc_VC_hard = round(Voting_Classifier_hard.score(train, target) * 100, 2)\n",
        "acc_VC_hard"
      ],
      "execution_count": 73,
      "outputs": [
        {
          "output_type": "execute_result",
          "data": {
            "text/plain": [
              "100.0"
            ]
          },
          "metadata": {
            "tags": []
          },
          "execution_count": 73
        }
      ]
    },
    {
      "cell_type": "code",
      "metadata": {
        "colab": {
          "base_uri": "https://localhost:8080/"
        },
        "id": "CVP9IeWMqM-N",
        "outputId": "8bd205e2-1d0b-4bcc-ec52-0c27654c4254"
      },
      "source": [
        "acc_test_VC_hard = round(Voting_Classifier_hard.score(test, target_test) * 100, 2)\n",
        "acc_test_VC_hard"
      ],
      "execution_count": 74,
      "outputs": [
        {
          "output_type": "execute_result",
          "data": {
            "text/plain": [
              "86.02"
            ]
          },
          "metadata": {
            "tags": []
          },
          "execution_count": 74
        }
      ]
    },
    {
      "cell_type": "markdown",
      "metadata": {
        "id": "6AcCuawjqVUy"
      },
      "source": [
        "VotingClassifier (soft voting) "
      ]
    },
    {
      "cell_type": "code",
      "metadata": {
        "colab": {
          "base_uri": "https://localhost:8080/"
        },
        "id": "MDk8CmdQqQ_j",
        "outputId": "0c6056d8-0819-4ce8-fb7a-a08a36ae0315"
      },
      "source": [
        "eclf = VotingClassifier(estimators=[('lr', logreg), ('rf', random_forest), ('gbc', gradient_boosting)], voting='soft')\n",
        "params = {'lr__C': [1.0, 100.0], 'gbc__learning_rate': [0.05, 1]}\n",
        "Voting_Classifier_soft = GridSearchCV(estimator=eclf, param_grid=params, cv=5)\n",
        "Voting_Classifier_soft.fit(train, target)\n",
        "acc_VC_soft = round(Voting_Classifier_soft.score(train, target) * 100, 2)\n",
        "acc_VC_soft"
      ],
      "execution_count": 75,
      "outputs": [
        {
          "output_type": "execute_result",
          "data": {
            "text/plain": [
              "100.0"
            ]
          },
          "metadata": {
            "tags": []
          },
          "execution_count": 75
        }
      ]
    },
    {
      "cell_type": "code",
      "metadata": {
        "colab": {
          "base_uri": "https://localhost:8080/"
        },
        "id": "We3EqGpGqZVB",
        "outputId": "f76d1b82-d930-4dbb-c1e1-aaf0c4f4904d"
      },
      "source": [
        "acc_test_VC_soft = round(Voting_Classifier_soft.score(test, target_test) * 100, 2)\n",
        "acc_test_VC_soft"
      ],
      "execution_count": 76,
      "outputs": [
        {
          "output_type": "execute_result",
          "data": {
            "text/plain": [
              "82.8"
            ]
          },
          "metadata": {
            "tags": []
          },
          "execution_count": 76
        }
      ]
    },
    {
      "cell_type": "markdown",
      "metadata": {
        "id": "tlw-aTljqq-l"
      },
      "source": [
        "AdaBoost Classifier "
      ]
    },
    {
      "cell_type": "code",
      "metadata": {
        "colab": {
          "base_uri": "https://localhost:8080/"
        },
        "id": "1-eL246WqcF6",
        "outputId": "f41cdad5-7f27-4a5e-f62f-b9de2f93d4af"
      },
      "source": [
        "def hyperopt_ab_score(params):\n",
        "    clf = AdaBoostClassifier(**params)\n",
        "    current_score = cross_val_score(clf, train, target, cv=10).mean()\n",
        "    print(current_score, params)\n",
        "    return current_score \n",
        " \n",
        "space_ab = {\n",
        "            'n_estimators': hp.choice('n_estimators', range(50, 1000)),\n",
        "            'learning_rate': hp.quniform('learning_rate', 0, 0.05, 0.0001)       \n",
        "        }\n",
        " \n",
        "best = fmin(fn=hyperopt_ab_score, space=space_ab, algo=tpe.suggest, max_evals=10)\n",
        "print('best:')\n",
        "print(best)"
      ],
      "execution_count": 77,
      "outputs": [
        {
          "output_type": "stream",
          "text": [
            "0.8432900432900432\n",
            "{'learning_rate': 0.0439, 'n_estimators': 816}\n",
            "0.8432900432900432\n",
            "{'learning_rate': 0.0287, 'n_estimators': 960}\n",
            "0.825108225108225\n",
            "{'learning_rate': 0.0148, 'n_estimators': 581}\n",
            "0.8296536796536795\n",
            "{'learning_rate': 0.023, 'n_estimators': 259}\n",
            "0.8203463203463203\n",
            "{'learning_rate': 0.0097, 'n_estimators': 505}\n",
            "0.8385281385281385\n",
            "{'learning_rate': 0.031400000000000004, 'n_estimators': 935}\n",
            "0.7833333333333334\n",
            "{'learning_rate': 0.0166, 'n_estimators': 106}\n",
            "0.8437229437229437\n",
            "{'learning_rate': 0.045200000000000004, 'n_estimators': 289}\n",
            "0.7831168831168831\n",
            "{'learning_rate': 0.0038, 'n_estimators': 472}\n",
            "0.7831168831168831\n",
            "{'learning_rate': 0.0036000000000000003, 'n_estimators': 334}\n",
            "100%|██████████| 10/10 [01:25<00:00,  8.53s/it, best loss: 0.7831168831168831]\n",
            "best:\n",
            "{'learning_rate': 0.0038, 'n_estimators': 422}\n"
          ],
          "name": "stdout"
        }
      ]
    },
    {
      "cell_type": "code",
      "metadata": {
        "colab": {
          "base_uri": "https://localhost:8080/"
        },
        "id": "02SVgCcSqvR5",
        "outputId": "767c0a6c-117f-4ceb-c20a-e534e95e5ce3"
      },
      "source": [
        "params = space_eval(space_ab, best)\n",
        "params"
      ],
      "execution_count": 78,
      "outputs": [
        {
          "output_type": "execute_result",
          "data": {
            "text/plain": [
              "{'learning_rate': 0.0038, 'n_estimators': 472}"
            ]
          },
          "metadata": {
            "tags": []
          },
          "execution_count": 78
        }
      ]
    },
    {
      "cell_type": "code",
      "metadata": {
        "colab": {
          "base_uri": "https://localhost:8080/"
        },
        "id": "nAJuMif_qyeu",
        "outputId": "d3096640-5752-44b4-9b16-7563499a133c"
      },
      "source": [
        "# AdaBoost Classifier\n",
        "\n",
        "Ada_Boost = AdaBoostClassifier(**params)\n",
        "Ada_Boost.fit(train, target)\n",
        "Ada_Boost.score(train, target)\n",
        "acc_AdaBoost = round(Ada_Boost.score(train, target) * 100, 2)\n",
        "acc_AdaBoost"
      ],
      "execution_count": 79,
      "outputs": [
        {
          "output_type": "execute_result",
          "data": {
            "text/plain": [
              "85.25"
            ]
          },
          "metadata": {
            "tags": []
          },
          "execution_count": 79
        }
      ]
    },
    {
      "cell_type": "code",
      "metadata": {
        "colab": {
          "base_uri": "https://localhost:8080/"
        },
        "id": "RvT8oObpq1bI",
        "outputId": "8d7689bc-7694-4770-f31f-26f73a263252"
      },
      "source": [
        "acc_test_AdaBoost = round(Ada_Boost.score(test, target_test) * 100, 2)\n",
        "acc_test_AdaBoost"
      ],
      "execution_count": 80,
      "outputs": [
        {
          "output_type": "execute_result",
          "data": {
            "text/plain": [
              "82.8"
            ]
          },
          "metadata": {
            "tags": []
          },
          "execution_count": 80
        }
      ]
    },
    {
      "cell_type": "markdown",
      "metadata": {
        "id": "gKUFoTfOq8_N"
      },
      "source": [
        " Models evaluation"
      ]
    },
    {
      "cell_type": "code",
      "metadata": {
        "id": "YcpNAZcSq42M"
      },
      "source": [
        "models = pd.DataFrame({\n",
        "    'Model': ['Logistic Regression', 'Support Vector Machines', 'Linear SVC', 'k-Nearest Neighbors', 'Naive Bayes', \n",
        "              'Perceptron', 'Stochastic Gradient Decent', \n",
        "              'Decision Tree Classifier', 'Random Forest',  'XGBClassifier', 'LGBMClassifier',\n",
        "              'GradientBoostingClassifier', 'RidgeClassifier', 'BaggingClassifier', 'ExtraTreesClassifier', \n",
        "              'Neural Network 1', 'Neural Network 2', \n",
        "              'VotingClassifier-hard voiting', 'VotingClassifier-soft voting',\n",
        "              'AdaBoostClassifier'],\n",
        "    \n",
        "    'Score_train': [acc_log, acc_svc, acc_linear_svc, acc_knn, acc_gaussian, \n",
        "              acc_perceptron, acc_sgd, \n",
        "              acc_decision_tree, acc_random_forest, acc_XGB_Classifier, acc_LGB_Classifier,\n",
        "              acc_gradient_boosting, acc_ridge_classifier, acc_bagging_classifier, acc_etc, \n",
        "              acc_ann1, acc_ann2, \n",
        "              acc_VC_hard, acc_VC_soft,\n",
        "              acc_AdaBoost],\n",
        "    'Score_test': [acc_test_log, acc_test_svc, acc_test_linear_svc, acc_test_knn, acc_test_gaussian, \n",
        "              acc_test_perceptron, acc_test_sgd, \n",
        "              acc_test_decision_tree, acc_test_random_forest, acc_test_XGB_Classifier, acc_test_LGB_Classifier,\n",
        "              acc_test_gradient_boosting, acc_test_ridge_classifier, acc_test_bagging_classifier, acc_test_etc, \n",
        "              acc_test_ann1, acc_test_ann2, \n",
        "              acc_test_VC_hard, acc_test_VC_soft,\n",
        "              acc_test_AdaBoost]\n",
        "                    })"
      ],
      "execution_count": 81,
      "outputs": []
    },
    {
      "cell_type": "code",
      "metadata": {
        "colab": {
          "base_uri": "https://localhost:8080/",
          "height": 669
        },
        "id": "_5rGg1XdrDOi",
        "outputId": "b41bfd92-4295-4917-e5da-0f0567f7a09a"
      },
      "source": [
        "models.sort_values(by=['Score_train', 'Score_test'], ascending=False)"
      ],
      "execution_count": 82,
      "outputs": [
        {
          "output_type": "execute_result",
          "data": {
            "text/html": [
              "<div>\n",
              "<style scoped>\n",
              "    .dataframe tbody tr th:only-of-type {\n",
              "        vertical-align: middle;\n",
              "    }\n",
              "\n",
              "    .dataframe tbody tr th {\n",
              "        vertical-align: top;\n",
              "    }\n",
              "\n",
              "    .dataframe thead th {\n",
              "        text-align: right;\n",
              "    }\n",
              "</style>\n",
              "<table border=\"1\" class=\"dataframe\">\n",
              "  <thead>\n",
              "    <tr style=\"text-align: right;\">\n",
              "      <th></th>\n",
              "      <th>Model</th>\n",
              "      <th>Score_train</th>\n",
              "      <th>Score_test</th>\n",
              "    </tr>\n",
              "  </thead>\n",
              "  <tbody>\n",
              "    <tr>\n",
              "      <th>17</th>\n",
              "      <td>VotingClassifier-hard voiting</td>\n",
              "      <td>100.00</td>\n",
              "      <td>86.02</td>\n",
              "    </tr>\n",
              "    <tr>\n",
              "      <th>8</th>\n",
              "      <td>Random Forest</td>\n",
              "      <td>100.00</td>\n",
              "      <td>83.87</td>\n",
              "    </tr>\n",
              "    <tr>\n",
              "      <th>18</th>\n",
              "      <td>VotingClassifier-soft voting</td>\n",
              "      <td>100.00</td>\n",
              "      <td>82.80</td>\n",
              "    </tr>\n",
              "    <tr>\n",
              "      <th>7</th>\n",
              "      <td>Decision Tree Classifier</td>\n",
              "      <td>100.00</td>\n",
              "      <td>80.65</td>\n",
              "    </tr>\n",
              "    <tr>\n",
              "      <th>11</th>\n",
              "      <td>GradientBoostingClassifier</td>\n",
              "      <td>100.00</td>\n",
              "      <td>79.57</td>\n",
              "    </tr>\n",
              "    <tr>\n",
              "      <th>13</th>\n",
              "      <td>BaggingClassifier</td>\n",
              "      <td>99.54</td>\n",
              "      <td>82.80</td>\n",
              "    </tr>\n",
              "    <tr>\n",
              "      <th>3</th>\n",
              "      <td>k-Nearest Neighbors</td>\n",
              "      <td>90.32</td>\n",
              "      <td>86.02</td>\n",
              "    </tr>\n",
              "    <tr>\n",
              "      <th>10</th>\n",
              "      <td>LGBMClassifier</td>\n",
              "      <td>88.02</td>\n",
              "      <td>87.10</td>\n",
              "    </tr>\n",
              "    <tr>\n",
              "      <th>19</th>\n",
              "      <td>AdaBoostClassifier</td>\n",
              "      <td>85.25</td>\n",
              "      <td>82.80</td>\n",
              "    </tr>\n",
              "    <tr>\n",
              "      <th>0</th>\n",
              "      <td>Logistic Regression</td>\n",
              "      <td>84.79</td>\n",
              "      <td>87.10</td>\n",
              "    </tr>\n",
              "    <tr>\n",
              "      <th>2</th>\n",
              "      <td>Linear SVC</td>\n",
              "      <td>84.79</td>\n",
              "      <td>86.02</td>\n",
              "    </tr>\n",
              "    <tr>\n",
              "      <th>9</th>\n",
              "      <td>XGBClassifier</td>\n",
              "      <td>84.33</td>\n",
              "      <td>87.10</td>\n",
              "    </tr>\n",
              "    <tr>\n",
              "      <th>1</th>\n",
              "      <td>Support Vector Machines</td>\n",
              "      <td>84.33</td>\n",
              "      <td>84.95</td>\n",
              "    </tr>\n",
              "    <tr>\n",
              "      <th>12</th>\n",
              "      <td>RidgeClassifier</td>\n",
              "      <td>83.87</td>\n",
              "      <td>81.72</td>\n",
              "    </tr>\n",
              "    <tr>\n",
              "      <th>5</th>\n",
              "      <td>Perceptron</td>\n",
              "      <td>82.03</td>\n",
              "      <td>84.95</td>\n",
              "    </tr>\n",
              "    <tr>\n",
              "      <th>15</th>\n",
              "      <td>Neural Network 1</td>\n",
              "      <td>81.57</td>\n",
              "      <td>83.87</td>\n",
              "    </tr>\n",
              "    <tr>\n",
              "      <th>14</th>\n",
              "      <td>ExtraTreesClassifier</td>\n",
              "      <td>80.65</td>\n",
              "      <td>76.34</td>\n",
              "    </tr>\n",
              "    <tr>\n",
              "      <th>6</th>\n",
              "      <td>Stochastic Gradient Decent</td>\n",
              "      <td>77.88</td>\n",
              "      <td>84.95</td>\n",
              "    </tr>\n",
              "    <tr>\n",
              "      <th>4</th>\n",
              "      <td>Naive Bayes</td>\n",
              "      <td>76.96</td>\n",
              "      <td>81.72</td>\n",
              "    </tr>\n",
              "    <tr>\n",
              "      <th>16</th>\n",
              "      <td>Neural Network 2</td>\n",
              "      <td>75.12</td>\n",
              "      <td>75.27</td>\n",
              "    </tr>\n",
              "  </tbody>\n",
              "</table>\n",
              "</div>"
            ],
            "text/plain": [
              "                            Model  Score_train  Score_test\n",
              "17  VotingClassifier-hard voiting       100.00       86.02\n",
              "8                   Random Forest       100.00       83.87\n",
              "18   VotingClassifier-soft voting       100.00       82.80\n",
              "7        Decision Tree Classifier       100.00       80.65\n",
              "11     GradientBoostingClassifier       100.00       79.57\n",
              "13              BaggingClassifier        99.54       82.80\n",
              "3             k-Nearest Neighbors        90.32       86.02\n",
              "10                 LGBMClassifier        88.02       87.10\n",
              "19             AdaBoostClassifier        85.25       82.80\n",
              "0             Logistic Regression        84.79       87.10\n",
              "2                      Linear SVC        84.79       86.02\n",
              "9                   XGBClassifier        84.33       87.10\n",
              "1         Support Vector Machines        84.33       84.95\n",
              "12                RidgeClassifier        83.87       81.72\n",
              "5                      Perceptron        82.03       84.95\n",
              "15               Neural Network 1        81.57       83.87\n",
              "14           ExtraTreesClassifier        80.65       76.34\n",
              "6      Stochastic Gradient Decent        77.88       84.95\n",
              "4                     Naive Bayes        76.96       81.72\n",
              "16               Neural Network 2        75.12       75.27"
            ]
          },
          "metadata": {
            "tags": []
          },
          "execution_count": 82
        }
      ]
    },
    {
      "cell_type": "code",
      "metadata": {
        "colab": {
          "base_uri": "https://localhost:8080/",
          "height": 669
        },
        "id": "5C0_eExprG5g",
        "outputId": "04bf1d60-29ee-4d20-af51-a933709a74e0"
      },
      "source": [
        "models.sort_values(by=['Score_test', 'Score_train'], ascending=False)"
      ],
      "execution_count": 83,
      "outputs": [
        {
          "output_type": "execute_result",
          "data": {
            "text/html": [
              "<div>\n",
              "<style scoped>\n",
              "    .dataframe tbody tr th:only-of-type {\n",
              "        vertical-align: middle;\n",
              "    }\n",
              "\n",
              "    .dataframe tbody tr th {\n",
              "        vertical-align: top;\n",
              "    }\n",
              "\n",
              "    .dataframe thead th {\n",
              "        text-align: right;\n",
              "    }\n",
              "</style>\n",
              "<table border=\"1\" class=\"dataframe\">\n",
              "  <thead>\n",
              "    <tr style=\"text-align: right;\">\n",
              "      <th></th>\n",
              "      <th>Model</th>\n",
              "      <th>Score_train</th>\n",
              "      <th>Score_test</th>\n",
              "    </tr>\n",
              "  </thead>\n",
              "  <tbody>\n",
              "    <tr>\n",
              "      <th>10</th>\n",
              "      <td>LGBMClassifier</td>\n",
              "      <td>88.02</td>\n",
              "      <td>87.10</td>\n",
              "    </tr>\n",
              "    <tr>\n",
              "      <th>0</th>\n",
              "      <td>Logistic Regression</td>\n",
              "      <td>84.79</td>\n",
              "      <td>87.10</td>\n",
              "    </tr>\n",
              "    <tr>\n",
              "      <th>9</th>\n",
              "      <td>XGBClassifier</td>\n",
              "      <td>84.33</td>\n",
              "      <td>87.10</td>\n",
              "    </tr>\n",
              "    <tr>\n",
              "      <th>17</th>\n",
              "      <td>VotingClassifier-hard voiting</td>\n",
              "      <td>100.00</td>\n",
              "      <td>86.02</td>\n",
              "    </tr>\n",
              "    <tr>\n",
              "      <th>3</th>\n",
              "      <td>k-Nearest Neighbors</td>\n",
              "      <td>90.32</td>\n",
              "      <td>86.02</td>\n",
              "    </tr>\n",
              "    <tr>\n",
              "      <th>2</th>\n",
              "      <td>Linear SVC</td>\n",
              "      <td>84.79</td>\n",
              "      <td>86.02</td>\n",
              "    </tr>\n",
              "    <tr>\n",
              "      <th>1</th>\n",
              "      <td>Support Vector Machines</td>\n",
              "      <td>84.33</td>\n",
              "      <td>84.95</td>\n",
              "    </tr>\n",
              "    <tr>\n",
              "      <th>5</th>\n",
              "      <td>Perceptron</td>\n",
              "      <td>82.03</td>\n",
              "      <td>84.95</td>\n",
              "    </tr>\n",
              "    <tr>\n",
              "      <th>6</th>\n",
              "      <td>Stochastic Gradient Decent</td>\n",
              "      <td>77.88</td>\n",
              "      <td>84.95</td>\n",
              "    </tr>\n",
              "    <tr>\n",
              "      <th>8</th>\n",
              "      <td>Random Forest</td>\n",
              "      <td>100.00</td>\n",
              "      <td>83.87</td>\n",
              "    </tr>\n",
              "    <tr>\n",
              "      <th>15</th>\n",
              "      <td>Neural Network 1</td>\n",
              "      <td>81.57</td>\n",
              "      <td>83.87</td>\n",
              "    </tr>\n",
              "    <tr>\n",
              "      <th>18</th>\n",
              "      <td>VotingClassifier-soft voting</td>\n",
              "      <td>100.00</td>\n",
              "      <td>82.80</td>\n",
              "    </tr>\n",
              "    <tr>\n",
              "      <th>13</th>\n",
              "      <td>BaggingClassifier</td>\n",
              "      <td>99.54</td>\n",
              "      <td>82.80</td>\n",
              "    </tr>\n",
              "    <tr>\n",
              "      <th>19</th>\n",
              "      <td>AdaBoostClassifier</td>\n",
              "      <td>85.25</td>\n",
              "      <td>82.80</td>\n",
              "    </tr>\n",
              "    <tr>\n",
              "      <th>12</th>\n",
              "      <td>RidgeClassifier</td>\n",
              "      <td>83.87</td>\n",
              "      <td>81.72</td>\n",
              "    </tr>\n",
              "    <tr>\n",
              "      <th>4</th>\n",
              "      <td>Naive Bayes</td>\n",
              "      <td>76.96</td>\n",
              "      <td>81.72</td>\n",
              "    </tr>\n",
              "    <tr>\n",
              "      <th>7</th>\n",
              "      <td>Decision Tree Classifier</td>\n",
              "      <td>100.00</td>\n",
              "      <td>80.65</td>\n",
              "    </tr>\n",
              "    <tr>\n",
              "      <th>11</th>\n",
              "      <td>GradientBoostingClassifier</td>\n",
              "      <td>100.00</td>\n",
              "      <td>79.57</td>\n",
              "    </tr>\n",
              "    <tr>\n",
              "      <th>14</th>\n",
              "      <td>ExtraTreesClassifier</td>\n",
              "      <td>80.65</td>\n",
              "      <td>76.34</td>\n",
              "    </tr>\n",
              "    <tr>\n",
              "      <th>16</th>\n",
              "      <td>Neural Network 2</td>\n",
              "      <td>75.12</td>\n",
              "      <td>75.27</td>\n",
              "    </tr>\n",
              "  </tbody>\n",
              "</table>\n",
              "</div>"
            ],
            "text/plain": [
              "                            Model  Score_train  Score_test\n",
              "10                 LGBMClassifier        88.02       87.10\n",
              "0             Logistic Regression        84.79       87.10\n",
              "9                   XGBClassifier        84.33       87.10\n",
              "17  VotingClassifier-hard voiting       100.00       86.02\n",
              "3             k-Nearest Neighbors        90.32       86.02\n",
              "2                      Linear SVC        84.79       86.02\n",
              "1         Support Vector Machines        84.33       84.95\n",
              "5                      Perceptron        82.03       84.95\n",
              "6      Stochastic Gradient Decent        77.88       84.95\n",
              "8                   Random Forest       100.00       83.87\n",
              "15               Neural Network 1        81.57       83.87\n",
              "18   VotingClassifier-soft voting       100.00       82.80\n",
              "13              BaggingClassifier        99.54       82.80\n",
              "19             AdaBoostClassifier        85.25       82.80\n",
              "12                RidgeClassifier        83.87       81.72\n",
              "4                     Naive Bayes        76.96       81.72\n",
              "7        Decision Tree Classifier       100.00       80.65\n",
              "11     GradientBoostingClassifier       100.00       79.57\n",
              "14           ExtraTreesClassifier        80.65       76.34\n",
              "16               Neural Network 2        75.12       75.27"
            ]
          },
          "metadata": {
            "tags": []
          },
          "execution_count": 83
        }
      ]
    },
    {
      "cell_type": "code",
      "metadata": {
        "colab": {
          "base_uri": "https://localhost:8080/",
          "height": 669
        },
        "id": "YZDMVbKHrKCY",
        "outputId": "2528166a-8fc6-4ebf-f9c0-192be2ddb5a6"
      },
      "source": [
        "models['Score_diff'] = abs(models['Score_train'] - models['Score_test'])\n",
        "models.sort_values(by=['Score_diff'], ascending=True)"
      ],
      "execution_count": 84,
      "outputs": [
        {
          "output_type": "execute_result",
          "data": {
            "text/html": [
              "<div>\n",
              "<style scoped>\n",
              "    .dataframe tbody tr th:only-of-type {\n",
              "        vertical-align: middle;\n",
              "    }\n",
              "\n",
              "    .dataframe tbody tr th {\n",
              "        vertical-align: top;\n",
              "    }\n",
              "\n",
              "    .dataframe thead th {\n",
              "        text-align: right;\n",
              "    }\n",
              "</style>\n",
              "<table border=\"1\" class=\"dataframe\">\n",
              "  <thead>\n",
              "    <tr style=\"text-align: right;\">\n",
              "      <th></th>\n",
              "      <th>Model</th>\n",
              "      <th>Score_train</th>\n",
              "      <th>Score_test</th>\n",
              "      <th>Score_diff</th>\n",
              "    </tr>\n",
              "  </thead>\n",
              "  <tbody>\n",
              "    <tr>\n",
              "      <th>16</th>\n",
              "      <td>Neural Network 2</td>\n",
              "      <td>75.12</td>\n",
              "      <td>75.27</td>\n",
              "      <td>0.15</td>\n",
              "    </tr>\n",
              "    <tr>\n",
              "      <th>1</th>\n",
              "      <td>Support Vector Machines</td>\n",
              "      <td>84.33</td>\n",
              "      <td>84.95</td>\n",
              "      <td>0.62</td>\n",
              "    </tr>\n",
              "    <tr>\n",
              "      <th>10</th>\n",
              "      <td>LGBMClassifier</td>\n",
              "      <td>88.02</td>\n",
              "      <td>87.10</td>\n",
              "      <td>0.92</td>\n",
              "    </tr>\n",
              "    <tr>\n",
              "      <th>2</th>\n",
              "      <td>Linear SVC</td>\n",
              "      <td>84.79</td>\n",
              "      <td>86.02</td>\n",
              "      <td>1.23</td>\n",
              "    </tr>\n",
              "    <tr>\n",
              "      <th>12</th>\n",
              "      <td>RidgeClassifier</td>\n",
              "      <td>83.87</td>\n",
              "      <td>81.72</td>\n",
              "      <td>2.15</td>\n",
              "    </tr>\n",
              "    <tr>\n",
              "      <th>15</th>\n",
              "      <td>Neural Network 1</td>\n",
              "      <td>81.57</td>\n",
              "      <td>83.87</td>\n",
              "      <td>2.30</td>\n",
              "    </tr>\n",
              "    <tr>\n",
              "      <th>0</th>\n",
              "      <td>Logistic Regression</td>\n",
              "      <td>84.79</td>\n",
              "      <td>87.10</td>\n",
              "      <td>2.31</td>\n",
              "    </tr>\n",
              "    <tr>\n",
              "      <th>19</th>\n",
              "      <td>AdaBoostClassifier</td>\n",
              "      <td>85.25</td>\n",
              "      <td>82.80</td>\n",
              "      <td>2.45</td>\n",
              "    </tr>\n",
              "    <tr>\n",
              "      <th>9</th>\n",
              "      <td>XGBClassifier</td>\n",
              "      <td>84.33</td>\n",
              "      <td>87.10</td>\n",
              "      <td>2.77</td>\n",
              "    </tr>\n",
              "    <tr>\n",
              "      <th>5</th>\n",
              "      <td>Perceptron</td>\n",
              "      <td>82.03</td>\n",
              "      <td>84.95</td>\n",
              "      <td>2.92</td>\n",
              "    </tr>\n",
              "    <tr>\n",
              "      <th>3</th>\n",
              "      <td>k-Nearest Neighbors</td>\n",
              "      <td>90.32</td>\n",
              "      <td>86.02</td>\n",
              "      <td>4.30</td>\n",
              "    </tr>\n",
              "    <tr>\n",
              "      <th>14</th>\n",
              "      <td>ExtraTreesClassifier</td>\n",
              "      <td>80.65</td>\n",
              "      <td>76.34</td>\n",
              "      <td>4.31</td>\n",
              "    </tr>\n",
              "    <tr>\n",
              "      <th>4</th>\n",
              "      <td>Naive Bayes</td>\n",
              "      <td>76.96</td>\n",
              "      <td>81.72</td>\n",
              "      <td>4.76</td>\n",
              "    </tr>\n",
              "    <tr>\n",
              "      <th>6</th>\n",
              "      <td>Stochastic Gradient Decent</td>\n",
              "      <td>77.88</td>\n",
              "      <td>84.95</td>\n",
              "      <td>7.07</td>\n",
              "    </tr>\n",
              "    <tr>\n",
              "      <th>17</th>\n",
              "      <td>VotingClassifier-hard voiting</td>\n",
              "      <td>100.00</td>\n",
              "      <td>86.02</td>\n",
              "      <td>13.98</td>\n",
              "    </tr>\n",
              "    <tr>\n",
              "      <th>8</th>\n",
              "      <td>Random Forest</td>\n",
              "      <td>100.00</td>\n",
              "      <td>83.87</td>\n",
              "      <td>16.13</td>\n",
              "    </tr>\n",
              "    <tr>\n",
              "      <th>13</th>\n",
              "      <td>BaggingClassifier</td>\n",
              "      <td>99.54</td>\n",
              "      <td>82.80</td>\n",
              "      <td>16.74</td>\n",
              "    </tr>\n",
              "    <tr>\n",
              "      <th>18</th>\n",
              "      <td>VotingClassifier-soft voting</td>\n",
              "      <td>100.00</td>\n",
              "      <td>82.80</td>\n",
              "      <td>17.20</td>\n",
              "    </tr>\n",
              "    <tr>\n",
              "      <th>7</th>\n",
              "      <td>Decision Tree Classifier</td>\n",
              "      <td>100.00</td>\n",
              "      <td>80.65</td>\n",
              "      <td>19.35</td>\n",
              "    </tr>\n",
              "    <tr>\n",
              "      <th>11</th>\n",
              "      <td>GradientBoostingClassifier</td>\n",
              "      <td>100.00</td>\n",
              "      <td>79.57</td>\n",
              "      <td>20.43</td>\n",
              "    </tr>\n",
              "  </tbody>\n",
              "</table>\n",
              "</div>"
            ],
            "text/plain": [
              "                            Model  Score_train  Score_test  Score_diff\n",
              "16               Neural Network 2        75.12       75.27        0.15\n",
              "1         Support Vector Machines        84.33       84.95        0.62\n",
              "10                 LGBMClassifier        88.02       87.10        0.92\n",
              "2                      Linear SVC        84.79       86.02        1.23\n",
              "12                RidgeClassifier        83.87       81.72        2.15\n",
              "15               Neural Network 1        81.57       83.87        2.30\n",
              "0             Logistic Regression        84.79       87.10        2.31\n",
              "19             AdaBoostClassifier        85.25       82.80        2.45\n",
              "9                   XGBClassifier        84.33       87.10        2.77\n",
              "5                      Perceptron        82.03       84.95        2.92\n",
              "3             k-Nearest Neighbors        90.32       86.02        4.30\n",
              "14           ExtraTreesClassifier        80.65       76.34        4.31\n",
              "4                     Naive Bayes        76.96       81.72        4.76\n",
              "6      Stochastic Gradient Decent        77.88       84.95        7.07\n",
              "17  VotingClassifier-hard voiting       100.00       86.02       13.98\n",
              "8                   Random Forest       100.00       83.87       16.13\n",
              "13              BaggingClassifier        99.54       82.80       16.74\n",
              "18   VotingClassifier-soft voting       100.00       82.80       17.20\n",
              "7        Decision Tree Classifier       100.00       80.65       19.35\n",
              "11     GradientBoostingClassifier       100.00       79.57       20.43"
            ]
          },
          "metadata": {
            "tags": []
          },
          "execution_count": 84
        }
      ]
    },
    {
      "cell_type": "code",
      "metadata": {
        "id": "2bHHz4zZrNg4"
      },
      "source": [
        "# Plot\n",
        "import matplotlib.pyplot as plt\n",
        "plt.figure(figsize=[25,6])\n",
        "xx = models['Model']\n",
        "plt.tick_params(labelsize=14)\n",
        "plt.plot(xx, models['Score_train'], label = 'Score_train')\n",
        "plt.plot(xx, models['Score_test'], label = 'Score_test')\n",
        "plt.legend()\n",
        "plt.title('Score of 20 popular models for train and test datasets')\n",
        "plt.xlabel('Models')\n",
        "plt.ylabel('Score, %')\n",
        "plt.xticks(xx, rotation='vertical')\n",
        "plt.savefig('graph.png')\n",
        "plt.show()"
      ],
      "execution_count": 86,
      "outputs": []
    },
    {
      "cell_type": "code",
      "metadata": {
        "id": "amdn3iknrRIm"
      },
      "source": [
        ""
      ],
      "execution_count": null,
      "outputs": []
    }
  ]
}