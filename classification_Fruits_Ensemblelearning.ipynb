{
 "cells": [
  {
   "cell_type": "code",
   "execution_count": 1,
   "metadata": {},
   "outputs": [],
   "source": [
    "import numpy as np\n",
    "import pandas as pd\n",
    "import scipy as stats\n",
    "import seaborn as sns\n",
    "import pandas_profiling\n",
    "import matplotlib  as plt\n",
    "\n",
    "\n",
    "import numpy\n",
    "from sklearn import linear_model\n",
    "from sklearn.svm import SVC\n",
    "from sklearn import datasets\n",
    "from sklearn.tree import DecisionTreeClassifier\n",
    "from sklearn.neighbors import KNeighborsClassifier\n",
    "from sklearn.ensemble import VotingClassifier\n",
    "import statistics as stat"
   ]
  },
  {
   "cell_type": "code",
   "execution_count": 18,
   "metadata": {},
   "outputs": [],
   "source": [
    "data=pd.read_csv(\"https://raw.githubusercontent.com/reddyprasade/Machine-Learning-Problems-DataSets/master/Classification/Fruits.csv\")"
   ]
  },
  {
   "cell_type": "code",
   "execution_count": 19,
   "metadata": {},
   "outputs": [
    {
     "data": {
      "text/html": [
       "<div>\n",
       "<style scoped>\n",
       "    .dataframe tbody tr th:only-of-type {\n",
       "        vertical-align: middle;\n",
       "    }\n",
       "\n",
       "    .dataframe tbody tr th {\n",
       "        vertical-align: top;\n",
       "    }\n",
       "\n",
       "    .dataframe thead th {\n",
       "        text-align: right;\n",
       "    }\n",
       "</style>\n",
       "<table border=\"1\" class=\"dataframe\">\n",
       "  <thead>\n",
       "    <tr style=\"text-align: right;\">\n",
       "      <th></th>\n",
       "      <th>Color</th>\n",
       "      <th>Weight(g)</th>\n",
       "      <th>Size</th>\n",
       "      <th>Fruits</th>\n",
       "    </tr>\n",
       "  </thead>\n",
       "  <tbody>\n",
       "    <tr>\n",
       "      <th>0</th>\n",
       "      <td>Red</td>\n",
       "      <td>70</td>\n",
       "      <td>Small</td>\n",
       "      <td>Apple</td>\n",
       "    </tr>\n",
       "    <tr>\n",
       "      <th>1</th>\n",
       "      <td>Red</td>\n",
       "      <td>100</td>\n",
       "      <td>Big</td>\n",
       "      <td>Apple</td>\n",
       "    </tr>\n",
       "    <tr>\n",
       "      <th>2</th>\n",
       "      <td>Orange</td>\n",
       "      <td>28</td>\n",
       "      <td>Medium</td>\n",
       "      <td>Plums</td>\n",
       "    </tr>\n",
       "    <tr>\n",
       "      <th>3</th>\n",
       "      <td>Red</td>\n",
       "      <td>3</td>\n",
       "      <td>Small</td>\n",
       "      <td>Cherry</td>\n",
       "    </tr>\n",
       "    <tr>\n",
       "      <th>4</th>\n",
       "      <td>Green</td>\n",
       "      <td>100</td>\n",
       "      <td>Big</td>\n",
       "      <td>Apple</td>\n",
       "    </tr>\n",
       "  </tbody>\n",
       "</table>\n",
       "</div>"
      ],
      "text/plain": [
       "    Color  Weight(g)    Size  Fruits\n",
       "0     Red         70   Small   Apple\n",
       "1     Red        100     Big   Apple\n",
       "2  Orange         28  Medium   Plums\n",
       "3     Red          3   Small  Cherry\n",
       "4   Green        100     Big   Apple"
      ]
     },
     "execution_count": 19,
     "metadata": {},
     "output_type": "execute_result"
    }
   ],
   "source": [
    "data.head(5)"
   ]
  },
  {
   "cell_type": "code",
   "execution_count": 20,
   "metadata": {},
   "outputs": [
    {
     "data": {
      "text/html": [
       "<div>\n",
       "<style scoped>\n",
       "    .dataframe tbody tr th:only-of-type {\n",
       "        vertical-align: middle;\n",
       "    }\n",
       "\n",
       "    .dataframe tbody tr th {\n",
       "        vertical-align: top;\n",
       "    }\n",
       "\n",
       "    .dataframe thead th {\n",
       "        text-align: right;\n",
       "    }\n",
       "</style>\n",
       "<table border=\"1\" class=\"dataframe\">\n",
       "  <thead>\n",
       "    <tr style=\"text-align: right;\">\n",
       "      <th></th>\n",
       "      <th>Color</th>\n",
       "      <th>Weight(g)</th>\n",
       "      <th>Size</th>\n",
       "      <th>Fruits</th>\n",
       "    </tr>\n",
       "  </thead>\n",
       "  <tbody>\n",
       "    <tr>\n",
       "      <th>25</th>\n",
       "      <td>Red</td>\n",
       "      <td>7</td>\n",
       "      <td>Small</td>\n",
       "      <td>Cherry</td>\n",
       "    </tr>\n",
       "    <tr>\n",
       "      <th>26</th>\n",
       "      <td>Green</td>\n",
       "      <td>28</td>\n",
       "      <td>Medium</td>\n",
       "      <td>Plums</td>\n",
       "    </tr>\n",
       "    <tr>\n",
       "      <th>27</th>\n",
       "      <td>Green</td>\n",
       "      <td>100</td>\n",
       "      <td>Big</td>\n",
       "      <td>Apple</td>\n",
       "    </tr>\n",
       "    <tr>\n",
       "      <th>28</th>\n",
       "      <td>Red</td>\n",
       "      <td>27</td>\n",
       "      <td>Medium</td>\n",
       "      <td>Plums</td>\n",
       "    </tr>\n",
       "    <tr>\n",
       "      <th>29</th>\n",
       "      <td>Red</td>\n",
       "      <td>27</td>\n",
       "      <td>Medium</td>\n",
       "      <td>Plums</td>\n",
       "    </tr>\n",
       "  </tbody>\n",
       "</table>\n",
       "</div>"
      ],
      "text/plain": [
       "    Color  Weight(g)    Size  Fruits\n",
       "25    Red          7   Small  Cherry\n",
       "26  Green         28  Medium   Plums\n",
       "27  Green        100     Big   Apple\n",
       "28    Red         27  Medium   Plums\n",
       "29    Red         27  Medium   Plums"
      ]
     },
     "execution_count": 20,
     "metadata": {},
     "output_type": "execute_result"
    }
   ],
   "source": [
    "data.tail(5)"
   ]
  },
  {
   "cell_type": "code",
   "execution_count": 21,
   "metadata": {},
   "outputs": [
    {
     "data": {
      "text/plain": [
       "Index(['Color', 'Weight(g)', 'Size', 'Fruits'], dtype='object')"
      ]
     },
     "execution_count": 21,
     "metadata": {},
     "output_type": "execute_result"
    }
   ],
   "source": [
    "data.columns"
   ]
  },
  {
   "cell_type": "code",
   "execution_count": 22,
   "metadata": {},
   "outputs": [],
   "source": [
    "x=data[['Color', 'Weight(g)', 'Size']]\n",
    "y=data['Fruits']"
   ]
  },
  {
   "cell_type": "code",
   "execution_count": 23,
   "metadata": {},
   "outputs": [
    {
     "name": "stdout",
     "output_type": "stream",
     "text": [
      "(30, 3)\n",
      "(30,)\n"
     ]
    }
   ],
   "source": [
    "print(x.shape)\n",
    "print(y.shape)"
   ]
  },
  {
   "cell_type": "code",
   "execution_count": 25,
   "metadata": {},
   "outputs": [
    {
     "data": {
      "text/plain": [
       "<matplotlib.axes._subplots.AxesSubplot at 0x7fbe900090f0>"
      ]
     },
     "execution_count": 25,
     "metadata": {},
     "output_type": "execute_result"
    },
    {
     "data": {
      "image/png": "[encoded data removed]",
      "text/plain": [
       "<Figure size 432x288 with 1 Axes>"
      ]
     },
     "metadata": {
      "needs_background": "light"
     },
     "output_type": "display_data"
    }
   ],
   "source": [
    "sns.heatmap(data.isnull(),cbar=False,cmap='viridis')"
   ]
  },
  {
   "cell_type": "code",
   "execution_count": 26,
   "metadata": {},
   "outputs": [
    {
     "data": {
      "text/plain": [
       "Color        0\n",
       "Weight(g)    0\n",
       "Size         0\n",
       "Fruits       0\n",
       "dtype: int64"
      ]
     },
     "execution_count": 26,
     "metadata": {},
     "output_type": "execute_result"
    }
   ],
   "source": [
    "data.isnull().sum()"
   ]
  },
  {
   "cell_type": "code",
   "execution_count": 27,
   "metadata": {},
   "outputs": [
    {
     "data": {
      "text/plain": [
       "<seaborn.axisgrid.PairGrid at 0x7fbe8f988b70>"
      ]
     },
     "execution_count": 27,
     "metadata": {},
     "output_type": "execute_result"
    },
    {
     "data": {
      "image/png": "[encoded data removed]",
      "text/plain": [
       "<Figure size 180x180 with 2 Axes>"
      ]
     },
     "metadata": {
      "needs_background": "light"
     },
     "output_type": "display_data"
    }
   ],
   "source": [
    "sns.pairplot(data)"
   ]
  },
  {
   "cell_type": "code",
   "execution_count": 28,
   "metadata": {},
   "outputs": [
    {
     "data": {
      "application/vnd.jupyter.widget-view+json": {
       "model_id": "5c83ca8943854b998eaacfc6cdd22860",
       "version_major": 2,
       "version_minor": 0
      },
      "text/plain": [
       "Tab(children=(HTML(value='<div id=\"overview-content\" class=\"row variable spacing\">\\n    <div class=\"row\">\\n   …"
      ]
     },
     "metadata": {},
     "output_type": "display_data"
    },
    {
     "data": {
      "text/html": [
       "Report generated with <a href=\"https://github.com/pandas-profiling/pandas-profiling\">pandas-profiling</a>."
      ],
      "text/plain": [
       "<IPython.core.display.HTML object>"
      ]
     },
     "metadata": {},
     "output_type": "display_data"
    },
    {
     "data": {
      "text/plain": []
     },
     "execution_count": 28,
     "metadata": {},
     "output_type": "execute_result"
    }
   ],
   "source": [
    "pandas_profiling.ProfileReport(data)"
   ]
  },
  {
   "cell_type": "code",
   "execution_count": 30,
   "metadata": {},
   "outputs": [],
   "source": []
  },
  {
   "cell_type": "code",
   "execution_count": null,
   "metadata": {},
   "outputs": [],
   "source": []
  },
  {
   "cell_type": "code",
   "execution_count": 33,
   "metadata": {
    "collapsed": true
   },
   "outputs": [
    {
     "name": "stdout",
     "output_type": "stream",
     "text": [
      "0        Red\n",
      "1        Red\n",
      "2     Orange\n",
      "3        Red\n",
      "4      Green\n",
      "5        Red\n",
      "6        Red\n",
      "7      Green\n",
      "8      Green\n",
      "9        Red\n",
      "10     Green\n",
      "11       Red\n",
      "12       Red\n",
      "13       Red\n",
      "14       Red\n",
      "15       Red\n",
      "16    Orange\n",
      "17       Red\n",
      "18    Orange\n",
      "19       Red\n",
      "20       Red\n",
      "21       Red\n",
      "22       Red\n",
      "23     Green\n",
      "24    Orange\n",
      "25       Red\n",
      "26     Green\n",
      "27     Green\n",
      "28       Red\n",
      "29       Red\n",
      "Name: Color, dtype: object\n",
      "[2 2 1 2 0 2 2 0 0 2 0 2 2 2 2 2 1 2 1 2 2 2 2 0 1 2 0 0 2 2]\n"
     ]
    }
   ],
   "source": [
    "#label Encoding\n",
    "from sklearn import preprocessing\n",
    "le=preprocessing.LabelEncoder()\n",
    "\n",
    "#convert string labels into number\n",
    "color_encoded=le.fit_transform(data.Color)\n",
    "print(data.Color)\n",
    "print(color_encoded)"
   ]
  },
  {
   "cell_type": "code",
   "execution_count": 34,
   "metadata": {
    "collapsed": true
   },
   "outputs": [
    {
     "name": "stdout",
     "output_type": "stream",
     "text": [
      "0      Apple\n",
      "1      Apple\n",
      "2      Plums\n",
      "3     Cherry\n",
      "4      Apple\n",
      "5      Apple\n",
      "6     Cherry\n",
      "7      Apple\n",
      "8      Apple\n",
      "9     Cherry\n",
      "10     Plums\n",
      "11    Cherry\n",
      "12     Plums\n",
      "13    Cherry\n",
      "14     Apple\n",
      "15     Plums\n",
      "16     Plums\n",
      "17    Cherry\n",
      "18     Plums\n",
      "19    Cherry\n",
      "20     Apple\n",
      "21    Cherry\n",
      "22    Cherry\n",
      "23     Apple\n",
      "24     Plums\n",
      "25    Cherry\n",
      "26     Plums\n",
      "27     Apple\n",
      "28     Plums\n",
      "29     Plums\n",
      "Name: Fruits, dtype: object\n",
      "[0 0 2 1 0 0 1 0 0 1 2 1 2 1 0 2 2 1 2 1 0 1 1 0 2 1 2 0 2 2]\n"
     ]
    }
   ],
   "source": [
    "#convert string labels into number\n",
    "color_encoded1=le.fit_transform(data.Fruits)\n",
    "print(data.Fruits)\n",
    "print(color_encoded1)"
   ]
  },
  {
   "cell_type": "code",
   "execution_count": 35,
   "metadata": {
    "collapsed": true
   },
   "outputs": [
    {
     "name": "stdout",
     "output_type": "stream",
     "text": [
      "0      Small\n",
      "1        Big\n",
      "2     Medium\n",
      "3      Small\n",
      "4        Big\n",
      "5        Big\n",
      "6      Small\n",
      "7      Small\n",
      "8      Small\n",
      "9      Small\n",
      "10    Medium\n",
      "11     Small\n",
      "12    Medium\n",
      "13     Small\n",
      "14     Small\n",
      "15    Medium\n",
      "16    Medium\n",
      "17     Small\n",
      "18    Medium\n",
      "19     Small\n",
      "20       Big\n",
      "21     Small\n",
      "22     Small\n",
      "23     Small\n",
      "24    Medium\n",
      "25     Small\n",
      "26    Medium\n",
      "27       Big\n",
      "28    Medium\n",
      "29    Medium\n",
      "Name: Size, dtype: object\n",
      "[2 0 1 2 0 0 2 2 2 2 1 2 1 2 2 1 1 2 1 2 0 2 2 2 1 2 1 0 1 1]\n"
     ]
    }
   ],
   "source": [
    "color_encoded2=le.fit_transform(data.Size)\n",
    "print(data.Size)\n",
    "print(color_encoded2)"
   ]
  },
  {
   "cell_type": "code",
   "execution_count": 36,
   "metadata": {},
   "outputs": [],
   "source": [
    "weight=data['Weight(g)']"
   ]
  },
  {
   "cell_type": "code",
   "execution_count": 37,
   "metadata": {
    "collapsed": true
   },
   "outputs": [
    {
     "data": {
      "text/plain": [
       "array([[  2.,  70.,   2.],\n",
       "       [  2., 100.,   0.],\n",
       "       [  1.,  28.,   1.],\n",
       "       [  2.,   3.,   2.],\n",
       "       [  0., 100.,   0.],\n",
       "       [  2., 100.,   0.],\n",
       "       [  2.,   3.,   2.],\n",
       "       [  0.,  70.,   2.],\n",
       "       [  0.,  70.,   2.],\n",
       "       [  2.,   7.,   2.],\n",
       "       [  0.,  27.,   1.],\n",
       "       [  2.,   7.,   2.],\n",
       "       [  2.,  28.,   1.],\n",
       "       [  2.,   7.,   2.],\n",
       "       [  2.,  70.,   2.],\n",
       "       [  2.,  27.,   1.],\n",
       "       [  1.,  28.,   1.],\n",
       "       [  2.,   3.,   2.],\n",
       "       [  1.,  28.,   1.],\n",
       "       [  2.,   7.,   2.],\n",
       "       [  2., 100.,   0.],\n",
       "       [  2.,   3.,   2.],\n",
       "       [  2.,   7.,   2.],\n",
       "       [  0.,  70.,   2.],\n",
       "       [  1.,  28.,   1.],\n",
       "       [  2.,   7.,   2.],\n",
       "       [  0.,  28.,   1.],\n",
       "       [  0., 100.,   0.],\n",
       "       [  2.,  27.,   1.],\n",
       "       [  2.,  27.,   1.]])"
      ]
     },
     "execution_count": 37,
     "metadata": {},
     "output_type": "execute_result"
    }
   ],
   "source": [
    "features=list(zip(color_encoded,weight,color_encoded2))\n",
    "features=np.array(features,dtype=np.float)\n",
    "features"
   ]
  },
  {
   "cell_type": "code",
   "execution_count": 38,
   "metadata": {},
   "outputs": [
    {
     "name": "stdout",
     "output_type": "stream",
     "text": [
      "[0 0 2 1 0 0 1 0 0 1 2 1 2 1 0 2 2 1 2 1 0 1 1 0 2 1 2 0 2 2]\n"
     ]
    },
    {
     "data": {
      "text/plain": [
       "array([0, 0, 2, 1, 0, 0, 1, 0, 0, 1, 2, 1, 2, 1, 0, 2, 2, 1, 2, 1, 0, 1,\n",
       "       1, 0, 2, 1, 2, 0, 2, 2])"
      ]
     },
     "execution_count": 38,
     "metadata": {},
     "output_type": "execute_result"
    }
   ],
   "source": [
    "#target or label\n",
    "label=le.fit_transform(color_encoded1)\n",
    "print(color_encoded1)\n",
    "label"
   ]
  },
  {
   "cell_type": "code",
   "execution_count": 41,
   "metadata": {},
   "outputs": [],
   "source": [
    "from sklearn.model_selection import train_test_split\n",
    "x_train,x_test,y_train,y_test=train_test_split(features,label,random_state=1)"
   ]
  },
  {
   "cell_type": "code",
   "execution_count": 42,
   "metadata": {},
   "outputs": [
    {
     "name": "stdout",
     "output_type": "stream",
     "text": [
      "(22, 3)\n",
      "(22,)\n",
      "(8, 3)\n",
      "(8,)\n"
     ]
    }
   ],
   "source": [
    "print(x_train.shape)\n",
    "print(y_train.shape)\n",
    "print(x_test.shape)\n",
    "print(y_test.shape)"
   ]
  },
  {
   "cell_type": "code",
   "execution_count": 43,
   "metadata": {},
   "outputs": [
    {
     "data": {
      "text/plain": [
       "SVC(C=1.0, break_ties=False, cache_size=200, class_weight=None, coef0=0.0,\n",
       "    decision_function_shape='ovr', degree=3, gamma='scale', kernel='rbf',\n",
       "    max_iter=-1, probability=True, random_state=None, shrinking=True, tol=0.001,\n",
       "    verbose=False)"
      ]
     },
     "execution_count": 43,
     "metadata": {},
     "output_type": "execute_result"
    }
   ],
   "source": [
    "# A simple average ensemble model\n",
    "model1 = DecisionTreeClassifier(max_depth=4)\n",
    "model2 = KNeighborsClassifier(n_neighbors=7)\n",
    "model3 = SVC(kernel='rbf',probability=True)\n",
    "\n",
    "model1.fit(x_train,y_train)\n",
    "model2.fit(x_train,y_train)\n",
    "model3.fit(x_train,y_train)"
   ]
  },
  {
   "cell_type": "code",
   "execution_count": 44,
   "metadata": {},
   "outputs": [
    {
     "name": "stdout",
     "output_type": "stream",
     "text": [
      "1.0\n"
     ]
    }
   ],
   "source": [
    "# lets look at the accuracy for each model\n",
    "score1=model1.score(x_test,y_test)\n",
    "print(score1)"
   ]
  },
  {
   "cell_type": "code",
   "execution_count": 45,
   "metadata": {},
   "outputs": [
    {
     "name": "stdout",
     "output_type": "stream",
     "text": [
      "1.0\n"
     ]
    }
   ],
   "source": [
    "# lets look at the accuracy for each model\n",
    "score2=model2.score(x_test,y_test)\n",
    "print(score2)"
   ]
  },
  {
   "cell_type": "code",
   "execution_count": 46,
   "metadata": {},
   "outputs": [
    {
     "name": "stdout",
     "output_type": "stream",
     "text": [
      "1.0\n"
     ]
    }
   ],
   "source": [
    "# lets look at the accuracy for each model\n",
    "score3=model3.score(x_test,y_test)\n",
    "print(score3)"
   ]
  },
  {
   "cell_type": "code",
   "execution_count": 47,
   "metadata": {},
   "outputs": [],
   "source": [
    "# prediciton process\n",
    "pred1=model1.predict(x_test)\n",
    "pred2=model2.predict(x_test)\n",
    "pred3=model3.predict(x_test)"
   ]
  },
  {
   "cell_type": "code",
   "execution_count": 48,
   "metadata": {},
   "outputs": [
    {
     "data": {
      "text/plain": [
       "array([1., 1., 2., 1., 0., 0., 2., 1.])"
      ]
     },
     "execution_count": 48,
     "metadata": {},
     "output_type": "execute_result"
    }
   ],
   "source": [
    "final_pred=np.array([])\n",
    "for i in range(0,len(x_test)):\n",
    "    final_pred=np.append(final_pred,stat.mode([pred1[i],\n",
    "                                              pred2[i],\n",
    "                                              pred3[i]]))\n",
    "final_pred"
   ]
  },
  {
   "cell_type": "code",
   "execution_count": 49,
   "metadata": {},
   "outputs": [
    {
     "name": "stdout",
     "output_type": "stream",
     "text": [
      "accuracy 8 / 8 *100= 100.000 %\n"
     ]
    }
   ],
   "source": [
    "total=np.sum(y_test==final_pred)\n",
    "print(\"accuracy\",total,\"/\",len(final_pred),\"*100=\",\"{0:.3f}\".format(total/len(final_pred)*100),\"%\")"
   ]
  },
  {
   "cell_type": "code",
   "execution_count": 50,
   "metadata": {},
   "outputs": [
    {
     "data": {
      "text/plain": [
       "array([[0.02140706, 0.9165456 , 0.06204734],\n",
       "       [0.02140706, 0.9165456 , 0.06204734],\n",
       "       [0.02342515, 0.03317504, 0.94339981],\n",
       "       [0.02163006, 0.90382452, 0.07454543],\n",
       "       [0.94886493, 0.01543196, 0.0357031 ],\n",
       "       [0.94452005, 0.02351436, 0.0319656 ],\n",
       "       [0.02472054, 0.02836518, 0.94691428],\n",
       "       [0.02140706, 0.9165456 , 0.06204734]])"
      ]
     },
     "execution_count": 50,
     "metadata": {},
     "output_type": "execute_result"
    }
   ],
   "source": [
    "#soft voting in python\n",
    "spred1=model1.predict_proba(x_test)\n",
    "spred2=model2.predict_proba(x_test)\n",
    "spred3=model3.predict_proba(x_test)\n",
    "finalpred=(spred1+spred2+spred3)/3\n",
    "finalpred"
   ]
  },
  {
   "cell_type": "code",
   "execution_count": 51,
   "metadata": {},
   "outputs": [
    {
     "data": {
      "text/plain": [
       "array([1, 1, 2, 1, 0, 0, 2, 1])"
      ]
     },
     "execution_count": 51,
     "metadata": {},
     "output_type": "execute_result"
    }
   ],
   "source": [
    "final_class=finalpred.argmax(axis=-1)\n",
    "final_class\n"
   ]
  },
  {
   "cell_type": "code",
   "execution_count": 52,
   "metadata": {},
   "outputs": [
    {
     "data": {
      "text/plain": [
       "VotingClassifier(estimators=[('dt',\n",
       "                              DecisionTreeClassifier(ccp_alpha=0.0,\n",
       "                                                     class_weight=None,\n",
       "                                                     criterion='gini',\n",
       "                                                     max_depth=4,\n",
       "                                                     max_features=None,\n",
       "                                                     max_leaf_nodes=None,\n",
       "                                                     min_impurity_decrease=0.0,\n",
       "                                                     min_impurity_split=None,\n",
       "                                                     min_samples_leaf=1,\n",
       "                                                     min_samples_split=2,\n",
       "                                                     min_weight_fraction_leaf=0.0,\n",
       "                                                     presort='deprecated',\n",
       "                                                     random_state=None,\n",
       "                                                     splitter='best')),\n",
       "                             ('knn',\n",
       "                              KNeighborsC...\n",
       "                                                   metric_params=None,\n",
       "                                                   n_jobs=None, n_neighbors=7,\n",
       "                                                   p=2, weights='uniform')),\n",
       "                             ('svc',\n",
       "                              SVC(C=1.0, break_ties=False, cache_size=200,\n",
       "                                  class_weight=None, coef0=0.0,\n",
       "                                  decision_function_shape='ovr', degree=3,\n",
       "                                  gamma='scale', kernel='rbf', max_iter=-1,\n",
       "                                  probability=True, random_state=None,\n",
       "                                  shrinking=True, tol=0.001, verbose=False))],\n",
       "                 flatten_transform=True, n_jobs=None, voting='soft',\n",
       "                 weights=None)"
      ]
     },
     "execution_count": 52,
     "metadata": {},
     "output_type": "execute_result"
    }
   ],
   "source": [
    "# we can applay for the volting process\n",
    "emodel=VotingClassifier(estimators=[('dt',model1),('knn',model2),('svc',model3)],voting='soft')\n",
    "emodel.fit(x_train,y_train)"
   ]
  },
  {
   "cell_type": "code",
   "execution_count": 53,
   "metadata": {},
   "outputs": [
    {
     "name": "stdout",
     "output_type": "stream",
     "text": [
      "1.0\n"
     ]
    }
   ],
   "source": [
    "#accuracy score for the ensemble modelis\n",
    "escore=emodel.score(x_test,y_test)\n",
    "print(escore)"
   ]
  },
  {
   "cell_type": "code",
   "execution_count": 54,
   "metadata": {},
   "outputs": [
    {
     "data": {
      "text/plain": [
       "array([0, 1, 2])"
      ]
     },
     "execution_count": 54,
     "metadata": {},
     "output_type": "execute_result"
    }
   ],
   "source": [
    "emodel.classes_"
   ]
  },
  {
   "cell_type": "code",
   "execution_count": null,
   "metadata": {},
   "outputs": [],
   "source": []
  }
 ],
 "metadata": {
  "kernelspec": {
   "display_name": "Python 3",
   "language": "python",
   "name": "python3"
  },
  "language_info": {
   "codemirror_mode": {
    "name": "ipython",
    "version": 3
   },
   "file_extension": ".py",
   "mimetype": "text/x-python",
   "name": "python",
   "nbconvert_exporter": "python",
   "pygments_lexer": "ipython3",
   "version": "3.6.9"
  }
 },
 "nbformat": 4,
 "nbformat_minor": 4
}
