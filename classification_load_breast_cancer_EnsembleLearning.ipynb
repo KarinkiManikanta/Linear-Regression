{
 "cells": [
  {
   "cell_type": "code",
   "execution_count": 1,
   "metadata": {},
   "outputs": [],
   "source": [
    "import numpy as np\n",
    "import pandas as pd\n",
    "import scipy as stats\n",
    "import seaborn as sns\n",
    "import pandas_profiling\n",
    "import matplotlib  as plt\n",
    "\n",
    "\n",
    "import numpy\n",
    "from sklearn import linear_model\n",
    "from sklearn.svm import SVC\n",
    "from sklearn import datasets\n",
    "from sklearn.tree import DecisionTreeClassifier\n",
    "from sklearn.neighbors import KNeighborsClassifier\n",
    "from sklearn.ensemble import VotingClassifier\n",
    "import statistics as stat\n",
    "from sklearn.model_selection import train_test_split"
   ]
  },
  {
   "cell_type": "code",
   "execution_count": 18,
   "metadata": {},
   "outputs": [
    {
     "data": {
      "text/plain": [
       "array(['mean radius', 'mean texture', 'mean perimeter', 'mean area',\n",
       "       'mean smoothness', 'mean compactness', 'mean concavity',\n",
       "       'mean concave points', 'mean symmetry', 'mean fractal dimension',\n",
       "       'radius error', 'texture error', 'perimeter error', 'area error',\n",
       "       'smoothness error', 'compactness error', 'concavity error',\n",
       "       'concave points error', 'symmetry error',\n",
       "       'fractal dimension error', 'worst radius', 'worst texture',\n",
       "       'worst perimeter', 'worst area', 'worst smoothness',\n",
       "       'worst compactness', 'worst concavity', 'worst concave points',\n",
       "       'worst symmetry', 'worst fractal dimension'], dtype='<U23')"
      ]
     },
     "execution_count": 18,
     "metadata": {},
     "output_type": "execute_result"
    }
   ],
   "source": [
    "iris=datasets.load_breast_cancer()\n",
    "iris.feature_names"
   ]
  },
  {
   "cell_type": "code",
   "execution_count": 19,
   "metadata": {},
   "outputs": [],
   "source": [
    "x=iris.data[:,[0,2]]\n",
    "y=iris.target"
   ]
  },
  {
   "cell_type": "code",
   "execution_count": 20,
   "metadata": {},
   "outputs": [
    {
     "name": "stdout",
     "output_type": "stream",
     "text": [
      "(569, 2)\n",
      "(569,)\n"
     ]
    }
   ],
   "source": [
    "print(x.shape)\n",
    "print(y.shape)"
   ]
  },
  {
   "cell_type": "code",
   "execution_count": 21,
   "metadata": {},
   "outputs": [
    {
     "data": {
      "text/plain": [
       "['malignant', 'benign']"
      ]
     },
     "execution_count": 21,
     "metadata": {},
     "output_type": "execute_result"
    }
   ],
   "source": [
    "list(iris.target_names)"
   ]
  },
  {
   "cell_type": "code",
   "execution_count": 22,
   "metadata": {},
   "outputs": [],
   "source": [
    "x_train,x_test,y_train,y_test=train_test_split(x,y,random_state=1)"
   ]
  },
  {
   "cell_type": "code",
   "execution_count": 23,
   "metadata": {},
   "outputs": [
    {
     "name": "stdout",
     "output_type": "stream",
     "text": [
      "(426, 2)\n",
      "(426,)\n",
      "(143, 2)\n",
      "(143,)\n"
     ]
    }
   ],
   "source": [
    "print(x_train.shape)\n",
    "print(y_train.shape)\n",
    "print(x_test.shape)\n",
    "print(y_test.shape)"
   ]
  },
  {
   "cell_type": "code",
   "execution_count": 24,
   "metadata": {},
   "outputs": [
    {
     "data": {
      "text/plain": [
       "SVC(C=1.0, break_ties=False, cache_size=200, class_weight=None, coef0=0.0,\n",
       "    decision_function_shape='ovr', degree=3, gamma='scale', kernel='rbf',\n",
       "    max_iter=-1, probability=True, random_state=None, shrinking=True, tol=0.001,\n",
       "    verbose=False)"
      ]
     },
     "execution_count": 24,
     "metadata": {},
     "output_type": "execute_result"
    }
   ],
   "source": [
    "# A simple average ensemble model\n",
    "model1 = DecisionTreeClassifier(max_depth=4)\n",
    "model2 = KNeighborsClassifier(n_neighbors=7)\n",
    "model3 = SVC(kernel='rbf',probability=True)\n",
    "\n",
    "model1.fit(x_train,y_train)\n",
    "model2.fit(x_train,y_train)\n",
    "model3.fit(x_train,y_train)"
   ]
  },
  {
   "cell_type": "code",
   "execution_count": 25,
   "metadata": {},
   "outputs": [
    {
     "name": "stdout",
     "output_type": "stream",
     "text": [
      "0.8461538461538461\n"
     ]
    }
   ],
   "source": [
    "# lets look at the accuracy for each model\n",
    "score1=model1.score(x_test,y_test)\n",
    "print(score1)"
   ]
  },
  {
   "cell_type": "code",
   "execution_count": 26,
   "metadata": {},
   "outputs": [
    {
     "name": "stdout",
     "output_type": "stream",
     "text": [
      "0.8321678321678322\n"
     ]
    }
   ],
   "source": [
    "# lets look at the accuracy for each model\n",
    "score2=model2.score(x_test,y_test)\n",
    "print(score2)"
   ]
  },
  {
   "cell_type": "code",
   "execution_count": 27,
   "metadata": {},
   "outputs": [
    {
     "name": "stdout",
     "output_type": "stream",
     "text": [
      "0.8601398601398601\n"
     ]
    }
   ],
   "source": [
    "# lets look at the accuracy for each model\n",
    "score3=model3.score(x_test,y_test)\n",
    "print(score3)"
   ]
  },
  {
   "cell_type": "code",
   "execution_count": 28,
   "metadata": {},
   "outputs": [],
   "source": [
    "# prediciton process\n",
    "pred1=model1.predict(x_test)\n",
    "pred2=model2.predict(x_test)\n",
    "pred3=model3.predict(x_test)"
   ]
  },
  {
   "cell_type": "code",
   "execution_count": 29,
   "metadata": {},
   "outputs": [
    {
     "data": {
      "text/plain": [
       "array([1., 1., 1., 0., 1., 0., 0., 0., 1., 1., 1., 1., 0., 1., 1., 1., 1.,\n",
       "       1., 1., 0., 1., 1., 0., 1., 0., 1., 1., 0., 0., 0., 0., 1., 0., 1.,\n",
       "       1., 1., 0., 1., 1., 1., 1., 1., 1., 1., 1., 0., 1., 1., 1., 0., 0.,\n",
       "       0., 1., 1., 1., 1., 1., 0., 1., 1., 1., 1., 1., 1., 1., 1., 1., 0.,\n",
       "       1., 1., 1., 1., 1., 0., 1., 0., 1., 1., 1., 0., 1., 0., 1., 0., 1.,\n",
       "       1., 1., 1., 1., 1., 1., 1., 1., 1., 0., 1., 1., 1., 1., 1., 1., 1.,\n",
       "       1., 1., 1., 1., 1., 1., 0., 0., 1., 1., 1., 1., 0., 0., 1., 1., 1.,\n",
       "       1., 1., 0., 0., 1., 1., 0., 1., 0., 0., 0., 1., 0., 1., 0., 1., 0.,\n",
       "       0., 0., 1., 0., 0., 0., 1.])"
      ]
     },
     "execution_count": 29,
     "metadata": {},
     "output_type": "execute_result"
    }
   ],
   "source": [
    "final_pred=np.array([])\n",
    "for i in range(0,len(x_test)):\n",
    "    final_pred=np.append(final_pred,stat.mode([pred1[i],\n",
    "                                              pred2[i],\n",
    "                                              pred3[i]]))\n",
    "final_pred"
   ]
  },
  {
   "cell_type": "code",
   "execution_count": 30,
   "metadata": {},
   "outputs": [
    {
     "name": "stdout",
     "output_type": "stream",
     "text": [
      "accuracy 124 / 143 *100= 86.713 %\n"
     ]
    }
   ],
   "source": [
    "total=np.sum(y_test==final_pred)\n",
    "print(\"accuracy\",total,\"/\",len(final_pred),\"*100=\",\"{0:.3f}\".format(total/len(final_pred)*100),\"%\")"
   ]
  },
  {
   "cell_type": "code",
   "execution_count": 31,
   "metadata": {},
   "outputs": [
    {
     "data": {
      "text/plain": [
       "array([[4.97410009e-01, 5.02589991e-01],\n",
       "       [2.17225201e-01, 7.82774799e-01],\n",
       "       [4.49481267e-02, 9.55051873e-01],\n",
       "       [9.95341899e-01, 4.65810086e-03],\n",
       "       [4.74018989e-01, 5.25981011e-01],\n",
       "       [5.35933931e-01, 4.64066069e-01],\n",
       "       [9.98152441e-01, 1.84755920e-03],\n",
       "       [9.94445037e-01, 5.55496324e-03],\n",
       "       [5.24553861e-03, 9.94754461e-01],\n",
       "       [4.74091353e-01, 5.25908647e-01],\n",
       "       [7.07176291e-03, 9.92928237e-01],\n",
       "       [3.01239573e-01, 6.98760427e-01],\n",
       "       [9.77396781e-01, 2.26032185e-02],\n",
       "       [3.17003637e-02, 9.68299636e-01],\n",
       "       [4.88009835e-01, 5.11990165e-01],\n",
       "       [5.13237365e-02, 9.48676263e-01],\n",
       "       [2.96404052e-02, 9.70359595e-01],\n",
       "       [2.57306493e-02, 9.74269351e-01],\n",
       "       [6.64161559e-03, 9.93358384e-01],\n",
       "       [9.98842469e-01, 1.15753148e-03],\n",
       "       [3.98756300e-02, 9.60124370e-01],\n",
       "       [2.42776542e-02, 9.75722346e-01],\n",
       "       [9.98374963e-01, 1.62503661e-03],\n",
       "       [8.98965787e-02, 9.10103421e-01],\n",
       "       [5.32396308e-01, 4.67603692e-01],\n",
       "       [2.40060390e-02, 9.75993961e-01],\n",
       "       [4.20512505e-01, 5.79487495e-01],\n",
       "       [9.96680269e-01, 3.31973107e-03],\n",
       "       [9.85851164e-01, 1.41488360e-02],\n",
       "       [9.79985012e-01, 2.00149879e-02],\n",
       "       [9.99082963e-01, 9.17037095e-04],\n",
       "       [7.42934626e-03, 9.92570654e-01],\n",
       "       [9.74446055e-01, 2.55539451e-02],\n",
       "       [3.72539306e-01, 6.27460694e-01],\n",
       "       [4.14122079e-03, 9.95858779e-01],\n",
       "       [1.68634316e-01, 8.31365684e-01],\n",
       "       [6.11244903e-01, 3.88755097e-01],\n",
       "       [4.85746308e-01, 5.14253692e-01],\n",
       "       [7.70744947e-03, 9.92292551e-01],\n",
       "       [7.24049152e-02, 9.27595085e-01],\n",
       "       [4.13792962e-03, 9.95862070e-01],\n",
       "       [1.76588876e-01, 8.23411124e-01],\n",
       "       [2.65314728e-02, 9.73468527e-01],\n",
       "       [2.18138295e-01, 7.81861705e-01],\n",
       "       [2.86738166e-01, 7.13261834e-01],\n",
       "       [9.40567333e-01, 5.94326668e-02],\n",
       "       [5.15613639e-03, 9.94843864e-01],\n",
       "       [4.24976870e-03, 9.95750231e-01],\n",
       "       [4.32280251e-01, 5.67719749e-01],\n",
       "       [9.44297541e-01, 5.57024591e-02],\n",
       "       [9.95196116e-01, 4.80388417e-03],\n",
       "       [9.97298799e-01, 2.70120094e-03],\n",
       "       [4.08717427e-02, 9.59128257e-01],\n",
       "       [3.36749653e-02, 9.66325035e-01],\n",
       "       [4.29733258e-03, 9.95702667e-01],\n",
       "       [7.21088430e-02, 9.27891157e-01],\n",
       "       [4.23904682e-02, 9.57609532e-01],\n",
       "       [9.96600708e-01, 3.39929239e-03],\n",
       "       [1.60246491e-01, 8.39753509e-01],\n",
       "       [5.00470250e-03, 9.94995297e-01],\n",
       "       [5.94697179e-03, 9.94053028e-01],\n",
       "       [4.87149836e-02, 9.51285016e-01],\n",
       "       [4.91879766e-01, 5.08120234e-01],\n",
       "       [5.30534064e-02, 9.46946594e-01],\n",
       "       [4.97298476e-02, 9.50270152e-01],\n",
       "       [2.93619798e-02, 9.70638020e-01],\n",
       "       [3.01764677e-02, 9.69823532e-01],\n",
       "       [9.98945337e-01, 1.05466280e-03],\n",
       "       [3.13010383e-02, 9.68698962e-01],\n",
       "       [7.30723913e-02, 9.26927609e-01],\n",
       "       [3.79123009e-02, 9.62087699e-01],\n",
       "       [3.81682639e-02, 9.61831736e-01],\n",
       "       [2.18730972e-01, 7.81269028e-01],\n",
       "       [9.98917768e-01, 1.08223209e-03],\n",
       "       [4.08393433e-03, 9.95916066e-01],\n",
       "       [9.81366731e-01, 1.86332686e-02],\n",
       "       [3.60119048e-01, 6.39880952e-01],\n",
       "       [3.93494200e-02, 9.60650580e-01],\n",
       "       [2.36879423e-02, 9.76312058e-01],\n",
       "       [8.73837895e-01, 1.26162105e-01],\n",
       "       [7.63820403e-03, 9.92361796e-01],\n",
       "       [9.86149324e-01, 1.38506764e-02],\n",
       "       [2.63028700e-01, 7.36971300e-01],\n",
       "       [9.78195190e-01, 2.18048103e-02],\n",
       "       [4.51218120e-02, 9.54878188e-01],\n",
       "       [2.34625051e-02, 9.76537495e-01],\n",
       "       [5.42519966e-01, 4.57480034e-01],\n",
       "       [2.26522553e-01, 7.73477447e-01],\n",
       "       [3.72998717e-01, 6.27001283e-01],\n",
       "       [7.27985215e-02, 9.27201479e-01],\n",
       "       [4.95785602e-02, 9.50421440e-01],\n",
       "       [2.94662291e-02, 9.70533771e-01],\n",
       "       [4.95768972e-03, 9.95042310e-01],\n",
       "       [5.27449791e-03, 9.94725502e-01],\n",
       "       [9.97744924e-01, 2.25507602e-03],\n",
       "       [9.00746314e-02, 9.09925369e-01],\n",
       "       [4.20225398e-03, 9.95797746e-01],\n",
       "       [9.05979565e-02, 9.09402043e-01],\n",
       "       [7.90145128e-03, 9.92098549e-01],\n",
       "       [2.73524812e-02, 9.72647519e-01],\n",
       "       [7.30085184e-02, 9.26991482e-01],\n",
       "       [2.43087045e-02, 9.75691295e-01],\n",
       "       [4.46095003e-03, 9.95539050e-01],\n",
       "       [4.90820539e-01, 5.09179461e-01],\n",
       "       [2.45630380e-01, 7.54369620e-01],\n",
       "       [3.60119048e-01, 6.39880952e-01],\n",
       "       [5.87286023e-03, 9.94127140e-01],\n",
       "       [1.10727751e-01, 8.89272249e-01],\n",
       "       [6.09881198e-01, 3.90118802e-01],\n",
       "       [9.33572095e-01, 6.64279053e-02],\n",
       "       [2.88142787e-02, 9.71185721e-01],\n",
       "       [4.09350913e-03, 9.95906491e-01],\n",
       "       [4.80426198e-01, 5.19573802e-01],\n",
       "       [1.13655321e-01, 8.86344679e-01],\n",
       "       [9.94759227e-01, 5.24077323e-03],\n",
       "       [9.98975860e-01, 1.02414045e-03],\n",
       "       [4.08621190e-03, 9.95913788e-01],\n",
       "       [3.11857274e-02, 9.68814273e-01],\n",
       "       [3.01910369e-02, 9.69808963e-01],\n",
       "       [4.91263908e-01, 5.08736092e-01],\n",
       "       [2.76354528e-01, 7.23645472e-01],\n",
       "       [9.98691945e-01, 1.30805519e-03],\n",
       "       [9.99054568e-01, 9.45431539e-04],\n",
       "       [2.88978115e-02, 9.71102188e-01],\n",
       "       [4.22651636e-02, 9.57734836e-01],\n",
       "       [9.98648524e-01, 1.35147614e-03],\n",
       "       [5.03828420e-01, 4.96171580e-01],\n",
       "       [9.75948165e-01, 2.40518345e-02],\n",
       "       [9.98709792e-01, 1.29020773e-03],\n",
       "       [9.99079844e-01, 9.20156024e-04],\n",
       "       [3.04241499e-02, 9.69575850e-01],\n",
       "       [9.36887463e-01, 6.31125371e-02],\n",
       "       [2.94058000e-02, 9.70594200e-01],\n",
       "       [9.98454436e-01, 1.54556381e-03],\n",
       "       [6.66890682e-03, 9.93331093e-01],\n",
       "       [9.34841338e-01, 6.51586620e-02],\n",
       "       [9.44423382e-01, 5.55766184e-02],\n",
       "       [9.28308999e-01, 7.16910008e-02],\n",
       "       [6.99416844e-03, 9.93005832e-01],\n",
       "       [5.34692926e-01, 4.65307074e-01],\n",
       "       [5.30463965e-01, 4.69536035e-01],\n",
       "       [9.98551254e-01, 1.44874638e-03],\n",
       "       [2.69457760e-02, 9.73054224e-01]])"
      ]
     },
     "execution_count": 31,
     "metadata": {},
     "output_type": "execute_result"
    }
   ],
   "source": [
    "#soft voting in python\n",
    "spred1=model1.predict_proba(x_test)\n",
    "spred2=model2.predict_proba(x_test)\n",
    "spred3=model3.predict_proba(x_test)\n",
    "finalpred=(spred1+spred2+spred3)/3\n",
    "finalpred"
   ]
  },
  {
   "cell_type": "code",
   "execution_count": 32,
   "metadata": {},
   "outputs": [
    {
     "data": {
      "text/plain": [
       "array([1, 1, 1, 0, 1, 0, 0, 0, 1, 1, 1, 1, 0, 1, 1, 1, 1, 1, 1, 0, 1, 1,\n",
       "       0, 1, 0, 1, 1, 0, 0, 0, 0, 1, 0, 1, 1, 1, 0, 1, 1, 1, 1, 1, 1, 1,\n",
       "       1, 0, 1, 1, 1, 0, 0, 0, 1, 1, 1, 1, 1, 0, 1, 1, 1, 1, 1, 1, 1, 1,\n",
       "       1, 0, 1, 1, 1, 1, 1, 0, 1, 0, 1, 1, 1, 0, 1, 0, 1, 0, 1, 1, 0, 1,\n",
       "       1, 1, 1, 1, 1, 1, 0, 1, 1, 1, 1, 1, 1, 1, 1, 1, 1, 1, 1, 1, 0, 0,\n",
       "       1, 1, 1, 1, 0, 0, 1, 1, 1, 1, 1, 0, 0, 1, 1, 0, 0, 0, 0, 0, 1, 0,\n",
       "       1, 0, 1, 0, 0, 0, 1, 0, 0, 0, 1])"
      ]
     },
     "execution_count": 32,
     "metadata": {},
     "output_type": "execute_result"
    }
   ],
   "source": [
    "final_class=finalpred.argmax(axis=-1)\n",
    "final_class\n"
   ]
  },
  {
   "cell_type": "code",
   "execution_count": 33,
   "metadata": {},
   "outputs": [
    {
     "data": {
      "text/plain": [
       "VotingClassifier(estimators=[('dt',\n",
       "                              DecisionTreeClassifier(ccp_alpha=0.0,\n",
       "                                                     class_weight=None,\n",
       "                                                     criterion='gini',\n",
       "                                                     max_depth=4,\n",
       "                                                     max_features=None,\n",
       "                                                     max_leaf_nodes=None,\n",
       "                                                     min_impurity_decrease=0.0,\n",
       "                                                     min_impurity_split=None,\n",
       "                                                     min_samples_leaf=1,\n",
       "                                                     min_samples_split=2,\n",
       "                                                     min_weight_fraction_leaf=0.0,\n",
       "                                                     presort='deprecated',\n",
       "                                                     random_state=None,\n",
       "                                                     splitter='best')),\n",
       "                             ('knn',\n",
       "                              KNeighborsC...\n",
       "                                                   metric_params=None,\n",
       "                                                   n_jobs=None, n_neighbors=7,\n",
       "                                                   p=2, weights='uniform')),\n",
       "                             ('svc',\n",
       "                              SVC(C=1.0, break_ties=False, cache_size=200,\n",
       "                                  class_weight=None, coef0=0.0,\n",
       "                                  decision_function_shape='ovr', degree=3,\n",
       "                                  gamma='scale', kernel='rbf', max_iter=-1,\n",
       "                                  probability=True, random_state=None,\n",
       "                                  shrinking=True, tol=0.001, verbose=False))],\n",
       "                 flatten_transform=True, n_jobs=None, voting='soft',\n",
       "                 weights=None)"
      ]
     },
     "execution_count": 33,
     "metadata": {},
     "output_type": "execute_result"
    }
   ],
   "source": [
    "# we can applay for the volting process\n",
    "emodel=VotingClassifier(estimators=[('dt',model1),('knn',model2),('svc',model3)],voting='soft')\n",
    "emodel.fit(x_train,y_train)"
   ]
  },
  {
   "cell_type": "code",
   "execution_count": 34,
   "metadata": {},
   "outputs": [
    {
     "name": "stdout",
     "output_type": "stream",
     "text": [
      "0.8811188811188811\n"
     ]
    }
   ],
   "source": [
    "#accuracy score for the ensemble modelis\n",
    "escore=emodel.score(x_test,y_test)\n",
    "print(escore)"
   ]
  },
  {
   "cell_type": "code",
   "execution_count": 35,
   "metadata": {},
   "outputs": [
    {
     "data": {
      "text/plain": [
       "array([0, 1])"
      ]
     },
     "execution_count": 35,
     "metadata": {},
     "output_type": "execute_result"
    }
   ],
   "source": [
    "emodel.classes_"
   ]
  },
  {
   "cell_type": "code",
   "execution_count": null,
   "metadata": {},
   "outputs": [],
   "source": []
  }
 ],
 "metadata": {
  "kernelspec": {
   "display_name": "Python 3",
   "language": "python",
   "name": "python3"
  },
  "language_info": {
   "codemirror_mode": {
    "name": "ipython",
    "version": 3
   },
   "file_extension": ".py",
   "mimetype": "text/x-python",
   "name": "python",
   "nbconvert_exporter": "python",
   "pygments_lexer": "ipython3",
   "version": "3.6.9"
  }
 },
 "nbformat": 4,
 "nbformat_minor": 4
}
