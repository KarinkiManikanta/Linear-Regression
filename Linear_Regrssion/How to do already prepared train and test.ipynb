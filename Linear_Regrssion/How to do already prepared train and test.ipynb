{
 "cells": [
  {
   "cell_type": "code",
   "execution_count": 77,
   "metadata": {},
   "outputs": [],
   "source": [
    "import numpy as np\n",
    "import pandas as pd\n",
    "import matplotlib.pyplot as plt\n",
    "import seaborn as sns\n",
    "import pandas_profiling\n",
    "from sklearn.linear_model import LinearRegression\n"
   ]
  },
  {
   "cell_type": "code",
   "execution_count": 78,
   "metadata": {},
   "outputs": [
    {
     "data": {
      "text/plain": [
       "x    0\n",
       "y    1\n",
       "dtype: int64"
      ]
     },
     "execution_count": 78,
     "metadata": {},
     "output_type": "execute_result"
    }
   ],
   "source": [
    "data1.isna().sum()"
   ]
  },
  {
   "cell_type": "code",
   "execution_count": 79,
   "metadata": {},
   "outputs": [],
   "source": [
    "data1 = pd.read_csv(\"train.csv\")\n",
    "data2 = pd.read_csv('test.csv')"
   ]
  },
  {
   "cell_type": "code",
   "execution_count": 80,
   "metadata": {},
   "outputs": [],
   "source": [
    "dt1=data1.dropna()\n",
    "dt2=data2.dropna()"
   ]
  },
  {
   "cell_type": "code",
   "execution_count": 81,
   "metadata": {},
   "outputs": [
    {
     "data": {
      "text/plain": [
       "x    0\n",
       "y    0\n",
       "dtype: int64"
      ]
     },
     "execution_count": 81,
     "metadata": {},
     "output_type": "execute_result"
    }
   ],
   "source": [
    "dt1.isnull().sum()"
   ]
  },
  {
   "cell_type": "code",
   "execution_count": 82,
   "metadata": {},
   "outputs": [
    {
     "data": {
      "text/plain": [
       "x    0\n",
       "y    0\n",
       "dtype: int64"
      ]
     },
     "execution_count": 82,
     "metadata": {},
     "output_type": "execute_result"
    }
   ],
   "source": [
    "dt2.isnull().sum()"
   ]
  },
  {
   "cell_type": "code",
   "execution_count": 83,
   "metadata": {},
   "outputs": [],
   "source": [
    "Lr = LinearRegression(normalize=True)"
   ]
  },
  {
   "cell_type": "code",
   "execution_count": 84,
   "metadata": {},
   "outputs": [],
   "source": [
    "x_train = dt1[['x']]\n",
    "y_train = dt1['y']"
   ]
  },
  {
   "cell_type": "code",
   "execution_count": 85,
   "metadata": {},
   "outputs": [],
   "source": [
    "x_test = dt2[['x']]\n",
    "y_test = dt2['y']"
   ]
  },
  {
   "cell_type": "code",
   "execution_count": 86,
   "metadata": {},
   "outputs": [
    {
     "data": {
      "text/plain": [
       "LinearRegression(copy_X=True, fit_intercept=True, n_jobs=None, normalize=True)"
      ]
     },
     "execution_count": 86,
     "metadata": {},
     "output_type": "execute_result"
    }
   ],
   "source": [
    "Lr.fit(x_train,y_train)"
   ]
  },
  {
   "cell_type": "code",
   "execution_count": 87,
   "metadata": {},
   "outputs": [
    {
     "data": {
      "text/plain": [
       "0.9907015319025518"
      ]
     },
     "execution_count": 87,
     "metadata": {},
     "output_type": "execute_result"
    }
   ],
   "source": [
    "Train_Score = Lr.score(x_train,y_train)\n",
    "Train_Score"
   ]
  },
  {
   "cell_type": "code",
   "execution_count": 88,
   "metadata": {},
   "outputs": [
    {
     "data": {
      "text/plain": [
       "LinearRegression(copy_X=True, fit_intercept=True, n_jobs=None, normalize=True)"
      ]
     },
     "execution_count": 88,
     "metadata": {},
     "output_type": "execute_result"
    }
   ],
   "source": [
    "Lr.fit(x_test,y_test)"
   ]
  },
  {
   "cell_type": "code",
   "execution_count": 89,
   "metadata": {},
   "outputs": [],
   "source": [
    "Test_score = Lr.score(x_test,y_test)"
   ]
  },
  {
   "cell_type": "code",
   "execution_count": 90,
   "metadata": {},
   "outputs": [
    {
     "data": {
      "text/plain": [
       "0.9891203611402716"
      ]
     },
     "execution_count": 90,
     "metadata": {},
     "output_type": "execute_result"
    }
   ],
   "source": [
    "Test_score"
   ]
  },
  {
   "cell_type": "code",
   "execution_count": 91,
   "metadata": {
    "scrolled": true
   },
   "outputs": [
    {
     "data": {
      "text/plain": [
       "array([ 77.64201157,  20.83923168,  21.85356704,  19.82489633,\n",
       "        36.05426201,  14.75321955,  62.42698124,  95.90004796,\n",
       "        19.82489633,   4.609866  ,   3.59553065,  18.81056097,\n",
       "        96.91438332,  62.42698124,  36.05426201,  14.75321955,\n",
       "        65.46998731,  13.7388842 ,  87.78536512,  69.52732873,\n",
       "        89.81403583,  51.26929234,  89.81403583,  26.92524381,\n",
       "        97.92871867,  58.36963982,  79.67068228,  20.83923168,\n",
       "        93.87137725,  26.92524381,  99.95738938,  30.98258524,\n",
       "        33.01125595,  80.68501764,  27.93957917,  47.21195092,\n",
       "        53.29796305,  69.52732873,  27.93957917,  33.01125595,\n",
       "        91.84270654,  71.55599944,  50.25495698,  76.62767622,\n",
       "         3.59553065,  37.06859737,  70.54166408,  68.51299337,\n",
       "        40.11160343,  35.03992666,  94.88571261,  88.79970048,\n",
       "        52.28362769,  30.98258524,  59.38397518,  -0.46181077,\n",
       "        39.09726808,  64.45565195,  69.52732873,  57.35530447,\n",
       "        12.72454884,  72.57033479,  76.62767622,  61.41264589,\n",
       "        82.71368835,  17.79622562,  41.12593879,  50.25495698,\n",
       "        55.32663376,  12.72454884,  46.19761556,  12.72454884,\n",
       "        79.67068228,  53.29796305,  14.75321955,  27.93957917,\n",
       "        81.69935299,  69.52732873,  52.28362769,  84.74235906,\n",
       "        68.51299337,  26.92524381,  56.34096911,  48.22628627,\n",
       "        40.11160343,  39.09726808,  82.71368835, 100.97172474,\n",
       "        59.38397518,  43.1546095 ,  67.49865802,  38.08293272,\n",
       "        63.4413166 ,  91.84270654,  60.39831053,  13.7388842 ,\n",
       "        20.83923168,  87.78536512,  73.58467015,  31.99692059,\n",
       "         1.56685994,  82.71368835,  18.81056097,  74.59900551,\n",
       "        42.14027414,  11.71021349,   0.55252458,  90.82837119,\n",
       "        89.81403583,  -0.46181077,  41.12593879,  15.76755491,\n",
       "        94.88571261,  97.92871867,  66.48432266,  23.88223775,\n",
       "        16.78189026,  90.82837119,  12.72454884,  -0.46181077,\n",
       "        64.45565195,  96.91438332,  98.94305403,  11.71021349,\n",
       "        41.12593879,  47.21195092,  78.65634693,  19.82489633,\n",
       "        89.81403583,  28.95391452,  64.45565195,  75.61334086,\n",
       "        11.71021349,  24.8965731 ,  27.93957917,  29.96824988,\n",
       "        65.46998731,  59.38397518,  64.45565195,  53.29796305,\n",
       "        71.55599944,  97.92871867,  73.58467015,   8.66720742,\n",
       "        11.71021349,  63.4413166 ,  99.95738938,  60.39831053,\n",
       "        35.03992666,   1.56685994,  60.39831053,  31.99692059,\n",
       "        94.88571261,  84.74235906,  63.4413166 ,  21.85356704,\n",
       "        81.69935299,  93.87137725,  33.01125595,   6.63853671,\n",
       "        42.14027414,  46.19761556,  54.3122984 ,  15.76755491,\n",
       "        49.24062163,  43.1546095 ,  95.90004796,  66.48432266,\n",
       "        20.83923168,  35.03992666,  80.68501764,  37.06859737,\n",
       "        54.3122984 ,  56.34096911,   0.55252458,  31.99692059,\n",
       "        58.36963982,  31.99692059,  46.19761556,  72.57033479,\n",
       "        16.78189026,  97.92871867,  93.87137725,  91.84270654,\n",
       "        37.06859737,   3.59553065,  54.3122984 ,  51.26929234,\n",
       "        26.92524381,  46.19761556,  92.8570419 ,  73.58467015,\n",
       "        77.64201157,  91.84270654,  61.41264589,  99.95738938,\n",
       "         3.59553065,  72.57033479,  18.81056097,  57.35530447,\n",
       "        78.65634693,  25.91090846,  74.59900551,  90.82837119,\n",
       "        66.48432266,  12.72454884,  40.11160343,  77.64201157,\n",
       "        67.49865802,  75.61334086,  22.86790239,  45.18328021,\n",
       "        59.38397518,  44.16894485,  22.86790239,  55.32663376,\n",
       "        55.32663376,  95.90004796,  11.71021349,   3.59553065,\n",
       "         6.63853671, 100.97172474,  48.22628627,  42.14027414,\n",
       "        96.91438332,  39.09726808, 100.97172474,  87.78536512,\n",
       "        13.7388842 ,  13.7388842 ,  37.06859737,   4.609866  ,\n",
       "        88.79970048,  91.84270654,  65.46998731,  74.59900551,\n",
       "        56.34096911,  15.76755491,   4.609866  ,  27.93957917,\n",
       "        92.8570419 ,  46.19761556,  54.3122984 ,  39.09726808,\n",
       "        44.16894485,  30.98258524,  68.51299337,  86.77102977,\n",
       "        90.82837119,  38.08293272,  20.83923168,  95.90004796,\n",
       "        56.34096911,  60.39831053,  65.46998731,  78.65634693,\n",
       "        89.81403583,   5.62420136,  67.49865802,  36.05426201,\n",
       "        15.76755491, 100.97172474,  45.18328021,  73.58467015,\n",
       "        57.35530447,  19.82489633,  76.62767622,  34.0255913 ,\n",
       "        55.32663376,  72.57033479,  55.32663376,   7.65287207,\n",
       "        56.34096911,  72.57033479,  58.36963982,   5.62420136,\n",
       "        96.91438332,  22.86790239,  58.36963982,  22.86790239,\n",
       "        18.81056097,  24.8965731 ,  64.45565195,  20.83923168,\n",
       "        59.38397518,  18.81056097,  15.76755491,  42.14027414,\n",
       "        43.1546095 ,  61.41264589,  92.8570419 ,  10.69587813,\n",
       "        41.12593879,   0.55252458,   7.65287207,  71.55599944,\n",
       "        46.19761556,  55.32663376,  62.42698124,  47.21195092])"
      ]
     },
     "execution_count": 91,
     "metadata": {},
     "output_type": "execute_result"
    }
   ],
   "source": [
    "New_Pred = Lr.predict(x_test)\n",
    "New_Pred"
   ]
  },
  {
   "cell_type": "code",
   "execution_count": null,
   "metadata": {
    "scrolled": true
   },
   "outputs": [],
   "source": []
  },
  {
   "cell_type": "code",
   "execution_count": 121,
   "metadata": {
    "scrolled": true
   },
   "outputs": [
    {
     "data": {
      "text/html": [
       "<div>\n",
       "<style scoped>\n",
       "    .dataframe tbody tr th:only-of-type {\n",
       "        vertical-align: middle;\n",
       "    }\n",
       "\n",
       "    .dataframe tbody tr th {\n",
       "        vertical-align: top;\n",
       "    }\n",
       "\n",
       "    .dataframe thead th {\n",
       "        text-align: right;\n",
       "    }\n",
       "</style>\n",
       "<table border=\"1\" class=\"dataframe\">\n",
       "  <thead>\n",
       "    <tr style=\"text-align: right;\">\n",
       "      <th></th>\n",
       "      <th>New_Prediction</th>\n",
       "      <th>Actual_Data</th>\n",
       "    </tr>\n",
       "  </thead>\n",
       "  <tbody>\n",
       "    <tr>\n",
       "      <th>0</th>\n",
       "      <td>77.642012</td>\n",
       "      <td>79.775152</td>\n",
       "    </tr>\n",
       "    <tr>\n",
       "      <th>1</th>\n",
       "      <td>20.839232</td>\n",
       "      <td>23.177279</td>\n",
       "    </tr>\n",
       "    <tr>\n",
       "      <th>2</th>\n",
       "      <td>21.853567</td>\n",
       "      <td>25.609262</td>\n",
       "    </tr>\n",
       "    <tr>\n",
       "      <th>3</th>\n",
       "      <td>19.824896</td>\n",
       "      <td>17.857388</td>\n",
       "    </tr>\n",
       "    <tr>\n",
       "      <th>4</th>\n",
       "      <td>36.054262</td>\n",
       "      <td>41.849864</td>\n",
       "    </tr>\n",
       "    <tr>\n",
       "      <th>5</th>\n",
       "      <td>14.753220</td>\n",
       "      <td>9.805235</td>\n",
       "    </tr>\n",
       "    <tr>\n",
       "      <th>6</th>\n",
       "      <td>62.426981</td>\n",
       "      <td>58.874659</td>\n",
       "    </tr>\n",
       "    <tr>\n",
       "      <th>7</th>\n",
       "      <td>95.900048</td>\n",
       "      <td>97.617937</td>\n",
       "    </tr>\n",
       "    <tr>\n",
       "      <th>8</th>\n",
       "      <td>19.824896</td>\n",
       "      <td>18.395127</td>\n",
       "    </tr>\n",
       "    <tr>\n",
       "      <th>9</th>\n",
       "      <td>4.609866</td>\n",
       "      <td>8.746748</td>\n",
       "    </tr>\n",
       "    <tr>\n",
       "      <th>10</th>\n",
       "      <td>3.595531</td>\n",
       "      <td>2.811416</td>\n",
       "    </tr>\n",
       "    <tr>\n",
       "      <th>11</th>\n",
       "      <td>18.810561</td>\n",
       "      <td>17.095372</td>\n",
       "    </tr>\n",
       "    <tr>\n",
       "      <th>12</th>\n",
       "      <td>96.914383</td>\n",
       "      <td>95.149072</td>\n",
       "    </tr>\n",
       "    <tr>\n",
       "      <th>13</th>\n",
       "      <td>62.426981</td>\n",
       "      <td>61.388007</td>\n",
       "    </tr>\n",
       "    <tr>\n",
       "      <th>14</th>\n",
       "      <td>36.054262</td>\n",
       "      <td>40.247017</td>\n",
       "    </tr>\n",
       "    <tr>\n",
       "      <th>15</th>\n",
       "      <td>14.753220</td>\n",
       "      <td>14.822486</td>\n",
       "    </tr>\n",
       "    <tr>\n",
       "      <th>16</th>\n",
       "      <td>65.469987</td>\n",
       "      <td>66.958069</td>\n",
       "    </tr>\n",
       "    <tr>\n",
       "      <th>17</th>\n",
       "      <td>13.738884</td>\n",
       "      <td>16.635080</td>\n",
       "    </tr>\n",
       "    <tr>\n",
       "      <th>18</th>\n",
       "      <td>87.785365</td>\n",
       "      <td>90.655137</td>\n",
       "    </tr>\n",
       "    <tr>\n",
       "      <th>19</th>\n",
       "      <td>69.527329</td>\n",
       "      <td>77.229826</td>\n",
       "    </tr>\n",
       "    <tr>\n",
       "      <th>20</th>\n",
       "      <td>89.814036</td>\n",
       "      <td>92.119063</td>\n",
       "    </tr>\n",
       "    <tr>\n",
       "      <th>21</th>\n",
       "      <td>51.269292</td>\n",
       "      <td>46.913877</td>\n",
       "    </tr>\n",
       "    <tr>\n",
       "      <th>22</th>\n",
       "      <td>89.814036</td>\n",
       "      <td>89.826344</td>\n",
       "    </tr>\n",
       "    <tr>\n",
       "      <th>23</th>\n",
       "      <td>26.925244</td>\n",
       "      <td>21.713803</td>\n",
       "    </tr>\n",
       "    <tr>\n",
       "      <th>24</th>\n",
       "      <td>97.928719</td>\n",
       "      <td>97.412070</td>\n",
       "    </tr>\n",
       "    <tr>\n",
       "      <th>25</th>\n",
       "      <td>58.369640</td>\n",
       "      <td>57.016314</td>\n",
       "    </tr>\n",
       "    <tr>\n",
       "      <th>26</th>\n",
       "      <td>79.670682</td>\n",
       "      <td>78.310565</td>\n",
       "    </tr>\n",
       "    <tr>\n",
       "      <th>27</th>\n",
       "      <td>20.839232</td>\n",
       "      <td>19.131510</td>\n",
       "    </tr>\n",
       "    <tr>\n",
       "      <th>28</th>\n",
       "      <td>93.871377</td>\n",
       "      <td>93.034834</td>\n",
       "    </tr>\n",
       "    <tr>\n",
       "      <th>29</th>\n",
       "      <td>26.925244</td>\n",
       "      <td>26.591124</td>\n",
       "    </tr>\n",
       "    <tr>\n",
       "      <th>...</th>\n",
       "      <td>...</td>\n",
       "      <td>...</td>\n",
       "    </tr>\n",
       "    <tr>\n",
       "      <th>270</th>\n",
       "      <td>55.326634</td>\n",
       "      <td>55.816285</td>\n",
       "    </tr>\n",
       "    <tr>\n",
       "      <th>271</th>\n",
       "      <td>7.652872</td>\n",
       "      <td>9.391417</td>\n",
       "    </tr>\n",
       "    <tr>\n",
       "      <th>272</th>\n",
       "      <td>56.340969</td>\n",
       "      <td>56.014481</td>\n",
       "    </tr>\n",
       "    <tr>\n",
       "      <th>273</th>\n",
       "      <td>72.570335</td>\n",
       "      <td>77.996948</td>\n",
       "    </tr>\n",
       "    <tr>\n",
       "      <th>274</th>\n",
       "      <td>58.369640</td>\n",
       "      <td>55.370500</td>\n",
       "    </tr>\n",
       "    <tr>\n",
       "      <th>275</th>\n",
       "      <td>5.624201</td>\n",
       "      <td>11.894578</td>\n",
       "    </tr>\n",
       "    <tr>\n",
       "      <th>276</th>\n",
       "      <td>96.914383</td>\n",
       "      <td>94.790817</td>\n",
       "    </tr>\n",
       "    <tr>\n",
       "      <th>277</th>\n",
       "      <td>22.867902</td>\n",
       "      <td>25.690415</td>\n",
       "    </tr>\n",
       "    <tr>\n",
       "      <th>278</th>\n",
       "      <td>58.369640</td>\n",
       "      <td>53.520423</td>\n",
       "    </tr>\n",
       "    <tr>\n",
       "      <th>279</th>\n",
       "      <td>22.867902</td>\n",
       "      <td>18.313968</td>\n",
       "    </tr>\n",
       "    <tr>\n",
       "      <th>280</th>\n",
       "      <td>18.810561</td>\n",
       "      <td>21.426378</td>\n",
       "    </tr>\n",
       "    <tr>\n",
       "      <th>281</th>\n",
       "      <td>24.896573</td>\n",
       "      <td>30.413033</td>\n",
       "    </tr>\n",
       "    <tr>\n",
       "      <th>282</th>\n",
       "      <td>64.455652</td>\n",
       "      <td>67.681421</td>\n",
       "    </tr>\n",
       "    <tr>\n",
       "      <th>283</th>\n",
       "      <td>20.839232</td>\n",
       "      <td>17.085478</td>\n",
       "    </tr>\n",
       "    <tr>\n",
       "      <th>284</th>\n",
       "      <td>59.383975</td>\n",
       "      <td>60.917927</td>\n",
       "    </tr>\n",
       "    <tr>\n",
       "      <th>285</th>\n",
       "      <td>18.810561</td>\n",
       "      <td>14.995143</td>\n",
       "    </tr>\n",
       "    <tr>\n",
       "      <th>286</th>\n",
       "      <td>15.767555</td>\n",
       "      <td>16.749239</td>\n",
       "    </tr>\n",
       "    <tr>\n",
       "      <th>287</th>\n",
       "      <td>42.140274</td>\n",
       "      <td>41.469239</td>\n",
       "    </tr>\n",
       "    <tr>\n",
       "      <th>288</th>\n",
       "      <td>43.154609</td>\n",
       "      <td>42.845261</td>\n",
       "    </tr>\n",
       "    <tr>\n",
       "      <th>289</th>\n",
       "      <td>61.412646</td>\n",
       "      <td>59.129130</td>\n",
       "    </tr>\n",
       "    <tr>\n",
       "      <th>290</th>\n",
       "      <td>92.857042</td>\n",
       "      <td>91.308637</td>\n",
       "    </tr>\n",
       "    <tr>\n",
       "      <th>291</th>\n",
       "      <td>10.695878</td>\n",
       "      <td>8.673336</td>\n",
       "    </tr>\n",
       "    <tr>\n",
       "      <th>292</th>\n",
       "      <td>41.125939</td>\n",
       "      <td>39.314853</td>\n",
       "    </tr>\n",
       "    <tr>\n",
       "      <th>293</th>\n",
       "      <td>0.552525</td>\n",
       "      <td>5.313686</td>\n",
       "    </tr>\n",
       "    <tr>\n",
       "      <th>294</th>\n",
       "      <td>7.652872</td>\n",
       "      <td>5.405221</td>\n",
       "    </tr>\n",
       "    <tr>\n",
       "      <th>295</th>\n",
       "      <td>71.555999</td>\n",
       "      <td>68.545888</td>\n",
       "    </tr>\n",
       "    <tr>\n",
       "      <th>296</th>\n",
       "      <td>46.197616</td>\n",
       "      <td>47.334876</td>\n",
       "    </tr>\n",
       "    <tr>\n",
       "      <th>297</th>\n",
       "      <td>55.326634</td>\n",
       "      <td>54.090637</td>\n",
       "    </tr>\n",
       "    <tr>\n",
       "      <th>298</th>\n",
       "      <td>62.426981</td>\n",
       "      <td>63.297171</td>\n",
       "    </tr>\n",
       "    <tr>\n",
       "      <th>299</th>\n",
       "      <td>47.211951</td>\n",
       "      <td>52.459467</td>\n",
       "    </tr>\n",
       "  </tbody>\n",
       "</table>\n",
       "<p>300 rows × 2 columns</p>\n",
       "</div>"
      ],
      "text/plain": [
       "     New_Prediction  Actual_Data\n",
       "0         77.642012    79.775152\n",
       "1         20.839232    23.177279\n",
       "2         21.853567    25.609262\n",
       "3         19.824896    17.857388\n",
       "4         36.054262    41.849864\n",
       "5         14.753220     9.805235\n",
       "6         62.426981    58.874659\n",
       "7         95.900048    97.617937\n",
       "8         19.824896    18.395127\n",
       "9          4.609866     8.746748\n",
       "10         3.595531     2.811416\n",
       "11        18.810561    17.095372\n",
       "12        96.914383    95.149072\n",
       "13        62.426981    61.388007\n",
       "14        36.054262    40.247017\n",
       "15        14.753220    14.822486\n",
       "16        65.469987    66.958069\n",
       "17        13.738884    16.635080\n",
       "18        87.785365    90.655137\n",
       "19        69.527329    77.229826\n",
       "20        89.814036    92.119063\n",
       "21        51.269292    46.913877\n",
       "22        89.814036    89.826344\n",
       "23        26.925244    21.713803\n",
       "24        97.928719    97.412070\n",
       "25        58.369640    57.016314\n",
       "26        79.670682    78.310565\n",
       "27        20.839232    19.131510\n",
       "28        93.871377    93.034834\n",
       "29        26.925244    26.591124\n",
       "..              ...          ...\n",
       "270       55.326634    55.816285\n",
       "271        7.652872     9.391417\n",
       "272       56.340969    56.014481\n",
       "273       72.570335    77.996948\n",
       "274       58.369640    55.370500\n",
       "275        5.624201    11.894578\n",
       "276       96.914383    94.790817\n",
       "277       22.867902    25.690415\n",
       "278       58.369640    53.520423\n",
       "279       22.867902    18.313968\n",
       "280       18.810561    21.426378\n",
       "281       24.896573    30.413033\n",
       "282       64.455652    67.681421\n",
       "283       20.839232    17.085478\n",
       "284       59.383975    60.917927\n",
       "285       18.810561    14.995143\n",
       "286       15.767555    16.749239\n",
       "287       42.140274    41.469239\n",
       "288       43.154609    42.845261\n",
       "289       61.412646    59.129130\n",
       "290       92.857042    91.308637\n",
       "291       10.695878     8.673336\n",
       "292       41.125939    39.314853\n",
       "293        0.552525     5.313686\n",
       "294        7.652872     5.405221\n",
       "295       71.555999    68.545888\n",
       "296       46.197616    47.334876\n",
       "297       55.326634    54.090637\n",
       "298       62.426981    63.297171\n",
       "299       47.211951    52.459467\n",
       "\n",
       "[300 rows x 2 columns]"
      ]
     },
     "execution_count": 121,
     "metadata": {},
     "output_type": "execute_result"
    }
   ],
   "source": [
    "Data = pd.DataFrame({'New_Prediction':New_Pred,\n",
    "                     'Actual_Data':y_test}, index=np.arange(300))\n",
    "Data"
   ]
  },
  {
   "cell_type": "code",
   "execution_count": 95,
   "metadata": {},
   "outputs": [],
   "source": [
    "from sklearn.metrics import r2_score,mean_absolute_error,mean_squared_error"
   ]
  },
  {
   "cell_type": "code",
   "execution_count": 96,
   "metadata": {},
   "outputs": [
    {
     "data": {
      "text/plain": [
       "0.9891203611402716"
      ]
     },
     "execution_count": 96,
     "metadata": {},
     "output_type": "execute_result"
    }
   ],
   "source": [
    "r2_score(y_test,New_Pred)"
   ]
  },
  {
   "cell_type": "code",
   "execution_count": 101,
   "metadata": {},
   "outputs": [
    {
     "data": {
      "text/plain": [
       "2.410524352689128"
      ]
     },
     "execution_count": 101,
     "metadata": {},
     "output_type": "execute_result"
    }
   ],
   "source": [
    "mean_absolute_error(y_test,New_Pred)"
   ]
  },
  {
   "cell_type": "code",
   "execution_count": 102,
   "metadata": {},
   "outputs": [
    {
     "data": {
      "text/plain": [
       "9.164287860614264"
      ]
     },
     "execution_count": 102,
     "metadata": {},
     "output_type": "execute_result"
    }
   ],
   "source": [
    "mean_squared_error(y_test,New_Pred)"
   ]
  },
  {
   "cell_type": "code",
   "execution_count": 103,
   "metadata": {},
   "outputs": [],
   "source": [
    "from sklearn.model_selection import cross_val_score"
   ]
  },
  {
   "cell_type": "code",
   "execution_count": 104,
   "metadata": {},
   "outputs": [],
   "source": [
    "cv = cross_val_score(Lr,x_train,y_train,cv = 20)"
   ]
  },
  {
   "cell_type": "code",
   "execution_count": 105,
   "metadata": {},
   "outputs": [
    {
     "data": {
      "text/plain": [
       "array([0.99028872, 0.98821483, 0.98668645, 0.98961171, 0.99309076,\n",
       "       0.98695483, 0.98912024, 0.98630777, 0.987217  , 0.99395628,\n",
       "       0.99398612, 0.99225872, 0.98832487, 0.99062613, 0.99225434,\n",
       "       0.98894076, 0.99023126, 0.99374311, 0.98760931, 0.99071867])"
      ]
     },
     "execution_count": 105,
     "metadata": {},
     "output_type": "execute_result"
    }
   ],
   "source": [
    "cv"
   ]
  },
  {
   "cell_type": "code",
   "execution_count": 106,
   "metadata": {},
   "outputs": [
    {
     "data": {
      "text/plain": [
       "0.9900070945412065"
      ]
     },
     "execution_count": 106,
     "metadata": {},
     "output_type": "execute_result"
    }
   ],
   "source": [
    "np.mean(cv)"
   ]
  },
  {
   "cell_type": "code",
   "execution_count": 107,
   "metadata": {},
   "outputs": [
    {
     "data": {
      "text/plain": [
       "0.9939861249352869"
      ]
     },
     "execution_count": 107,
     "metadata": {},
     "output_type": "execute_result"
    }
   ],
   "source": [
    "np.max(cv)"
   ]
  },
  {
   "cell_type": "code",
   "execution_count": 108,
   "metadata": {},
   "outputs": [
    {
     "data": {
      "text/plain": [
       "0.986307771403265"
      ]
     },
     "execution_count": 108,
     "metadata": {},
     "output_type": "execute_result"
    }
   ],
   "source": [
    "np.min(cv)"
   ]
  },
  {
   "cell_type": "code",
   "execution_count": 114,
   "metadata": {},
   "outputs": [
    {
     "data": {
      "text/plain": [
       "[<matplotlib.lines.Line2D at 0x7f0a4f312cf8>]"
      ]
     },
     "execution_count": 114,
     "metadata": {},
     "output_type": "execute_result"
    },
    {
     "data": {
      "image/png": "[encoded data removed]",
      "text/plain": [
       "<Figure size 432x288 with 1 Axes>"
      ]
     },
     "metadata": {
      "needs_background": "light"
     },
     "output_type": "display_data"
    }
   ],
   "source": [
    "plt.plot(y_test,New_Pred,'r')"
   ]
  },
  {
   "cell_type": "code",
   "execution_count": 131,
   "metadata": {},
   "outputs": [
    {
     "name": "stderr",
     "output_type": "stream",
     "text": [
      "/home/nbuser/anaconda3_501/lib/python3.6/site-packages/scipy/stats/stats.py:1713: FutureWarning: Using a non-tuple sequence for multidimensional indexing is deprecated; use `arr[tuple(seq)]` instead of `arr[seq]`. In the future this will be interpreted as an array index, `arr[np.array(seq)]`, which will result either in an error or a different result.\n",
      "  return np.add.reduce(sorted[indexer] * weights, axis=axis) / sumval\n"
     ]
    },
    {
     "data": {
      "text/plain": [
       "<seaborn.axisgrid.FacetGrid at 0x7f0a4f2ac550>"
      ]
     },
     "execution_count": 131,
     "metadata": {},
     "output_type": "execute_result"
    },
    {
     "data": {
      "image/png": "[encoded data removed]",
      "text/plain": [
       "<Figure size 360x360 with 1 Axes>"
      ]
     },
     "metadata": {
      "needs_background": "light"
     },
     "output_type": "display_data"
    }
   ],
   "source": [
    "sns.lmplot(x='Actual_Data',y='New_Prediction',data=Data)"
   ]
  },
  {
   "cell_type": "code",
   "execution_count": 127,
   "metadata": {},
   "outputs": [
    {
     "data": {
      "text/plain": [
       "Index(['New_Prediction', 'Actual_Data'], dtype='object')"
      ]
     },
     "execution_count": 127,
     "metadata": {},
     "output_type": "execute_result"
    }
   ],
   "source": [
    "Data.columns"
   ]
  },
  {
   "cell_type": "code",
   "execution_count": null,
   "metadata": {},
   "outputs": [],
   "source": []
  }
 ],
 "metadata": {
  "kernelspec": {
   "display_name": "Python 3",
   "language": "python",
   "name": "python3"
  },
  "language_info": {
   "codemirror_mode": {
    "name": "ipython",
    "version": 3
   },
   "file_extension": ".py",
   "mimetype": "text/x-python",
   "name": "python",
   "nbconvert_exporter": "python",
   "pygments_lexer": "ipython3",
   "version": "3.6.9"
  }
 },
 "nbformat": 4,
 "nbformat_minor": 1
}
