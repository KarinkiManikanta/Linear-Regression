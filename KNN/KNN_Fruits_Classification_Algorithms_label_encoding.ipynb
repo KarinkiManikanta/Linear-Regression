{
 "cells": [
  {
   "cell_type": "code",
   "execution_count": 1,
   "metadata": {},
   "outputs": [],
   "source": [
    "import numpy as np\n",
    "import pandas as pd\n",
    "import scipy as stats\n",
    "import seaborn as sns\n",
    "import pandas_profiling\n",
    "import matplotlib.pyplot as plt"
   ]
  },
  {
   "cell_type": "code",
   "execution_count": 8,
   "metadata": {},
   "outputs": [],
   "source": [
    "data=pd.read_csv('https://raw.githubusercontent.com/reddyprasade/Machine-Learning-Problems-DataSets/master/Classification/Fruits.csv')"
   ]
  },
  {
   "cell_type": "code",
   "execution_count": 9,
   "metadata": {},
   "outputs": [
    {
     "data": {
      "text/html": [
       "<div>\n",
       "<style scoped>\n",
       "    .dataframe tbody tr th:only-of-type {\n",
       "        vertical-align: middle;\n",
       "    }\n",
       "\n",
       "    .dataframe tbody tr th {\n",
       "        vertical-align: top;\n",
       "    }\n",
       "\n",
       "    .dataframe thead th {\n",
       "        text-align: right;\n",
       "    }\n",
       "</style>\n",
       "<table border=\"1\" class=\"dataframe\">\n",
       "  <thead>\n",
       "    <tr style=\"text-align: right;\">\n",
       "      <th></th>\n",
       "      <th>Color</th>\n",
       "      <th>Weight(g)</th>\n",
       "      <th>Size</th>\n",
       "      <th>Fruits</th>\n",
       "    </tr>\n",
       "  </thead>\n",
       "  <tbody>\n",
       "    <tr>\n",
       "      <th>0</th>\n",
       "      <td>Red</td>\n",
       "      <td>70</td>\n",
       "      <td>Small</td>\n",
       "      <td>Apple</td>\n",
       "    </tr>\n",
       "    <tr>\n",
       "      <th>1</th>\n",
       "      <td>Red</td>\n",
       "      <td>100</td>\n",
       "      <td>Big</td>\n",
       "      <td>Apple</td>\n",
       "    </tr>\n",
       "  </tbody>\n",
       "</table>\n",
       "</div>"
      ],
      "text/plain": [
       "  Color  Weight(g)   Size Fruits\n",
       "0   Red         70  Small  Apple\n",
       "1   Red        100    Big  Apple"
      ]
     },
     "execution_count": 9,
     "metadata": {},
     "output_type": "execute_result"
    }
   ],
   "source": [
    "data.head(2)"
   ]
  },
  {
   "cell_type": "code",
   "execution_count": 18,
   "metadata": {},
   "outputs": [
    {
     "name": "stdout",
     "output_type": "stream",
     "text": [
      "0        Red\n",
      "1        Red\n",
      "2     Orange\n",
      "3        Red\n",
      "4      Green\n",
      "5        Red\n",
      "6        Red\n",
      "7      Green\n",
      "8      Green\n",
      "9        Red\n",
      "10     Green\n",
      "11       Red\n",
      "12       Red\n",
      "13       Red\n",
      "14       Red\n",
      "15       Red\n",
      "16    Orange\n",
      "17       Red\n",
      "18    Orange\n",
      "19       Red\n",
      "20       Red\n",
      "21       Red\n",
      "22       Red\n",
      "23     Green\n",
      "24    Orange\n",
      "25       Red\n",
      "26     Green\n",
      "27     Green\n",
      "28       Red\n",
      "29       Red\n",
      "Name: Color, dtype: object\n",
      "[2 2 1 2 0 2 2 0 0 2 0 2 2 2 2 2 1 2 1 2 2 2 2 0 1 2 0 0 2 2]\n"
     ]
    }
   ],
   "source": [
    "from sklearn import preprocessing\n",
    "le=preprocessing.LabelEncoder()\n",
    "\n",
    "#convert string labels into number\n",
    "color_encoded=le.fit_transform(data.Color)\n",
    "print(data.Color)\n",
    "print(color_encoded)"
   ]
  },
  {
   "cell_type": "code",
   "execution_count": 19,
   "metadata": {},
   "outputs": [
    {
     "name": "stdout",
     "output_type": "stream",
     "text": [
      "0      Apple\n",
      "1      Apple\n",
      "2      Plums\n",
      "3     Cherry\n",
      "4      Apple\n",
      "5      Apple\n",
      "6     Cherry\n",
      "7      Apple\n",
      "8      Apple\n",
      "9     Cherry\n",
      "10     Plums\n",
      "11    Cherry\n",
      "12     Plums\n",
      "13    Cherry\n",
      "14     Apple\n",
      "15     Plums\n",
      "16     Plums\n",
      "17    Cherry\n",
      "18     Plums\n",
      "19    Cherry\n",
      "20     Apple\n",
      "21    Cherry\n",
      "22    Cherry\n",
      "23     Apple\n",
      "24     Plums\n",
      "25    Cherry\n",
      "26     Plums\n",
      "27     Apple\n",
      "28     Plums\n",
      "29     Plums\n",
      "Name: Fruits, dtype: object\n",
      "[0 0 2 1 0 0 1 0 0 1 2 1 2 1 0 2 2 1 2 1 0 1 1 0 2 1 2 0 2 2]\n"
     ]
    }
   ],
   "source": [
    "#convert string labels into number\n",
    "color_encoded1=le.fit_transform(data.Fruits)\n",
    "print(data.Fruits)\n",
    "print(color_encoded1)"
   ]
  },
  {
   "cell_type": "code",
   "execution_count": 20,
   "metadata": {},
   "outputs": [
    {
     "name": "stdout",
     "output_type": "stream",
     "text": [
      "0      Small\n",
      "1        Big\n",
      "2     Medium\n",
      "3      Small\n",
      "4        Big\n",
      "5        Big\n",
      "6      Small\n",
      "7      Small\n",
      "8      Small\n",
      "9      Small\n",
      "10    Medium\n",
      "11     Small\n",
      "12    Medium\n",
      "13     Small\n",
      "14     Small\n",
      "15    Medium\n",
      "16    Medium\n",
      "17     Small\n",
      "18    Medium\n",
      "19     Small\n",
      "20       Big\n",
      "21     Small\n",
      "22     Small\n",
      "23     Small\n",
      "24    Medium\n",
      "25     Small\n",
      "26    Medium\n",
      "27       Big\n",
      "28    Medium\n",
      "29    Medium\n",
      "Name: Size, dtype: object\n",
      "[2 0 1 2 0 0 2 2 2 2 1 2 1 2 2 1 1 2 1 2 0 2 2 2 1 2 1 0 1 1]\n"
     ]
    }
   ],
   "source": [
    "color_encoded2=le.fit_transform(data.Size)\n",
    "print(data.Size)\n",
    "print(color_encoded2)"
   ]
  },
  {
   "cell_type": "code",
   "execution_count": 44,
   "metadata": {},
   "outputs": [],
   "source": [
    "weight=data['Weight(g)']"
   ]
  },
  {
   "cell_type": "code",
   "execution_count": 47,
   "metadata": {},
   "outputs": [
    {
     "data": {
      "text/plain": [
       "array([[  2.,  70.,   2.],\n",
       "       [  2., 100.,   0.],\n",
       "       [  1.,  28.,   1.],\n",
       "       [  2.,   3.,   2.],\n",
       "       [  0., 100.,   0.],\n",
       "       [  2., 100.,   0.],\n",
       "       [  2.,   3.,   2.],\n",
       "       [  0.,  70.,   2.],\n",
       "       [  0.,  70.,   2.],\n",
       "       [  2.,   7.,   2.],\n",
       "       [  0.,  27.,   1.],\n",
       "       [  2.,   7.,   2.],\n",
       "       [  2.,  28.,   1.],\n",
       "       [  2.,   7.,   2.],\n",
       "       [  2.,  70.,   2.],\n",
       "       [  2.,  27.,   1.],\n",
       "       [  1.,  28.,   1.],\n",
       "       [  2.,   3.,   2.],\n",
       "       [  1.,  28.,   1.],\n",
       "       [  2.,   7.,   2.],\n",
       "       [  2., 100.,   0.],\n",
       "       [  2.,   3.,   2.],\n",
       "       [  2.,   7.,   2.],\n",
       "       [  0.,  70.,   2.],\n",
       "       [  1.,  28.,   1.],\n",
       "       [  2.,   7.,   2.],\n",
       "       [  0.,  28.,   1.],\n",
       "       [  0., 100.,   0.],\n",
       "       [  2.,  27.,   1.],\n",
       "       [  2.,  27.,   1.]])"
      ]
     },
     "execution_count": 47,
     "metadata": {},
     "output_type": "execute_result"
    }
   ],
   "source": [
    "features=list(zip(color_encoded,weight,color_encoded2))\n",
    "features=np.array(features,dtype=np.float)\n",
    "features"
   ]
  },
  {
   "cell_type": "code",
   "execution_count": 50,
   "metadata": {},
   "outputs": [
    {
     "name": "stdout",
     "output_type": "stream",
     "text": [
      "[0 0 2 1 0 0 1 0 0 1 2 1 2 1 0 2 2 1 2 1 0 1 1 0 2 1 2 0 2 2]\n"
     ]
    },
    {
     "data": {
      "text/plain": [
       "array([0, 0, 2, 1, 0, 0, 1, 0, 0, 1, 2, 1, 2, 1, 0, 2, 2, 1, 2, 1, 0, 1,\n",
       "       1, 0, 2, 1, 2, 0, 2, 2])"
      ]
     },
     "execution_count": 50,
     "metadata": {},
     "output_type": "execute_result"
    }
   ],
   "source": [
    "#target or label\n",
    "label=le.fit_transform(color_encoded1)\n",
    "print(color_encoded1)\n",
    "label"
   ]
  },
  {
   "cell_type": "code",
   "execution_count": 51,
   "metadata": {},
   "outputs": [
    {
     "data": {
      "text/plain": [
       "KNeighborsClassifier(algorithm='auto', leaf_size=30, metric='euclidean',\n",
       "                     metric_params=None, n_jobs=None, n_neighbors=3, p=2,\n",
       "                     weights='uniform')"
      ]
     },
     "execution_count": 51,
     "metadata": {},
     "output_type": "execute_result"
    }
   ],
   "source": [
    "from sklearn.neighbors import KNeighborsClassifier\n",
    "model=KNeighborsClassifier(n_neighbors=3,metric='euclidean')\n",
    "#Trining the model using the trining set\n",
    "model.fit(features,label)"
   ]
  },
  {
   "cell_type": "code",
   "execution_count": 52,
   "metadata": {},
   "outputs": [
    {
     "data": {
      "text/plain": [
       "array([0, 1, 2])"
      ]
     },
     "execution_count": 52,
     "metadata": {},
     "output_type": "execute_result"
    }
   ],
   "source": [
    "model.classes_"
   ]
  },
  {
   "cell_type": "code",
   "execution_count": 53,
   "metadata": {},
   "outputs": [
    {
     "name": "stdout",
     "output_type": "stream",
     "text": [
      "[1]\n"
     ]
    }
   ],
   "source": [
    "#predicting the fruits\n",
    "predicted=model.predict([[1,2,1]])\n",
    "print(predicted)"
   ]
  },
  {
   "cell_type": "code",
   "execution_count": 54,
   "metadata": {},
   "outputs": [
    {
     "data": {
      "text/plain": [
       "1.0"
      ]
     },
     "execution_count": 54,
     "metadata": {},
     "output_type": "execute_result"
    }
   ],
   "source": [
    "model.score(features,label)"
   ]
  },
  {
   "cell_type": "code",
   "execution_count": 55,
   "metadata": {},
   "outputs": [
    {
     "data": {
      "text/plain": [
       "KNeighborsClassifier(algorithm='auto', leaf_size=30, metric='euclidean',\n",
       "                     metric_params=None, n_jobs=None, n_neighbors=7, p=2,\n",
       "                     weights='uniform')"
      ]
     },
     "execution_count": 55,
     "metadata": {},
     "output_type": "execute_result"
    }
   ],
   "source": [
    "from sklearn.neighbors import KNeighborsClassifier\n",
    "model=KNeighborsClassifier(n_neighbors=7,metric='euclidean')\n",
    "#Trining the model using the trining set\n",
    "model.fit(features,label)"
   ]
  },
  {
   "cell_type": "code",
   "execution_count": 56,
   "metadata": {},
   "outputs": [
    {
     "data": {
      "text/plain": [
       "array([0, 1, 2])"
      ]
     },
     "execution_count": 56,
     "metadata": {},
     "output_type": "execute_result"
    }
   ],
   "source": [
    "model.classes_"
   ]
  },
  {
   "cell_type": "code",
   "execution_count": 57,
   "metadata": {},
   "outputs": [
    {
     "name": "stdout",
     "output_type": "stream",
     "text": [
      "[1]\n"
     ]
    }
   ],
   "source": [
    "#predicting the fruits\n",
    "predicted=model.predict([[1,2,1]])\n",
    "print(predicted)"
   ]
  },
  {
   "cell_type": "code",
   "execution_count": 59,
   "metadata": {},
   "outputs": [
    {
     "data": {
      "text/plain": [
       "1.0"
      ]
     },
     "execution_count": 59,
     "metadata": {},
     "output_type": "execute_result"
    }
   ],
   "source": [
    "model.score(features,label)"
   ]
  },
  {
   "cell_type": "code",
   "execution_count": null,
   "metadata": {},
   "outputs": [],
   "source": []
  }
 ],
 "metadata": {
  "kernelspec": {
   "display_name": "Python 3",
   "language": "python",
   "name": "python3"
  },
  "language_info": {
   "codemirror_mode": {
    "name": "ipython",
    "version": 3
   },
   "file_extension": ".py",
   "mimetype": "text/x-python",
   "name": "python",
   "nbconvert_exporter": "python",
   "pygments_lexer": "ipython3",
   "version": "3.6.8"
  }
 },
 "nbformat": 4,
 "nbformat_minor": 4
}
