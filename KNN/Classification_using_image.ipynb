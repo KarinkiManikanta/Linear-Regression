{
 "cells": [
  {
   "cell_type": "code",
   "execution_count": 22,
   "metadata": {},
   "outputs": [],
   "source": [
    "from pathlib import Path\n",
    "import matplotlib.pyplot as plt\n",
    "import numpy as np\n",
    "import pandas as pd\n",
    "from sklearn.utils import Bunch\n",
    "\n",
    "%matplotlib inline\n",
    "from skimage.io import imread\n",
    "from skimage.transform import resize"
   ]
  },
  {
   "cell_type": "code",
   "execution_count": 25,
   "metadata": {},
   "outputs": [],
   "source": [
    "# load image in structure directory like it's sklearn sample dataset\n",
    "def load_image_files(container_path,dimension=(64,64)):\n",
    "\n",
    "    image_dir=Path(container_path)\n",
    "    folders=[directory for directory in image_dir.iterdir() if directory.is_dir()]\n",
    "    categories=[fo.name for fo in folders]\n",
    "    print(categories)\n",
    "    descr = \"\"\"description: image classification \"\"\"\n",
    "\n",
    "    images=[]\n",
    "    flat_data=[]\n",
    "    target=[]\n",
    "    #print(target)\n",
    "\n",
    "    for i, direc in enumerate(folders):\n",
    "        for file in direc.iterdir():\n",
    "            img=imread(file)\n",
    "            #plt.imshow(img)#original images we have to converting image\n",
    "            #plt.show()\n",
    "            img_resized=resize(img,dimension,anti_aliasing=True,mode='reflect')\n",
    "            plt.imshow(img_resized)#after converting the image\n",
    "            #plt.show()\n",
    "            flat_data.append(img_resized.flatten())\n",
    "            images.append(img_resized)\n",
    "            target.append(i)\n",
    "    flat_data=np.array(flat_data)\n",
    "    target=np.array(target)\n",
    "    images=np.array(images)\n",
    "        \n",
    "    return Bunch(data=flat_data,\n",
    "                    target=target,\n",
    "                    target_names=categories,\n",
    "                    images=images,\n",
    "                    DESCR=descr)"
   ]
  },
  {
   "cell_type": "code",
   "execution_count": 26,
   "metadata": {},
   "outputs": [],
   "source": [
    "#data = load_image_files(\"/home/manikanta/Documents/ML/classification/KNN/image/\")"
   ]
  },
  {
   "cell_type": "code",
   "execution_count": null,
   "metadata": {},
   "outputs": [],
   "source": []
  },
  {
   "cell_type": "code",
   "execution_count": 27,
   "metadata": {},
   "outputs": [
    {
     "name": "stdout",
     "output_type": "stream",
     "text": [
      "['dog', 'flowers', 'cat']\n"
     ]
    },
    {
     "data": {
      "image/png": "[encoded data removed]",
      "text/plain": [
       "<Figure size 432x288 with 1 Axes>"
      ]
     },
     "metadata": {
      "needs_background": "light"
     },
     "output_type": "display_data"
    }
   ],
   "source": [
    "import skimage\n",
    "image_dataset=load_image_files(\"/home/manikanta/Documents/ML/classification/KNN/image\")"
   ]
  },
  {
   "cell_type": "code",
   "execution_count": 28,
   "metadata": {},
   "outputs": [
    {
     "name": "stdout",
     "output_type": "stream",
     "text": [
      "description: image classification \n"
     ]
    }
   ],
   "source": [
    "print(image_dataset.DESCR)"
   ]
  },
  {
   "cell_type": "code",
   "execution_count": 29,
   "metadata": {},
   "outputs": [
    {
     "data": {
      "text/plain": [
       "(64, 64, 3)"
      ]
     },
     "execution_count": 29,
     "metadata": {},
     "output_type": "execute_result"
    }
   ],
   "source": [
    "image_dataset.images[0].shape"
   ]
  },
  {
   "cell_type": "code",
   "execution_count": 30,
   "metadata": {},
   "outputs": [
    {
     "data": {
      "text/plain": [
       "array([[0.25257353, 0.68002451, 0.6564951 , ..., 0.64770508, 0.6382688 ,\n",
       "        0.5372549 ],\n",
       "       [0.28400735, 0.31145833, 0.14515931, ..., 0.82359069, 0.81047986,\n",
       "        0.75851716],\n",
       "       [0.31244638, 0.20264246, 0.15558364, ..., 0.44339001, 0.30272672,\n",
       "        0.20174632],\n",
       "       [0.61081495, 0.58159371, 0.50655637, ..., 0.52313783, 0.79433211,\n",
       "        0.92291667],\n",
       "       [0.82318977, 0.79966036, 0.81534663, ..., 0.54117384, 0.38363971,\n",
       "        0.40324755]])"
      ]
     },
     "execution_count": 30,
     "metadata": {},
     "output_type": "execute_result"
    }
   ],
   "source": [
    "image_dataset.data[0:5]"
   ]
  },
  {
   "cell_type": "code",
   "execution_count": 31,
   "metadata": {},
   "outputs": [
    {
     "data": {
      "text/plain": [
       "array([0, 0, 0, 0, 0, 0, 0, 0, 0, 0, 0, 0, 0, 0, 0, 0, 0, 0, 0, 0, 0, 0,\n",
       "       0, 0, 0, 0, 0, 0, 0, 0, 0, 0, 0, 0, 0, 0, 0, 0, 0, 0, 0, 0, 0, 0,\n",
       "       0, 0, 0, 0, 0, 0, 1, 1, 1, 1, 1, 1, 1, 1, 1, 1, 1, 1, 1, 1, 1, 1,\n",
       "       1, 1, 1, 1, 1, 1, 1, 1, 1, 1, 1, 1, 1, 1, 1, 1, 1, 1, 1, 1, 1, 1,\n",
       "       1, 1, 1, 1, 1, 1, 1, 1, 1, 1, 1, 1, 1, 1, 1, 1, 1, 1, 1, 1, 1, 1,\n",
       "       1, 1, 1, 1, 1, 1, 1, 1, 1, 1, 1, 1, 1, 1, 1, 1, 1, 1, 1, 1, 1, 1,\n",
       "       1, 1, 1, 2, 2, 2, 2, 2, 2, 2, 2, 2, 2, 2, 2, 2, 2, 2, 2, 2, 2, 2,\n",
       "       2, 2, 2, 2, 2, 2, 2, 2, 2, 2, 2])"
      ]
     },
     "execution_count": 31,
     "metadata": {},
     "output_type": "execute_result"
    }
   ],
   "source": [
    "image_dataset.target"
   ]
  },
  {
   "cell_type": "code",
   "execution_count": 32,
   "metadata": {},
   "outputs": [
    {
     "data": {
      "text/plain": [
       "['dog', 'flowers', 'cat']"
      ]
     },
     "execution_count": 32,
     "metadata": {},
     "output_type": "execute_result"
    }
   ],
   "source": [
    "image_dataset.target_names"
   ]
  },
  {
   "cell_type": "code",
   "execution_count": null,
   "metadata": {},
   "outputs": [],
   "source": []
  },
  {
   "cell_type": "markdown",
   "metadata": {},
   "source": [
    "# split Data"
   ]
  },
  {
   "cell_type": "code",
   "execution_count": null,
   "metadata": {},
   "outputs": [],
   "source": [
    "# KNN  algorithm"
   ]
  },
  {
   "cell_type": "code",
   "execution_count": 101,
   "metadata": {},
   "outputs": [],
   "source": [
    "from sklearn.model_selection import train_test_split\n",
    "x_trine,x_test,y_trine,y_test=train_test_split(image_dataset.data,image_dataset.target,test_size=0.20,random_state=10)"
   ]
  },
  {
   "cell_type": "code",
   "execution_count": 102,
   "metadata": {},
   "outputs": [
    {
     "data": {
      "text/plain": [
       "(132, 12288)"
      ]
     },
     "execution_count": 102,
     "metadata": {},
     "output_type": "execute_result"
    }
   ],
   "source": [
    "x_trine.shape"
   ]
  },
  {
   "cell_type": "code",
   "execution_count": 103,
   "metadata": {},
   "outputs": [
    {
     "data": {
      "text/plain": [
       "(33, 12288)"
      ]
     },
     "execution_count": 103,
     "metadata": {},
     "output_type": "execute_result"
    }
   ],
   "source": [
    "x_test.shape"
   ]
  },
  {
   "cell_type": "code",
   "execution_count": 104,
   "metadata": {},
   "outputs": [
    {
     "data": {
      "text/plain": [
       "(132,)"
      ]
     },
     "execution_count": 104,
     "metadata": {},
     "output_type": "execute_result"
    }
   ],
   "source": [
    "y_trine.shape"
   ]
  },
  {
   "cell_type": "code",
   "execution_count": 105,
   "metadata": {},
   "outputs": [
    {
     "data": {
      "text/plain": [
       "(33,)"
      ]
     },
     "execution_count": 105,
     "metadata": {},
     "output_type": "execute_result"
    }
   ],
   "source": [
    "y_test.shape"
   ]
  },
  {
   "cell_type": "code",
   "execution_count": 106,
   "metadata": {},
   "outputs": [
    {
     "data": {
      "text/plain": [
       "KNeighborsClassifier(algorithm='auto', leaf_size=30, metric='euclidean',\n",
       "                     metric_params=None, n_jobs=None, n_neighbors=3, p=2,\n",
       "                     weights='uniform')"
      ]
     },
     "execution_count": 106,
     "metadata": {},
     "output_type": "execute_result"
    }
   ],
   "source": [
    "from sklearn.neighbors import KNeighborsClassifier\n",
    "model=KNeighborsClassifier(n_neighbors=3,metric='euclidean')\n",
    "#Trining the model using the trining set\n",
    "model.fit(x_trine,y_trine)"
   ]
  },
  {
   "cell_type": "code",
   "execution_count": 107,
   "metadata": {},
   "outputs": [
    {
     "data": {
      "text/plain": [
       "array([0, 1, 2])"
      ]
     },
     "execution_count": 107,
     "metadata": {},
     "output_type": "execute_result"
    }
   ],
   "source": [
    "model.classes_"
   ]
  },
  {
   "cell_type": "code",
   "execution_count": 108,
   "metadata": {},
   "outputs": [
    {
     "data": {
      "text/plain": [
       "0.8257575757575758"
      ]
     },
     "execution_count": 108,
     "metadata": {},
     "output_type": "execute_result"
    }
   ],
   "source": [
    "trine_score=model.score(x_trine,y_trine)\n",
    "trine_score"
   ]
  },
  {
   "cell_type": "code",
   "execution_count": 109,
   "metadata": {},
   "outputs": [
    {
     "data": {
      "text/plain": [
       "0.7878787878787878"
      ]
     },
     "execution_count": 109,
     "metadata": {},
     "output_type": "execute_result"
    }
   ],
   "source": [
    "test_score=model.score(x_test,y_test)\n",
    "test_score"
   ]
  },
  {
   "cell_type": "code",
   "execution_count": 118,
   "metadata": {},
   "outputs": [
    {
     "name": "stdout",
     "output_type": "stream",
     "text": [
      "[1 1 1 0 1 1 1 0 1 1 0 0 2 0 1 2 0 2 1 1 0 0 1 2 0 0 0 1 0 1 1 1 0 1 2 0 2\n",
      " 0 1 2 2 1]\n"
     ]
    }
   ],
   "source": [
    "#predicting the fruits\n",
    "predicted=model.predict(x_test)\n",
    "print(predicted)"
   ]
  },
  {
   "cell_type": "code",
   "execution_count": 119,
   "metadata": {},
   "outputs": [
    {
     "data": {
      "text/plain": [
       "array([0, 1, 1, 0, 1, 1, 1, 1, 1, 1, 2, 0, 2, 0, 1, 2, 1, 1, 1, 1, 0, 0,\n",
       "       1, 0, 0, 0, 0, 1, 0, 1, 1, 1, 2, 1, 1, 2, 1, 0, 1, 2, 0, 1])"
      ]
     },
     "execution_count": 119,
     "metadata": {},
     "output_type": "execute_result"
    }
   ],
   "source": [
    "y_test"
   ]
  },
  {
   "cell_type": "code",
   "execution_count": 120,
   "metadata": {},
   "outputs": [
    {
     "name": "stdout",
     "output_type": "stream",
     "text": [
      "    New_predict  actual_data\n",
      "0             1            0\n",
      "1             1            1\n",
      "2             1            1\n",
      "3             0            0\n",
      "4             1            1\n",
      "5             1            1\n",
      "6             1            1\n",
      "7             0            1\n",
      "8             1            1\n",
      "9             1            1\n",
      "10            0            2\n",
      "11            0            0\n",
      "12            2            2\n",
      "13            0            0\n",
      "14            1            1\n",
      "15            2            2\n",
      "16            0            1\n",
      "17            2            1\n",
      "18            1            1\n",
      "19            1            1\n",
      "20            0            0\n",
      "21            0            0\n",
      "22            1            1\n",
      "23            2            0\n",
      "24            0            0\n",
      "25            0            0\n",
      "26            0            0\n",
      "27            1            1\n",
      "28            0            0\n",
      "29            1            1\n",
      "30            1            1\n",
      "31            1            1\n",
      "32            0            2\n",
      "33            1            1\n",
      "34            2            1\n",
      "35            0            2\n",
      "36            2            1\n",
      "37            0            0\n",
      "38            1            1\n",
      "39            2            2\n",
      "40            2            0\n",
      "41            1            1\n"
     ]
    }
   ],
   "source": [
    "df=pd.DataFrame({'New_predict':predicted,'actual_data':y_test})\n",
    "print(df)"
   ]
  },
  {
   "cell_type": "code",
   "execution_count": null,
   "metadata": {},
   "outputs": [],
   "source": [
    "# Logistic algorithm"
   ]
  },
  {
   "cell_type": "code",
   "execution_count": 112,
   "metadata": {},
   "outputs": [],
   "source": [
    "x_trine,x_test,y_trine,y_test=train_test_split(image_dataset.data,image_dataset.target,test_size=0.25,random_state=10)"
   ]
  },
  {
   "cell_type": "code",
   "execution_count": 113,
   "metadata": {},
   "outputs": [],
   "source": [
    "from sklearn.linear_model import LogisticRegression"
   ]
  },
  {
   "cell_type": "code",
   "execution_count": 114,
   "metadata": {},
   "outputs": [],
   "source": [
    "solver=['liblinear','newton-cg','lbfgs','sag','saga']"
   ]
  },
  {
   "cell_type": "code",
   "execution_count": 115,
   "metadata": {},
   "outputs": [
    {
     "name": "stdout",
     "output_type": "stream",
     "text": [
      "slover is this liblinear\n",
      "traine score  1.0\n",
      "test score  0.7619047619047619\n",
      "    New_predict  actual_data\n",
      "0             1            0\n",
      "1             1            1\n",
      "2             1            1\n",
      "3             0            0\n",
      "4             1            1\n",
      "5             1            1\n",
      "6             1            1\n",
      "7             0            1\n",
      "8             1            1\n",
      "9             1            1\n",
      "10            0            2\n",
      "11            0            0\n",
      "12            2            2\n",
      "13            0            0\n",
      "14            1            1\n",
      "15            2            2\n",
      "16            0            1\n",
      "17            2            1\n",
      "18            1            1\n",
      "19            1            1\n",
      "20            2            0\n",
      "21            0            0\n",
      "22            1            1\n",
      "23            2            0\n",
      "24            0            0\n",
      "25            0            0\n",
      "26            0            0\n",
      "27            1            1\n",
      "28            0            0\n",
      "29            1            1\n",
      "30            1            1\n",
      "31            1            1\n",
      "32            0            2\n",
      "33            1            1\n",
      "34            1            1\n",
      "35            0            2\n",
      "36            1            1\n",
      "37            0            0\n",
      "38            1            1\n",
      "39            2            2\n",
      "40            2            0\n",
      "41            1            1\n",
      "slover is this newton-cg\n",
      "traine score  1.0\n",
      "test score  0.6904761904761905\n",
      "    New_predict  actual_data\n",
      "0             1            0\n",
      "1             1            1\n",
      "2             1            1\n",
      "3             0            0\n",
      "4             1            1\n",
      "5             1            1\n",
      "6             1            1\n",
      "7             1            1\n",
      "8             1            1\n",
      "9             1            1\n",
      "10            2            2\n",
      "11            2            0\n",
      "12            0            2\n",
      "13            0            0\n",
      "14            1            1\n",
      "15            2            2\n",
      "16            0            1\n",
      "17            0            1\n",
      "18            1            1\n",
      "19            1            1\n",
      "20            0            0\n",
      "21            0            0\n",
      "22            1            1\n",
      "23            2            0\n",
      "24            0            0\n",
      "25            0            0\n",
      "26            0            0\n",
      "27            1            1\n",
      "28            0            0\n",
      "29            1            1\n",
      "30            1            1\n",
      "31            0            1\n",
      "32            0            2\n",
      "33            1            1\n",
      "34            2            1\n",
      "35            0            2\n",
      "36            2            1\n",
      "37            2            0\n",
      "38            1            1\n",
      "39            2            2\n",
      "40            2            0\n",
      "41            1            1\n",
      "slover is this lbfgs\n",
      "traine score  1.0\n",
      "test score  0.6904761904761905\n",
      "    New_predict  actual_data\n",
      "0             1            0\n",
      "1             1            1\n",
      "2             1            1\n",
      "3             0            0\n",
      "4             1            1\n",
      "5             1            1\n",
      "6             1            1\n",
      "7             1            1\n",
      "8             1            1\n",
      "9             1            1\n",
      "10            2            2\n",
      "11            2            0\n",
      "12            0            2\n",
      "13            0            0\n",
      "14            1            1\n",
      "15            2            2\n",
      "16            0            1\n",
      "17            0            1\n",
      "18            1            1\n",
      "19            1            1\n",
      "20            0            0\n",
      "21            0            0\n",
      "22            1            1\n",
      "23            2            0\n",
      "24            0            0\n",
      "25            0            0\n",
      "26            0            0\n",
      "27            1            1\n",
      "28            0            0\n",
      "29            1            1\n",
      "30            1            1\n",
      "31            0            1\n",
      "32            0            2\n",
      "33            1            1\n",
      "34            2            1\n",
      "35            0            2\n",
      "36            2            1\n",
      "37            2            0\n",
      "38            1            1\n",
      "39            2            2\n",
      "40            2            0\n",
      "41            1            1\n",
      "slover is this sag\n",
      "traine score  1.0\n",
      "test score  0.7380952380952381\n",
      "    New_predict  actual_data\n",
      "0             1            0\n",
      "1             1            1\n",
      "2             1            1\n",
      "3             0            0\n",
      "4             1            1\n",
      "5             1            1\n",
      "6             1            1\n",
      "7             0            1\n",
      "8             1            1\n",
      "9             1            1\n",
      "10            0            2\n",
      "11            0            0\n",
      "12            2            2\n",
      "13            0            0\n",
      "14            1            1\n",
      "15            2            2\n",
      "16            0            1\n",
      "17            2            1\n",
      "18            1            1\n",
      "19            1            1\n",
      "20            0            0\n",
      "21            0            0\n",
      "22            1            1\n",
      "23            2            0\n",
      "24            0            0\n",
      "25            0            0\n",
      "26            0            0\n",
      "27            1            1\n",
      "28            0            0\n",
      "29            1            1\n",
      "30            1            1\n",
      "31            1            1\n",
      "32            0            2\n",
      "33            1            1\n",
      "34            2            1\n",
      "35            0            2\n",
      "36            2            1\n",
      "37            0            0\n",
      "38            1            1\n",
      "39            2            2\n",
      "40            2            0\n",
      "41            1            1\n",
      "slover is this saga\n",
      "traine score  1.0\n",
      "test score  0.7380952380952381\n",
      "    New_predict  actual_data\n",
      "0             1            0\n",
      "1             1            1\n",
      "2             1            1\n",
      "3             0            0\n",
      "4             1            1\n",
      "5             1            1\n",
      "6             1            1\n",
      "7             0            1\n",
      "8             1            1\n",
      "9             1            1\n",
      "10            0            2\n",
      "11            0            0\n",
      "12            2            2\n",
      "13            0            0\n",
      "14            1            1\n",
      "15            2            2\n",
      "16            0            1\n",
      "17            2            1\n",
      "18            1            1\n",
      "19            1            1\n",
      "20            0            0\n",
      "21            0            0\n",
      "22            1            1\n",
      "23            2            0\n",
      "24            0            0\n",
      "25            0            0\n",
      "26            0            0\n",
      "27            1            1\n",
      "28            0            0\n",
      "29            1            1\n",
      "30            1            1\n",
      "31            1            1\n",
      "32            0            2\n",
      "33            1            1\n",
      "34            2            1\n",
      "35            0            2\n",
      "36            2            1\n",
      "37            0            0\n",
      "38            1            1\n",
      "39            2            2\n",
      "40            2            0\n",
      "41            1            1\n"
     ]
    }
   ],
   "source": [
    "for i in solver:\n",
    "    model=LogisticRegression(solver=i,max_iter=10000)\n",
    "    model.fit(x_trine,y_trine)\n",
    "    predicted=model.predict(x_test)\n",
    "    print('slover is this',i)\n",
    "    print('traine score ',model.score(x_trine,y_trine))\n",
    "    print('test score ',model.score(x_test,y_test))\n",
    "    df=pd.DataFrame({'New_predict':predicted,'actual_data':y_test})\n",
    "    \n",
    "    print(df)"
   ]
  },
  {
   "cell_type": "code",
   "execution_count": null,
   "metadata": {},
   "outputs": [],
   "source": []
  }
 ],
 "metadata": {
  "kernelspec": {
   "display_name": "Python 3",
   "language": "python",
   "name": "python3"
  },
  "language_info": {
   "codemirror_mode": {
    "name": "ipython",
    "version": 3
   },
   "file_extension": ".py",
   "mimetype": "text/x-python",
   "name": "python",
   "nbconvert_exporter": "python",
   "pygments_lexer": "ipython3",
   "version": "3.6.8"
  }
 },
 "nbformat": 4,
 "nbformat_minor": 4
}
