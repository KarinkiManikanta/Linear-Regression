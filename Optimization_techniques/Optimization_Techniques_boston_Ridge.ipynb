{
 "cells": [
  {
   "cell_type": "code",
   "execution_count": 7,
   "metadata": {},
   "outputs": [],
   "source": [
    "import numpy as np\n",
    "import pandas as pd\n",
    "import pandas_profiling\n",
    "import matplotlib.pyplot as plt\n",
    "import scipy as stats\n",
    "import matplotlib.ticker as ticker\n",
    "import seaborn as sns\n",
    "from sklearn.linear_model import LinearRegression\n",
    "from sklearn.metrics import mean_absolute_error,mean_squared_error,r2_score\n",
    "from sklearn.model_selection import train_test_split, GridSearchCV\n",
    "from sklearn.datasets import load_boston\n",
    "from sklearn import preprocessing\n",
    "from sklearn.linear_model import LinearRegression, Ridge, Lasso\n"
   ]
  },
  {
   "cell_type": "code",
   "execution_count": 8,
   "metadata": {},
   "outputs": [],
   "source": [
    "house_price=load_boston()"
   ]
  },
  {
   "cell_type": "code",
   "execution_count": 10,
   "metadata": {
    "collapsed": true
   },
   "outputs": [
    {
     "data": {
      "text/html": [
       "<div>\n",
       "<style scoped>\n",
       "    .dataframe tbody tr th:only-of-type {\n",
       "        vertical-align: middle;\n",
       "    }\n",
       "\n",
       "    .dataframe tbody tr th {\n",
       "        vertical-align: top;\n",
       "    }\n",
       "\n",
       "    .dataframe thead th {\n",
       "        text-align: right;\n",
       "    }\n",
       "</style>\n",
       "<table border=\"1\" class=\"dataframe\">\n",
       "  <thead>\n",
       "    <tr style=\"text-align: right;\">\n",
       "      <th></th>\n",
       "      <th>CRIM</th>\n",
       "      <th>ZN</th>\n",
       "      <th>INDUS</th>\n",
       "      <th>CHAS</th>\n",
       "      <th>NOX</th>\n",
       "      <th>RM</th>\n",
       "      <th>AGE</th>\n",
       "      <th>DIS</th>\n",
       "      <th>RAD</th>\n",
       "      <th>TAX</th>\n",
       "      <th>PTRATIO</th>\n",
       "      <th>B</th>\n",
       "      <th>LSTAT</th>\n",
       "      <th>PRICE</th>\n",
       "    </tr>\n",
       "  </thead>\n",
       "  <tbody>\n",
       "    <tr>\n",
       "      <th>0</th>\n",
       "      <td>0.00632</td>\n",
       "      <td>18.0</td>\n",
       "      <td>2.31</td>\n",
       "      <td>0.0</td>\n",
       "      <td>0.538</td>\n",
       "      <td>6.575</td>\n",
       "      <td>65.2</td>\n",
       "      <td>4.0900</td>\n",
       "      <td>1.0</td>\n",
       "      <td>296.0</td>\n",
       "      <td>15.3</td>\n",
       "      <td>396.90</td>\n",
       "      <td>4.98</td>\n",
       "      <td>24.0</td>\n",
       "    </tr>\n",
       "    <tr>\n",
       "      <th>1</th>\n",
       "      <td>0.02731</td>\n",
       "      <td>0.0</td>\n",
       "      <td>7.07</td>\n",
       "      <td>0.0</td>\n",
       "      <td>0.469</td>\n",
       "      <td>6.421</td>\n",
       "      <td>78.9</td>\n",
       "      <td>4.9671</td>\n",
       "      <td>2.0</td>\n",
       "      <td>242.0</td>\n",
       "      <td>17.8</td>\n",
       "      <td>396.90</td>\n",
       "      <td>9.14</td>\n",
       "      <td>21.6</td>\n",
       "    </tr>\n",
       "    <tr>\n",
       "      <th>2</th>\n",
       "      <td>0.02729</td>\n",
       "      <td>0.0</td>\n",
       "      <td>7.07</td>\n",
       "      <td>0.0</td>\n",
       "      <td>0.469</td>\n",
       "      <td>7.185</td>\n",
       "      <td>61.1</td>\n",
       "      <td>4.9671</td>\n",
       "      <td>2.0</td>\n",
       "      <td>242.0</td>\n",
       "      <td>17.8</td>\n",
       "      <td>392.83</td>\n",
       "      <td>4.03</td>\n",
       "      <td>34.7</td>\n",
       "    </tr>\n",
       "    <tr>\n",
       "      <th>3</th>\n",
       "      <td>0.03237</td>\n",
       "      <td>0.0</td>\n",
       "      <td>2.18</td>\n",
       "      <td>0.0</td>\n",
       "      <td>0.458</td>\n",
       "      <td>6.998</td>\n",
       "      <td>45.8</td>\n",
       "      <td>6.0622</td>\n",
       "      <td>3.0</td>\n",
       "      <td>222.0</td>\n",
       "      <td>18.7</td>\n",
       "      <td>394.63</td>\n",
       "      <td>2.94</td>\n",
       "      <td>33.4</td>\n",
       "    </tr>\n",
       "    <tr>\n",
       "      <th>4</th>\n",
       "      <td>0.06905</td>\n",
       "      <td>0.0</td>\n",
       "      <td>2.18</td>\n",
       "      <td>0.0</td>\n",
       "      <td>0.458</td>\n",
       "      <td>7.147</td>\n",
       "      <td>54.2</td>\n",
       "      <td>6.0622</td>\n",
       "      <td>3.0</td>\n",
       "      <td>222.0</td>\n",
       "      <td>18.7</td>\n",
       "      <td>396.90</td>\n",
       "      <td>5.33</td>\n",
       "      <td>36.2</td>\n",
       "    </tr>\n",
       "  </tbody>\n",
       "</table>\n",
       "</div>"
      ],
      "text/plain": [
       "      CRIM    ZN  INDUS  CHAS    NOX     RM   AGE     DIS  RAD    TAX  \\\n",
       "0  0.00632  18.0   2.31   0.0  0.538  6.575  65.2  4.0900  1.0  296.0   \n",
       "1  0.02731   0.0   7.07   0.0  0.469  6.421  78.9  4.9671  2.0  242.0   \n",
       "2  0.02729   0.0   7.07   0.0  0.469  7.185  61.1  4.9671  2.0  242.0   \n",
       "3  0.03237   0.0   2.18   0.0  0.458  6.998  45.8  6.0622  3.0  222.0   \n",
       "4  0.06905   0.0   2.18   0.0  0.458  7.147  54.2  6.0622  3.0  222.0   \n",
       "\n",
       "   PTRATIO       B  LSTAT  PRICE  \n",
       "0     15.3  396.90   4.98   24.0  \n",
       "1     17.8  396.90   9.14   21.6  \n",
       "2     17.8  392.83   4.03   34.7  \n",
       "3     18.7  394.63   2.94   33.4  \n",
       "4     18.7  396.90   5.33   36.2  "
      ]
     },
     "execution_count": 10,
     "metadata": {},
     "output_type": "execute_result"
    }
   ],
   "source": [
    "df=pd.DataFrame(house_price.data, columns=house_price.feature_names)\n",
    "df['PRICE']=house_price.target\n",
    "df.head()\n"
   ]
  },
  {
   "cell_type": "code",
   "execution_count": 11,
   "metadata": {
    "collapsed": true
   },
   "outputs": [
    {
     "data": {
      "text/html": [
       "<div>\n",
       "<style scoped>\n",
       "    .dataframe tbody tr th:only-of-type {\n",
       "        vertical-align: middle;\n",
       "    }\n",
       "\n",
       "    .dataframe tbody tr th {\n",
       "        vertical-align: top;\n",
       "    }\n",
       "\n",
       "    .dataframe thead th {\n",
       "        text-align: right;\n",
       "    }\n",
       "</style>\n",
       "<table border=\"1\" class=\"dataframe\">\n",
       "  <thead>\n",
       "    <tr style=\"text-align: right;\">\n",
       "      <th></th>\n",
       "      <th>CRIM</th>\n",
       "      <th>ZN</th>\n",
       "      <th>INDUS</th>\n",
       "      <th>CHAS</th>\n",
       "      <th>NOX</th>\n",
       "      <th>RM</th>\n",
       "      <th>AGE</th>\n",
       "      <th>DIS</th>\n",
       "      <th>RAD</th>\n",
       "      <th>TAX</th>\n",
       "      <th>PTRATIO</th>\n",
       "      <th>B</th>\n",
       "      <th>LSTAT</th>\n",
       "      <th>PRICE</th>\n",
       "    </tr>\n",
       "  </thead>\n",
       "  <tbody>\n",
       "    <tr>\n",
       "      <th>501</th>\n",
       "      <td>0.06263</td>\n",
       "      <td>0.0</td>\n",
       "      <td>11.93</td>\n",
       "      <td>0.0</td>\n",
       "      <td>0.573</td>\n",
       "      <td>6.593</td>\n",
       "      <td>69.1</td>\n",
       "      <td>2.4786</td>\n",
       "      <td>1.0</td>\n",
       "      <td>273.0</td>\n",
       "      <td>21.0</td>\n",
       "      <td>391.99</td>\n",
       "      <td>9.67</td>\n",
       "      <td>22.4</td>\n",
       "    </tr>\n",
       "    <tr>\n",
       "      <th>502</th>\n",
       "      <td>0.04527</td>\n",
       "      <td>0.0</td>\n",
       "      <td>11.93</td>\n",
       "      <td>0.0</td>\n",
       "      <td>0.573</td>\n",
       "      <td>6.120</td>\n",
       "      <td>76.7</td>\n",
       "      <td>2.2875</td>\n",
       "      <td>1.0</td>\n",
       "      <td>273.0</td>\n",
       "      <td>21.0</td>\n",
       "      <td>396.90</td>\n",
       "      <td>9.08</td>\n",
       "      <td>20.6</td>\n",
       "    </tr>\n",
       "    <tr>\n",
       "      <th>503</th>\n",
       "      <td>0.06076</td>\n",
       "      <td>0.0</td>\n",
       "      <td>11.93</td>\n",
       "      <td>0.0</td>\n",
       "      <td>0.573</td>\n",
       "      <td>6.976</td>\n",
       "      <td>91.0</td>\n",
       "      <td>2.1675</td>\n",
       "      <td>1.0</td>\n",
       "      <td>273.0</td>\n",
       "      <td>21.0</td>\n",
       "      <td>396.90</td>\n",
       "      <td>5.64</td>\n",
       "      <td>23.9</td>\n",
       "    </tr>\n",
       "    <tr>\n",
       "      <th>504</th>\n",
       "      <td>0.10959</td>\n",
       "      <td>0.0</td>\n",
       "      <td>11.93</td>\n",
       "      <td>0.0</td>\n",
       "      <td>0.573</td>\n",
       "      <td>6.794</td>\n",
       "      <td>89.3</td>\n",
       "      <td>2.3889</td>\n",
       "      <td>1.0</td>\n",
       "      <td>273.0</td>\n",
       "      <td>21.0</td>\n",
       "      <td>393.45</td>\n",
       "      <td>6.48</td>\n",
       "      <td>22.0</td>\n",
       "    </tr>\n",
       "    <tr>\n",
       "      <th>505</th>\n",
       "      <td>0.04741</td>\n",
       "      <td>0.0</td>\n",
       "      <td>11.93</td>\n",
       "      <td>0.0</td>\n",
       "      <td>0.573</td>\n",
       "      <td>6.030</td>\n",
       "      <td>80.8</td>\n",
       "      <td>2.5050</td>\n",
       "      <td>1.0</td>\n",
       "      <td>273.0</td>\n",
       "      <td>21.0</td>\n",
       "      <td>396.90</td>\n",
       "      <td>7.88</td>\n",
       "      <td>11.9</td>\n",
       "    </tr>\n",
       "  </tbody>\n",
       "</table>\n",
       "</div>"
      ],
      "text/plain": [
       "        CRIM   ZN  INDUS  CHAS    NOX     RM   AGE     DIS  RAD    TAX  \\\n",
       "501  0.06263  0.0  11.93   0.0  0.573  6.593  69.1  2.4786  1.0  273.0   \n",
       "502  0.04527  0.0  11.93   0.0  0.573  6.120  76.7  2.2875  1.0  273.0   \n",
       "503  0.06076  0.0  11.93   0.0  0.573  6.976  91.0  2.1675  1.0  273.0   \n",
       "504  0.10959  0.0  11.93   0.0  0.573  6.794  89.3  2.3889  1.0  273.0   \n",
       "505  0.04741  0.0  11.93   0.0  0.573  6.030  80.8  2.5050  1.0  273.0   \n",
       "\n",
       "     PTRATIO       B  LSTAT  PRICE  \n",
       "501     21.0  391.99   9.67   22.4  \n",
       "502     21.0  396.90   9.08   20.6  \n",
       "503     21.0  396.90   5.64   23.9  \n",
       "504     21.0  393.45   6.48   22.0  \n",
       "505     21.0  396.90   7.88   11.9  "
      ]
     },
     "execution_count": 11,
     "metadata": {},
     "output_type": "execute_result"
    }
   ],
   "source": [
    "df.tail()"
   ]
  },
  {
   "cell_type": "code",
   "execution_count": 12,
   "metadata": {
    "collapsed": true
   },
   "outputs": [
    {
     "data": {
      "text/plain": [
       "array([[-0.41978194,  0.28482986, -1.2879095 , ..., -1.45900038,\n",
       "         0.44105193, -1.0755623 ],\n",
       "       [-0.41733926, -0.48772236, -0.59338101, ..., -0.30309415,\n",
       "         0.44105193, -0.49243937],\n",
       "       [-0.41734159, -0.48772236, -0.59338101, ..., -0.30309415,\n",
       "         0.39642699, -1.2087274 ],\n",
       "       ...,\n",
       "       [-0.41344658, -0.48772236,  0.11573841, ...,  1.17646583,\n",
       "         0.44105193, -0.98304761],\n",
       "       [-0.40776407, -0.48772236,  0.11573841, ...,  1.17646583,\n",
       "         0.4032249 , -0.86530163],\n",
       "       [-0.41500016, -0.48772236,  0.11573841, ...,  1.17646583,\n",
       "         0.44105193, -0.66905833]])"
      ]
     },
     "execution_count": 12,
     "metadata": {},
     "output_type": "execute_result"
    }
   ],
   "source": [
    "#standardize and trine/test split\n",
    "house_price.data=preprocessing.scale(house_price.data)\n",
    "house_price.data"
   ]
  },
  {
   "cell_type": "code",
   "execution_count": 20,
   "metadata": {},
   "outputs": [],
   "source": [
    "X_traine,X_test,Y_traine,Y_test,=train_test_split(house_price.data,house_price.target,test_size=0.3,random_state=10)"
   ]
  },
  {
   "cell_type": "code",
   "execution_count": 21,
   "metadata": {},
   "outputs": [
    {
     "data": {
      "text/plain": [
       "(354, 13)"
      ]
     },
     "execution_count": 21,
     "metadata": {},
     "output_type": "execute_result"
    }
   ],
   "source": [
    "X_traine.shape"
   ]
  },
  {
   "cell_type": "code",
   "execution_count": 22,
   "metadata": {},
   "outputs": [
    {
     "data": {
      "text/plain": [
       "(152, 13)"
      ]
     },
     "execution_count": 22,
     "metadata": {},
     "output_type": "execute_result"
    }
   ],
   "source": [
    "X_test.shape"
   ]
  },
  {
   "cell_type": "code",
   "execution_count": 23,
   "metadata": {},
   "outputs": [
    {
     "data": {
      "text/plain": [
       "(354,)"
      ]
     },
     "execution_count": 23,
     "metadata": {},
     "output_type": "execute_result"
    }
   ],
   "source": [
    "Y_traine.shape"
   ]
  },
  {
   "cell_type": "code",
   "execution_count": 24,
   "metadata": {},
   "outputs": [
    {
     "data": {
      "text/plain": [
       "(152,)"
      ]
     },
     "execution_count": 24,
     "metadata": {},
     "output_type": "execute_result"
    }
   ],
   "source": [
    "Y_test.shape"
   ]
  },
  {
   "cell_type": "code",
   "execution_count": 27,
   "metadata": {},
   "outputs": [
    {
     "data": {
      "text/html": [
       "<div>\n",
       "<style scoped>\n",
       "    .dataframe tbody tr th:only-of-type {\n",
       "        vertical-align: middle;\n",
       "    }\n",
       "\n",
       "    .dataframe tbody tr th {\n",
       "        vertical-align: top;\n",
       "    }\n",
       "\n",
       "    .dataframe thead th {\n",
       "        text-align: right;\n",
       "    }\n",
       "</style>\n",
       "<table border=\"1\" class=\"dataframe\">\n",
       "  <thead>\n",
       "    <tr style=\"text-align: right;\">\n",
       "      <th></th>\n",
       "      <th>variable</th>\n",
       "      <th>estimate</th>\n",
       "    </tr>\n",
       "  </thead>\n",
       "  <tbody>\n",
       "    <tr>\n",
       "      <th>0</th>\n",
       "      <td>CRIM</td>\n",
       "      <td>-1.321404</td>\n",
       "    </tr>\n",
       "    <tr>\n",
       "      <th>1</th>\n",
       "      <td>ZN</td>\n",
       "      <td>1.514832</td>\n",
       "    </tr>\n",
       "    <tr>\n",
       "      <th>2</th>\n",
       "      <td>INDUS</td>\n",
       "      <td>-0.166266</td>\n",
       "    </tr>\n",
       "    <tr>\n",
       "      <th>3</th>\n",
       "      <td>CHAS</td>\n",
       "      <td>0.411579</td>\n",
       "    </tr>\n",
       "    <tr>\n",
       "      <th>4</th>\n",
       "      <td>NOX</td>\n",
       "      <td>-1.771168</td>\n",
       "    </tr>\n",
       "    <tr>\n",
       "      <th>5</th>\n",
       "      <td>RM</td>\n",
       "      <td>2.352821</td>\n",
       "    </tr>\n",
       "    <tr>\n",
       "      <th>6</th>\n",
       "      <td>AGE</td>\n",
       "      <td>0.318499</td>\n",
       "    </tr>\n",
       "    <tr>\n",
       "      <th>7</th>\n",
       "      <td>DIS</td>\n",
       "      <td>-3.256645</td>\n",
       "    </tr>\n",
       "    <tr>\n",
       "      <th>8</th>\n",
       "      <td>RAD</td>\n",
       "      <td>2.632576</td>\n",
       "    </tr>\n",
       "    <tr>\n",
       "      <th>9</th>\n",
       "      <td>TAX</td>\n",
       "      <td>-2.059466</td>\n",
       "    </tr>\n",
       "    <tr>\n",
       "      <th>10</th>\n",
       "      <td>PTRATIO</td>\n",
       "      <td>-1.755201</td>\n",
       "    </tr>\n",
       "    <tr>\n",
       "      <th>11</th>\n",
       "      <td>B</td>\n",
       "      <td>1.181143</td>\n",
       "    </tr>\n",
       "    <tr>\n",
       "      <th>12</th>\n",
       "      <td>LSTAT</td>\n",
       "      <td>-3.887043</td>\n",
       "    </tr>\n",
       "  </tbody>\n",
       "</table>\n",
       "</div>"
      ],
      "text/plain": [
       "   variable  estimate\n",
       "0      CRIM -1.321404\n",
       "1        ZN  1.514832\n",
       "2     INDUS -0.166266\n",
       "3      CHAS  0.411579\n",
       "4       NOX -1.771168\n",
       "5        RM  2.352821\n",
       "6       AGE  0.318499\n",
       "7       DIS -3.256645\n",
       "8       RAD  2.632576\n",
       "9       TAX -2.059466\n",
       "10  PTRATIO -1.755201\n",
       "11        B  1.181143\n",
       "12    LSTAT -3.887043"
      ]
     },
     "execution_count": 27,
     "metadata": {},
     "output_type": "execute_result"
    }
   ],
   "source": [
    "ols_reg=LinearRegression()\n",
    "ols_reg.fit(X_traine,Y_traine)\n",
    "ols_predic=ols_reg.predict(X_test)\n",
    "pd.DataFrame({'variable':house_price.feature_names,'estimate':ols_reg.coef_})"
   ]
  },
  {
   "cell_type": "code",
   "execution_count": 28,
   "metadata": {},
   "outputs": [
    {
     "data": {
      "text/plain": [
       "array(['CRIM', 'ZN', 'INDUS', 'CHAS', 'NOX', 'RM', 'AGE', 'DIS', 'RAD',\n",
       "       'TAX', 'PTRATIO', 'B', 'LSTAT'], dtype='<U7')"
      ]
     },
     "execution_count": 28,
     "metadata": {},
     "output_type": "execute_result"
    }
   ],
   "source": [
    "#Ridge Regression\n",
    "house_price.feature_names"
   ]
  },
  {
   "cell_type": "code",
   "execution_count": 29,
   "metadata": {
    "collapsed": true
   },
   "outputs": [
    {
     "data": {
      "text/html": [
       "<div>\n",
       "<style scoped>\n",
       "    .dataframe tbody tr th:only-of-type {\n",
       "        vertical-align: middle;\n",
       "    }\n",
       "\n",
       "    .dataframe tbody tr th {\n",
       "        vertical-align: top;\n",
       "    }\n",
       "\n",
       "    .dataframe thead th {\n",
       "        text-align: right;\n",
       "    }\n",
       "</style>\n",
       "<table border=\"1\" class=\"dataframe\">\n",
       "  <thead>\n",
       "    <tr style=\"text-align: right;\">\n",
       "      <th></th>\n",
       "      <th>variable</th>\n",
       "      <th>estimate</th>\n",
       "    </tr>\n",
       "  </thead>\n",
       "  <tbody>\n",
       "    <tr>\n",
       "      <th>0</th>\n",
       "      <td>CRIM</td>\n",
       "      <td>-1.321404</td>\n",
       "    </tr>\n",
       "    <tr>\n",
       "      <th>1</th>\n",
       "      <td>ZN</td>\n",
       "      <td>1.514832</td>\n",
       "    </tr>\n",
       "    <tr>\n",
       "      <th>2</th>\n",
       "      <td>INDUS</td>\n",
       "      <td>-0.166266</td>\n",
       "    </tr>\n",
       "    <tr>\n",
       "      <th>3</th>\n",
       "      <td>CHAS</td>\n",
       "      <td>0.411579</td>\n",
       "    </tr>\n",
       "    <tr>\n",
       "      <th>4</th>\n",
       "      <td>NOX</td>\n",
       "      <td>-1.771168</td>\n",
       "    </tr>\n",
       "    <tr>\n",
       "      <th>5</th>\n",
       "      <td>RM</td>\n",
       "      <td>2.352821</td>\n",
       "    </tr>\n",
       "    <tr>\n",
       "      <th>6</th>\n",
       "      <td>AGE</td>\n",
       "      <td>0.318499</td>\n",
       "    </tr>\n",
       "    <tr>\n",
       "      <th>7</th>\n",
       "      <td>DIS</td>\n",
       "      <td>-3.256645</td>\n",
       "    </tr>\n",
       "    <tr>\n",
       "      <th>8</th>\n",
       "      <td>RAD</td>\n",
       "      <td>2.632576</td>\n",
       "    </tr>\n",
       "    <tr>\n",
       "      <th>9</th>\n",
       "      <td>TAX</td>\n",
       "      <td>-2.059466</td>\n",
       "    </tr>\n",
       "    <tr>\n",
       "      <th>10</th>\n",
       "      <td>PTRATIO</td>\n",
       "      <td>-1.755201</td>\n",
       "    </tr>\n",
       "    <tr>\n",
       "      <th>11</th>\n",
       "      <td>B</td>\n",
       "      <td>1.181143</td>\n",
       "    </tr>\n",
       "    <tr>\n",
       "      <th>12</th>\n",
       "      <td>LSTAT</td>\n",
       "      <td>-3.887043</td>\n",
       "    </tr>\n",
       "  </tbody>\n",
       "</table>\n",
       "</div>"
      ],
      "text/plain": [
       "   variable  estimate\n",
       "0      CRIM -1.321404\n",
       "1        ZN  1.514832\n",
       "2     INDUS -0.166266\n",
       "3      CHAS  0.411579\n",
       "4       NOX -1.771168\n",
       "5        RM  2.352821\n",
       "6       AGE  0.318499\n",
       "7       DIS -3.256645\n",
       "8       RAD  2.632576\n",
       "9       TAX -2.059466\n",
       "10  PTRATIO -1.755201\n",
       "11        B  1.181143\n",
       "12    LSTAT -3.887043"
      ]
     },
     "execution_count": 29,
     "metadata": {},
     "output_type": "execute_result"
    }
   ],
   "source": [
    "#initialize\n",
    "ridge_reg=Ridge(alpha=0)\n",
    "ridge_reg.fit(X_traine,Y_traine)\n",
    "ridge_df=pd.DataFrame({'variable':house_price.feature_names,'estimate':ridge_reg.coef_})\n",
    "ridge_df"
   ]
  },
  {
   "cell_type": "code",
   "execution_count": 36,
   "metadata": {
    "collapsed": true
   },
   "outputs": [
    {
     "data": {
      "text/html": [
       "<div>\n",
       "<style scoped>\n",
       "    .dataframe tbody tr th:only-of-type {\n",
       "        vertical-align: middle;\n",
       "    }\n",
       "\n",
       "    .dataframe tbody tr th {\n",
       "        vertical-align: top;\n",
       "    }\n",
       "\n",
       "    .dataframe thead th {\n",
       "        text-align: right;\n",
       "    }\n",
       "</style>\n",
       "<table border=\"1\" class=\"dataframe\">\n",
       "  <thead>\n",
       "    <tr style=\"text-align: right;\">\n",
       "      <th>variable</th>\n",
       "      <th>CRIM</th>\n",
       "      <th>ZN</th>\n",
       "      <th>INDUS</th>\n",
       "      <th>CHAS</th>\n",
       "      <th>NOX</th>\n",
       "      <th>RM</th>\n",
       "      <th>AGE</th>\n",
       "      <th>DIS</th>\n",
       "      <th>RAD</th>\n",
       "      <th>TAX</th>\n",
       "      <th>PTRATIO</th>\n",
       "      <th>B</th>\n",
       "      <th>LSTAT</th>\n",
       "    </tr>\n",
       "    <tr>\n",
       "      <th>estimation</th>\n",
       "      <th></th>\n",
       "      <th></th>\n",
       "      <th></th>\n",
       "      <th></th>\n",
       "      <th></th>\n",
       "      <th></th>\n",
       "      <th></th>\n",
       "      <th></th>\n",
       "      <th></th>\n",
       "      <th></th>\n",
       "      <th></th>\n",
       "      <th></th>\n",
       "      <th></th>\n",
       "    </tr>\n",
       "  </thead>\n",
       "  <tbody>\n",
       "    <tr>\n",
       "      <th>estimate</th>\n",
       "      <td>-1.321404</td>\n",
       "      <td>1.514832</td>\n",
       "      <td>-0.166266</td>\n",
       "      <td>0.411579</td>\n",
       "      <td>-1.771168</td>\n",
       "      <td>2.352821</td>\n",
       "      <td>0.318499</td>\n",
       "      <td>-3.256645</td>\n",
       "      <td>2.632576</td>\n",
       "      <td>-2.059466</td>\n",
       "      <td>-1.755201</td>\n",
       "      <td>1.181143</td>\n",
       "      <td>-3.887043</td>\n",
       "    </tr>\n",
       "    <tr>\n",
       "      <th>estimation0</th>\n",
       "      <td>-1.321404</td>\n",
       "      <td>1.514832</td>\n",
       "      <td>-0.166266</td>\n",
       "      <td>0.411579</td>\n",
       "      <td>-1.771168</td>\n",
       "      <td>2.352821</td>\n",
       "      <td>0.318499</td>\n",
       "      <td>-3.256645</td>\n",
       "      <td>2.632576</td>\n",
       "      <td>-2.059466</td>\n",
       "      <td>-1.755201</td>\n",
       "      <td>1.181143</td>\n",
       "      <td>-3.887043</td>\n",
       "    </tr>\n",
       "    <tr>\n",
       "      <th>estimation1</th>\n",
       "      <td>-1.305844</td>\n",
       "      <td>1.491704</td>\n",
       "      <td>-0.186300</td>\n",
       "      <td>0.416554</td>\n",
       "      <td>-1.734866</td>\n",
       "      <td>2.368304</td>\n",
       "      <td>0.305241</td>\n",
       "      <td>-3.213459</td>\n",
       "      <td>2.540705</td>\n",
       "      <td>-1.976631</td>\n",
       "      <td>-1.746362</td>\n",
       "      <td>1.179751</td>\n",
       "      <td>-3.867286</td>\n",
       "    </tr>\n",
       "    <tr>\n",
       "      <th>estimation2</th>\n",
       "      <td>-1.291053</td>\n",
       "      <td>1.469716</td>\n",
       "      <td>-0.204508</td>\n",
       "      <td>0.421192</td>\n",
       "      <td>-1.700188</td>\n",
       "      <td>2.382762</td>\n",
       "      <td>0.292616</td>\n",
       "      <td>-3.171513</td>\n",
       "      <td>2.455276</td>\n",
       "      <td>-1.900395</td>\n",
       "      <td>-1.737941</td>\n",
       "      <td>1.178322</td>\n",
       "      <td>-3.847925</td>\n",
       "    </tr>\n",
       "    <tr>\n",
       "      <th>estimation3</th>\n",
       "      <td>-1.276962</td>\n",
       "      <td>1.448771</td>\n",
       "      <td>-0.221104</td>\n",
       "      <td>0.425531</td>\n",
       "      <td>-1.667018</td>\n",
       "      <td>2.396278</td>\n",
       "      <td>0.280573</td>\n",
       "      <td>-3.130750</td>\n",
       "      <td>2.375608</td>\n",
       "      <td>-1.830033</td>\n",
       "      <td>-1.729900</td>\n",
       "      <td>1.176856</td>\n",
       "      <td>-3.828944</td>\n",
       "    </tr>\n",
       "    <tr>\n",
       "      <th>...</th>\n",
       "      <td>...</td>\n",
       "      <td>...</td>\n",
       "      <td>...</td>\n",
       "      <td>...</td>\n",
       "      <td>...</td>\n",
       "      <td>...</td>\n",
       "      <td>...</td>\n",
       "      <td>...</td>\n",
       "      <td>...</td>\n",
       "      <td>...</td>\n",
       "      <td>...</td>\n",
       "      <td>...</td>\n",
       "      <td>...</td>\n",
       "    </tr>\n",
       "    <tr>\n",
       "      <th>estimation95</th>\n",
       "      <td>-0.808201</td>\n",
       "      <td>0.818395</td>\n",
       "      <td>-0.477197</td>\n",
       "      <td>0.519218</td>\n",
       "      <td>-0.673511</td>\n",
       "      <td>2.476215</td>\n",
       "      <td>-0.099529</td>\n",
       "      <td>-1.467445</td>\n",
       "      <td>0.537842</td>\n",
       "      <td>-0.579640</td>\n",
       "      <td>-1.411582</td>\n",
       "      <td>0.988395</td>\n",
       "      <td>-2.822976</td>\n",
       "    </tr>\n",
       "    <tr>\n",
       "      <th>estimation96</th>\n",
       "      <td>-0.805993</td>\n",
       "      <td>0.816034</td>\n",
       "      <td>-0.477674</td>\n",
       "      <td>0.519265</td>\n",
       "      <td>-0.670208</td>\n",
       "      <td>2.473534</td>\n",
       "      <td>-0.101127</td>\n",
       "      <td>-1.458896</td>\n",
       "      <td>0.532002</td>\n",
       "      <td>-0.577655</td>\n",
       "      <td>-1.409499</td>\n",
       "      <td>0.986455</td>\n",
       "      <td>-2.816081</td>\n",
       "    </tr>\n",
       "    <tr>\n",
       "      <th>estimation97</th>\n",
       "      <td>-0.803807</td>\n",
       "      <td>0.813705</td>\n",
       "      <td>-0.478145</td>\n",
       "      <td>0.519303</td>\n",
       "      <td>-0.666960</td>\n",
       "      <td>2.470838</td>\n",
       "      <td>-0.102707</td>\n",
       "      <td>-1.450436</td>\n",
       "      <td>0.526241</td>\n",
       "      <td>-0.575716</td>\n",
       "      <td>-1.407426</td>\n",
       "      <td>0.984523</td>\n",
       "      <td>-2.809234</td>\n",
       "    </tr>\n",
       "    <tr>\n",
       "      <th>estimation98</th>\n",
       "      <td>-0.801645</td>\n",
       "      <td>0.811408</td>\n",
       "      <td>-0.478608</td>\n",
       "      <td>0.519334</td>\n",
       "      <td>-0.663764</td>\n",
       "      <td>2.468128</td>\n",
       "      <td>-0.104268</td>\n",
       "      <td>-1.442064</td>\n",
       "      <td>0.520557</td>\n",
       "      <td>-0.573822</td>\n",
       "      <td>-1.405365</td>\n",
       "      <td>0.982599</td>\n",
       "      <td>-2.802435</td>\n",
       "    </tr>\n",
       "    <tr>\n",
       "      <th>estimation99</th>\n",
       "      <td>-0.799505</td>\n",
       "      <td>0.809143</td>\n",
       "      <td>-0.479064</td>\n",
       "      <td>0.519357</td>\n",
       "      <td>-0.660621</td>\n",
       "      <td>2.465404</td>\n",
       "      <td>-0.105811</td>\n",
       "      <td>-1.433779</td>\n",
       "      <td>0.514949</td>\n",
       "      <td>-0.571972</td>\n",
       "      <td>-1.403315</td>\n",
       "      <td>0.980681</td>\n",
       "      <td>-2.795682</td>\n",
       "    </tr>\n",
       "  </tbody>\n",
       "</table>\n",
       "<p>101 rows × 13 columns</p>\n",
       "</div>"
      ],
      "text/plain": [
       "variable          CRIM        ZN     INDUS      CHAS       NOX        RM  \\\n",
       "estimation                                                                 \n",
       "estimate     -1.321404  1.514832 -0.166266  0.411579 -1.771168  2.352821   \n",
       "estimation0  -1.321404  1.514832 -0.166266  0.411579 -1.771168  2.352821   \n",
       "estimation1  -1.305844  1.491704 -0.186300  0.416554 -1.734866  2.368304   \n",
       "estimation2  -1.291053  1.469716 -0.204508  0.421192 -1.700188  2.382762   \n",
       "estimation3  -1.276962  1.448771 -0.221104  0.425531 -1.667018  2.396278   \n",
       "...                ...       ...       ...       ...       ...       ...   \n",
       "estimation95 -0.808201  0.818395 -0.477197  0.519218 -0.673511  2.476215   \n",
       "estimation96 -0.805993  0.816034 -0.477674  0.519265 -0.670208  2.473534   \n",
       "estimation97 -0.803807  0.813705 -0.478145  0.519303 -0.666960  2.470838   \n",
       "estimation98 -0.801645  0.811408 -0.478608  0.519334 -0.663764  2.468128   \n",
       "estimation99 -0.799505  0.809143 -0.479064  0.519357 -0.660621  2.465404   \n",
       "\n",
       "variable           AGE       DIS       RAD       TAX   PTRATIO         B  \\\n",
       "estimation                                                                 \n",
       "estimate      0.318499 -3.256645  2.632576 -2.059466 -1.755201  1.181143   \n",
       "estimation0   0.318499 -3.256645  2.632576 -2.059466 -1.755201  1.181143   \n",
       "estimation1   0.305241 -3.213459  2.540705 -1.976631 -1.746362  1.179751   \n",
       "estimation2   0.292616 -3.171513  2.455276 -1.900395 -1.737941  1.178322   \n",
       "estimation3   0.280573 -3.130750  2.375608 -1.830033 -1.729900  1.176856   \n",
       "...                ...       ...       ...       ...       ...       ...   \n",
       "estimation95 -0.099529 -1.467445  0.537842 -0.579640 -1.411582  0.988395   \n",
       "estimation96 -0.101127 -1.458896  0.532002 -0.577655 -1.409499  0.986455   \n",
       "estimation97 -0.102707 -1.450436  0.526241 -0.575716 -1.407426  0.984523   \n",
       "estimation98 -0.104268 -1.442064  0.520557 -0.573822 -1.405365  0.982599   \n",
       "estimation99 -0.105811 -1.433779  0.514949 -0.571972 -1.403315  0.980681   \n",
       "\n",
       "variable         LSTAT  \n",
       "estimation              \n",
       "estimate     -3.887043  \n",
       "estimation0  -3.887043  \n",
       "estimation1  -3.867286  \n",
       "estimation2  -3.847925  \n",
       "estimation3  -3.828944  \n",
       "...                ...  \n",
       "estimation95 -2.822976  \n",
       "estimation96 -2.816081  \n",
       "estimation97 -2.809234  \n",
       "estimation98 -2.802435  \n",
       "estimation99 -2.795682  \n",
       "\n",
       "[101 rows x 13 columns]"
      ]
     },
     "execution_count": 36,
     "metadata": {},
     "output_type": "execute_result"
    }
   ],
   "source": [
    "ridge_traine_pred=[]\n",
    "ridge_test_pred=[]\n",
    "alphas=np.arange(0,100,1)\n",
    "\n",
    "for alpha in alphas:\n",
    "    ridge_reg=Ridge(alpha=alpha)\n",
    "    ridge_reg.fit(X_traine,Y_traine)\n",
    "    var_name='estimation'+str(alpha)\n",
    "    ridge_df[var_name]=ridge_reg.coef_\n",
    "    \n",
    "    #prediction\n",
    "    ridge_traine_pred.append(ridge_reg.predict(X_traine))\n",
    "    ridge_test_pred.append(ridge_reg.predict(X_test))\n",
    "ridge_df=ridge_df.set_index('variable').T.rename_axis('estimation')\n",
    "ridge_df"
   ]
  },
  {
   "cell_type": "code",
   "execution_count": 39,
   "metadata": {},
   "outputs": [
    {
     "data": {
      "image/png": "[encoded data removed]",
      "text/plain": [
       "<Figure size 1152x648 with 1 Axes>"
      ]
     },
     "metadata": {
      "needs_background": "light"
     },
     "output_type": "display_data"
    }
   ],
   "source": [
    "fig,ax=plt.subplots(figsize=(16,9))\n",
    "ax.plot(ridge_df.RM,'r',ridge_df.ZN,'g',ridge_df.RAD,'b',ridge_df.CRIM,'c',ridge_df.TAX)\n",
    "ax.axhline(y=0,color='black',linestyle='--')\n",
    "ax.set_xlabel('Lambda')\n",
    "ax.set_ylabel('Beta Estimate')\n",
    "ax.set_title('Ridge Regression Trace',fontsize=16)\n",
    "ax.legend(labels=['ROOM','ResidentialZone','Highway Acces','Crime Rate','Tax'])\n",
    "ax.grid(True)"
   ]
  },
  {
   "cell_type": "code",
   "execution_count": 40,
   "metadata": {},
   "outputs": [],
   "source": [
    "from sklearn.model_selection import learning_curve"
   ]
  },
  {
   "cell_type": "code",
   "execution_count": 41,
   "metadata": {},
   "outputs": [],
   "source": [
    "Train_size,Trin_score,validation_score=learning_curve(ridge_reg,X_traine,Y_traine,cv=20)"
   ]
  },
  {
   "cell_type": "code",
   "execution_count": 42,
   "metadata": {},
   "outputs": [
    {
     "data": {
      "text/plain": [
       "array([ 33, 109, 184, 260, 336])"
      ]
     },
     "execution_count": 42,
     "metadata": {},
     "output_type": "execute_result"
    }
   ],
   "source": [
    "Train_size"
   ]
  },
  {
   "cell_type": "code",
   "execution_count": 43,
   "metadata": {
    "collapsed": true
   },
   "outputs": [
    {
     "data": {
      "text/plain": [
       "array([[0.37194286, 0.70379004, 0.42503908, 0.42503908, 0.42503908,\n",
       "        0.42503908, 0.42503908, 0.42503908, 0.42503908, 0.42503908,\n",
       "        0.42503908, 0.42503908, 0.42503908, 0.42503908, 0.42503908,\n",
       "        0.42503908, 0.42503908, 0.42503908, 0.42503908, 0.42503908],\n",
       "       [0.64664183, 0.74159401, 0.66486649, 0.65752105, 0.6666408 ,\n",
       "        0.68291257, 0.60384938, 0.61971833, 0.61971833, 0.61971833,\n",
       "        0.61971833, 0.61971833, 0.61971833, 0.61971833, 0.61971833,\n",
       "        0.61971833, 0.61971833, 0.61971833, 0.61971833, 0.61971833],\n",
       "       [0.71256547, 0.77164986, 0.72149997, 0.71604742, 0.72082215,\n",
       "        0.72951733, 0.69672238, 0.73226637, 0.72562663, 0.72711098,\n",
       "        0.71039482, 0.70841938, 0.70841938, 0.70841938, 0.70841938,\n",
       "        0.70841938, 0.70841938, 0.70841938, 0.70841938, 0.70841938],\n",
       "       [0.72698103, 0.76982585, 0.73307629, 0.72942378, 0.73479242,\n",
       "        0.7395708 , 0.7165877 , 0.74133521, 0.73844015, 0.73821412,\n",
       "        0.72505363, 0.73419677, 0.74344253, 0.73088883, 0.73642063,\n",
       "        0.73835424, 0.73835424, 0.73835424, 0.73835424, 0.73835424],\n",
       "       [0.70569519, 0.73568404, 0.71242375, 0.70876558, 0.71033432,\n",
       "        0.71566396, 0.69650751, 0.71560508, 0.71251732, 0.71435697,\n",
       "        0.70461297, 0.71130412, 0.71816822, 0.7101671 , 0.71738568,\n",
       "        0.7044265 , 0.71453651, 0.72481302, 0.73281725, 0.71726705]])"
      ]
     },
     "execution_count": 43,
     "metadata": {},
     "output_type": "execute_result"
    }
   ],
   "source": [
    "Trin_score"
   ]
  },
  {
   "cell_type": "code",
   "execution_count": 44,
   "metadata": {
    "collapsed": true
   },
   "outputs": [
    {
     "data": {
      "text/plain": [
       "array([[0.34748891, 0.1495825 , 0.38261266, 0.41363959, 0.26895467,\n",
       "        0.48165979, 0.48847325, 0.53233882, 0.31000143, 0.37509895,\n",
       "        0.34701887, 0.44013649, 0.31049393, 0.470103  , 0.2625181 ,\n",
       "        0.51869503, 0.35718999, 0.21227806, 0.11728112, 0.23809844],\n",
       "       [0.76620423, 0.2304411 , 0.76963832, 0.73504138, 0.56321158,\n",
       "        0.44570869, 0.75736897, 0.60988727, 0.58311019, 0.66774306,\n",
       "        0.63855321, 0.5414824 , 0.51146977, 0.68444117, 0.63920521,\n",
       "        0.74037581, 0.64662862, 0.18309419, 0.25666701, 0.45612825],\n",
       "       [0.87583541, 0.2060075 , 0.81233001, 0.82446061, 0.66749413,\n",
       "        0.51212536, 0.83697864, 0.61125096, 0.64283497, 0.71430365,\n",
       "        0.73780878, 0.68330395, 0.58464732, 0.75943754, 0.69894491,\n",
       "        0.81538871, 0.71474118, 0.14721457, 0.29184855, 0.54738561],\n",
       "       [0.89281959, 0.23107383, 0.8267726 , 0.84301016, 0.67994691,\n",
       "        0.50416021, 0.85094421, 0.62360595, 0.66942945, 0.71814497,\n",
       "        0.77531225, 0.71950455, 0.60955927, 0.79749577, 0.70021923,\n",
       "        0.83568568, 0.71065907, 0.14487289, 0.30450984, 0.56621636],\n",
       "       [0.90108404, 0.28470609, 0.80106792, 0.83965609, 0.70998513,\n",
       "        0.59979989, 0.8643702 , 0.638646  , 0.69410019, 0.73938421,\n",
       "        0.78026648, 0.72496077, 0.62410615, 0.78648309, 0.64435976,\n",
       "        0.84810701, 0.73188854, 0.12137877, 0.3278944 , 0.58672496]])"
      ]
     },
     "execution_count": 44,
     "metadata": {},
     "output_type": "execute_result"
    }
   ],
   "source": [
    "validation_score"
   ]
  },
  {
   "cell_type": "code",
   "execution_count": 46,
   "metadata": {},
   "outputs": [],
   "source": [
    "mean_train_score=-Trin_score.mean(axis=1)\n",
    "mean_validation_score=-validation_score.mean(axis=1)"
   ]
  },
  {
   "cell_type": "code",
   "execution_count": 47,
   "metadata": {},
   "outputs": [
    {
     "data": {
      "text/plain": [
       "<matplotlib.legend.Legend at 0x7fa798d26a58>"
      ]
     },
     "execution_count": 47,
     "metadata": {},
     "output_type": "execute_result"
    },
    {
     "data": {
      "image/png": "[encoded data removed]",
      "text/plain": [
       "<Figure size 1152x360 with 1 Axes>"
      ]
     },
     "metadata": {
      "needs_background": "light"
     },
     "output_type": "display_data"
    }
   ],
   "source": [
    "plt.figure(figsize=(16,5))\n",
    "plt.plot(Train_size,mean_train_score,label='Train Error')\n",
    "plt.plot(Train_size,mean_validation_score,label='validation Error')\n",
    "plt.legend()"
   ]
  },
  {
   "cell_type": "code",
   "execution_count": null,
   "metadata": {},
   "outputs": [],
   "source": []
  }
 ],
 "metadata": {
  "kernelspec": {
   "display_name": "Python 3",
   "language": "python",
   "name": "python3"
  },
  "language_info": {
   "codemirror_mode": {
    "name": "ipython",
    "version": 3
   },
   "file_extension": ".py",
   "mimetype": "text/x-python",
   "name": "python",
   "nbconvert_exporter": "python",
   "pygments_lexer": "ipython3",
   "version": "3.6.8"
  }
 },
 "nbformat": 4,
 "nbformat_minor": 4
}
