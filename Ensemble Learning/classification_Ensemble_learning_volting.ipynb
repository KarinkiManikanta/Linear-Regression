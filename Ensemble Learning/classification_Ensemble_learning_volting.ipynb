{
 "cells": [
  {
   "cell_type": "code",
   "execution_count": 2,
   "metadata": {},
   "outputs": [],
   "source": [
    "import numpy as np\n",
    "import pandas as pd\n",
    "import scipy as stats\n",
    "import seaborn as sns\n",
    "import pandas_profiling\n",
    "import matplotlib  as plt\n",
    "\n",
    "\n",
    "import numpy\n",
    "from sklearn import linear_model\n",
    "from sklearn.svm import SVC\n",
    "from sklearn import datasets\n",
    "from sklearn.tree import DecisionTreeClassifier\n",
    "from sklearn.neighbors import KNeighborsClassifier\n",
    "from sklearn.ensemble import VotingClassifier\n",
    "import statistics as stat\n",
    "from sklearn.model_selection import train_test_split"
   ]
  },
  {
   "cell_type": "code",
   "execution_count": 3,
   "metadata": {},
   "outputs": [
    {
     "data": {
      "text/plain": [
       "['sepal length (cm)',\n",
       " 'sepal width (cm)',\n",
       " 'petal length (cm)',\n",
       " 'petal width (cm)']"
      ]
     },
     "execution_count": 3,
     "metadata": {},
     "output_type": "execute_result"
    }
   ],
   "source": [
    "iris=datasets.load_iris()\n",
    "iris.feature_names"
   ]
  },
  {
   "cell_type": "code",
   "execution_count": 4,
   "metadata": {},
   "outputs": [],
   "source": [
    "x=iris.data[:,[0,2]]\n",
    "y=iris.target"
   ]
  },
  {
   "cell_type": "code",
   "execution_count": 5,
   "metadata": {},
   "outputs": [
    {
     "name": "stdout",
     "output_type": "stream",
     "text": [
      "(150, 2)\n",
      "(150,)\n"
     ]
    }
   ],
   "source": [
    "print(x.shape)\n",
    "print(y.shape)"
   ]
  },
  {
   "cell_type": "code",
   "execution_count": 7,
   "metadata": {},
   "outputs": [
    {
     "data": {
      "text/plain": [
       "['setosa', 'versicolor', 'virginica']"
      ]
     },
     "execution_count": 7,
     "metadata": {},
     "output_type": "execute_result"
    }
   ],
   "source": [
    "list(iris.target_names)"
   ]
  },
  {
   "cell_type": "code",
   "execution_count": 9,
   "metadata": {},
   "outputs": [],
   "source": [
    "x_train,x_test,y_train,y_test=train_test_split(x,y,random_state=1)"
   ]
  },
  {
   "cell_type": "code",
   "execution_count": 10,
   "metadata": {},
   "outputs": [
    {
     "name": "stdout",
     "output_type": "stream",
     "text": [
      "(112, 2)\n",
      "(112,)\n",
      "(38, 2)\n",
      "(38,)\n"
     ]
    }
   ],
   "source": [
    "print(x_train.shape)\n",
    "print(y_train.shape)\n",
    "print(x_test.shape)\n",
    "print(y_test.shape)"
   ]
  },
  {
   "cell_type": "code",
   "execution_count": 11,
   "metadata": {},
   "outputs": [],
   "source": [
    "# A simple average ensemble model\n",
    "model1 = DecisionTreeClassifier(max_depth=4)\n",
    "model2 = KNeighborsClassifier(n_neighbors=7)\n",
    "model3 = SVC(kernel='rbf',probability=True)\n",
    "\n",
    "model1.fit(x_train,y_train)\n",
    "model2.fit(x_train,y_train)\n",
    "model3.fit(x_train,y_train)\n",
    "\n",
    "#pred1=model1.predict(x_test)\n",
    "#pred2=model2.predict(x_test)\n",
    "#pred3=model3.predict(x_test)"
   ]
  },
  {
   "cell_type": "code",
   "execution_count": 33,
   "metadata": {},
   "outputs": [
    {
     "name": "stdout",
     "output_type": "stream",
     "text": [
      "0.9736842105263158\n"
     ]
    }
   ],
   "source": [
    "# lets look at the accuracy for each model\n",
    "score1=model1.score(x_test,y_test)\n",
    "print(score1)"
   ]
  },
  {
   "cell_type": "code",
   "execution_count": 34,
   "metadata": {},
   "outputs": [
    {
     "name": "stdout",
     "output_type": "stream",
     "text": [
      "0.9736842105263158\n"
     ]
    }
   ],
   "source": [
    "score2=model2.score(x_test,y_test)\n",
    "print(score1)"
   ]
  },
  {
   "cell_type": "code",
   "execution_count": 35,
   "metadata": {},
   "outputs": [
    {
     "name": "stdout",
     "output_type": "stream",
     "text": [
      "0.9736842105263158\n"
     ]
    }
   ],
   "source": [
    "score3=model3.score(x_test,y_test)\n",
    "print(score1)"
   ]
  },
  {
   "cell_type": "code",
   "execution_count": 18,
   "metadata": {},
   "outputs": [],
   "source": [
    "# prediciton process\n",
    "pred1=model1.predict(x_test)\n",
    "pred2=model2.predict(x_test)\n",
    "pred3=model3.predict(x_test)"
   ]
  },
  {
   "cell_type": "code",
   "execution_count": 20,
   "metadata": {},
   "outputs": [
    {
     "data": {
      "text/plain": [
       "array([0., 1., 1., 0., 2., 1., 2., 0., 0., 2., 1., 0., 2., 1., 1., 0., 1.,\n",
       "       1., 0., 0., 1., 1., 2., 0., 2., 1., 0., 0., 1., 2., 1., 2., 1., 2.,\n",
       "       2., 0., 1., 0.])"
      ]
     },
     "execution_count": 20,
     "metadata": {},
     "output_type": "execute_result"
    }
   ],
   "source": [
    "final_pred=np.array([])\n",
    "for i in range(0,len(x_test)):\n",
    "    final_pred=np.append(final_pred,stat.mode([pred1[i],\n",
    "                                              pred2[i],\n",
    "                                              pred3[i]]))\n",
    "final_pred"
   ]
  },
  {
   "cell_type": "code",
   "execution_count": 22,
   "metadata": {},
   "outputs": [
    {
     "name": "stdout",
     "output_type": "stream",
     "text": [
      "accuracy 37 / 38 *100= 97.368 %\n"
     ]
    }
   ],
   "source": [
    "total=np.sum(y_test==final_pred)\n",
    "print(\"accuracy\",total,\"/\",len(final_pred),\"*100=\",\"{0:.3f}\".format(total/len(final_pred)*100),\"%\")"
   ]
  },
  {
   "cell_type": "code",
   "execution_count": 28,
   "metadata": {},
   "outputs": [
    {
     "data": {
      "text/plain": [
       "array([[0.98900719, 0.00557362, 0.00541919],\n",
       "       [0.05676041, 0.93374976, 0.00948983],\n",
       "       [0.00515311, 0.98626028, 0.00858662],\n",
       "       [0.99078734, 0.00522379, 0.00398886],\n",
       "       [0.00860227, 0.0182068 , 0.97319093],\n",
       "       [0.0042457 , 0.7691791 , 0.22657519],\n",
       "       [0.00664781, 0.27731973, 0.71603246],\n",
       "       [0.97510544, 0.01993641, 0.00495815],\n",
       "       [0.98423522, 0.01127224, 0.00449254],\n",
       "       [0.00405535, 0.00859005, 0.9873546 ],\n",
       "       [0.00277927, 0.97866289, 0.01855784],\n",
       "       [0.98399819, 0.01158933, 0.00441248],\n",
       "       [0.00438769, 0.00698474, 0.98862757],\n",
       "       [0.00402316, 0.97421861, 0.02175823],\n",
       "       [0.00307901, 0.90308786, 0.09383313],\n",
       "       [0.9857468 , 0.00867448, 0.00557873],\n",
       "       [0.0035773 , 0.99221212, 0.00421057],\n",
       "       [0.00326255, 0.85603843, 0.14069902],\n",
       "       [0.98866777, 0.00732083, 0.00401139],\n",
       "       [0.99123034, 0.00484928, 0.00392038],\n",
       "       [0.00311911, 0.92967947, 0.06720141],\n",
       "       [0.00352241, 0.77791891, 0.21855868],\n",
       "       [0.00574975, 0.29519468, 0.69905558],\n",
       "       [0.9907137 , 0.00548716, 0.00379914],\n",
       "       [0.00460149, 0.00680476, 0.98859375],\n",
       "       [0.00305334, 0.98835893, 0.00858773],\n",
       "       [0.9896282 , 0.00621787, 0.00415393],\n",
       "       [0.98874528, 0.00747318, 0.00378154],\n",
       "       [0.00380459, 0.73983634, 0.25635907],\n",
       "       [0.00425311, 0.13440996, 0.86133692],\n",
       "       [0.0035069 , 0.83308214, 0.16341096],\n",
       "       [0.00745922, 0.01848014, 0.97406064],\n",
       "       [0.00388489, 0.99187858, 0.00423653],\n",
       "       [0.0033331 , 0.00401373, 0.99265317],\n",
       "       [0.00342898, 0.12355821, 0.87301281],\n",
       "       [0.98884887, 0.00727591, 0.00387522],\n",
       "       [0.00329053, 0.98844882, 0.00826065],\n",
       "       [0.99017726, 0.00607888, 0.00374386]])"
      ]
     },
     "execution_count": 28,
     "metadata": {},
     "output_type": "execute_result"
    }
   ],
   "source": [
    "#soft voting in python\n",
    "spred1=model1.predict_proba(x_test)\n",
    "spred2=model2.predict_proba(x_test)\n",
    "spred3=model3.predict_proba(x_test)\n",
    "finalpred=(spred1+spred2+spred3)/3\n",
    "finalpred"
   ]
  },
  {
   "cell_type": "code",
   "execution_count": 29,
   "metadata": {},
   "outputs": [
    {
     "data": {
      "text/plain": [
       "array([0, 1, 1, 0, 2, 1, 2, 0, 0, 2, 1, 0, 2, 1, 1, 0, 1, 1, 0, 0, 1, 1,\n",
       "       2, 0, 2, 1, 0, 0, 1, 2, 1, 2, 1, 2, 2, 0, 1, 0])"
      ]
     },
     "execution_count": 29,
     "metadata": {},
     "output_type": "execute_result"
    }
   ],
   "source": [
    "final_class=finalpred.argmax(axis=-1)\n",
    "final_class\n"
   ]
  },
  {
   "cell_type": "code",
   "execution_count": 30,
   "metadata": {},
   "outputs": [
    {
     "data": {
      "text/plain": [
       "VotingClassifier(estimators=[('dt',\n",
       "                              DecisionTreeClassifier(ccp_alpha=0.0,\n",
       "                                                     class_weight=None,\n",
       "                                                     criterion='gini',\n",
       "                                                     max_depth=4,\n",
       "                                                     max_features=None,\n",
       "                                                     max_leaf_nodes=None,\n",
       "                                                     min_impurity_decrease=0.0,\n",
       "                                                     min_impurity_split=None,\n",
       "                                                     min_samples_leaf=1,\n",
       "                                                     min_samples_split=2,\n",
       "                                                     min_weight_fraction_leaf=0.0,\n",
       "                                                     presort='deprecated',\n",
       "                                                     random_state=None,\n",
       "                                                     splitter='best')),\n",
       "                             ('knn',\n",
       "                              KNeighborsC...\n",
       "                                                   metric_params=None,\n",
       "                                                   n_jobs=None, n_neighbors=7,\n",
       "                                                   p=2, weights='uniform')),\n",
       "                             ('svc',\n",
       "                              SVC(C=1.0, break_ties=False, cache_size=200,\n",
       "                                  class_weight=None, coef0=0.0,\n",
       "                                  decision_function_shape='ovr', degree=3,\n",
       "                                  gamma='scale', kernel='rbf', max_iter=-1,\n",
       "                                  probability=True, random_state=None,\n",
       "                                  shrinking=True, tol=0.001, verbose=False))],\n",
       "                 flatten_transform=True, n_jobs=None, voting='soft',\n",
       "                 weights=None)"
      ]
     },
     "execution_count": 30,
     "metadata": {},
     "output_type": "execute_result"
    }
   ],
   "source": [
    "# we can applay for the volting process\n",
    "emodel=VotingClassifier(estimators=[('dt',model1),('knn',model2),('svc',model3)],voting='soft')\n",
    "emodel.fit(x_train,y_train)"
   ]
  },
  {
   "cell_type": "code",
   "execution_count": 31,
   "metadata": {},
   "outputs": [
    {
     "name": "stdout",
     "output_type": "stream",
     "text": [
      "0.9736842105263158\n"
     ]
    }
   ],
   "source": [
    "#accuracy score for the ensemble modelis\n",
    "escore=emodel.score(x_test,y_test)\n",
    "print(escore)"
   ]
  },
  {
   "cell_type": "code",
   "execution_count": 32,
   "metadata": {},
   "outputs": [
    {
     "data": {
      "text/plain": [
       "array([0, 1, 2])"
      ]
     },
     "execution_count": 32,
     "metadata": {},
     "output_type": "execute_result"
    }
   ],
   "source": [
    "emodel.classes_"
   ]
  },
  {
   "cell_type": "code",
   "execution_count": null,
   "metadata": {},
   "outputs": [],
   "source": []
  }
 ],
 "metadata": {
  "kernelspec": {
   "display_name": "Python 3",
   "language": "python",
   "name": "python3"
  },
  "language_info": {
   "codemirror_mode": {
    "name": "ipython",
    "version": 3
   },
   "file_extension": ".py",
   "mimetype": "text/x-python",
   "name": "python",
   "nbconvert_exporter": "python",
   "pygments_lexer": "ipython3",
   "version": "3.6.9"
  }
 },
 "nbformat": 4,
 "nbformat_minor": 4
}
