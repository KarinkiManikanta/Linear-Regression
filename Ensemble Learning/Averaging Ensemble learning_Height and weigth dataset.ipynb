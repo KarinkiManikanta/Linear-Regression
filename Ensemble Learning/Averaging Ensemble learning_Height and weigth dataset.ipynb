{
 "cells": [
  {
   "cell_type": "code",
   "execution_count": 1,
   "metadata": {},
   "outputs": [],
   "source": [
    "import numpy\n",
    "import os\n",
    "filename = (\"/home/manikanta/Documents/ML/classification/height-weight1.csv\")\n",
    "raw_data = open(filename, 'rt')\n",
    "data = numpy.loadtxt(raw_data, delimiter=\",\")"
   ]
  },
  {
   "cell_type": "code",
   "execution_count": 2,
   "metadata": {},
   "outputs": [],
   "source": [
    "import numpy as np\n",
    "import pandas as pd\n",
    "import scipy as stats\n",
    "import seaborn as sns\n",
    "import pandas_profiling\n",
    "import matplotlib  as plt"
   ]
  },
  {
   "cell_type": "code",
   "execution_count": 3,
   "metadata": {},
   "outputs": [],
   "source": [
    "df='https://raw.githubusercontent.com/reddyprasade/Machine-Learning-Problems-DataSets/master/Ensemble/height-weight.csv'"
   ]
  },
  {
   "cell_type": "code",
   "execution_count": 4,
   "metadata": {},
   "outputs": [],
   "source": [
    "#import urllib.request\n",
    "data=pd.read_csv(df,header=None)\n",
    "data.columns=[\"Height\",\"weight\"]"
   ]
  },
  {
   "cell_type": "code",
   "execution_count": 5,
   "metadata": {},
   "outputs": [
    {
     "data": {
      "text/plain": [
       "Index(['Height', 'weight'], dtype='object')"
      ]
     },
     "execution_count": 5,
     "metadata": {},
     "output_type": "execute_result"
    }
   ],
   "source": [
    "data.columns"
   ]
  },
  {
   "cell_type": "code",
   "execution_count": 6,
   "metadata": {},
   "outputs": [
    {
     "data": {
      "text/html": [
       "<div>\n",
       "<style scoped>\n",
       "    .dataframe tbody tr th:only-of-type {\n",
       "        vertical-align: middle;\n",
       "    }\n",
       "\n",
       "    .dataframe tbody tr th {\n",
       "        vertical-align: top;\n",
       "    }\n",
       "\n",
       "    .dataframe thead th {\n",
       "        text-align: right;\n",
       "    }\n",
       "</style>\n",
       "<table border=\"1\" class=\"dataframe\">\n",
       "  <thead>\n",
       "    <tr style=\"text-align: right;\">\n",
       "      <th></th>\n",
       "      <th>Height</th>\n",
       "      <th>weight</th>\n",
       "    </tr>\n",
       "  </thead>\n",
       "  <tbody>\n",
       "    <tr>\n",
       "      <th>0</th>\n",
       "      <td>73.847017</td>\n",
       "      <td>241.893563</td>\n",
       "    </tr>\n",
       "    <tr>\n",
       "      <th>1</th>\n",
       "      <td>68.781904</td>\n",
       "      <td>162.310473</td>\n",
       "    </tr>\n",
       "    <tr>\n",
       "      <th>2</th>\n",
       "      <td>74.110105</td>\n",
       "      <td>212.740856</td>\n",
       "    </tr>\n",
       "    <tr>\n",
       "      <th>3</th>\n",
       "      <td>71.730978</td>\n",
       "      <td>220.042470</td>\n",
       "    </tr>\n",
       "  </tbody>\n",
       "</table>\n",
       "</div>"
      ],
      "text/plain": [
       "      Height      weight\n",
       "0  73.847017  241.893563\n",
       "1  68.781904  162.310473\n",
       "2  74.110105  212.740856\n",
       "3  71.730978  220.042470"
      ]
     },
     "execution_count": 6,
     "metadata": {},
     "output_type": "execute_result"
    }
   ],
   "source": [
    "data.head(4)"
   ]
  },
  {
   "cell_type": "code",
   "execution_count": 7,
   "metadata": {},
   "outputs": [
    {
     "data": {
      "text/html": [
       "<div>\n",
       "<style scoped>\n",
       "    .dataframe tbody tr th:only-of-type {\n",
       "        vertical-align: middle;\n",
       "    }\n",
       "\n",
       "    .dataframe tbody tr th {\n",
       "        vertical-align: top;\n",
       "    }\n",
       "\n",
       "    .dataframe thead th {\n",
       "        text-align: right;\n",
       "    }\n",
       "</style>\n",
       "<table border=\"1\" class=\"dataframe\">\n",
       "  <thead>\n",
       "    <tr style=\"text-align: right;\">\n",
       "      <th></th>\n",
       "      <th>Height</th>\n",
       "      <th>weight</th>\n",
       "    </tr>\n",
       "  </thead>\n",
       "  <tbody>\n",
       "    <tr>\n",
       "      <th>4995</th>\n",
       "      <td>68.860062</td>\n",
       "      <td>177.131052</td>\n",
       "    </tr>\n",
       "    <tr>\n",
       "      <th>4996</th>\n",
       "      <td>68.973423</td>\n",
       "      <td>159.285228</td>\n",
       "    </tr>\n",
       "    <tr>\n",
       "      <th>4997</th>\n",
       "      <td>67.013795</td>\n",
       "      <td>199.195400</td>\n",
       "    </tr>\n",
       "    <tr>\n",
       "      <th>4998</th>\n",
       "      <td>71.557718</td>\n",
       "      <td>185.905910</td>\n",
       "    </tr>\n",
       "    <tr>\n",
       "      <th>4999</th>\n",
       "      <td>70.351880</td>\n",
       "      <td>198.903012</td>\n",
       "    </tr>\n",
       "  </tbody>\n",
       "</table>\n",
       "</div>"
      ],
      "text/plain": [
       "         Height      weight\n",
       "4995  68.860062  177.131052\n",
       "4996  68.973423  159.285228\n",
       "4997  67.013795  199.195400\n",
       "4998  71.557718  185.905910\n",
       "4999  70.351880  198.903012"
      ]
     },
     "execution_count": 7,
     "metadata": {},
     "output_type": "execute_result"
    }
   ],
   "source": [
    "data.tail(5)"
   ]
  },
  {
   "cell_type": "code",
   "execution_count": 8,
   "metadata": {},
   "outputs": [
    {
     "data": {
      "text/plain": [
       "<matplotlib.axes._subplots.AxesSubplot at 0x7fd07d35bd30>"
      ]
     },
     "execution_count": 8,
     "metadata": {},
     "output_type": "execute_result"
    },
    {
     "data": {
      "image/png": "[encoded data removed]",
      "text/plain": [
       "<Figure size 432x288 with 1 Axes>"
      ]
     },
     "metadata": {
      "needs_background": "light"
     },
     "output_type": "display_data"
    }
   ],
   "source": [
    "sns.heatmap(data.isnull(),cbar=False,cmap='viridis')"
   ]
  },
  {
   "cell_type": "code",
   "execution_count": 9,
   "metadata": {},
   "outputs": [
    {
     "data": {
      "text/plain": [
       "Height    0\n",
       "weight    0\n",
       "dtype: int64"
      ]
     },
     "execution_count": 9,
     "metadata": {},
     "output_type": "execute_result"
    }
   ],
   "source": [
    "data.isna().sum()"
   ]
  },
  {
   "cell_type": "code",
   "execution_count": 10,
   "metadata": {},
   "outputs": [
    {
     "data": {
      "text/plain": [
       "<seaborn.axisgrid.PairGrid at 0x7fd07b2e1198>"
      ]
     },
     "execution_count": 10,
     "metadata": {},
     "output_type": "execute_result"
    },
    {
     "data": {
      "image/png": "[encoded data removed]",
      "text/plain": [
       "<Figure size 360x360 with 6 Axes>"
      ]
     },
     "metadata": {
      "needs_background": "light"
     },
     "output_type": "display_data"
    }
   ],
   "source": [
    "sns.pairplot(data)"
   ]
  },
  {
   "cell_type": "code",
   "execution_count": 11,
   "metadata": {},
   "outputs": [
    {
     "data": {
      "application/vnd.jupyter.widget-view+json": {
       "model_id": "fdc1c63a47b24193acf442a333a5ef38",
       "version_major": 2,
       "version_minor": 0
      },
      "text/plain": [
       "Tab(children=(HTML(value='<div id=\"overview-content\" class=\"row variable spacing\">\\n    <div class=\"row\">\\n   …"
      ]
     },
     "metadata": {},
     "output_type": "display_data"
    },
    {
     "data": {
      "text/html": [
       "Report generated with <a href=\"https://github.com/pandas-profiling/pandas-profiling\">pandas-profiling</a>."
      ],
      "text/plain": [
       "<IPython.core.display.HTML object>"
      ]
     },
     "metadata": {},
     "output_type": "display_data"
    },
    {
     "data": {
      "text/plain": []
     },
     "execution_count": 11,
     "metadata": {},
     "output_type": "execute_result"
    }
   ],
   "source": [
    "pandas_profiling.ProfileReport(data)"
   ]
  },
  {
   "cell_type": "code",
   "execution_count": 12,
   "metadata": {},
   "outputs": [],
   "source": [
    "from sklearn import linear_model\n",
    "from sklearn.metrics import mean_squared_error"
   ]
  },
  {
   "cell_type": "code",
   "execution_count": 13,
   "metadata": {},
   "outputs": [
    {
     "data": {
      "text/plain": [
       "(5000, 2)"
      ]
     },
     "execution_count": 13,
     "metadata": {},
     "output_type": "execute_result"
    }
   ],
   "source": [
    "# We check the size of the data\n",
    "data.shape"
   ]
  },
  {
   "cell_type": "code",
   "execution_count": 14,
   "metadata": {},
   "outputs": [
    {
     "data": {
      "text/html": [
       "<div>\n",
       "<style scoped>\n",
       "    .dataframe tbody tr th:only-of-type {\n",
       "        vertical-align: middle;\n",
       "    }\n",
       "\n",
       "    .dataframe tbody tr th {\n",
       "        vertical-align: top;\n",
       "    }\n",
       "\n",
       "    .dataframe thead th {\n",
       "        text-align: right;\n",
       "    }\n",
       "</style>\n",
       "<table border=\"1\" class=\"dataframe\">\n",
       "  <thead>\n",
       "    <tr style=\"text-align: right;\">\n",
       "      <th></th>\n",
       "      <th>Height</th>\n",
       "      <th>weight</th>\n",
       "    </tr>\n",
       "  </thead>\n",
       "  <tbody>\n",
       "    <tr>\n",
       "      <th>0</th>\n",
       "      <td>73.847017</td>\n",
       "      <td>241.893563</td>\n",
       "    </tr>\n",
       "    <tr>\n",
       "      <th>1</th>\n",
       "      <td>68.781904</td>\n",
       "      <td>162.310473</td>\n",
       "    </tr>\n",
       "    <tr>\n",
       "      <th>2</th>\n",
       "      <td>74.110105</td>\n",
       "      <td>212.740856</td>\n",
       "    </tr>\n",
       "    <tr>\n",
       "      <th>3</th>\n",
       "      <td>71.730978</td>\n",
       "      <td>220.042470</td>\n",
       "    </tr>\n",
       "    <tr>\n",
       "      <th>4</th>\n",
       "      <td>69.881796</td>\n",
       "      <td>206.349801</td>\n",
       "    </tr>\n",
       "    <tr>\n",
       "      <th>5</th>\n",
       "      <td>67.253016</td>\n",
       "      <td>152.212156</td>\n",
       "    </tr>\n",
       "    <tr>\n",
       "      <th>6</th>\n",
       "      <td>68.785081</td>\n",
       "      <td>183.927889</td>\n",
       "    </tr>\n",
       "    <tr>\n",
       "      <th>7</th>\n",
       "      <td>68.348516</td>\n",
       "      <td>167.971111</td>\n",
       "    </tr>\n",
       "    <tr>\n",
       "      <th>8</th>\n",
       "      <td>67.018950</td>\n",
       "      <td>175.929440</td>\n",
       "    </tr>\n",
       "    <tr>\n",
       "      <th>9</th>\n",
       "      <td>63.456494</td>\n",
       "      <td>156.399676</td>\n",
       "    </tr>\n",
       "  </tbody>\n",
       "</table>\n",
       "</div>"
      ],
      "text/plain": [
       "      Height      weight\n",
       "0  73.847017  241.893563\n",
       "1  68.781904  162.310473\n",
       "2  74.110105  212.740856\n",
       "3  71.730978  220.042470\n",
       "4  69.881796  206.349801\n",
       "5  67.253016  152.212156\n",
       "6  68.785081  183.927889\n",
       "7  68.348516  167.971111\n",
       "8  67.018950  175.929440\n",
       "9  63.456494  156.399676"
      ]
     },
     "execution_count": 14,
     "metadata": {},
     "output_type": "execute_result"
    }
   ],
   "source": [
    "# We check the first 10 rows\n",
    "data[:10]"
   ]
  },
  {
   "cell_type": "code",
   "execution_count": 15,
   "metadata": {},
   "outputs": [
    {
     "data": {
      "text/plain": [
       "array([73.84701702, 68.78190405, 74.11010539, ..., 67.01379497,\n",
       "       71.55771849, 70.35187988])"
      ]
     },
     "execution_count": 15,
     "metadata": {},
     "output_type": "execute_result"
    }
   ],
   "source": [
    "#We separate out the independent variable height into X \n",
    "#and dependent variable weight into y\n",
    "X=data.iloc[:,0].values\n",
    "#y=data[:,1].values\n",
    "X"
   ]
  },
  {
   "cell_type": "code",
   "execution_count": 16,
   "metadata": {},
   "outputs": [
    {
     "data": {
      "text/plain": [
       "array([241.8935632, 162.3104725, 212.7408556, ..., 199.1954001,\n",
       "       185.9059095, 198.9030119])"
      ]
     },
     "execution_count": 16,
     "metadata": {},
     "output_type": "execute_result"
    }
   ],
   "source": [
    "y=data.iloc[:,1].values\n",
    "y"
   ]
  },
  {
   "cell_type": "code",
   "execution_count": 17,
   "metadata": {},
   "outputs": [],
   "source": [
    "# Split the data into training/testing sets\n",
    "X_train1=X[:2500]\n",
    "X_train2=X[2500:4500]\n",
    "X_test=X[4500:]\n"
   ]
  },
  {
   "cell_type": "code",
   "execution_count": 18,
   "metadata": {},
   "outputs": [
    {
     "data": {
      "text/plain": [
       "array([73.84701702, 68.78190405, 74.11010539, ..., 68.90949129,\n",
       "       68.72052925, 68.31234188])"
      ]
     },
     "execution_count": 18,
     "metadata": {},
     "output_type": "execute_result"
    }
   ],
   "source": [
    "X_train1"
   ]
  },
  {
   "cell_type": "code",
   "execution_count": 19,
   "metadata": {},
   "outputs": [
    {
     "data": {
      "text/plain": [
       "array([61.0744871 , 69.57359157, 71.16501786, ..., 64.45121158,\n",
       "       67.38177284, 71.36636548])"
      ]
     },
     "execution_count": 19,
     "metadata": {},
     "output_type": "execute_result"
    }
   ],
   "source": [
    "X_train2"
   ]
  },
  {
   "cell_type": "code",
   "execution_count": 20,
   "metadata": {},
   "outputs": [],
   "source": [
    "# Split the targets into training/testing sets\n",
    "y_train1=y[:2500]\n",
    "y_train2=y[2500:4500]\n",
    "y_test=y[4500:]"
   ]
  },
  {
   "cell_type": "code",
   "execution_count": 21,
   "metadata": {},
   "outputs": [
    {
     "data": {
      "text/plain": [
       "array([241.8935632, 162.3104725, 212.7408556, ..., 184.6155357,\n",
       "       195.6701715, 169.7808397])"
      ]
     },
     "execution_count": 21,
     "metadata": {},
     "output_type": "execute_result"
    }
   ],
   "source": [
    "y_train1"
   ]
  },
  {
   "cell_type": "code",
   "execution_count": 22,
   "metadata": {},
   "outputs": [
    {
     "data": {
      "text/plain": [
       "array([122.6801118, 165.7847424, 198.7115194, ..., 147.0446574,\n",
       "       179.319259 , 199.8815852])"
      ]
     },
     "execution_count": 22,
     "metadata": {},
     "output_type": "execute_result"
    }
   ],
   "source": [
    "y_train2"
   ]
  },
  {
   "cell_type": "code",
   "execution_count": 23,
   "metadata": {},
   "outputs": [],
   "source": [
    "# Modeify the data to input into sklearn\n",
    "X_train1=X_train1.reshape(-1, 1)\n",
    "X_train2=X_train2.reshape(-1, 1)\n",
    "X_test=X_test.reshape(-1, 1)"
   ]
  },
  {
   "cell_type": "code",
   "execution_count": 24,
   "metadata": {},
   "outputs": [],
   "source": [
    "# A simple average ensemble model\n",
    "model1 = linear_model.LinearRegression()\n",
    "model2 = linear_model.ElasticNet()\n",
    "\n",
    "model1.fit(X_train1,y_train1)\n",
    "model2.fit(X_train2,y_train2)\n",
    "\n",
    "pred1=model1.predict(X_test)\n",
    "pred2=model2.predict(X_test)"
   ]
  },
  {
   "cell_type": "code",
   "execution_count": 25,
   "metadata": {},
   "outputs": [
    {
     "name": "stdout",
     "output_type": "stream",
     "text": [
      "Train Score of First Model is 0.7411557654737606\n",
      "Train Score of Second Model is 0.7467592049681588\n",
      "******************************\n",
      "Test Score of First Model is 1.0\n",
      "Test Score of Second Model is 1.0\n"
     ]
    }
   ],
   "source": [
    "print(\"Train Score of First Model is\",model1.score(X_train1,y_train1))\n",
    "print(\"Train Score of Second Model is\",model2.score(X_train2,y_train2))\n",
    "print('*'*30)\n",
    "print(\"Test Score of First Model is\",model1.score(X_test,pred1))\n",
    "print(\"Test Score of Second Model is\",model2.score(X_test,pred2))"
   ]
  },
  {
   "cell_type": "code",
   "execution_count": 26,
   "metadata": {},
   "outputs": [
    {
     "data": {
      "text/plain": [
       "array([188.52475223, 193.71879503, 173.63978372, 206.52109295,\n",
       "       192.17775377, 183.93788511, 156.06104939, 205.53898854,\n",
       "       169.0085415 , 216.0556318 , 190.57049635, 203.2426613 ,\n",
       "       186.8667941 , 184.27696454, 193.86857446, 168.38944951,\n",
       "       171.26079832, 179.89337136, 182.26723298, 208.59647852,\n",
       "       185.19556965, 175.55065815, 196.97152678, 178.30772035,\n",
       "       209.56772686, 172.74096041, 160.33849536, 192.5298769 ,\n",
       "       188.04836274, 200.89876456, 203.68456671, 186.77271956,\n",
       "       164.00651611, 192.71966411, 182.80365934, 210.43520221,\n",
       "       196.70680089, 185.93266142, 169.19483168, 201.32175104,\n",
       "       207.7914973 , 178.32675484, 193.81821058, 211.06674   ,\n",
       "       190.73109835, 191.07853492, 189.73697046, 191.46822098,\n",
       "       149.6570127 , 201.5698212 , 195.1876563 , 182.12069111,\n",
       "       193.44102257, 190.66306253, 183.26023186, 146.43621077,\n",
       "       175.91938666, 164.40208274, 184.45271759, 171.71017138,\n",
       "       181.66067219, 176.39050986, 162.13796065, 185.26623347,\n",
       "       181.67417311, 225.24585148, 167.6178498 , 196.69653294,\n",
       "       178.48392107, 235.91649146, 181.13878129, 196.92807266,\n",
       "       180.35208754, 181.45425391, 183.72064098, 181.84710823,\n",
       "       197.3170437 , 210.74243279, 162.35185739, 162.53751226,\n",
       "       188.7953511 , 183.6049887 , 188.43113553, 205.95443127,\n",
       "       173.85173943, 178.30904395, 187.30835459, 177.92030289,\n",
       "       194.69940689, 194.43568129, 184.54928693, 198.33090179,\n",
       "       197.970735  , 179.67618378, 202.91608952, 209.43847838,\n",
       "       200.41116947, 208.94347138, 168.16276146, 185.44349804,\n",
       "       184.88489823, 178.3845407 , 203.88881369, 168.80594718,\n",
       "       174.78019389, 195.59699711, 177.52126527, 195.49387678,\n",
       "       206.51174891, 195.6614652 , 193.67415598, 199.40014196,\n",
       "       155.63388328, 180.12904646, 175.3534077 , 166.6681977 ,\n",
       "       166.86667531, 185.63612393, 197.66583186, 171.44053631,\n",
       "       159.44247947, 169.43691501, 169.76676149, 197.442886  ,\n",
       "       186.67010564, 186.3687212 , 157.28804496, 183.78990333,\n",
       "       204.82271696, 209.52559363, 180.41994055, 179.45512166,\n",
       "       183.84430019, 191.91079784, 179.07912386, 200.81907088,\n",
       "       211.3994551 , 134.31849759, 197.35415257, 163.81517222,\n",
       "       186.98056345, 192.31757966, 176.2583938 , 208.41652756,\n",
       "       184.12409702, 170.54265444, 187.73699837, 188.80555531,\n",
       "       191.42716803, 177.76894608, 213.41295264, 184.07216352,\n",
       "       173.44032283, 188.99895926, 187.15041869, 199.73151599,\n",
       "       196.00636446, 168.86848637, 172.6131522 , 187.29070754,\n",
       "       208.85953267, 187.67751469, 180.61016929, 180.48497166,\n",
       "       160.85628444, 175.31186312, 183.85824614, 176.33215485,\n",
       "       203.54979994, 191.53016693, 191.21494992, 172.76032851,\n",
       "       183.23464258, 202.29775995, 180.47209249, 174.12031106,\n",
       "       180.51978613, 196.24295002, 145.62110441, 185.27623436,\n",
       "       178.77756552, 192.14048605, 177.66151429, 177.97507703,\n",
       "       185.81688737, 183.28309215, 200.18594352, 193.88187723,\n",
       "       177.01649138, 195.96825679, 191.63454701, 164.44909849,\n",
       "       213.8421845 , 188.56840674, 180.5102998 , 206.10398549,\n",
       "       186.39740253, 197.58246558, 161.72233706, 187.16621349,\n",
       "       179.24346547, 231.23435843, 180.37277148, 153.17974278,\n",
       "       182.85111167, 201.327974  , 183.99260322, 173.09440203,\n",
       "       181.43515413, 194.19594046, 180.60386219, 200.88837817,\n",
       "       181.56202315, 187.63540508, 191.58456914, 202.74512417,\n",
       "       180.52215616, 171.51974996, 187.96672865, 179.76940406,\n",
       "       199.92180288, 223.17966818, 182.03590912, 173.88131329,\n",
       "       184.15929026, 173.69783685, 206.6124822 , 165.1991742 ,\n",
       "       176.0482978 , 164.47815388, 156.63181881, 166.41075046,\n",
       "       175.24744353, 177.08161065, 163.82143678, 179.32168935,\n",
       "       176.83697672, 182.26560618, 176.58257607, 192.71691002,\n",
       "       182.68391012, 183.30065553, 203.63194997, 187.55447366,\n",
       "       191.73606013, 184.16473286, 185.97594268, 213.21294317,\n",
       "       182.96229416, 182.56079283, 200.78134147, 199.89598219,\n",
       "       176.29414511, 183.476892  , 189.49547795, 188.92811591,\n",
       "       164.26045052, 194.38243148, 193.23423827, 184.84827496,\n",
       "       183.53154459, 199.3795836 , 181.00431134, 165.79009494,\n",
       "       186.3372436 , 190.23741317, 202.01713151, 171.44834164,\n",
       "       178.95516852, 174.65944755, 178.13733422, 183.84619065,\n",
       "       219.42486049, 159.89158387, 184.51102669, 206.90901526,\n",
       "       207.22024986, 160.45461807, 202.2423012 , 190.76245188,\n",
       "       182.24411218, 192.81492703, 196.30536927, 176.87093693,\n",
       "       162.62893478, 195.52612238, 186.23858766, 199.6102875 ,\n",
       "       196.50365936, 180.78033704, 215.0800493 , 170.61228832,\n",
       "       165.62651496, 193.3623032 , 125.92145391, 206.62821488,\n",
       "       178.1502573 , 175.31447176, 181.65306478, 182.51140182,\n",
       "       184.53255914, 204.72247951, 176.66596701, 208.02271405,\n",
       "       153.32642412, 172.83742694, 209.213864  , 218.57424275,\n",
       "       189.2604954 , 208.54215045, 194.23868905, 205.25804236,\n",
       "       194.77274681, 201.58860916, 178.54791546, 178.24924166,\n",
       "       209.06900525, 179.05552263, 145.23267834, 187.72997442,\n",
       "       167.60056934, 168.72130908, 191.21615301, 175.37413066,\n",
       "       179.14553201, 221.1360221 , 212.68266886, 167.68182069,\n",
       "       176.25726168, 194.72022858, 197.13194023, 199.56566091,\n",
       "       173.88388003, 188.86339582, 152.37198943, 175.74642816,\n",
       "       199.27481618, 173.35918993, 183.94119336, 193.11651485,\n",
       "       190.24456033, 196.53847171, 199.48981683, 219.27009601,\n",
       "       205.17294641, 171.71613701, 168.56678137, 179.23041245,\n",
       "       199.55654881, 210.37881052, 182.05061806, 180.38722107,\n",
       "       174.07316337, 169.2189469 , 166.04390183, 194.2365336 ,\n",
       "       173.95629599, 177.68486594, 186.92352991, 173.75680867,\n",
       "       164.33901726, 208.20906968, 195.61706826, 183.77822478,\n",
       "       180.65125459, 201.41063509, 192.74583444, 178.42803861,\n",
       "       197.89430066, 206.88369069, 192.37139224, 172.02069057,\n",
       "       194.94643625, 200.5153537 , 149.04289449, 205.04548053,\n",
       "       180.07394108, 195.05204534, 183.44595718, 201.06946038,\n",
       "       204.92021147, 186.27271223, 169.68550618, 216.74140314,\n",
       "       161.42713725, 203.29099905, 157.82524225, 166.79930101,\n",
       "       203.88683869, 177.41110485, 171.99538203, 201.65611397,\n",
       "       208.4074377 , 185.70533536, 183.22947996, 195.27310872,\n",
       "       192.77800407, 193.56914364, 208.81609004, 171.94928053,\n",
       "       214.39237802, 159.65270132, 173.72054659, 194.92891402,\n",
       "       166.10455113, 182.28776531, 184.00983156, 173.40637268,\n",
       "       213.71194614, 194.68268283, 180.19725399, 195.73463835,\n",
       "       174.23535177, 216.77915726, 179.17097153, 176.93622555,\n",
       "       207.56919577, 165.95619489, 205.01147038, 181.53236401,\n",
       "       170.37114298, 180.41346588, 181.79893404, 156.86524174,\n",
       "       175.71591774, 189.03163007, 190.11304814, 207.25446431,\n",
       "       181.09682724, 184.23516319, 178.96748341, 169.9430179 ,\n",
       "       183.27862018, 190.3227676 , 191.33551564, 196.85902207,\n",
       "       195.47766804, 209.68837418, 175.38357268, 194.60500438,\n",
       "       167.67856537, 161.13102979, 157.27093575, 197.19834884,\n",
       "       179.95333536, 178.8438604 , 180.49021347, 207.9394219 ,\n",
       "       165.27946865, 178.24763067, 185.2875338 , 194.65532642,\n",
       "       204.2726817 , 175.28033581, 201.34380357, 190.71748284,\n",
       "       170.6505781 , 174.28780938, 168.70345446, 215.57734225,\n",
       "       171.7493476 , 191.55858695, 193.37637276, 202.3674709 ,\n",
       "       178.35338268, 169.60368291, 177.86224188, 186.40571117,\n",
       "       172.60791469, 199.26501039, 186.2967274 , 166.21461449,\n",
       "       195.05681281, 199.83672096, 183.11863969, 211.73634972,\n",
       "       205.76314605, 215.78035931, 182.79123738, 164.62838771,\n",
       "       138.60580911, 186.65101925, 189.58234689, 163.81865954,\n",
       "       193.770674  , 163.76968764, 201.99456935, 207.58272652,\n",
       "       198.55881557, 208.21214547, 187.48630923, 186.64791846,\n",
       "       201.34264778, 165.69167135, 210.31850821, 185.99347853,\n",
       "       186.64493588, 175.38338045, 201.4963214 , 194.56662897])"
      ]
     },
     "execution_count": 26,
     "metadata": {},
     "output_type": "execute_result"
    }
   ],
   "source": [
    "finalpred=(pred1+pred2)/2\n",
    "finalpred\n"
   ]
  },
  {
   "cell_type": "code",
   "execution_count": 27,
   "metadata": {},
   "outputs": [
    {
     "data": {
      "text/plain": [
       "(500,)"
      ]
     },
     "execution_count": 27,
     "metadata": {},
     "output_type": "execute_result"
    }
   ],
   "source": [
    "y_test.shape"
   ]
  },
  {
   "cell_type": "code",
   "execution_count": 28,
   "metadata": {},
   "outputs": [
    {
     "data": {
      "text/plain": [
       "(500,)"
      ]
     },
     "execution_count": 28,
     "metadata": {},
     "output_type": "execute_result"
    }
   ],
   "source": [
    "finalpred.shape"
   ]
  },
  {
   "cell_type": "code",
   "execution_count": 29,
   "metadata": {},
   "outputs": [
    {
     "name": "stdout",
     "output_type": "stream",
     "text": [
      "97.9455165191426\n"
     ]
    }
   ],
   "source": [
    "print(mean_squared_error(y_test, finalpred, sample_weight=None, multioutput='uniform_average'))"
   ]
  },
  {
   "cell_type": "code",
   "execution_count": 30,
   "metadata": {},
   "outputs": [],
   "source": [
    "from sklearn.metrics import mean_squared_error,r2_score"
   ]
  },
  {
   "cell_type": "code",
   "execution_count": 31,
   "metadata": {},
   "outputs": [
    {
     "data": {
      "text/plain": [
       "97.9455165191426"
      ]
     },
     "execution_count": 31,
     "metadata": {},
     "output_type": "execute_result"
    }
   ],
   "source": [
    "mean_squared_error(y_test,finalpred)"
   ]
  },
  {
   "cell_type": "code",
   "execution_count": 32,
   "metadata": {},
   "outputs": [
    {
     "data": {
      "text/plain": [
       "0.7399019592791114"
      ]
     },
     "execution_count": 32,
     "metadata": {},
     "output_type": "execute_result"
    }
   ],
   "source": [
    "r2_score(y_test,finalpred)"
   ]
  },
  {
   "cell_type": "code",
   "execution_count": 33,
   "metadata": {},
   "outputs": [
    {
     "data": {
      "text/plain": [
       "0.7411557654737606"
      ]
     },
     "execution_count": 33,
     "metadata": {},
     "output_type": "execute_result"
    }
   ],
   "source": [
    "model1.score(X_train1,y_train1)"
   ]
  },
  {
   "cell_type": "code",
   "execution_count": 34,
   "metadata": {},
   "outputs": [
    {
     "data": {
      "text/plain": [
       "0.7427604970186248"
      ]
     },
     "execution_count": 34,
     "metadata": {},
     "output_type": "execute_result"
    }
   ],
   "source": [
    "model1.score(X_test,y_test)"
   ]
  },
  {
   "cell_type": "code",
   "execution_count": 35,
   "metadata": {},
   "outputs": [
    {
     "data": {
      "text/plain": [
       "0.7467592049681588"
      ]
     },
     "execution_count": 35,
     "metadata": {},
     "output_type": "execute_result"
    }
   ],
   "source": [
    "model2.score(X_train2,y_train2)\n",
    "\n"
   ]
  },
  {
   "cell_type": "code",
   "execution_count": 36,
   "metadata": {},
   "outputs": [
    {
     "data": {
      "text/plain": [
       "0.7348671281326109"
      ]
     },
     "execution_count": 36,
     "metadata": {},
     "output_type": "execute_result"
    }
   ],
   "source": [
    "model2.score(X_test,y_test)"
   ]
  },
  {
   "cell_type": "code",
   "execution_count": null,
   "metadata": {},
   "outputs": [],
   "source": []
  }
 ],
 "metadata": {
  "kernelspec": {
   "display_name": "Python 3",
   "language": "python",
   "name": "python3"
  },
  "language_info": {
   "codemirror_mode": {
    "name": "ipython",
    "version": 3
   },
   "file_extension": ".py",
   "mimetype": "text/x-python",
   "name": "python",
   "nbconvert_exporter": "python",
   "pygments_lexer": "ipython3",
   "version": "3.6.9"
  }
 },
 "nbformat": 4,
 "nbformat_minor": 4
}
